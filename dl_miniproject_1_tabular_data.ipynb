{
  "nbformat": 4,
  "nbformat_minor": 0,
  "metadata": {
    "colab": {
      "name": "dl_miniproject_1_tabular_data.ipynb",
      "provenance": [],
      "collapsed_sections": [
        "TppBhRBlJDVY",
        "FeNWY55nK_BL",
        "k2LeKUflLehC",
        "c8XPEDl7ocFX",
        "D-_gt2iopuDn",
        "YUK7yRtEp2NA",
        "Q_arrqLoqADy"
      ],
      "include_colab_link": true
    },
    "kernelspec": {
      "name": "python3",
      "display_name": "Python 3"
    },
    "language_info": {
      "name": "python"
    }
  },
  "cells": [
    {
      "cell_type": "markdown",
      "metadata": {
        "id": "view-in-github",
        "colab_type": "text"
      },
      "source": [
        "<a href=\"https://colab.research.google.com/github/SamuelMiller413/Coding-Nomads-Deep-Learning-Miniproject-1/blob/master/dl_miniproject_1_tabular_data.ipynb\" target=\"_parent\"><img src=\"https://colab.research.google.com/assets/colab-badge.svg\" alt=\"Open In Colab\"/></a>"
      ]
    },
    {
      "cell_type": "markdown",
      "source": [
        "---\n",
        "# Intrdouction\n",
        "---"
      ],
      "metadata": {
        "id": "s4ExnDwUNcsf"
      }
    },
    {
      "cell_type": "markdown",
      "source": [
        "## Problem Statement:\n",
        "> An automobile company has plans to enter new markets with their existing products (P1, P2, P3, P4 and P5). After intensive market research, they’ve deduced that the behavior of new market is similar to their existing market.\n",
        "\n",
        ">In their existing market, the sales team has classified all customers into 4 segments (A, B, C, D ). Then, they performed segmented outreach and communication for different segment of customers. This strategy has work exceptionally well for them. They plan to use the same strategy on new markets and have identified 2627 new potential customers.\n",
        "\n",
        ">You are required to help the manager to predict the right group of the new customers."
      ],
      "metadata": {
        "id": "D3o_wBWZOeNf"
      }
    },
    {
      "cell_type": "markdown",
      "source": [
        "## Resources\n",
        ">Data    (from Kaggle)\n",
        "* [Customer Segmentation Dataset](https://www.kaggle.com/datasets/abisheksudarshan/customer-segmentation?select=train.csv) \n",
        "\n",
        "> Notebooks of Influence\n",
        "* [Janatahack](https://www.kaggle.com/code/abisheksudarshan/av-janatahack-customer-segmentation/data) \n",
        "* [Seun Ayegboyin](https://www.kaggle.com/code/seunayegboyin/customer-segmentation-with-kmeans-and-pca) (PCA/Clustering)"
      ],
      "metadata": {
        "id": "tm-Dt4BOOkue"
      }
    },
    {
      "cell_type": "markdown",
      "source": [
        "---\n",
        "# Work Flow\n",
        "---\n",
        "\n",
        "### NOTES\n",
        "* Write \n",
        "        def grep()\n",
        "        def greps_all()\n",
        "* OHE all\n",
        "* Impute NaN\n",
        "* Train Models\n",
        "* Train DL Models\n"
      ],
      "metadata": {
        "id": "bphRi4fLDrNB"
      }
    },
    {
      "cell_type": "markdown",
      "source": [
        "### Workflow Outline\n",
        "\n",
        "---\n",
        "#### 1. Pre-Training\n",
        "---\n",
        "* Setup\n",
        "    * Data Loading\n",
        "    * Download the Dataset\n",
        "* EDA & Data Visualization\n",
        "* Feature Engineering and Transformation\n",
        "* Pipelines\n",
        "<br>\n",
        "---\n",
        "#### 2. Training\n",
        "---\n",
        "* Traditional ML Modeling\n",
        "* Pure Torch Model\n",
        "* High-level Libraries and Tabular Frameworks\n",
        "<br>\n",
        "---\n",
        "#### 3. Testing\n",
        "---\n",
        "* Model Selection and Test Set Evaluation\n",
        "* Notes and Findings\n",
        "\n"
      ],
      "metadata": {
        "id": "3Qg8oAt7FHzL"
      }
    },
    {
      "cell_type": "markdown",
      "source": [
        "---\n",
        "# 1. Pre-Training\n",
        "---\n",
        "* Setup\n",
        "    * Data Loading\n",
        "    * Download the Dataset\n",
        "* EDA & Data Visualization\n",
        "    * Data Viz Functions\n",
        "* Feature Engineering and Transformation\n",
        "* Pipelines"
      ],
      "metadata": {
        "id": "CcXjCgnEHuod"
      }
    },
    {
      "cell_type": "markdown",
      "source": [
        "## Data Loading and Splitting"
      ],
      "metadata": {
        "id": "TppBhRBlJDVY"
      }
    },
    {
      "cell_type": "code",
      "source": [
        "# mount drive\n",
        "from google.colab import drive\n",
        "drive.mount('/content/drive')"
      ],
      "metadata": {
        "colab": {
          "base_uri": "https://localhost:8080/"
        },
        "id": "ndEWFz-qZTAk",
        "outputId": "8b8f8238-4081-43a5-c598-f4d0f74eb4cb"
      },
      "execution_count": 1,
      "outputs": [
        {
          "output_type": "stream",
          "name": "stdout",
          "text": [
            "Drive already mounted at /content/drive; to attempt to forcibly remount, call drive.mount(\"/content/drive\", force_remount=True).\n"
          ]
        }
      ]
    },
    {
      "cell_type": "code",
      "source": [
        "# upload 'kaggle.json'\n",
        "from google.colab import files\n",
        "files.upload()"
      ],
      "metadata": {
        "colab": {
          "resources": {
            "http://localhost:8080/nbextensions/google.colab/files.js": {
              "data": "Ly8gQ29weXJpZ2h0IDIwMTcgR29vZ2xlIExMQwovLwovLyBMaWNlbnNlZCB1bmRlciB0aGUgQXBhY2hlIExpY2Vuc2UsIFZlcnNpb24gMi4wICh0aGUgIkxpY2Vuc2UiKTsKLy8geW91IG1heSBub3QgdXNlIHRoaXMgZmlsZSBleGNlcHQgaW4gY29tcGxpYW5jZSB3aXRoIHRoZSBMaWNlbnNlLgovLyBZb3UgbWF5IG9idGFpbiBhIGNvcHkgb2YgdGhlIExpY2Vuc2UgYXQKLy8KLy8gICAgICBodHRwOi8vd3d3LmFwYWNoZS5vcmcvbGljZW5zZXMvTElDRU5TRS0yLjAKLy8KLy8gVW5sZXNzIHJlcXVpcmVkIGJ5IGFwcGxpY2FibGUgbGF3IG9yIGFncmVlZCB0byBpbiB3cml0aW5nLCBzb2Z0d2FyZQovLyBkaXN0cmlidXRlZCB1bmRlciB0aGUgTGljZW5zZSBpcyBkaXN0cmlidXRlZCBvbiBhbiAiQVMgSVMiIEJBU0lTLAovLyBXSVRIT1VUIFdBUlJBTlRJRVMgT1IgQ09ORElUSU9OUyBPRiBBTlkgS0lORCwgZWl0aGVyIGV4cHJlc3Mgb3IgaW1wbGllZC4KLy8gU2VlIHRoZSBMaWNlbnNlIGZvciB0aGUgc3BlY2lmaWMgbGFuZ3VhZ2UgZ292ZXJuaW5nIHBlcm1pc3Npb25zIGFuZAovLyBsaW1pdGF0aW9ucyB1bmRlciB0aGUgTGljZW5zZS4KCi8qKgogKiBAZmlsZW92ZXJ2aWV3IEhlbHBlcnMgZm9yIGdvb2dsZS5jb2xhYiBQeXRob24gbW9kdWxlLgogKi8KKGZ1bmN0aW9uKHNjb3BlKSB7CmZ1bmN0aW9uIHNwYW4odGV4dCwgc3R5bGVBdHRyaWJ1dGVzID0ge30pIHsKICBjb25zdCBlbGVtZW50ID0gZG9jdW1lbnQuY3JlYXRlRWxlbWVudCgnc3BhbicpOwogIGVsZW1lbnQudGV4dENvbnRlbnQgPSB0ZXh0OwogIGZvciAoY29uc3Qga2V5IG9mIE9iamVjdC5rZXlzKHN0eWxlQXR0cmlidXRlcykpIHsKICAgIGVsZW1lbnQuc3R5bGVba2V5XSA9IHN0eWxlQXR0cmlidXRlc1trZXldOwogIH0KICByZXR1cm4gZWxlbWVudDsKfQoKLy8gTWF4IG51bWJlciBvZiBieXRlcyB3aGljaCB3aWxsIGJlIHVwbG9hZGVkIGF0IGEgdGltZS4KY29uc3QgTUFYX1BBWUxPQURfU0laRSA9IDEwMCAqIDEwMjQ7CgpmdW5jdGlvbiBfdXBsb2FkRmlsZXMoaW5wdXRJZCwgb3V0cHV0SWQpIHsKICBjb25zdCBzdGVwcyA9IHVwbG9hZEZpbGVzU3RlcChpbnB1dElkLCBvdXRwdXRJZCk7CiAgY29uc3Qgb3V0cHV0RWxlbWVudCA9IGRvY3VtZW50LmdldEVsZW1lbnRCeUlkKG91dHB1dElkKTsKICAvLyBDYWNoZSBzdGVwcyBvbiB0aGUgb3V0cHV0RWxlbWVudCB0byBtYWtlIGl0IGF2YWlsYWJsZSBmb3IgdGhlIG5leHQgY2FsbAogIC8vIHRvIHVwbG9hZEZpbGVzQ29udGludWUgZnJvbSBQeXRob24uCiAgb3V0cHV0RWxlbWVudC5zdGVwcyA9IHN0ZXBzOwoKICByZXR1cm4gX3VwbG9hZEZpbGVzQ29udGludWUob3V0cHV0SWQpOwp9CgovLyBUaGlzIGlzIHJvdWdobHkgYW4gYXN5bmMgZ2VuZXJhdG9yIChub3Qgc3VwcG9ydGVkIGluIHRoZSBicm93c2VyIHlldCksCi8vIHdoZXJlIHRoZXJlIGFyZSBtdWx0aXBsZSBhc3luY2hyb25vdXMgc3RlcHMgYW5kIHRoZSBQeXRob24gc2lkZSBpcyBnb2luZwovLyB0byBwb2xsIGZvciBjb21wbGV0aW9uIG9mIGVhY2ggc3RlcC4KLy8gVGhpcyB1c2VzIGEgUHJvbWlzZSB0byBibG9jayB0aGUgcHl0aG9uIHNpZGUgb24gY29tcGxldGlvbiBvZiBlYWNoIHN0ZXAsCi8vIHRoZW4gcGFzc2VzIHRoZSByZXN1bHQgb2YgdGhlIHByZXZpb3VzIHN0ZXAgYXMgdGhlIGlucHV0IHRvIHRoZSBuZXh0IHN0ZXAuCmZ1bmN0aW9uIF91cGxvYWRGaWxlc0NvbnRpbnVlKG91dHB1dElkKSB7CiAgY29uc3Qgb3V0cHV0RWxlbWVudCA9IGRvY3VtZW50LmdldEVsZW1lbnRCeUlkKG91dHB1dElkKTsKICBjb25zdCBzdGVwcyA9IG91dHB1dEVsZW1lbnQuc3RlcHM7CgogIGNvbnN0IG5leHQgPSBzdGVwcy5uZXh0KG91dHB1dEVsZW1lbnQubGFzdFByb21pc2VWYWx1ZSk7CiAgcmV0dXJuIFByb21pc2UucmVzb2x2ZShuZXh0LnZhbHVlLnByb21pc2UpLnRoZW4oKHZhbHVlKSA9PiB7CiAgICAvLyBDYWNoZSB0aGUgbGFzdCBwcm9taXNlIHZhbHVlIHRvIG1ha2UgaXQgYXZhaWxhYmxlIHRvIHRoZSBuZXh0CiAgICAvLyBzdGVwIG9mIHRoZSBnZW5lcmF0b3IuCiAgICBvdXRwdXRFbGVtZW50Lmxhc3RQcm9taXNlVmFsdWUgPSB2YWx1ZTsKICAgIHJldHVybiBuZXh0LnZhbHVlLnJlc3BvbnNlOwogIH0pOwp9CgovKioKICogR2VuZXJhdG9yIGZ1bmN0aW9uIHdoaWNoIGlzIGNhbGxlZCBiZXR3ZWVuIGVhY2ggYXN5bmMgc3RlcCBvZiB0aGUgdXBsb2FkCiAqIHByb2Nlc3MuCiAqIEBwYXJhbSB7c3RyaW5nfSBpbnB1dElkIEVsZW1lbnQgSUQgb2YgdGhlIGlucHV0IGZpbGUgcGlja2VyIGVsZW1lbnQuCiAqIEBwYXJhbSB7c3RyaW5nfSBvdXRwdXRJZCBFbGVtZW50IElEIG9mIHRoZSBvdXRwdXQgZGlzcGxheS4KICogQHJldHVybiB7IUl0ZXJhYmxlPCFPYmplY3Q+fSBJdGVyYWJsZSBvZiBuZXh0IHN0ZXBzLgogKi8KZnVuY3Rpb24qIHVwbG9hZEZpbGVzU3RlcChpbnB1dElkLCBvdXRwdXRJZCkgewogIGNvbnN0IGlucHV0RWxlbWVudCA9IGRvY3VtZW50LmdldEVsZW1lbnRCeUlkKGlucHV0SWQpOwogIGlucHV0RWxlbWVudC5kaXNhYmxlZCA9IGZhbHNlOwoKICBjb25zdCBvdXRwdXRFbGVtZW50ID0gZG9jdW1lbnQuZ2V0RWxlbWVudEJ5SWQob3V0cHV0SWQpOwogIG91dHB1dEVsZW1lbnQuaW5uZXJIVE1MID0gJyc7CgogIGNvbnN0IHBpY2tlZFByb21pc2UgPSBuZXcgUHJvbWlzZSgocmVzb2x2ZSkgPT4gewogICAgaW5wdXRFbGVtZW50LmFkZEV2ZW50TGlzdGVuZXIoJ2NoYW5nZScsIChlKSA9PiB7CiAgICAgIHJlc29sdmUoZS50YXJnZXQuZmlsZXMpOwogICAgfSk7CiAgfSk7CgogIGNvbnN0IGNhbmNlbCA9IGRvY3VtZW50LmNyZWF0ZUVsZW1lbnQoJ2J1dHRvbicpOwogIGlucHV0RWxlbWVudC5wYXJlbnRFbGVtZW50LmFwcGVuZENoaWxkKGNhbmNlbCk7CiAgY2FuY2VsLnRleHRDb250ZW50ID0gJ0NhbmNlbCB1cGxvYWQnOwogIGNvbnN0IGNhbmNlbFByb21pc2UgPSBuZXcgUHJvbWlzZSgocmVzb2x2ZSkgPT4gewogICAgY2FuY2VsLm9uY2xpY2sgPSAoKSA9PiB7CiAgICAgIHJlc29sdmUobnVsbCk7CiAgICB9OwogIH0pOwoKICAvLyBXYWl0IGZvciB0aGUgdXNlciB0byBwaWNrIHRoZSBmaWxlcy4KICBjb25zdCBmaWxlcyA9IHlpZWxkIHsKICAgIHByb21pc2U6IFByb21pc2UucmFjZShbcGlja2VkUHJvbWlzZSwgY2FuY2VsUHJvbWlzZV0pLAogICAgcmVzcG9uc2U6IHsKICAgICAgYWN0aW9uOiAnc3RhcnRpbmcnLAogICAgfQogIH07CgogIGNhbmNlbC5yZW1vdmUoKTsKCiAgLy8gRGlzYWJsZSB0aGUgaW5wdXQgZWxlbWVudCBzaW5jZSBmdXJ0aGVyIHBpY2tzIGFyZSBub3QgYWxsb3dlZC4KICBpbnB1dEVsZW1lbnQuZGlzYWJsZWQgPSB0cnVlOwoKICBpZiAoIWZpbGVzKSB7CiAgICByZXR1cm4gewogICAgICByZXNwb25zZTogewogICAgICAgIGFjdGlvbjogJ2NvbXBsZXRlJywKICAgICAgfQogICAgfTsKICB9CgogIGZvciAoY29uc3QgZmlsZSBvZiBmaWxlcykgewogICAgY29uc3QgbGkgPSBkb2N1bWVudC5jcmVhdGVFbGVtZW50KCdsaScpOwogICAgbGkuYXBwZW5kKHNwYW4oZmlsZS5uYW1lLCB7Zm9udFdlaWdodDogJ2JvbGQnfSkpOwogICAgbGkuYXBwZW5kKHNwYW4oCiAgICAgICAgYCgke2ZpbGUudHlwZSB8fCAnbi9hJ30pIC0gJHtmaWxlLnNpemV9IGJ5dGVzLCBgICsKICAgICAgICBgbGFzdCBtb2RpZmllZDogJHsKICAgICAgICAgICAgZmlsZS5sYXN0TW9kaWZpZWREYXRlID8gZmlsZS5sYXN0TW9kaWZpZWREYXRlLnRvTG9jYWxlRGF0ZVN0cmluZygpIDoKICAgICAgICAgICAgICAgICAgICAgICAgICAgICAgICAgICAgJ24vYSd9IC0gYCkpOwogICAgY29uc3QgcGVyY2VudCA9IHNwYW4oJzAlIGRvbmUnKTsKICAgIGxpLmFwcGVuZENoaWxkKHBlcmNlbnQpOwoKICAgIG91dHB1dEVsZW1lbnQuYXBwZW5kQ2hpbGQobGkpOwoKICAgIGNvbnN0IGZpbGVEYXRhUHJvbWlzZSA9IG5ldyBQcm9taXNlKChyZXNvbHZlKSA9PiB7CiAgICAgIGNvbnN0IHJlYWRlciA9IG5ldyBGaWxlUmVhZGVyKCk7CiAgICAgIHJlYWRlci5vbmxvYWQgPSAoZSkgPT4gewogICAgICAgIHJlc29sdmUoZS50YXJnZXQucmVzdWx0KTsKICAgICAgfTsKICAgICAgcmVhZGVyLnJlYWRBc0FycmF5QnVmZmVyKGZpbGUpOwogICAgfSk7CiAgICAvLyBXYWl0IGZvciB0aGUgZGF0YSB0byBiZSByZWFkeS4KICAgIGxldCBmaWxlRGF0YSA9IHlpZWxkIHsKICAgICAgcHJvbWlzZTogZmlsZURhdGFQcm9taXNlLAogICAgICByZXNwb25zZTogewogICAgICAgIGFjdGlvbjogJ2NvbnRpbnVlJywKICAgICAgfQogICAgfTsKCiAgICAvLyBVc2UgYSBjaHVua2VkIHNlbmRpbmcgdG8gYXZvaWQgbWVzc2FnZSBzaXplIGxpbWl0cy4gU2VlIGIvNjIxMTU2NjAuCiAgICBsZXQgcG9zaXRpb24gPSAwOwogICAgZG8gewogICAgICBjb25zdCBsZW5ndGggPSBNYXRoLm1pbihmaWxlRGF0YS5ieXRlTGVuZ3RoIC0gcG9zaXRpb24sIE1BWF9QQVlMT0FEX1NJWkUpOwogICAgICBjb25zdCBjaHVuayA9IG5ldyBVaW50OEFycmF5KGZpbGVEYXRhLCBwb3NpdGlvbiwgbGVuZ3RoKTsKICAgICAgcG9zaXRpb24gKz0gbGVuZ3RoOwoKICAgICAgY29uc3QgYmFzZTY0ID0gYnRvYShTdHJpbmcuZnJvbUNoYXJDb2RlLmFwcGx5KG51bGwsIGNodW5rKSk7CiAgICAgIHlpZWxkIHsKICAgICAgICByZXNwb25zZTogewogICAgICAgICAgYWN0aW9uOiAnYXBwZW5kJywKICAgICAgICAgIGZpbGU6IGZpbGUubmFtZSwKICAgICAgICAgIGRhdGE6IGJhc2U2NCwKICAgICAgICB9LAogICAgICB9OwoKICAgICAgbGV0IHBlcmNlbnREb25lID0gZmlsZURhdGEuYnl0ZUxlbmd0aCA9PT0gMCA/CiAgICAgICAgICAxMDAgOgogICAgICAgICAgTWF0aC5yb3VuZCgocG9zaXRpb24gLyBmaWxlRGF0YS5ieXRlTGVuZ3RoKSAqIDEwMCk7CiAgICAgIHBlcmNlbnQudGV4dENvbnRlbnQgPSBgJHtwZXJjZW50RG9uZX0lIGRvbmVgOwoKICAgIH0gd2hpbGUgKHBvc2l0aW9uIDwgZmlsZURhdGEuYnl0ZUxlbmd0aCk7CiAgfQoKICAvLyBBbGwgZG9uZS4KICB5aWVsZCB7CiAgICByZXNwb25zZTogewogICAgICBhY3Rpb246ICdjb21wbGV0ZScsCiAgICB9CiAgfTsKfQoKc2NvcGUuZ29vZ2xlID0gc2NvcGUuZ29vZ2xlIHx8IHt9OwpzY29wZS5nb29nbGUuY29sYWIgPSBzY29wZS5nb29nbGUuY29sYWIgfHwge307CnNjb3BlLmdvb2dsZS5jb2xhYi5fZmlsZXMgPSB7CiAgX3VwbG9hZEZpbGVzLAogIF91cGxvYWRGaWxlc0NvbnRpbnVlLAp9Owp9KShzZWxmKTsK",
              "ok": true,
              "headers": [
                [
                  "content-type",
                  "application/javascript"
                ]
              ],
              "status": 200,
              "status_text": ""
            }
          },
          "base_uri": "https://localhost:8080/",
          "height": 101
        },
        "id": "P4ZxddsPcaI5",
        "outputId": "8b07b244-8601-43df-8c41-db95b7dd9386"
      },
      "execution_count": 2,
      "outputs": [
        {
          "output_type": "display_data",
          "data": {
            "text/plain": [
              "<IPython.core.display.HTML object>"
            ],
            "text/html": [
              "\n",
              "     <input type=\"file\" id=\"files-69d45a08-ea1f-4a72-bff8-693ca0e44c24\" name=\"files[]\" multiple disabled\n",
              "        style=\"border:none\" />\n",
              "     <output id=\"result-69d45a08-ea1f-4a72-bff8-693ca0e44c24\">\n",
              "      Upload widget is only available when the cell has been executed in the\n",
              "      current browser session. Please rerun this cell to enable.\n",
              "      </output>\n",
              "      <script src=\"/nbextensions/google.colab/files.js\"></script> "
            ]
          },
          "metadata": {}
        },
        {
          "output_type": "stream",
          "name": "stdout",
          "text": [
            "Saving kaggle.json to kaggle (1).json\n"
          ]
        },
        {
          "output_type": "execute_result",
          "data": {
            "text/plain": [
              "{'kaggle.json': b'{\"username\":\"samuelmiller413\",\"key\":\"d635e1518efc064bb478bb67bb2c22aa\"}'}"
            ]
          },
          "metadata": {},
          "execution_count": 2
        }
      ]
    },
    {
      "cell_type": "code",
      "source": [
        "# make kaggle directory \n",
        "! mkdir ~/.kaggle\n",
        "# store JSON\n",
        "! cp kaggle.json ~/.kaggle/\n",
        "# change permissions\n",
        "! chmod 600 ~/.kaggle/kaggle.json\n",
        "\n",
        "# download data from kaggle\n",
        "! kaggle datasets download -d 'abisheksudarshan/customer-segmentation'\n",
        "# make directory for data\n",
        "! mkdir customer-segmentation\n",
        "\n",
        "# unzip into directory\n",
        "! cd.. customer-segmentation/\n",
        "! unzip customer-segmentation.zip -d customer-segmentation/\n",
        "# remove .zip\n",
        "! rm -r customer-segmentation.zip"
      ],
      "metadata": {
        "colab": {
          "base_uri": "https://localhost:8080/"
        },
        "id": "MiYUS7XVcrgW",
        "outputId": "ce573216-19f9-4d91-eb9e-12b62072c2bf"
      },
      "execution_count": 3,
      "outputs": [
        {
          "output_type": "stream",
          "name": "stdout",
          "text": [
            "mkdir: cannot create directory ‘/root/.kaggle’: File exists\n",
            "Downloading customer-segmentation.zip to /content\n",
            "  0% 0.00/98.7k [00:00<?, ?B/s]\n",
            "100% 98.7k/98.7k [00:00<00:00, 44.3MB/s]\n",
            "mkdir: cannot create directory ‘customer-segmentation’: File exists\n",
            "/bin/bash: cd..: command not found\n",
            "Archive:  customer-segmentation.zip\n",
            "replace customer-segmentation/test.csv? [y]es, [n]o, [A]ll, [N]one, [r]ename: y\n",
            "  inflating: customer-segmentation/test.csv  \n",
            "replace customer-segmentation/train.csv? [y]es, [n]o, [A]ll, [N]one, [r]ename: y\n",
            "  inflating: customer-segmentation/train.csv  \n"
          ]
        }
      ]
    },
    {
      "cell_type": "markdown",
      "source": [
        "#### Setup"
      ],
      "metadata": {
        "id": "oi-C2we-Jm62"
      }
    },
    {
      "cell_type": "code",
      "source": [
        "%%capture\n",
        "# import libraries\n",
        "import numpy as np \n",
        "import pandas as pd \n",
        "import pprint\n",
        "                                                                          # PRE-PROCESSING\n",
        "from sklearn.preprocessing import StandardScaler\n",
        "                                                                          # FEATURE SELECTION\n",
        "from sklearn.neighbors import KNeighborsRegressor\n",
        "from sklearn.decomposition import PCA\n",
        "from sklearn.cluster import KMeans\n",
        "from sklearn.ensemble import ExtraTreesRegressor\n",
        "from sklearn.feature_selection import SelectFromModel, mutual_info_regression, RFE, RFECV\n",
        "\n",
        "                                                                          # PIPELINE\n",
        "from sklearn.pipeline import Pipeline\n",
        "                                          \n",
        "                                                                          # NEURAL NETWORK\n",
        "from sklearn.neural_network import MLPRegressor\n",
        "\n",
        "                                                                          # CROSS VALIDATION\n",
        "from sklearn.model_selection import train_test_split, cross_val_score, ShuffleSplit, StratifiedKFold\n",
        "from sklearn.model_selection import learning_curve, cross_val_predict\n",
        "from sklearn.model_selection import KFold, RandomizedSearchCV\n",
        "\n",
        "                                                                          # EVALUATION\n",
        "from sklearn.metrics import explained_variance_score, mean_absolute_error, mean_squared_error\n",
        "from sklearn.metrics import mean_absolute_percentage_error, r2_score\n",
        "from sklearn.metrics import silhouette_score\n",
        "from sklearn.metrics import SCORERS\n",
        "\n",
        "                                                                          # PLOTTING\n",
        "# from plotting import plot_learning_curve, plot_validation_curve\n",
        "import random\n",
        "import matplotlib.pyplot as plt\n",
        "import seaborn as sns\n",
        "\n",
        "# ignore warnings\n",
        "import warnings\n",
        "warnings.filterwarnings(\"ignore\")"
      ],
      "metadata": {
        "id": "jiMUo9UNJbQ8"
      },
      "execution_count": 53,
      "outputs": []
    },
    {
      "cell_type": "markdown",
      "source": [
        "#### Download Dataset"
      ],
      "metadata": {
        "id": "hzPonF2gJSGJ"
      }
    },
    {
      "cell_type": "code",
      "source": [
        "csv_train = '/content/customer-segmentation/train.csv'\n",
        "csv_test = '/content/customer-segmentation/test.csv'"
      ],
      "metadata": {
        "id": "zU6xhRJeqW6u"
      },
      "execution_count": 5,
      "outputs": []
    },
    {
      "cell_type": "markdown",
      "source": [
        "#### Split Data"
      ],
      "metadata": {
        "id": "Ub5Kk1R8JUGh"
      }
    },
    {
      "cell_type": "code",
      "source": [
        "# > data is pre-split into two files <\n",
        "# read split data\n",
        "train = pd.read_csv(csv_train)\n",
        "test = pd.read_csv(csv_test)\n",
        "# meta encode whether df is 'train'\n",
        "train['train_y_n']=1\n",
        "test['train_y_n']=0\n",
        "# make full df\n",
        "full_df = pd.concat([train, test])"
      ],
      "metadata": {
        "id": "rbk91B4yyCJ6"
      },
      "execution_count": 6,
      "outputs": []
    },
    {
      "cell_type": "code",
      "source": [
        "# mini dataframes\n",
        "comp_df1 = full_df.loc[full_df['train_y_n'] == 1].head()\n",
        "comp_df2 = full_df.loc[full_df['train_y_n'] == 0].tail()\n",
        "comps_df = pd.concat([comp_df1, comp_df2])\n",
        "# list dfs and verify their datatype\n",
        "df_dict = {'train':train, 'test':test, 'full_df':full_df, 'comp_df1':comp_df1, 'comp_df2':comp_df2, 'comps_df':comps_df}\n",
        "print([type(v) for k,v in df_dict.items()])"
      ],
      "metadata": {
        "colab": {
          "base_uri": "https://localhost:8080/"
        },
        "id": "Q-kfjEcy5mo6",
        "outputId": "d81a3c0d-8be3-44c2-b306-32cca3ce4ad5"
      },
      "execution_count": 23,
      "outputs": [
        {
          "output_type": "stream",
          "name": "stdout",
          "text": [
            "[<class 'pandas.core.frame.DataFrame'>, <class 'pandas.core.frame.DataFrame'>, <class 'pandas.core.frame.DataFrame'>, <class 'pandas.core.frame.DataFrame'>, <class 'pandas.core.frame.DataFrame'>, <class 'pandas.core.frame.DataFrame'>]\n"
          ]
        }
      ]
    },
    {
      "cell_type": "code",
      "source": [
        "\n",
        "len(df_dict)\n"
      ],
      "metadata": {
        "colab": {
          "base_uri": "https://localhost:8080/"
        },
        "id": "KRTidV3A-Tn5",
        "outputId": "0fdd8e01-f097-4635-d08c-7ed3d9054f51"
      },
      "execution_count": 32,
      "outputs": [
        {
          "output_type": "execute_result",
          "data": {
            "text/plain": [
              "6"
            ]
          },
          "metadata": {},
          "execution_count": 32
        }
      ]
    },
    {
      "cell_type": "code",
      "source": [
        "# scoping the dataframes\n",
        "\n",
        "# shapes\n",
        "print('\\n---\\nShapes\\n---\\n')\n",
        "[print(f\"{k.upper()} : {v.shape}\\n\") for k,v in df_dict.items()]\n",
        "print(\"\\n=====================\\n\")\n",
        "# columns\n",
        "print('\\n---\\nColumns\\n---\\n')\n",
        "[print(f\"\\n---\\n{k.upper()} Columns: \\n---\\n\\n{v.columns}\\n\") for k,v in df_dict.items()]\n",
        "print(\"\\n=====================\\n\")\n",
        "# samples\n",
        "print(\"\\n---\\nSamples\\n---\\n\")\n",
        "[print(f\"\\n---\\n{k.upper()} Samples: \\n---\\n\\n{v.sample(5)}\\n\\n\\n\") for k,v in df_dict.items()]"
      ],
      "metadata": {
        "colab": {
          "base_uri": "https://localhost:8080/"
        },
        "id": "nU3o1GJ0zCq8",
        "outputId": "38ed171e-1822-4177-e0e8-4a6ae79f994e"
      },
      "execution_count": 110,
      "outputs": [
        {
          "output_type": "stream",
          "name": "stdout",
          "text": [
            "\n",
            "---\n",
            "Shapes\n",
            "---\n",
            "\n",
            "TRAIN : (8068, 12)\n",
            "\n",
            "TEST : (2627, 11)\n",
            "\n",
            "FULL_DF : (10695, 12)\n",
            "\n",
            "COMP_DF1 : (5, 12)\n",
            "\n",
            "COMP_DF2 : (5, 12)\n",
            "\n",
            "COMPS_DF : (10, 12)\n",
            "\n",
            "\n",
            "=====================\n",
            "\n",
            "\n",
            "---\n",
            "Columns\n",
            "---\n",
            "\n",
            "\n",
            "---\n",
            "TRAIN Columns: \n",
            "---\n",
            "\n",
            "Index(['ID', 'Gender', 'Ever_Married', 'Age', 'Graduated', 'Profession',\n",
            "       'Work_Experience', 'Spending_Score', 'Family_Size', 'Var_1',\n",
            "       'Segmentation', 'train_y_n'],\n",
            "      dtype='object')\n",
            "\n",
            "\n",
            "---\n",
            "TEST Columns: \n",
            "---\n",
            "\n",
            "Index(['ID', 'Gender', 'Ever_Married', 'Age', 'Graduated', 'Profession',\n",
            "       'Work_Experience', 'Spending_Score', 'Family_Size', 'Var_1',\n",
            "       'train_y_n'],\n",
            "      dtype='object')\n",
            "\n",
            "\n",
            "---\n",
            "FULL_DF Columns: \n",
            "---\n",
            "\n",
            "Index(['ID', 'Gender', 'Ever_Married', 'Age', 'Graduated', 'Profession',\n",
            "       'Work_Experience', 'Spending_Score', 'Family_Size', 'Var_1',\n",
            "       'Segmentation', 'train_y_n'],\n",
            "      dtype='object')\n",
            "\n",
            "\n",
            "---\n",
            "COMP_DF1 Columns: \n",
            "---\n",
            "\n",
            "Index(['ID', 'Gender', 'Ever_Married', 'Age', 'Graduated', 'Profession',\n",
            "       'Work_Experience', 'Spending_Score', 'Family_Size', 'Var_1',\n",
            "       'Segmentation', 'train_y_n'],\n",
            "      dtype='object')\n",
            "\n",
            "\n",
            "---\n",
            "COMP_DF2 Columns: \n",
            "---\n",
            "\n",
            "Index(['ID', 'Gender', 'Ever_Married', 'Age', 'Graduated', 'Profession',\n",
            "       'Work_Experience', 'Spending_Score', 'Family_Size', 'Var_1',\n",
            "       'Segmentation', 'train_y_n'],\n",
            "      dtype='object')\n",
            "\n",
            "\n",
            "---\n",
            "COMPS_DF Columns: \n",
            "---\n",
            "\n",
            "Index(['ID', 'Gender', 'Ever_Married', 'Age', 'Graduated', 'Profession',\n",
            "       'Work_Experience', 'Spending_Score', 'Family_Size', 'Var_1',\n",
            "       'Segmentation', 'train_y_n'],\n",
            "      dtype='object')\n",
            "\n",
            "\n",
            "=====================\n",
            "\n",
            "\n",
            "---\n",
            "Samples\n",
            "---\n",
            "\n",
            "\n",
            "---\n",
            "TRAIN Samples: \n",
            "---\n",
            "\n",
            "          ID  Gender Ever_Married  Age Graduated  Profession  Work_Experience  \\\n",
            "3346  461213  Female           No   31       Yes  Healthcare              1.0   \n",
            "6257  465172  Female          Yes   41       Yes      Artist              9.0   \n",
            "3998  461775  Female          Yes   83        No      Lawyer              0.0   \n",
            "7560  466345    Male           No   21        No  Healthcare              1.0   \n",
            "3926  467060    Male           No   39        No    Engineer              5.0   \n",
            "\n",
            "     Spending_Score  Family_Size  Var_1 Segmentation  train_y_n  \n",
            "3346            Low          4.0  Cat_6            A          1  \n",
            "6257        Average          2.0  Cat_6            C          1  \n",
            "3998           High          2.0  Cat_6            B          1  \n",
            "7560            Low          4.0  Cat_2            D          1  \n",
            "3926            Low          2.0  Cat_6            D          1  \n",
            "\n",
            "\n",
            "\n",
            "\n",
            "---\n",
            "TEST Samples: \n",
            "---\n",
            "\n",
            "          ID  Gender Ever_Married  Age Graduated Profession  Work_Experience  \\\n",
            "326   460075  Female           No   25       Yes     Artist              NaN   \n",
            "2198  466468    Male           No   30       Yes     Doctor              4.0   \n",
            "226   459693  Female          Yes   50       Yes     Artist              0.0   \n",
            "2547  467706  Female          Yes   35       Yes     Artist              NaN   \n",
            "2101  466161    Male          Yes   47        No     Artist              1.0   \n",
            "\n",
            "     Spending_Score  Family_Size  Var_1  train_y_n  \n",
            "326             Low          1.0  Cat_6          0  \n",
            "2198            Low          4.0  Cat_3          0  \n",
            "226            High          3.0    NaN          0  \n",
            "2547        Average          4.0  Cat_6          0  \n",
            "2101        Average          NaN  Cat_6          0  \n",
            "\n",
            "\n",
            "\n",
            "\n",
            "---\n",
            "FULL_DF Samples: \n",
            "---\n",
            "\n",
            "          ID  Gender Ever_Married  Age Graduated  Profession  Work_Experience  \\\n",
            "5869  461806    Male           No   27       Yes  Healthcare              9.0   \n",
            "498   459656    Male           No   22        No         NaN              NaN   \n",
            "867   466654    Male           No   30       NaN   Marketing              8.0   \n",
            "1879  465408    Male           No   25        No   Executive              NaN   \n",
            "3552  463392  Female          Yes   36       Yes      Artist              5.0   \n",
            "\n",
            "     Spending_Score  Family_Size  Var_1 Segmentation  train_y_n  \n",
            "5869            Low          2.0  Cat_6            D          1  \n",
            "498             Low          6.0  Cat_1            D          1  \n",
            "867             Low          1.0  Cat_6            A          1  \n",
            "1879            Low          4.0  Cat_6          NaN          0  \n",
            "3552            Low          2.0  Cat_4            B          1  \n",
            "\n",
            "\n",
            "\n",
            "\n",
            "---\n",
            "COMP_DF1 Samples: \n",
            "---\n",
            "\n",
            "       ID  Gender Ever_Married  Age Graduated     Profession  Work_Experience  \\\n",
            "0  462809    Male           No   22        No     Healthcare              1.0   \n",
            "1  462643  Female          Yes   38       Yes       Engineer              NaN   \n",
            "2  466315  Female          Yes   67       Yes       Engineer              1.0   \n",
            "4  462669  Female          Yes   40       Yes  Entertainment              NaN   \n",
            "3  461735    Male          Yes   67       Yes         Lawyer              0.0   \n",
            "\n",
            "  Spending_Score  Family_Size  Var_1 Segmentation  train_y_n  \n",
            "0            Low          4.0  Cat_4            D          1  \n",
            "1        Average          3.0  Cat_4            A          1  \n",
            "2            Low          1.0  Cat_6            B          1  \n",
            "4           High          6.0  Cat_6            A          1  \n",
            "3           High          2.0  Cat_6            B          1  \n",
            "\n",
            "\n",
            "\n",
            "\n",
            "---\n",
            "COMP_DF2 Samples: \n",
            "---\n",
            "\n",
            "          ID  Gender Ever_Married  Age Graduated     Profession  \\\n",
            "2623  467958  Female           No   35       Yes         Doctor   \n",
            "2626  467968  Female           No   43       Yes     Healthcare   \n",
            "2622  467954    Male           No   29        No     Healthcare   \n",
            "2625  467961    Male          Yes   47       Yes      Executive   \n",
            "2624  467960  Female           No   53       Yes  Entertainment   \n",
            "\n",
            "      Work_Experience Spending_Score  Family_Size  Var_1 Segmentation  \\\n",
            "2623              1.0            Low          1.0  Cat_6          NaN   \n",
            "2626              9.0            Low          3.0  Cat_7          NaN   \n",
            "2622              9.0            Low          4.0  Cat_6          NaN   \n",
            "2625              1.0           High          5.0  Cat_4          NaN   \n",
            "2624              NaN            Low          2.0  Cat_6          NaN   \n",
            "\n",
            "      train_y_n  \n",
            "2623          0  \n",
            "2626          0  \n",
            "2622          0  \n",
            "2625          0  \n",
            "2624          0  \n",
            "\n",
            "\n",
            "\n",
            "\n",
            "---\n",
            "COMPS_DF Samples: \n",
            "---\n",
            "\n",
            "          ID  Gender Ever_Married  Age Graduated  Profession  Work_Experience  \\\n",
            "0     462809    Male           No   22        No  Healthcare              1.0   \n",
            "1     462643  Female          Yes   38       Yes    Engineer              NaN   \n",
            "2623  467958  Female           No   35       Yes      Doctor              1.0   \n",
            "2626  467968  Female           No   43       Yes  Healthcare              9.0   \n",
            "2     466315  Female          Yes   67       Yes    Engineer              1.0   \n",
            "\n",
            "     Spending_Score  Family_Size  Var_1 Segmentation  train_y_n  \n",
            "0               Low          4.0  Cat_4            D          1  \n",
            "1           Average          3.0  Cat_4            A          1  \n",
            "2623            Low          1.0  Cat_6          NaN          0  \n",
            "2626            Low          3.0  Cat_7          NaN          0  \n",
            "2               Low          1.0  Cat_6            B          1  \n",
            "\n",
            "\n",
            "\n"
          ]
        },
        {
          "output_type": "execute_result",
          "data": {
            "text/plain": [
              "[None, None, None, None, None, None]"
            ]
          },
          "metadata": {},
          "execution_count": 110
        }
      ]
    },
    {
      "cell_type": "markdown",
      "source": [
        "### EDA & data visualization"
      ],
      "metadata": {
        "id": "FeNWY55nK_BL"
      }
    },
    {
      "cell_type": "code",
      "source": [
        ""
      ],
      "metadata": {
        "id": "GarT8UlyI0cD"
      },
      "execution_count": null,
      "outputs": []
    },
    {
      "cell_type": "markdown",
      "source": [
        "#### Data Viz Functions"
      ],
      "metadata": {
        "id": "4AUNzBi2XTdj"
      }
    },
    {
      "cell_type": "code",
      "source": [
        "# initialize plotting dict\n",
        "graph_ = {\n",
        "    'relplot': sns.relplot,\n",
        "    'scatterplot': sns.scatterplot,\n",
        "    'lineplot': sns.lineplot,\n",
        "    'displot': sns.displot,\n",
        "    'histplot': sns.histplot,\n",
        "    'kdeplot': sns.kdeplot,\n",
        "    'ecdfplot': sns.ecdfplot,\n",
        "    'rugplot': sns.rugplot,\n",
        "    'catplot': sns.catplot,\n",
        "    'stripplot': sns.stripplot,\n",
        "    'swarmplot': sns.swarmplot,\n",
        "    'boxplot': sns.boxplot,\n",
        "    'violinplot': sns.violinplot,\n",
        "    'boxenplot': sns.boxenplot,\n",
        "    'pointplot': sns.pointplot,\n",
        "    'barplot': sns.barplot,\n",
        "    'countplot': sns.countplot,\n",
        "    'lmplot':' sns.lmplot',\n",
        "    'regplot': 'sns.regplot',\n",
        "    'residplot': 'sns.residplot',\n",
        "    'heatmap': 'sns.heatmap',\n",
        "    'clustermap': 'sns.clustermap',\n",
        "    'FacetGrid': 'sns.FacetGrid',\n",
        "    'pairplot': 'sns.pairplot',\n",
        "    'PairGrid': 'sns.PairGrid',\n",
        "    'jointplot': 'sns.jointplot',\n",
        "    'JointGrid': sns.JointGrid\n",
        "    }\n",
        "# set target variable\n",
        "target = 'segmentation'          # <--- needs scaling\n",
        "sizes = {'s':((10,6)),'m':(14,8), 'l':(18,10)}"
      ],
      "metadata": {
        "id": "8ZIAL430I1K6"
      },
      "execution_count": 94,
      "outputs": []
    },
    {
      "cell_type": "code",
      "source": [
        "def plot_grep(feature, label=target, plot_type='countplot', fig_size='s',subset=train): \n",
        "    '''\n",
        "    Doc:\n",
        "        Greps feature with label.\n",
        "        Displays a seaborn plot of grep.\n",
        "\n",
        "        Parameters\n",
        "        -------------\n",
        "            feature   : (str)\n",
        "                Feature to plot 'label' by\n",
        "            label     : (str)    \n",
        "                Label (or additional feature) to plot 'feature' by  \n",
        "                default   = target\n",
        "                    * save a variable 'target' as df.columns['target variable']               \n",
        "            plot_type : (dict)\n",
        "                Specify a seaborn plot function from {graph_}\n",
        "                    default: 'countplot'      \n",
        "            fig_size  : {'s', 'm', 'l'}\n",
        "                Choose a small , medium, or large figure size\n",
        "                default   : {'s'=10x6, 'm'=14x8, 'l'=18x10}\n",
        "            subset    : (dataframe)\n",
        "                Specify which subset of the dataframe to use\n",
        "                default   = 'train'\n",
        "                examples  : 'train', 'test','all', etc.\n",
        "        \n",
        "        Returns\n",
        "        -------------\n",
        "            Seaborn plot of grep(feature,label)\n",
        "\n",
        "        Plot Options: \n",
        "        -------------\n",
        "        --> from Seaborn API Reference : https://seaborn.pydata.org/api.html\n",
        "        \n",
        "        Relational Plots\n",
        "        ---\n",
        "        'relplot'     - Figure-level interface for drawing relational plots onto a FacetGrid.\n",
        "        'scatterplot' - Draw a scatter plot with possibility of several semantic groupings.\n",
        "        'lineplot'    - Draw a line plot with possibility of several semantic groupings.\n",
        "\n",
        "        Distribution Plots\n",
        "        ---\n",
        "        'displot'     - Figure-level interface for drawing distribution plots onto a FacetGrid.\n",
        "        'histplot'    - Plot univariate or bivariate histograms to show distributions of datasets.\n",
        "        'kdeplot'     - Plot univariate or bivariate distributions using kernel density estimation.\n",
        "\n",
        "        Categorical Plots\n",
        "        ---\n",
        "        'ecdfplot'    - Plot empirical cumulative distribution functions.\n",
        "        'rugplot'     - Plot marginal distributions by drawing ticks along the x and y axes.\n",
        "        'catplot'     - Figure-level interface for drawing categorical plots onto a FacetGrid.\n",
        "        'stripplot'   - Draw a scatterplot where one variable is categorical.\n",
        "        'swarmplot'   - Draw a categorical scatterplot with non-overlapping points.\n",
        "        'boxplot'     - Draw a box plot to show distributions with respect to categories.\n",
        "        'violinplot'  - Draw a combination of boxplot and kernel density estimate.\n",
        "        'boxenplot'   - Draw an enhanced box plot for larger datasets\n",
        "        'pointplot'   - Show point estimates and confidence intervals using scatter plot glyphs.\n",
        "        'barplot'     - Show point estimates and confidence intervals as rectangular bars.\n",
        "        'countplot'   - Show the counts of observations in each categorical bin using bars.\n",
        "\n",
        "        Regression Plots\n",
        "        ---\n",
        "        'lmplot'      - Plot data and regression model fits across a FacetGrid.\n",
        "        'regplot'     - Plot data and a linear regression model fit.\n",
        "        'residplot'   - lot the residuals of a linear regression.\n",
        "\n",
        "        Matrix Plots\n",
        "        ---\n",
        "        'heatmap'     - Plot rectangular data as a color-encoded matrix.\n",
        "        'clustermap'  - Plot a matrix dataset as a hierarchically-clustered heatmap.\n",
        "\n",
        "        MULTI-PLOT GRIDS\n",
        "\n",
        "        FacetGrid\n",
        "        ---\n",
        "        'FacetGrid'   - Multi-plot grid for plotting conditional relationships.\n",
        "\n",
        "        Pair Grids\n",
        "        ---\n",
        "        'pairplot'    - Plot pairwise relationships in a dataset.\n",
        "        'PairGrid'    - Subplot grid for plotting pairwise relationships in a dataset.\n",
        "\n",
        "        Joint 'Grids'\n",
        "        ---\n",
        "        'jointplot'   - Draw a plot of two variables with bivariate and univariate graphs.\n",
        "        'JointGrid'   - Grid for drawing a bivariate plot with marginal univariate plots.\n",
        "    '''\n",
        "    # filter input for matching \n",
        "    feature = feature.title()\n",
        "    label = label.title()\n",
        "    # increase size for age\n",
        "    if (feature == 'Age') & (fig_size == 's'):\n",
        "        aging = True\n",
        "        while aging == True:\n",
        "            resp = input(f'This {feature} feature has quite the range!\\n\\\n",
        "            Would you like to increase the size for better readability?\\n\\n(y) or (n)   --> ')\n",
        "            if resp.lower() == 'n':\n",
        "                print(\"You know best!\")\n",
        "                aging = False\n",
        "            else:               # resp.lower() == 'y': \n",
        "                print(\"Great idea!\")\n",
        "                fig_size = 'm'\n",
        "                aging = False   \n",
        "    # plot\n",
        "    fig, ax = plt.subplots(figsize=sizes[fig_size])\n",
        "    graph_[plot_type](subset[feature],hue=subset[label])\n",
        "    plt.show() \n",
        "\n",
        "def plot_all_grep(feature, plot_type='countplot', fig_size='s',subset=train): \n",
        "    # filter input for matching \n",
        "    feature = feature.title()\n",
        "    # label = label.title()\n",
        "    # increase size for age\n",
        "    for i in range(1,(len(subset.columns)-1)):\n",
        "        by_feature = subset[subset.columns[i]]\n",
        "        if (subset.columns[i] == 'Age') & (fig_size == 's'):\n",
        "            # plot\n",
        "            fig, ax = plt.subplots(figsize=sizes['m'])\n",
        "            graph_[plot_type](by_feature,hue=subset[feature])\n",
        "            plt.show() \n",
        "        else:\n",
        "            # plot\n",
        "            fig, ax = plt.subplots(figsize=sizes[fig_size])\n",
        "            graph_[plot_type](by_feature,hue=subset[feature])\n",
        "            plt.show() "
      ],
      "metadata": {
        "id": "mU4o012PYDXr"
      },
      "execution_count": 190,
      "outputs": []
    },
    {
      "cell_type": "code",
      "source": [
        "plot_all_grep('gender')\n",
        "# print(train.columns[11])\n",
        "# for i in range(1,11):\n",
        "#     print(i)"
      ],
      "metadata": {
        "colab": {
          "base_uri": "https://localhost:8080/",
          "height": 1000
        },
        "id": "FwsMUQb_avsF",
        "outputId": "af787b37-495a-44c2-a140-789c74da99a9"
      },
      "execution_count": 191,
      "outputs": [
        {
          "output_type": "display_data",
          "data": {
            "text/plain": [
              "<Figure size 720x432 with 1 Axes>"
            ],
            "image/png": "[encoded data removed]"
          },
          "metadata": {
            "needs_background": "light"
          }
        },
        {
          "output_type": "display_data",
          "data": {
            "text/plain": [
              "<Figure size 720x432 with 1 Axes>"
            ],
            "image/png": "[encoded data removed]"
          },
          "metadata": {
            "needs_background": "light"
          }
        },
        {
          "output_type": "display_data",
          "data": {
            "text/plain": [
              "<Figure size 1008x576 with 1 Axes>"
            ],
            "image/png": "[encoded data removed]"
          },
          "metadata": {
            "needs_background": "light"
          }
        },
        {
          "output_type": "display_data",
          "data": {
            "text/plain": [
              "<Figure size 720x432 with 1 Axes>"
            ],
            "image/png": "[encoded data removed]"
          },
          "metadata": {
            "needs_background": "light"
          }
        },
        {
          "output_type": "display_data",
          "data": {
            "text/plain": [
              "<Figure size 720x432 with 1 Axes>"
            ],
            "image/png": "[encoded data removed]"
          },
          "metadata": {
            "needs_background": "light"
          }
        },
        {
          "output_type": "display_data",
          "data": {
            "text/plain": [
              "<Figure size 720x432 with 1 Axes>"
            ],
            "image/png": "[encoded data removed]"
          },
          "metadata": {
            "needs_background": "light"
          }
        },
        {
          "output_type": "display_data",
          "data": {
            "text/plain": [
              "<Figure size 720x432 with 1 Axes>"
            ],
            "image/png": "[encoded data removed]"
          },
          "metadata": {
            "needs_background": "light"
          }
        },
        {
          "output_type": "display_data",
          "data": {
            "text/plain": [
              "<Figure size 720x432 with 1 Axes>"
            ],
            "image/png": "[encoded data removed]"
          },
          "metadata": {
            "needs_background": "light"
          }
        },
        {
          "output_type": "display_data",
          "data": {
            "text/plain": [
              "<Figure size 720x432 with 1 Axes>"
            ],
            "image/png": "[encoded data removed]"
          },
          "metadata": {
            "needs_background": "light"
          }
        },
        {
          "output_type": "display_data",
          "data": {
            "text/plain": [
              "<Figure size 720x432 with 1 Axes>"
            ],
            "image/png": "[encoded data removed]"
          },
          "metadata": {
            "needs_background": "light"
          }
        }
      ]
    },
    {
      "cell_type": "code",
      "source": [
        "# Notes for later:\n",
        "# program a function that takes the correlations that a heatmap would show, but prints grep graphs for each significant pairing"
      ],
      "metadata": {
        "id": "cpoJieETppbP"
      },
      "execution_count": 193,
      "outputs": []
    },
    {
      "cell_type": "code",
      "source": [
        "train.head()"
      ],
      "metadata": {
        "id": "C5LTCMdzLZcu",
        "colab": {
          "base_uri": "https://localhost:8080/",
          "height": 206
        },
        "outputId": "4c028c35-7930-475a-9ba1-a548c925389b"
      },
      "execution_count": 194,
      "outputs": [
        {
          "output_type": "execute_result",
          "data": {
            "text/plain": [
              "       ID  Gender Ever_Married  Age Graduated     Profession  Work_Experience  \\\n",
              "0  462809    Male           No   22        No     Healthcare              1.0   \n",
              "1  462643  Female          Yes   38       Yes       Engineer              NaN   \n",
              "2  466315  Female          Yes   67       Yes       Engineer              1.0   \n",
              "3  461735    Male          Yes   67       Yes         Lawyer              0.0   \n",
              "4  462669  Female          Yes   40       Yes  Entertainment              NaN   \n",
              "\n",
              "  Spending_Score  Family_Size  Var_1 Segmentation  train_y_n  \n",
              "0            Low          4.0  Cat_4            D          1  \n",
              "1        Average          3.0  Cat_4            A          1  \n",
              "2            Low          1.0  Cat_6            B          1  \n",
              "3           High          2.0  Cat_6            B          1  \n",
              "4           High          6.0  Cat_6            A          1  "
            ],
            "text/html": [
              "\n",
              "  <div id=\"df-4e11d77f-a3fd-47b0-990b-a4bbad4528c5\">\n",
              "    <div class=\"colab-df-container\">\n",
              "      <div>\n",
              "<style scoped>\n",
              "    .dataframe tbody tr th:only-of-type {\n",
              "        vertical-align: middle;\n",
              "    }\n",
              "\n",
              "    .dataframe tbody tr th {\n",
              "        vertical-align: top;\n",
              "    }\n",
              "\n",
              "    .dataframe thead th {\n",
              "        text-align: right;\n",
              "    }\n",
              "</style>\n",
              "<table border=\"1\" class=\"dataframe\">\n",
              "  <thead>\n",
              "    <tr style=\"text-align: right;\">\n",
              "      <th></th>\n",
              "      <th>ID</th>\n",
              "      <th>Gender</th>\n",
              "      <th>Ever_Married</th>\n",
              "      <th>Age</th>\n",
              "      <th>Graduated</th>\n",
              "      <th>Profession</th>\n",
              "      <th>Work_Experience</th>\n",
              "      <th>Spending_Score</th>\n",
              "      <th>Family_Size</th>\n",
              "      <th>Var_1</th>\n",
              "      <th>Segmentation</th>\n",
              "      <th>train_y_n</th>\n",
              "    </tr>\n",
              "  </thead>\n",
              "  <tbody>\n",
              "    <tr>\n",
              "      <th>0</th>\n",
              "      <td>462809</td>\n",
              "      <td>Male</td>\n",
              "      <td>No</td>\n",
              "      <td>22</td>\n",
              "      <td>No</td>\n",
              "      <td>Healthcare</td>\n",
              "      <td>1.0</td>\n",
              "      <td>Low</td>\n",
              "      <td>4.0</td>\n",
              "      <td>Cat_4</td>\n",
              "      <td>D</td>\n",
              "      <td>1</td>\n",
              "    </tr>\n",
              "    <tr>\n",
              "      <th>1</th>\n",
              "      <td>462643</td>\n",
              "      <td>Female</td>\n",
              "      <td>Yes</td>\n",
              "      <td>38</td>\n",
              "      <td>Yes</td>\n",
              "      <td>Engineer</td>\n",
              "      <td>NaN</td>\n",
              "      <td>Average</td>\n",
              "      <td>3.0</td>\n",
              "      <td>Cat_4</td>\n",
              "      <td>A</td>\n",
              "      <td>1</td>\n",
              "    </tr>\n",
              "    <tr>\n",
              "      <th>2</th>\n",
              "      <td>466315</td>\n",
              "      <td>Female</td>\n",
              "      <td>Yes</td>\n",
              "      <td>67</td>\n",
              "      <td>Yes</td>\n",
              "      <td>Engineer</td>\n",
              "      <td>1.0</td>\n",
              "      <td>Low</td>\n",
              "      <td>1.0</td>\n",
              "      <td>Cat_6</td>\n",
              "      <td>B</td>\n",
              "      <td>1</td>\n",
              "    </tr>\n",
              "    <tr>\n",
              "      <th>3</th>\n",
              "      <td>461735</td>\n",
              "      <td>Male</td>\n",
              "      <td>Yes</td>\n",
              "      <td>67</td>\n",
              "      <td>Yes</td>\n",
              "      <td>Lawyer</td>\n",
              "      <td>0.0</td>\n",
              "      <td>High</td>\n",
              "      <td>2.0</td>\n",
              "      <td>Cat_6</td>\n",
              "      <td>B</td>\n",
              "      <td>1</td>\n",
              "    </tr>\n",
              "    <tr>\n",
              "      <th>4</th>\n",
              "      <td>462669</td>\n",
              "      <td>Female</td>\n",
              "      <td>Yes</td>\n",
              "      <td>40</td>\n",
              "      <td>Yes</td>\n",
              "      <td>Entertainment</td>\n",
              "      <td>NaN</td>\n",
              "      <td>High</td>\n",
              "      <td>6.0</td>\n",
              "      <td>Cat_6</td>\n",
              "      <td>A</td>\n",
              "      <td>1</td>\n",
              "    </tr>\n",
              "  </tbody>\n",
              "</table>\n",
              "</div>\n",
              "      <button class=\"colab-df-convert\" onclick=\"convertToInteractive('df-4e11d77f-a3fd-47b0-990b-a4bbad4528c5')\"\n",
              "              title=\"Convert this dataframe to an interactive table.\"\n",
              "              style=\"display:none;\">\n",
              "        \n",
              "  <svg xmlns=\"http://www.w3.org/2000/svg\" height=\"24px\"viewBox=\"0 0 24 24\"\n",
              "       width=\"24px\">\n",
              "    <path d=\"M0 0h24v24H0V0z\" fill=\"none\"/>\n",
              "    <path d=\"M18.56 5.44l.94 2.06.94-2.06 2.06-.94-2.06-.94-.94-2.06-.94 2.06-2.06.94zm-11 1L8.5 8.5l.94-2.06 2.06-.94-2.06-.94L8.5 2.5l-.94 2.06-2.06.94zm10 10l.94 2.06.94-2.06 2.06-.94-2.06-.94-.94-2.06-.94 2.06-2.06.94z\"/><path d=\"M17.41 7.96l-1.37-1.37c-.4-.4-.92-.59-1.43-.59-.52 0-1.04.2-1.43.59L10.3 9.45l-7.72 7.72c-.78.78-.78 2.05 0 2.83L4 21.41c.39.39.9.59 1.41.59.51 0 1.02-.2 1.41-.59l7.78-7.78 2.81-2.81c.8-.78.8-2.07 0-2.86zM5.41 20L4 18.59l7.72-7.72 1.47 1.35L5.41 20z\"/>\n",
              "  </svg>\n",
              "      </button>\n",
              "      \n",
              "  <style>\n",
              "    .colab-df-container {\n",
              "      display:flex;\n",
              "      flex-wrap:wrap;\n",
              "      gap: 12px;\n",
              "    }\n",
              "\n",
              "    .colab-df-convert {\n",
              "      background-color: #E8F0FE;\n",
              "      border: none;\n",
              "      border-radius: 50%;\n",
              "      cursor: pointer;\n",
              "      display: none;\n",
              "      fill: #1967D2;\n",
              "      height: 32px;\n",
              "      padding: 0 0 0 0;\n",
              "      width: 32px;\n",
              "    }\n",
              "\n",
              "    .colab-df-convert:hover {\n",
              "      background-color: #E2EBFA;\n",
              "      box-shadow: 0px 1px 2px rgba(60, 64, 67, 0.3), 0px 1px 3px 1px rgba(60, 64, 67, 0.15);\n",
              "      fill: #174EA6;\n",
              "    }\n",
              "\n",
              "    [theme=dark] .colab-df-convert {\n",
              "      background-color: #3B4455;\n",
              "      fill: #D2E3FC;\n",
              "    }\n",
              "\n",
              "    [theme=dark] .colab-df-convert:hover {\n",
              "      background-color: #434B5C;\n",
              "      box-shadow: 0px 1px 3px 1px rgba(0, 0, 0, 0.15);\n",
              "      filter: drop-shadow(0px 1px 2px rgba(0, 0, 0, 0.3));\n",
              "      fill: #FFFFFF;\n",
              "    }\n",
              "  </style>\n",
              "\n",
              "      <script>\n",
              "        const buttonEl =\n",
              "          document.querySelector('#df-4e11d77f-a3fd-47b0-990b-a4bbad4528c5 button.colab-df-convert');\n",
              "        buttonEl.style.display =\n",
              "          google.colab.kernel.accessAllowed ? 'block' : 'none';\n",
              "\n",
              "        async function convertToInteractive(key) {\n",
              "          const element = document.querySelector('#df-4e11d77f-a3fd-47b0-990b-a4bbad4528c5');\n",
              "          const dataTable =\n",
              "            await google.colab.kernel.invokeFunction('convertToInteractive',\n",
              "                                                     [key], {});\n",
              "          if (!dataTable) return;\n",
              "\n",
              "          const docLinkHtml = 'Like what you see? Visit the ' +\n",
              "            '<a target=\"_blank\" href=https://colab.research.google.com/notebooks/data_table.ipynb>data table notebook</a>'\n",
              "            + ' to learn more about interactive tables.';\n",
              "          element.innerHTML = '';\n",
              "          dataTable['output_type'] = 'display_data';\n",
              "          await google.colab.output.renderOutput(dataTable, element);\n",
              "          const docLink = document.createElement('div');\n",
              "          docLink.innerHTML = docLinkHtml;\n",
              "          element.appendChild(docLink);\n",
              "        }\n",
              "      </script>\n",
              "    </div>\n",
              "  </div>\n",
              "  "
            ]
          },
          "metadata": {},
          "execution_count": 194
        }
      ]
    },
    {
      "cell_type": "code",
      "source": [
        "test.sample()"
      ],
      "metadata": {
        "colab": {
          "base_uri": "https://localhost:8080/",
          "height": 81
        },
        "id": "jlC3i1hOZJlR",
        "outputId": "2faa568a-0009-407c-e6cd-6089ee4e66c7"
      },
      "execution_count": 115,
      "outputs": [
        {
          "output_type": "execute_result",
          "data": {
            "text/plain": [
              "         ID Gender Ever_Married  Age Graduated Profession  Work_Experience  \\\n",
              "831  461769   Male           No   37       Yes     Artist              0.0   \n",
              "\n",
              "    Spending_Score  Family_Size  Var_1  train_y_n  \n",
              "831            Low          1.0  Cat_6          0  "
            ],
            "text/html": [
              "\n",
              "  <div id=\"df-703afa01-032d-4aa1-9321-dd9afa5021e0\">\n",
              "    <div class=\"colab-df-container\">\n",
              "      <div>\n",
              "<style scoped>\n",
              "    .dataframe tbody tr th:only-of-type {\n",
              "        vertical-align: middle;\n",
              "    }\n",
              "\n",
              "    .dataframe tbody tr th {\n",
              "        vertical-align: top;\n",
              "    }\n",
              "\n",
              "    .dataframe thead th {\n",
              "        text-align: right;\n",
              "    }\n",
              "</style>\n",
              "<table border=\"1\" class=\"dataframe\">\n",
              "  <thead>\n",
              "    <tr style=\"text-align: right;\">\n",
              "      <th></th>\n",
              "      <th>ID</th>\n",
              "      <th>Gender</th>\n",
              "      <th>Ever_Married</th>\n",
              "      <th>Age</th>\n",
              "      <th>Graduated</th>\n",
              "      <th>Profession</th>\n",
              "      <th>Work_Experience</th>\n",
              "      <th>Spending_Score</th>\n",
              "      <th>Family_Size</th>\n",
              "      <th>Var_1</th>\n",
              "      <th>train_y_n</th>\n",
              "    </tr>\n",
              "  </thead>\n",
              "  <tbody>\n",
              "    <tr>\n",
              "      <th>831</th>\n",
              "      <td>461769</td>\n",
              "      <td>Male</td>\n",
              "      <td>No</td>\n",
              "      <td>37</td>\n",
              "      <td>Yes</td>\n",
              "      <td>Artist</td>\n",
              "      <td>0.0</td>\n",
              "      <td>Low</td>\n",
              "      <td>1.0</td>\n",
              "      <td>Cat_6</td>\n",
              "      <td>0</td>\n",
              "    </tr>\n",
              "  </tbody>\n",
              "</table>\n",
              "</div>\n",
              "      <button class=\"colab-df-convert\" onclick=\"convertToInteractive('df-703afa01-032d-4aa1-9321-dd9afa5021e0')\"\n",
              "              title=\"Convert this dataframe to an interactive table.\"\n",
              "              style=\"display:none;\">\n",
              "        \n",
              "  <svg xmlns=\"http://www.w3.org/2000/svg\" height=\"24px\"viewBox=\"0 0 24 24\"\n",
              "       width=\"24px\">\n",
              "    <path d=\"M0 0h24v24H0V0z\" fill=\"none\"/>\n",
              "    <path d=\"M18.56 5.44l.94 2.06.94-2.06 2.06-.94-2.06-.94-.94-2.06-.94 2.06-2.06.94zm-11 1L8.5 8.5l.94-2.06 2.06-.94-2.06-.94L8.5 2.5l-.94 2.06-2.06.94zm10 10l.94 2.06.94-2.06 2.06-.94-2.06-.94-.94-2.06-.94 2.06-2.06.94z\"/><path d=\"M17.41 7.96l-1.37-1.37c-.4-.4-.92-.59-1.43-.59-.52 0-1.04.2-1.43.59L10.3 9.45l-7.72 7.72c-.78.78-.78 2.05 0 2.83L4 21.41c.39.39.9.59 1.41.59.51 0 1.02-.2 1.41-.59l7.78-7.78 2.81-2.81c.8-.78.8-2.07 0-2.86zM5.41 20L4 18.59l7.72-7.72 1.47 1.35L5.41 20z\"/>\n",
              "  </svg>\n",
              "      </button>\n",
              "      \n",
              "  <style>\n",
              "    .colab-df-container {\n",
              "      display:flex;\n",
              "      flex-wrap:wrap;\n",
              "      gap: 12px;\n",
              "    }\n",
              "\n",
              "    .colab-df-convert {\n",
              "      background-color: #E8F0FE;\n",
              "      border: none;\n",
              "      border-radius: 50%;\n",
              "      cursor: pointer;\n",
              "      display: none;\n",
              "      fill: #1967D2;\n",
              "      height: 32px;\n",
              "      padding: 0 0 0 0;\n",
              "      width: 32px;\n",
              "    }\n",
              "\n",
              "    .colab-df-convert:hover {\n",
              "      background-color: #E2EBFA;\n",
              "      box-shadow: 0px 1px 2px rgba(60, 64, 67, 0.3), 0px 1px 3px 1px rgba(60, 64, 67, 0.15);\n",
              "      fill: #174EA6;\n",
              "    }\n",
              "\n",
              "    [theme=dark] .colab-df-convert {\n",
              "      background-color: #3B4455;\n",
              "      fill: #D2E3FC;\n",
              "    }\n",
              "\n",
              "    [theme=dark] .colab-df-convert:hover {\n",
              "      background-color: #434B5C;\n",
              "      box-shadow: 0px 1px 3px 1px rgba(0, 0, 0, 0.15);\n",
              "      filter: drop-shadow(0px 1px 2px rgba(0, 0, 0, 0.3));\n",
              "      fill: #FFFFFF;\n",
              "    }\n",
              "  </style>\n",
              "\n",
              "      <script>\n",
              "        const buttonEl =\n",
              "          document.querySelector('#df-703afa01-032d-4aa1-9321-dd9afa5021e0 button.colab-df-convert');\n",
              "        buttonEl.style.display =\n",
              "          google.colab.kernel.accessAllowed ? 'block' : 'none';\n",
              "\n",
              "        async function convertToInteractive(key) {\n",
              "          const element = document.querySelector('#df-703afa01-032d-4aa1-9321-dd9afa5021e0');\n",
              "          const dataTable =\n",
              "            await google.colab.kernel.invokeFunction('convertToInteractive',\n",
              "                                                     [key], {});\n",
              "          if (!dataTable) return;\n",
              "\n",
              "          const docLinkHtml = 'Like what you see? Visit the ' +\n",
              "            '<a target=\"_blank\" href=https://colab.research.google.com/notebooks/data_table.ipynb>data table notebook</a>'\n",
              "            + ' to learn more about interactive tables.';\n",
              "          element.innerHTML = '';\n",
              "          dataTable['output_type'] = 'display_data';\n",
              "          await google.colab.output.renderOutput(dataTable, element);\n",
              "          const docLink = document.createElement('div');\n",
              "          docLink.innerHTML = docLinkHtml;\n",
              "          element.appendChild(docLink);\n",
              "        }\n",
              "      </script>\n",
              "    </div>\n",
              "  </div>\n",
              "  "
            ]
          },
          "metadata": {},
          "execution_count": 115
        }
      ]
    },
    {
      "cell_type": "markdown",
      "source": [
        "## Feature engineering and transformation"
      ],
      "metadata": {
        "id": "k2LeKUflLehC"
      }
    },
    {
      "cell_type": "code",
      "source": [
        "# Your code here"
      ],
      "metadata": {
        "id": "uFI8CYpdLhLk"
      },
      "execution_count": null,
      "outputs": []
    },
    {
      "cell_type": "markdown",
      "source": [
        "---\n",
        "# 2. Training\n",
        "---\n",
        "* Traditional ML Modeling\n",
        "* Pure Torch Model\n",
        "* High-level Libraries and Tabular Frameworks"
      ],
      "metadata": {
        "id": "w1VzkVQAHh1h"
      }
    },
    {
      "cell_type": "markdown",
      "source": [
        "## Traditional ML modeling"
      ],
      "metadata": {
        "id": "c8XPEDl7ocFX"
      }
    },
    {
      "cell_type": "code",
      "source": [
        "# Your code here"
      ],
      "metadata": {
        "id": "BE3kYpzuqJyf"
      },
      "execution_count": null,
      "outputs": []
    },
    {
      "cell_type": "markdown",
      "source": [
        "## Pure `torch` model"
      ],
      "metadata": {
        "id": "D-_gt2iopuDn"
      }
    },
    {
      "cell_type": "code",
      "source": [
        "# Your code here"
      ],
      "metadata": {
        "id": "tJt0WDtKqLRc"
      },
      "execution_count": null,
      "outputs": []
    },
    {
      "cell_type": "markdown",
      "source": [
        "## High-level libraries and tabular frameworks"
      ],
      "metadata": {
        "id": "YUK7yRtEp2NA"
      }
    },
    {
      "cell_type": "code",
      "source": [
        "# Your code here"
      ],
      "metadata": {
        "id": "MZZBEen8qMYI"
      },
      "execution_count": null,
      "outputs": []
    },
    {
      "cell_type": "markdown",
      "source": [
        "---\n",
        "# 3. Testing\n",
        "---\n",
        "* Model Selection and Test Set Evaluation\n",
        "* Notes and Findings"
      ],
      "metadata": {
        "id": "PUcW0hXbGRfz"
      }
    },
    {
      "cell_type": "markdown",
      "source": [
        "## Model selection and test set evaluation"
      ],
      "metadata": {
        "id": "Q_arrqLoqADy"
      }
    },
    {
      "cell_type": "code",
      "source": [
        "# Your code here"
      ],
      "metadata": {
        "id": "A2qfdqQsqNfV"
      },
      "execution_count": null,
      "outputs": []
    },
    {
      "cell_type": "markdown",
      "source": [
        "## Notes and findings\n",
        "\n",
        "What did you learn?"
      ],
      "metadata": {
        "id": "PHqN9LsZLpet"
      }
    },
    {
      "cell_type": "code",
      "source": [
        ""
      ],
      "metadata": {
        "id": "A7KOEgi0KeBm"
      },
      "execution_count": null,
      "outputs": []
    }
  ]
}