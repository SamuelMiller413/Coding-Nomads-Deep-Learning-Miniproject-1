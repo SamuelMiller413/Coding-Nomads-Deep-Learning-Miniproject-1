{
  "nbformat": 4,
  "nbformat_minor": 0,
  "metadata": {
    "colab": {
      "name": "dl_miniproject_1_tabular_data.ipynb",
      "provenance": [],
      "collapsed_sections": [
        "Qtma3ZXKOiVR"
      ],
      "machine_shape": "hm",
      "toc_visible": true,
      "include_colab_link": true
    },
    "kernelspec": {
      "name": "python3",
      "display_name": "Python 3"
    },
    "language_info": {
      "name": "python"
    },
    "gpuClass": "standard"
  },
  "cells": [
    {
      "cell_type": "markdown",
      "metadata": {
        "id": "view-in-github",
        "colab_type": "text"
      },
      "source": [
        "<a href=\"https://colab.research.google.com/github/SamuelMiller413/Coding-Nomads-Deep-Learning-Miniproject-1/blob/master/dl_miniproject_1_tabular_data.ipynb\" target=\"_parent\"><img src=\"https://colab.research.google.com/assets/colab-badge.svg\" alt=\"Open In Colab\"/></a>"
      ]
    },
    {
      "cell_type": "markdown",
      "source": [
        "---\n",
        "# Intrdouction\n",
        "---"
      ],
      "metadata": {
        "id": "s4ExnDwUNcsf"
      }
    },
    {
      "cell_type": "markdown",
      "source": [
        "## Problem Statement:\n",
        "> An automobile company has plans to enter new markets with their existing products (P1, P2, P3, P4 and P5). After intensive market research, they’ve deduced that the behavior of new market is similar to their existing market.\n",
        "\n",
        ">In their existing market, the sales team has classified all customers into 4 segments (A, B, C, D ). Then, they performed segmented outreach and communication for different segment of customers. This strategy has work exceptionally well for them. They plan to use the same strategy on new markets and have identified 2627 new potential customers.\n",
        "\n",
        ">You are required to help the manager to predict the right group of the new customers."
      ],
      "metadata": {
        "id": "D3o_wBWZOeNf"
      }
    },
    {
      "cell_type": "markdown",
      "source": [
        "## Resources\n",
        ">Data    (from Kaggle)\n",
        "* [Customer Segmentation Dataset](https://www.kaggle.com/datasets/abisheksudarshan/customer-segmentation?select=train.csv) \n",
        "\n",
        "> Notebooks of Influence\n",
        "* [Janatahack](https://www.kaggle.com/code/abisheksudarshan/av-janatahack-customer-segmentation/data) \n",
        "* [Seun Ayegboyin](https://www.kaggle.com/code/seunayegboyin/customer-segmentation-with-kmeans-and-pca) (PCA/Clustering)"
      ],
      "metadata": {
        "id": "tm-Dt4BOOkue"
      }
    },
    {
      "cell_type": "markdown",
      "source": [
        "---\n",
        "# Work Flow\n",
        "---\n",
        "\n",
        "### NOTES\n",
        "* Write \n",
        "        def grep()\n",
        "        def greps_all()\n",
        "* OHE all\n",
        "* Impute NaN\n",
        "* Train Models\n",
        "* Train DL Models\n"
      ],
      "metadata": {
        "id": "bphRi4fLDrNB"
      }
    },
    {
      "cell_type": "markdown",
      "source": [
        "### Workflow Outline\n",
        "\n",
        "---\n",
        "#### 1. Pre-Training\n",
        "---\n",
        "* Setup\n",
        "    * Data Loading\n",
        "    * Download the Dataset\n",
        "    * Split Data\n",
        "    * Custom Functions\n",
        "* Initial EDA / Data Visualization\n",
        "* Feature Engineering and Transformation\n",
        "* Continued EDA / Data Visualization\n",
        "* Pipelines\n",
        "<br>\n",
        "---\n",
        "#### 2. Training\n",
        "---\n",
        "* Traditional ML Modeling\n",
        "* Pure Torch Model\n",
        "* High-level Libraries and Tabular Frameworks\n",
        "<br>\n",
        "---\n",
        "#### 3. Testing\n",
        "---\n",
        "* Model Selection and Test Set Evaluation\n",
        "* Notes and Findings\n",
        "\n"
      ],
      "metadata": {
        "id": "3Qg8oAt7FHzL"
      }
    },
    {
      "cell_type": "markdown",
      "source": [
        "---\n",
        "# 1. Pre-Training\n",
        "---\n",
        "* Setup\n",
        "    * Data Loading\n",
        "    * Download the Dataset\n",
        "    * Split Data\n",
        "    * Custom Functions\n",
        "* Initial EDA / Data Visualization\n",
        "* Feature Engineering and Transformation\n",
        "* Continued EDA / Data Visualization\n",
        "* Pipelines"
      ],
      "metadata": {
        "id": "CcXjCgnEHuod"
      }
    },
    {
      "cell_type": "markdown",
      "source": [
        "## Setup"
      ],
      "metadata": {
        "id": "TppBhRBlJDVY"
      }
    },
    {
      "cell_type": "markdown",
      "source": [
        "#### Retrieval and Cloud Connection"
      ],
      "metadata": {
        "id": "IgRNvGpUz-pt"
      }
    },
    {
      "cell_type": "code",
      "source": [
        "# mount drive\n",
        "from google.colab import drive\n",
        "drive.mount('/content/drive')"
      ],
      "metadata": {
        "colab": {
          "base_uri": "https://localhost:8080/"
        },
        "id": "ndEWFz-qZTAk",
        "outputId": "ebf98c6c-599c-4d5c-f0e9-31233ace5704"
      },
      "execution_count": 1,
      "outputs": [
        {
          "output_type": "stream",
          "name": "stdout",
          "text": [
            "Drive already mounted at /content/drive; to attempt to forcibly remount, call drive.mount(\"/content/drive\", force_remount=True).\n"
          ]
        }
      ]
    },
    {
      "cell_type": "code",
      "source": [
        "# upload 'kaggle.json'\n",
        "from google.colab import files\n",
        "files.upload()"
      ],
      "metadata": {
        "colab": {
          "resources": {
            "http://localhost:8080/nbextensions/google.colab/files.js": {
              "data": "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",
              "ok": true,
              "headers": [
                [
                  "content-type",
                  "application/javascript"
                ]
              ],
              "status": 200,
              "status_text": ""
            }
          },
          "base_uri": "https://localhost:8080/",
          "height": 101
        },
        "id": "P4ZxddsPcaI5",
        "outputId": "0cfc19af-f6ac-443b-9eb0-58bab6cb1753"
      },
      "execution_count": 2,
      "outputs": [
        {
          "output_type": "display_data",
          "data": {
            "text/plain": [
              "<IPython.core.display.HTML object>"
            ],
            "text/html": [
              "\n",
              "     <input type=\"file\" id=\"files-c96217ec-dd6b-4ce3-8eb8-d4f18ce2553f\" name=\"files[]\" multiple disabled\n",
              "        style=\"border:none\" />\n",
              "     <output id=\"result-c96217ec-dd6b-4ce3-8eb8-d4f18ce2553f\">\n",
              "      Upload widget is only available when the cell has been executed in the\n",
              "      current browser session. Please rerun this cell to enable.\n",
              "      </output>\n",
              "      <script src=\"/nbextensions/google.colab/files.js\"></script> "
            ]
          },
          "metadata": {}
        },
        {
          "output_type": "stream",
          "name": "stdout",
          "text": [
            "Saving kaggle.json to kaggle (1).json\n"
          ]
        },
        {
          "output_type": "execute_result",
          "data": {
            "text/plain": [
              "{'kaggle.json': b'{\"username\":\"samuelmiller413\",\"key\":\"d635e1518efc064bb478bb67bb2c22aa\"}'}"
            ]
          },
          "metadata": {},
          "execution_count": 2
        }
      ]
    },
    {
      "cell_type": "code",
      "source": [
        "# make kaggle directory \n",
        "! mkdir ~/.kaggle\n",
        "# store JSON\n",
        "! cp kaggle.json ~/.kaggle/\n",
        "# change permissions\n",
        "! chmod 600 ~/.kaggle/kaggle.json\n",
        "\n",
        "# download data from kaggle\n",
        "! kaggle datasets download -d 'abisheksudarshan/customer-segmentation'\n",
        "# make directory for data\n",
        "! mkdir customer-segmentation\n",
        "\n",
        "# unzip into directory\n",
        "! cd.. customer-segmentation/\n",
        "! unzip customer-segmentation.zip -d customer-segmentation/\n",
        "# remove .zip\n",
        "! rm -r customer-segmentation.zip"
      ],
      "metadata": {
        "colab": {
          "base_uri": "https://localhost:8080/"
        },
        "id": "MiYUS7XVcrgW",
        "outputId": "042e5b16-6552-4da7-a783-5d8df33ff179"
      },
      "execution_count": 3,
      "outputs": [
        {
          "output_type": "stream",
          "name": "stdout",
          "text": [
            "mkdir: cannot create directory ‘/root/.kaggle’: File exists\n",
            "Downloading customer-segmentation.zip to /content\n",
            "  0% 0.00/98.7k [00:00<?, ?B/s]\n",
            "100% 98.7k/98.7k [00:00<00:00, 70.1MB/s]\n",
            "mkdir: cannot create directory ‘customer-segmentation’: File exists\n",
            "/bin/bash: cd..: command not found\n",
            "Archive:  customer-segmentation.zip\n",
            "replace customer-segmentation/test.csv? [y]es, [n]o, [A]ll, [N]one, [r]ename: n\n",
            "replace customer-segmentation/train.csv? [y]es, [n]o, [A]ll, [N]one, [r]ename: n\n"
          ]
        }
      ]
    },
    {
      "cell_type": "markdown",
      "source": [
        "#### Imports"
      ],
      "metadata": {
        "id": "oi-C2we-Jm62"
      }
    },
    {
      "cell_type": "code",
      "source": [
        "%%capture\n",
        "# import libraries\n",
        "import numpy as np \n",
        "import pandas as pd \n",
        "import pprint\n",
        "import inspect\n",
        "\n",
        "# PRE-PROCESSING                                                                          \n",
        "from sklearn.preprocessing import StandardScaler\n",
        "from sklearn_pandas import CategoricalImputer\n",
        "\n",
        "#  MODELS\n",
        "from sklearn.dummy import DummyClassifier\n",
        "from sklearn.ensemble import RandomForestClassifier\n",
        "import lightgbm as lgb\n",
        "\n",
        "# FEATURE SELECTION                                                                          \n",
        "from sklearn.feature_selection import SelectFromModel, mutual_info_regression, RFE, RFECV\n",
        "\n",
        "# PIPELINE                                     \n",
        "from sklearn.pipeline import Pipeline\n",
        "                                          \n",
        "# NEURAL NETWORK                                                   \n",
        "from sklearn.neural_network import MLPRegressor\n",
        "\n",
        "# CROSS VALIDATION\n",
        "from sklearn.model_selection import train_test_split, cross_val_score, ShuffleSplit, StratifiedKFold\n",
        "from sklearn.model_selection import learning_curve, cross_val_predict\n",
        "from sklearn.model_selection import KFold, RandomizedSearchCV\n",
        "\n",
        "# EVALUATION\n",
        "from sklearn.metrics import mean_squared_log_error, mean_squared_error, roc_auc_score, accuracy_score, log_loss, classification_report\n",
        "from sklearn.metrics import silhouette_score\n",
        "from sklearn.metrics import SCORERS\n",
        "\n",
        "# PLOTTING\n",
        "import random\n",
        "import matplotlib.pyplot as plt\n",
        "import seaborn as sns\n",
        "\n",
        "# FROM example janatahack notebook \n",
        "\n",
        "# IGNORE WARNINGS\n",
        "import warnings\n",
        "warnings.filterwarnings(\"ignore\")\n",
        "from collections import Counter\n"
      ],
      "metadata": {
        "id": "jiMUo9UNJbQ8"
      },
      "execution_count": 245,
      "outputs": []
    },
    {
      "cell_type": "markdown",
      "source": [
        "#### Download Dataset"
      ],
      "metadata": {
        "id": "hzPonF2gJSGJ"
      }
    },
    {
      "cell_type": "code",
      "source": [
        "csv_train = '/content/customer-segmentation/train.csv'\n",
        "csv_test = '/content/customer-segmentation/test.csv'"
      ],
      "metadata": {
        "id": "zU6xhRJeqW6u"
      },
      "execution_count": 5,
      "outputs": []
    },
    {
      "cell_type": "markdown",
      "source": [
        "#### Split Data"
      ],
      "metadata": {
        "id": "Ub5Kk1R8JUGh"
      }
    },
    {
      "cell_type": "code",
      "source": [
        "# > data is pre-split into two files <\n",
        "\n",
        "# read split data\n",
        "train = pd.read_csv(csv_train)\n",
        "test = pd.read_csv(csv_test)\n",
        "\n",
        "# meta encode whether df is 'train'\n",
        "train['train_y_n']=1\n",
        "test['train_y_n']=0\n",
        "\n",
        "# make full df\n",
        "full_df = pd.concat([train, test])"
      ],
      "metadata": {
        "id": "rbk91B4yyCJ6"
      },
      "execution_count": 258,
      "outputs": []
    },
    {
      "cell_type": "code",
      "source": [
        "train_set, eval_set = train_test_split(train, test_size=0.40, random_state=101, shuffle=True, stratify=train[label_col])"
      ],
      "metadata": {
        "id": "F7HOY4iyVCN8"
      },
      "execution_count": null,
      "outputs": []
    },
    {
      "cell_type": "code",
      "source": [
        "# mini dataframes\n",
        "comp_df1 = full_df.loc[full_df['train_y_n'] == 1].head()\n",
        "comp_df2 = full_df.loc[full_df['train_y_n'] == 0].tail()\n",
        "comps_df = pd.concat([comp_df1, comp_df2])\n",
        "# list dfs and verify their datatype\n",
        "df_dict = {'train':train, 'test':test, 'full_df':full_df, 'comp_df1':comp_df1, 'comp_df2':comp_df2, 'comps_df':comps_df}\n",
        "print([type(v) for k,v in df_dict.items()])"
      ],
      "metadata": {
        "colab": {
          "base_uri": "https://localhost:8080/"
        },
        "id": "Q-kfjEcy5mo6",
        "outputId": "4ba5a15f-8ba9-486e-a4ce-6f53a5aec265"
      },
      "execution_count": 259,
      "outputs": [
        {
          "output_type": "stream",
          "name": "stdout",
          "text": [
            "[<class 'pandas.core.frame.DataFrame'>, <class 'pandas.core.frame.DataFrame'>, <class 'pandas.core.frame.DataFrame'>, <class 'pandas.core.frame.DataFrame'>, <class 'pandas.core.frame.DataFrame'>, <class 'pandas.core.frame.DataFrame'>]\n"
          ]
        }
      ]
    },
    {
      "cell_type": "code",
      "source": [
        "train.info()"
      ],
      "metadata": {
        "colab": {
          "base_uri": "https://localhost:8080/"
        },
        "id": "-IB8qWEWFtGe",
        "outputId": "76760739-801a-4946-ef22-105f6a86335b"
      },
      "execution_count": 260,
      "outputs": [
        {
          "output_type": "stream",
          "name": "stdout",
          "text": [
            "<class 'pandas.core.frame.DataFrame'>\n",
            "RangeIndex: 8068 entries, 0 to 8067\n",
            "Data columns (total 12 columns):\n",
            " #   Column           Non-Null Count  Dtype  \n",
            "---  ------           --------------  -----  \n",
            " 0   ID               8068 non-null   int64  \n",
            " 1   Gender           8068 non-null   object \n",
            " 2   Ever_Married     7928 non-null   object \n",
            " 3   Age              8068 non-null   int64  \n",
            " 4   Graduated        7990 non-null   object \n",
            " 5   Profession       7944 non-null   object \n",
            " 6   Work_Experience  7239 non-null   float64\n",
            " 7   Spending_Score   8068 non-null   object \n",
            " 8   Family_Size      7733 non-null   float64\n",
            " 9   Var_1            7992 non-null   object \n",
            " 10  Segmentation     8068 non-null   object \n",
            " 11  train_y_n        8068 non-null   int64  \n",
            "dtypes: float64(2), int64(3), object(7)\n",
            "memory usage: 756.5+ KB\n"
          ]
        }
      ]
    },
    {
      "cell_type": "code",
      "source": [
        "# drop 'ID' & 'Var_1' columns\n",
        "# train = train.drop('ID', axis=1)\n",
        "# train = train.drop('Var_1', axis=1)\n",
        "# split into features_cols\n",
        "feature_cols = train.columns.tolist()\n",
        "feature_cols.remove('Segmentation')\n",
        "feature_cols.remove('train_y_n')\n",
        "# label\n",
        "label_col = 'Segmentation'\n",
        "print(feature_cols)\n",
        "print(label_col)"
      ],
      "metadata": {
        "colab": {
          "base_uri": "https://localhost:8080/"
        },
        "id": "FpQEiZ4dEMOz",
        "outputId": "f10fdbe8-4bac-4575-f01f-c084b8a312e1"
      },
      "execution_count": 251,
      "outputs": [
        {
          "output_type": "stream",
          "name": "stdout",
          "text": [
            "['ID', 'Gender', 'Ever_Married', 'Age', 'Graduated', 'Profession', 'Work_Experience', 'Spending_Score', 'Family_Size', 'Var_1']\n",
            "Segmentation\n"
          ]
        }
      ]
    },
    {
      "cell_type": "code",
      "source": [
        "# scoping the dataframes --> shapes, sizes, samples\n",
        "# shapes\n",
        "print('\\n---\\nShapes\\n---\\n')\n",
        "[print(f\"{k.upper()} : {v.shape}\\n\") for k,v in df_dict.items()]\n",
        "print(\"\\n=====================\\n\")\n",
        "# columns\n",
        "print('\\n---\\nColumns\\n---\\n')\n",
        "[print(f\"\\n---\\n{k.upper()} Columns: \\n---\\n\\n{v.columns}\\n\") for k,v in df_dict.items()]\n",
        "print(\"\\n=====================\\n\")\n",
        "# samples\n",
        "print(\"\\n---\\nSamples\\n---\\n\")\n",
        "[print(f\"\\n---\\n{k.upper()} Samples: \\n---\\n\\n{v.sample(5)}\\n\\n\\n\") for k,v in df_dict.items()]"
      ],
      "metadata": {
        "colab": {
          "base_uri": "https://localhost:8080/"
        },
        "id": "nU3o1GJ0zCq8",
        "outputId": "5e33e89c-3bc7-4caf-e26b-1f41273e600b"
      },
      "execution_count": 252,
      "outputs": [
        {
          "output_type": "stream",
          "name": "stdout",
          "text": [
            "\n",
            "---\n",
            "Shapes\n",
            "---\n",
            "\n",
            "TRAIN : (8068, 12)\n",
            "\n",
            "TEST : (2627, 11)\n",
            "\n",
            "FULL_DF : (10695, 12)\n",
            "\n",
            "COMP_DF1 : (5, 12)\n",
            "\n",
            "COMP_DF2 : (5, 12)\n",
            "\n",
            "COMPS_DF : (10, 12)\n",
            "\n",
            "\n",
            "=====================\n",
            "\n",
            "\n",
            "---\n",
            "Columns\n",
            "---\n",
            "\n",
            "\n",
            "---\n",
            "TRAIN Columns: \n",
            "---\n",
            "\n",
            "Index(['ID', 'Gender', 'Ever_Married', 'Age', 'Graduated', 'Profession',\n",
            "       'Work_Experience', 'Spending_Score', 'Family_Size', 'Var_1',\n",
            "       'Segmentation', 'train_y_n'],\n",
            "      dtype='object')\n",
            "\n",
            "\n",
            "---\n",
            "TEST Columns: \n",
            "---\n",
            "\n",
            "Index(['ID', 'Gender', 'Ever_Married', 'Age', 'Graduated', 'Profession',\n",
            "       'Work_Experience', 'Spending_Score', 'Family_Size', 'Var_1',\n",
            "       'train_y_n'],\n",
            "      dtype='object')\n",
            "\n",
            "\n",
            "---\n",
            "FULL_DF Columns: \n",
            "---\n",
            "\n",
            "Index(['ID', 'Gender', 'Ever_Married', 'Age', 'Graduated', 'Profession',\n",
            "       'Work_Experience', 'Spending_Score', 'Family_Size', 'Var_1',\n",
            "       'Segmentation', 'train_y_n'],\n",
            "      dtype='object')\n",
            "\n",
            "\n",
            "---\n",
            "COMP_DF1 Columns: \n",
            "---\n",
            "\n",
            "Index(['ID', 'Gender', 'Ever_Married', 'Age', 'Graduated', 'Profession',\n",
            "       'Work_Experience', 'Spending_Score', 'Family_Size', 'Var_1',\n",
            "       'Segmentation', 'train_y_n'],\n",
            "      dtype='object')\n",
            "\n",
            "\n",
            "---\n",
            "COMP_DF2 Columns: \n",
            "---\n",
            "\n",
            "Index(['ID', 'Gender', 'Ever_Married', 'Age', 'Graduated', 'Profession',\n",
            "       'Work_Experience', 'Spending_Score', 'Family_Size', 'Var_1',\n",
            "       'Segmentation', 'train_y_n'],\n",
            "      dtype='object')\n",
            "\n",
            "\n",
            "---\n",
            "COMPS_DF Columns: \n",
            "---\n",
            "\n",
            "Index(['ID', 'Gender', 'Ever_Married', 'Age', 'Graduated', 'Profession',\n",
            "       'Work_Experience', 'Spending_Score', 'Family_Size', 'Var_1',\n",
            "       'Segmentation', 'train_y_n'],\n",
            "      dtype='object')\n",
            "\n",
            "\n",
            "=====================\n",
            "\n",
            "\n",
            "---\n",
            "Samples\n",
            "---\n",
            "\n",
            "\n",
            "---\n",
            "TRAIN Samples: \n",
            "---\n",
            "\n",
            "          ID  Gender Ever_Married  Age Graduated     Profession  \\\n",
            "7428  459839    Male          Yes   45        No       Engineer   \n",
            "5210  467762  Female           No   39       Yes       Engineer   \n",
            "1648  465405  Female          NaN   29       Yes      Homemaker   \n",
            "7987  462933    Male          Yes   55       NaN  Entertainment   \n",
            "4441  464444    Male          Yes   36       Yes         Artist   \n",
            "\n",
            "      Work_Experience Spending_Score  Family_Size  Var_1 Segmentation  \\\n",
            "7428              1.0        Average          5.0  Cat_6            B   \n",
            "5210              0.0            Low          4.0  Cat_6            C   \n",
            "1648              0.0           High          4.0  Cat_2            B   \n",
            "7987              NaN           High          5.0  Cat_6            B   \n",
            "4441              8.0        Average          2.0  Cat_6            C   \n",
            "\n",
            "      train_y_n  \n",
            "7428          1  \n",
            "5210          1  \n",
            "1648          1  \n",
            "7987          1  \n",
            "4441          1  \n",
            "\n",
            "\n",
            "\n",
            "\n",
            "---\n",
            "TEST Samples: \n",
            "---\n",
            "\n",
            "          ID  Gender Ever_Married  Age Graduated     Profession  \\\n",
            "1867  465359  Female          Yes   42        No         Artist   \n",
            "1931  465584    Male          Yes   47        No  Entertainment   \n",
            "87    459263  Female           No   30        No     Healthcare   \n",
            "2403  467227  Female           No   43       Yes         Artist   \n",
            "473   460518  Female          Yes   41       Yes       Engineer   \n",
            "\n",
            "      Work_Experience Spending_Score  Family_Size  Var_1  train_y_n  \n",
            "1867              1.0            Low          1.0  Cat_6          0  \n",
            "1931              3.0        Average          2.0  Cat_6          0  \n",
            "87                9.0            Low          4.0  Cat_6          0  \n",
            "2403             14.0            Low          1.0  Cat_4          0  \n",
            "473               9.0        Average          3.0  Cat_3          0  \n",
            "\n",
            "\n",
            "\n",
            "\n",
            "---\n",
            "FULL_DF Samples: \n",
            "---\n",
            "\n",
            "          ID Gender Ever_Married  Age Graduated  Profession  Work_Experience  \\\n",
            "1206  463022   Male          Yes   60       Yes   Executive              4.0   \n",
            "1587  462743   Male           No   26        No  Healthcare              3.0   \n",
            "769   461530   Male          Yes   38       Yes    Engineer              0.0   \n",
            "4501  459138   Male          Yes   53       Yes      Artist              1.0   \n",
            "6048  463793   Male           No   26        No  Healthcare              1.0   \n",
            "\n",
            "     Spending_Score  Family_Size  Var_1 Segmentation  train_y_n  \n",
            "1206           High          3.0  Cat_6            C          1  \n",
            "1587            Low          4.0  Cat_3            D          1  \n",
            "769             Low          2.0  Cat_6          NaN          0  \n",
            "4501        Average          3.0  Cat_6            C          1  \n",
            "6048            Low          6.0  Cat_4            A          1  \n",
            "\n",
            "\n",
            "\n",
            "\n",
            "---\n",
            "COMP_DF1 Samples: \n",
            "---\n",
            "\n",
            "       ID  Gender Ever_Married  Age Graduated     Profession  Work_Experience  \\\n",
            "2  466315  Female          Yes   67       Yes       Engineer              1.0   \n",
            "4  462669  Female          Yes   40       Yes  Entertainment              NaN   \n",
            "3  461735    Male          Yes   67       Yes         Lawyer              0.0   \n",
            "1  462643  Female          Yes   38       Yes       Engineer              NaN   \n",
            "0  462809    Male           No   22        No     Healthcare              1.0   \n",
            "\n",
            "  Spending_Score  Family_Size  Var_1 Segmentation  train_y_n  \n",
            "2            Low          1.0  Cat_6            B          1  \n",
            "4           High          6.0  Cat_6            A          1  \n",
            "3           High          2.0  Cat_6            B          1  \n",
            "1        Average          3.0  Cat_4            A          1  \n",
            "0            Low          4.0  Cat_4            D          1  \n",
            "\n",
            "\n",
            "\n",
            "\n",
            "---\n",
            "COMP_DF2 Samples: \n",
            "---\n",
            "\n",
            "          ID  Gender Ever_Married  Age Graduated     Profession  \\\n",
            "2622  467954    Male           No   29        No     Healthcare   \n",
            "2624  467960  Female           No   53       Yes  Entertainment   \n",
            "2623  467958  Female           No   35       Yes         Doctor   \n",
            "2626  467968  Female           No   43       Yes     Healthcare   \n",
            "2625  467961    Male          Yes   47       Yes      Executive   \n",
            "\n",
            "      Work_Experience Spending_Score  Family_Size  Var_1 Segmentation  \\\n",
            "2622              9.0            Low          4.0  Cat_6          NaN   \n",
            "2624              NaN            Low          2.0  Cat_6          NaN   \n",
            "2623              1.0            Low          1.0  Cat_6          NaN   \n",
            "2626              9.0            Low          3.0  Cat_7          NaN   \n",
            "2625              1.0           High          5.0  Cat_4          NaN   \n",
            "\n",
            "      train_y_n  \n",
            "2622          0  \n",
            "2624          0  \n",
            "2623          0  \n",
            "2626          0  \n",
            "2625          0  \n",
            "\n",
            "\n",
            "\n",
            "\n",
            "---\n",
            "COMPS_DF Samples: \n",
            "---\n",
            "\n",
            "          ID  Gender Ever_Married  Age Graduated     Profession  \\\n",
            "2625  467961    Male          Yes   47       Yes      Executive   \n",
            "0     462809    Male           No   22        No     Healthcare   \n",
            "2626  467968  Female           No   43       Yes     Healthcare   \n",
            "3     461735    Male          Yes   67       Yes         Lawyer   \n",
            "2624  467960  Female           No   53       Yes  Entertainment   \n",
            "\n",
            "      Work_Experience Spending_Score  Family_Size  Var_1 Segmentation  \\\n",
            "2625              1.0           High          5.0  Cat_4          NaN   \n",
            "0                 1.0            Low          4.0  Cat_4            D   \n",
            "2626              9.0            Low          3.0  Cat_7          NaN   \n",
            "3                 0.0           High          2.0  Cat_6            B   \n",
            "2624              NaN            Low          2.0  Cat_6          NaN   \n",
            "\n",
            "      train_y_n  \n",
            "2625          0  \n",
            "0             1  \n",
            "2626          0  \n",
            "3             1  \n",
            "2624          0  \n",
            "\n",
            "\n",
            "\n"
          ]
        },
        {
          "output_type": "execute_result",
          "data": {
            "text/plain": [
              "[None, None, None, None, None, None]"
            ]
          },
          "metadata": {},
          "execution_count": 252
        }
      ]
    },
    {
      "cell_type": "code",
      "source": [
        "train[feature_cols]"
      ],
      "metadata": {
        "colab": {
          "base_uri": "https://localhost:8080/",
          "height": 488
        },
        "id": "Np_C1N9Y-iCY",
        "outputId": "baeb1fc7-1ec5-408b-a37d-3f1c8df3117c"
      },
      "execution_count": 253,
      "outputs": [
        {
          "output_type": "execute_result",
          "data": {
            "text/plain": [
              "          ID  Gender Ever_Married  Age Graduated     Profession  \\\n",
              "0     462809    Male           No   22        No     Healthcare   \n",
              "1     462643  Female          Yes   38       Yes       Engineer   \n",
              "2     466315  Female          Yes   67       Yes       Engineer   \n",
              "3     461735    Male          Yes   67       Yes         Lawyer   \n",
              "4     462669  Female          Yes   40       Yes  Entertainment   \n",
              "...      ...     ...          ...  ...       ...            ...   \n",
              "8063  464018    Male           No   22        No            NaN   \n",
              "8064  464685    Male           No   35        No      Executive   \n",
              "8065  465406  Female           No   33       Yes     Healthcare   \n",
              "8066  467299  Female           No   27       Yes     Healthcare   \n",
              "8067  461879    Male          Yes   37       Yes      Executive   \n",
              "\n",
              "      Work_Experience Spending_Score  Family_Size  Var_1  \n",
              "0                 1.0            Low          4.0  Cat_4  \n",
              "1                 NaN        Average          3.0  Cat_4  \n",
              "2                 1.0            Low          1.0  Cat_6  \n",
              "3                 0.0           High          2.0  Cat_6  \n",
              "4                 NaN           High          6.0  Cat_6  \n",
              "...               ...            ...          ...    ...  \n",
              "8063              0.0            Low          7.0  Cat_1  \n",
              "8064              3.0            Low          4.0  Cat_4  \n",
              "8065              1.0            Low          1.0  Cat_6  \n",
              "8066              1.0            Low          4.0  Cat_6  \n",
              "8067              0.0        Average          3.0  Cat_4  \n",
              "\n",
              "[8068 rows x 10 columns]"
            ],
            "text/html": [
              "\n",
              "  <div id=\"df-3f41beb8-1fc8-4371-9d86-2080796dc54a\">\n",
              "    <div class=\"colab-df-container\">\n",
              "      <div>\n",
              "<style scoped>\n",
              "    .dataframe tbody tr th:only-of-type {\n",
              "        vertical-align: middle;\n",
              "    }\n",
              "\n",
              "    .dataframe tbody tr th {\n",
              "        vertical-align: top;\n",
              "    }\n",
              "\n",
              "    .dataframe thead th {\n",
              "        text-align: right;\n",
              "    }\n",
              "</style>\n",
              "<table border=\"1\" class=\"dataframe\">\n",
              "  <thead>\n",
              "    <tr style=\"text-align: right;\">\n",
              "      <th></th>\n",
              "      <th>ID</th>\n",
              "      <th>Gender</th>\n",
              "      <th>Ever_Married</th>\n",
              "      <th>Age</th>\n",
              "      <th>Graduated</th>\n",
              "      <th>Profession</th>\n",
              "      <th>Work_Experience</th>\n",
              "      <th>Spending_Score</th>\n",
              "      <th>Family_Size</th>\n",
              "      <th>Var_1</th>\n",
              "    </tr>\n",
              "  </thead>\n",
              "  <tbody>\n",
              "    <tr>\n",
              "      <th>0</th>\n",
              "      <td>462809</td>\n",
              "      <td>Male</td>\n",
              "      <td>No</td>\n",
              "      <td>22</td>\n",
              "      <td>No</td>\n",
              "      <td>Healthcare</td>\n",
              "      <td>1.0</td>\n",
              "      <td>Low</td>\n",
              "      <td>4.0</td>\n",
              "      <td>Cat_4</td>\n",
              "    </tr>\n",
              "    <tr>\n",
              "      <th>1</th>\n",
              "      <td>462643</td>\n",
              "      <td>Female</td>\n",
              "      <td>Yes</td>\n",
              "      <td>38</td>\n",
              "      <td>Yes</td>\n",
              "      <td>Engineer</td>\n",
              "      <td>NaN</td>\n",
              "      <td>Average</td>\n",
              "      <td>3.0</td>\n",
              "      <td>Cat_4</td>\n",
              "    </tr>\n",
              "    <tr>\n",
              "      <th>2</th>\n",
              "      <td>466315</td>\n",
              "      <td>Female</td>\n",
              "      <td>Yes</td>\n",
              "      <td>67</td>\n",
              "      <td>Yes</td>\n",
              "      <td>Engineer</td>\n",
              "      <td>1.0</td>\n",
              "      <td>Low</td>\n",
              "      <td>1.0</td>\n",
              "      <td>Cat_6</td>\n",
              "    </tr>\n",
              "    <tr>\n",
              "      <th>3</th>\n",
              "      <td>461735</td>\n",
              "      <td>Male</td>\n",
              "      <td>Yes</td>\n",
              "      <td>67</td>\n",
              "      <td>Yes</td>\n",
              "      <td>Lawyer</td>\n",
              "      <td>0.0</td>\n",
              "      <td>High</td>\n",
              "      <td>2.0</td>\n",
              "      <td>Cat_6</td>\n",
              "    </tr>\n",
              "    <tr>\n",
              "      <th>4</th>\n",
              "      <td>462669</td>\n",
              "      <td>Female</td>\n",
              "      <td>Yes</td>\n",
              "      <td>40</td>\n",
              "      <td>Yes</td>\n",
              "      <td>Entertainment</td>\n",
              "      <td>NaN</td>\n",
              "      <td>High</td>\n",
              "      <td>6.0</td>\n",
              "      <td>Cat_6</td>\n",
              "    </tr>\n",
              "    <tr>\n",
              "      <th>...</th>\n",
              "      <td>...</td>\n",
              "      <td>...</td>\n",
              "      <td>...</td>\n",
              "      <td>...</td>\n",
              "      <td>...</td>\n",
              "      <td>...</td>\n",
              "      <td>...</td>\n",
              "      <td>...</td>\n",
              "      <td>...</td>\n",
              "      <td>...</td>\n",
              "    </tr>\n",
              "    <tr>\n",
              "      <th>8063</th>\n",
              "      <td>464018</td>\n",
              "      <td>Male</td>\n",
              "      <td>No</td>\n",
              "      <td>22</td>\n",
              "      <td>No</td>\n",
              "      <td>NaN</td>\n",
              "      <td>0.0</td>\n",
              "      <td>Low</td>\n",
              "      <td>7.0</td>\n",
              "      <td>Cat_1</td>\n",
              "    </tr>\n",
              "    <tr>\n",
              "      <th>8064</th>\n",
              "      <td>464685</td>\n",
              "      <td>Male</td>\n",
              "      <td>No</td>\n",
              "      <td>35</td>\n",
              "      <td>No</td>\n",
              "      <td>Executive</td>\n",
              "      <td>3.0</td>\n",
              "      <td>Low</td>\n",
              "      <td>4.0</td>\n",
              "      <td>Cat_4</td>\n",
              "    </tr>\n",
              "    <tr>\n",
              "      <th>8065</th>\n",
              "      <td>465406</td>\n",
              "      <td>Female</td>\n",
              "      <td>No</td>\n",
              "      <td>33</td>\n",
              "      <td>Yes</td>\n",
              "      <td>Healthcare</td>\n",
              "      <td>1.0</td>\n",
              "      <td>Low</td>\n",
              "      <td>1.0</td>\n",
              "      <td>Cat_6</td>\n",
              "    </tr>\n",
              "    <tr>\n",
              "      <th>8066</th>\n",
              "      <td>467299</td>\n",
              "      <td>Female</td>\n",
              "      <td>No</td>\n",
              "      <td>27</td>\n",
              "      <td>Yes</td>\n",
              "      <td>Healthcare</td>\n",
              "      <td>1.0</td>\n",
              "      <td>Low</td>\n",
              "      <td>4.0</td>\n",
              "      <td>Cat_6</td>\n",
              "    </tr>\n",
              "    <tr>\n",
              "      <th>8067</th>\n",
              "      <td>461879</td>\n",
              "      <td>Male</td>\n",
              "      <td>Yes</td>\n",
              "      <td>37</td>\n",
              "      <td>Yes</td>\n",
              "      <td>Executive</td>\n",
              "      <td>0.0</td>\n",
              "      <td>Average</td>\n",
              "      <td>3.0</td>\n",
              "      <td>Cat_4</td>\n",
              "    </tr>\n",
              "  </tbody>\n",
              "</table>\n",
              "<p>8068 rows × 10 columns</p>\n",
              "</div>\n",
              "      <button class=\"colab-df-convert\" onclick=\"convertToInteractive('df-3f41beb8-1fc8-4371-9d86-2080796dc54a')\"\n",
              "              title=\"Convert this dataframe to an interactive table.\"\n",
              "              style=\"display:none;\">\n",
              "        \n",
              "  <svg xmlns=\"http://www.w3.org/2000/svg\" height=\"24px\"viewBox=\"0 0 24 24\"\n",
              "       width=\"24px\">\n",
              "    <path d=\"M0 0h24v24H0V0z\" fill=\"none\"/>\n",
              "    <path d=\"M18.56 5.44l.94 2.06.94-2.06 2.06-.94-2.06-.94-.94-2.06-.94 2.06-2.06.94zm-11 1L8.5 8.5l.94-2.06 2.06-.94-2.06-.94L8.5 2.5l-.94 2.06-2.06.94zm10 10l.94 2.06.94-2.06 2.06-.94-2.06-.94-.94-2.06-.94 2.06-2.06.94z\"/><path d=\"M17.41 7.96l-1.37-1.37c-.4-.4-.92-.59-1.43-.59-.52 0-1.04.2-1.43.59L10.3 9.45l-7.72 7.72c-.78.78-.78 2.05 0 2.83L4 21.41c.39.39.9.59 1.41.59.51 0 1.02-.2 1.41-.59l7.78-7.78 2.81-2.81c.8-.78.8-2.07 0-2.86zM5.41 20L4 18.59l7.72-7.72 1.47 1.35L5.41 20z\"/>\n",
              "  </svg>\n",
              "      </button>\n",
              "      \n",
              "  <style>\n",
              "    .colab-df-container {\n",
              "      display:flex;\n",
              "      flex-wrap:wrap;\n",
              "      gap: 12px;\n",
              "    }\n",
              "\n",
              "    .colab-df-convert {\n",
              "      background-color: #E8F0FE;\n",
              "      border: none;\n",
              "      border-radius: 50%;\n",
              "      cursor: pointer;\n",
              "      display: none;\n",
              "      fill: #1967D2;\n",
              "      height: 32px;\n",
              "      padding: 0 0 0 0;\n",
              "      width: 32px;\n",
              "    }\n",
              "\n",
              "    .colab-df-convert:hover {\n",
              "      background-color: #E2EBFA;\n",
              "      box-shadow: 0px 1px 2px rgba(60, 64, 67, 0.3), 0px 1px 3px 1px rgba(60, 64, 67, 0.15);\n",
              "      fill: #174EA6;\n",
              "    }\n",
              "\n",
              "    [theme=dark] .colab-df-convert {\n",
              "      background-color: #3B4455;\n",
              "      fill: #D2E3FC;\n",
              "    }\n",
              "\n",
              "    [theme=dark] .colab-df-convert:hover {\n",
              "      background-color: #434B5C;\n",
              "      box-shadow: 0px 1px 3px 1px rgba(0, 0, 0, 0.15);\n",
              "      filter: drop-shadow(0px 1px 2px rgba(0, 0, 0, 0.3));\n",
              "      fill: #FFFFFF;\n",
              "    }\n",
              "  </style>\n",
              "\n",
              "      <script>\n",
              "        const buttonEl =\n",
              "          document.querySelector('#df-3f41beb8-1fc8-4371-9d86-2080796dc54a button.colab-df-convert');\n",
              "        buttonEl.style.display =\n",
              "          google.colab.kernel.accessAllowed ? 'block' : 'none';\n",
              "\n",
              "        async function convertToInteractive(key) {\n",
              "          const element = document.querySelector('#df-3f41beb8-1fc8-4371-9d86-2080796dc54a');\n",
              "          const dataTable =\n",
              "            await google.colab.kernel.invokeFunction('convertToInteractive',\n",
              "                                                     [key], {});\n",
              "          if (!dataTable) return;\n",
              "\n",
              "          const docLinkHtml = 'Like what you see? Visit the ' +\n",
              "            '<a target=\"_blank\" href=https://colab.research.google.com/notebooks/data_table.ipynb>data table notebook</a>'\n",
              "            + ' to learn more about interactive tables.';\n",
              "          element.innerHTML = '';\n",
              "          dataTable['output_type'] = 'display_data';\n",
              "          await google.colab.output.renderOutput(dataTable, element);\n",
              "          const docLink = document.createElement('div');\n",
              "          docLink.innerHTML = docLinkHtml;\n",
              "          element.appendChild(docLink);\n",
              "        }\n",
              "      </script>\n",
              "    </div>\n",
              "  </div>\n",
              "  "
            ]
          },
          "metadata": {},
          "execution_count": 253
        }
      ]
    },
    {
      "cell_type": "markdown",
      "source": [
        "## Functions"
      ],
      "metadata": {
        "id": "fkEaX-z0rgAK"
      }
    },
    {
      "cell_type": "markdown",
      "source": [
        "### Retrieve Variable Name"
      ],
      "metadata": {
        "id": "Ie3tiq1olufG"
      }
    },
    {
      "cell_type": "code",
      "source": [
        "def retrieve_name(var):\n",
        "    callers_local_vars = inspect.currentframe().f_back.f_back.f_locals.items()\n",
        "    return [var_name for var_name, var_val in callers_local_vars if var_val is var]\n",
        "    # above code --> https://stackoverflow.com/questions/18425225/getting-the-name-of-a-variable-as-a-string\n",
        "                            # user: scohe001"
      ],
      "metadata": {
        "id": "jHKAVsWXlz9Q"
      },
      "execution_count": 12,
      "outputs": []
    },
    {
      "cell_type": "markdown",
      "source": [
        "### Summarize"
      ],
      "metadata": {
        "id": "32tesO8_sxxE"
      }
    },
    {
      "cell_type": "code",
      "source": [
        "def summarize(subset=train):\n",
        "    '''\n",
        "    Doc:\n",
        "    Summarizes EDA for Pandas dataframe.\n",
        "\n",
        "        Parameters\n",
        "        -------------\n",
        "            subset      : (dataframe)\n",
        "                Specify the dataframe or subset of dataframe to summarize\n",
        "                    default: 'train'\n",
        "        Returns\n",
        "        -------------\n",
        "            Summary functions from those stored in eda_summary\n",
        "    '''\n",
        "    # initialize summary dict\n",
        "    eda_summary_att = {\n",
        "        'shape':subset.shape, \n",
        "        'isnull':subset.isnull,\n",
        "        'dtypes':subset.dtypes\n",
        "        }\n",
        "    eda_summary_func = { \n",
        "        'info':subset.info,     \n",
        "        'describe':subset.describe(),\n",
        "        'corr':subset.corr(),\n",
        "        'value_counts':subset.value_counts()\n",
        "        }\n",
        "    # display name of subset\n",
        "    print(f\"\\nSummary of Subset:  '{retrieve_name(subset)[0]}'\\n\")\n",
        "    # loop through and call each summary function\n",
        "    for k,v in eda_summary_att.items():\n",
        "        if k == 'isnull':\n",
        "            v = eda_summary_att[k]().sum()\n",
        "            print(f\"\\n--------\\n{k.upper()}\\n--------\\n\\n{v}\\n---\")    \n",
        "        else:\n",
        "            # summary = subset.v()\n",
        "            print(f\"\\n--------\\n{k.upper()}\\n--------\\n\\n{v}\\n---\")\n",
        "    for k,v in eda_summary_func.items():\n",
        "        if k == 'value_counts':\n",
        "            for i in range(1,(len(subset.columns)-1)):\n",
        "                by_feature = subset[subset.columns[i]]\n",
        "                print(by_feature.value_counts())\n",
        "\n",
        "        else:\n",
        "            print(f\"\\n--------\\n{k.upper()}\\n--------\\n\\n{v}\\n---\")"
      ],
      "metadata": {
        "id": "3fsKB3jwG2RG"
      },
      "execution_count": 13,
      "outputs": []
    },
    {
      "cell_type": "markdown",
      "source": [
        "### Data Viz"
      ],
      "metadata": {
        "id": "4AUNzBi2XTdj"
      }
    },
    {
      "cell_type": "code",
      "source": [
        "# set target variable\n",
        "target = 'segmentation'          # <--- needs scaling\n",
        "sizes = {'s':((10,6)),'m':(14,8), 'l':(18,10)}"
      ],
      "metadata": {
        "id": "8ZIAL430I1K6"
      },
      "execution_count": 14,
      "outputs": []
    },
    {
      "cell_type": "code",
      "source": [
        "# initialize plotting dict\n",
        "graph_ = {\n",
        "    'relplot': sns.relplot,\n",
        "    'scatterplot': sns.scatterplot,\n",
        "    'lineplot': sns.lineplot,\n",
        "    'displot': sns.displot,\n",
        "    'histplot': sns.histplot,\n",
        "    'kdeplot': sns.kdeplot,\n",
        "    'ecdfplot': sns.ecdfplot,\n",
        "    'rugplot': sns.rugplot,\n",
        "    'catplot': sns.catplot,\n",
        "    'stripplot': sns.stripplot,\n",
        "    'swarmplot': sns.swarmplot,\n",
        "    'boxplot': sns.boxplot,\n",
        "    'violinplot': sns.violinplot,\n",
        "    'boxenplot': sns.boxenplot,\n",
        "    'pointplot': sns.pointplot,\n",
        "    'barplot': sns.barplot,\n",
        "    'countplot': sns.countplot,\n",
        "    'lmplot':' sns.lmplot',\n",
        "    'regplot': 'sns.regplot',\n",
        "    'residplot': 'sns.residplot',\n",
        "    'heatmap': 'sns.heatmap',\n",
        "    'clustermap': 'sns.clustermap',\n",
        "    'FacetGrid': 'sns.FacetGrid',\n",
        "    'pairplot': 'sns.pairplot',\n",
        "    'PairGrid': 'sns.PairGrid',\n",
        "    'jointplot': 'sns.jointplot',\n",
        "    'JointGrid': sns.JointGrid\n",
        "    }\n",
        "def plot_grep(feature, label=target, plot_type='countplot', fig_size='s',subset=train): \n",
        "    '''\n",
        "    Doc:\n",
        "    Greps feature with label.\n",
        "    Displays a seaborn plot of grep.\n",
        "\n",
        "        Parameters\n",
        "        -------------\n",
        "            feature   : (str)\n",
        "                Feature to plot 'label' by\n",
        "            label     : (str)    \n",
        "                Label (or additional feature) to plot 'feature' by  \n",
        "                default   = target\n",
        "                    * save a variable 'target' as df.columns['target variable']               \n",
        "            plot_type : (dict)\n",
        "                Specify a seaborn plot function from {graph_}\n",
        "                    default: 'countplot'      \n",
        "            fig_size  : {'s', 'm', 'l'}\n",
        "                Choose a small , medium, or large figure size\n",
        "                default   : {'s'=10x6, 'm'=14x8, 'l'=18x10}\n",
        "            subset    : (dataframe)\n",
        "                Specify which subset of the dataframe to use\n",
        "                default   = 'train'\n",
        "                examples  : 'train', 'test','all', etc.\n",
        "        \n",
        "        Returns\n",
        "        -------------\n",
        "            Seaborn plot of grep(feature,label)\n",
        "\n",
        "        Plot Options: \n",
        "        -------------\n",
        "        --> from Seaborn API Reference : https://seaborn.pydata.org/api.html\n",
        "        \n",
        "        Relational Plots\n",
        "        ---\n",
        "        'relplot'     - Figure-level interface for drawing relational plots onto a FacetGrid.\n",
        "        'scatterplot' - Draw a scatter plot with possibility of several semantic groupings.\n",
        "        'lineplot'    - Draw a line plot with possibility of several semantic groupings.\n",
        "\n",
        "        Distribution Plots\n",
        "        ---\n",
        "        'displot'     - Figure-level interface for drawing distribution plots onto a FacetGrid.\n",
        "        'histplot'    - Plot univariate or bivariate histograms to show distributions of datasets.\n",
        "        'kdeplot'     - Plot univariate or bivariate distributions using kernel density estimation.\n",
        "\n",
        "        Categorical Plots\n",
        "        ---\n",
        "        'ecdfplot'    - Plot empirical cumulative distribution functions.\n",
        "        'rugplot'     - Plot marginal distributions by drawing ticks along the x and y axes.\n",
        "        'catplot'     - Figure-level interface for drawing categorical plots onto a FacetGrid.\n",
        "        'stripplot'   - Draw a scatterplot where one variable is categorical.\n",
        "        'swarmplot'   - Draw a categorical scatterplot with non-overlapping points.\n",
        "        'boxplot'     - Draw a box plot to show distributions with respect to categories.\n",
        "        'violinplot'  - Draw a combination of boxplot and kernel density estimate.\n",
        "        'boxenplot'   - Draw an enhanced box plot for larger datasets\n",
        "        'pointplot'   - Show point estimates and confidence intervals using scatter plot glyphs.\n",
        "        'barplot'     - Show point estimates and confidence intervals as rectangular bars.\n",
        "        'countplot'   - Show the counts of observations in each categorical bin using bars.\n",
        "\n",
        "        Regression Plots\n",
        "        ---\n",
        "        'lmplot'      - Plot data and regression model fits across a FacetGrid.\n",
        "        'regplot'     - Plot data and a linear regression model fit.\n",
        "        'residplot'   - lot the residuals of a linear regression.\n",
        "\n",
        "        Matrix Plots\n",
        "        ---\n",
        "        'heatmap'     - Plot rectangular data as a color-encoded matrix.\n",
        "        'clustermap'  - Plot a matrix dataset as a hierarchically-clustered heatmap.\n",
        "\n",
        "        MULTI-PLOT GRIDS\n",
        "\n",
        "        FacetGrid\n",
        "        ---\n",
        "        'FacetGrid'   - Multi-plot grid for plotting conditional relationships.\n",
        "\n",
        "        Pair Grids\n",
        "        ---\n",
        "        'pairplot'    - Plot pairwise relationships in a dataset.\n",
        "        'PairGrid'    - Subplot grid for plotting pairwise relationships in a dataset.\n",
        "\n",
        "        Joint 'Grids'\n",
        "        ---\n",
        "        'jointplot'   - Draw a plot of two variables with bivariate and univariate graphs.\n",
        "        'JointGrid'   - Grid for drawing a bivariate plot with marginal univariate plots.\n",
        "    '''\n",
        "    # filter input for matching \n",
        "    feature = feature.title()\n",
        "    label = label.title()\n",
        "    # increase size for age\n",
        "    if (feature == 'Age') & (fig_size == 's'):\n",
        "        aging = True\n",
        "        while aging == True:\n",
        "            resp = input(f'This {feature} feature has quite the range!\\n\\\n",
        "            Would you like to increase the size for better readability?\\n\\n(y) or (n)   --> ')\n",
        "            if resp.lower() == 'n':\n",
        "                print(\"You know best!\")\n",
        "                aging = False\n",
        "            else:               # resp.lower() == 'y': \n",
        "                print(\"Great idea!\")\n",
        "                fig_size = 'm'\n",
        "                aging = False   \n",
        "    # plot\n",
        "    fig, ax = plt.subplots(figsize=sizes[fig_size])\n",
        "    graph_[plot_type](subset[feature],hue=subset[label])\n",
        "    plt.show() \n",
        "\n",
        "def plot_all_grep(feature, plot_type='countplot', fig_size='s',subset=train): \n",
        "    '''\n",
        "    **WRITE DOC**\n",
        "    '''\n",
        "    # filter input for matching \n",
        "    feature = feature.title()\n",
        "    # label = label.title()\n",
        "    # increase size for age\n",
        "    for i in range(1,(len(subset.columns)-1)):\n",
        "        by_feature = subset[subset.columns[i]]\n",
        "        if (subset.columns[i] == 'Age') & (fig_size == 's'):\n",
        "            # plot\n",
        "            fig, ax = plt.subplots(figsize=sizes['m'])\n",
        "            graph_[plot_type](by_feature,hue=subset[feature])\n",
        "            plt.show() \n",
        "        else:\n",
        "            # plot\n",
        "            fig, ax = plt.subplots(figsize=sizes[fig_size])\n",
        "            graph_[plot_type](by_feature,hue=subset[feature])\n",
        "            plt.show() "
      ],
      "metadata": {
        "id": "mU4o012PYDXr"
      },
      "execution_count": 15,
      "outputs": []
    },
    {
      "cell_type": "code",
      "source": [
        "# Notes for later:\n",
        "# program a function that takes the correlations that a heatmap would show, \n",
        "# but prints grep graphs for each significant pairing:\n",
        "#   display corr for corr in corr_list if corr_val ≥ .5"
      ],
      "metadata": {
        "id": "cpoJieETppbP"
      },
      "execution_count": 16,
      "outputs": []
    },
    {
      "cell_type": "markdown",
      "source": [
        "### Impute"
      ],
      "metadata": {
        "id": "8vU3HMZDwOKG"
      }
    },
    {
      "cell_type": "code",
      "source": [
        "def fill_nan(subset=None):\n",
        "    '''\n",
        "    ** Write DOC ***\n",
        "    '''\n",
        "    imputer = CategoricalImputer()\n",
        "    nan_list = []\n",
        "    null_count = subset.isnull().any()\n",
        "    for i in range(0,len(subset.columns)):\n",
        "        if null_count[i] == True:\n",
        "            nan_list.append(subset.columns[i])\n",
        "        else:\n",
        "            pass\n",
        "    for feature in nan_list:\n",
        "        # impute NaN values\n",
        "        filled = imputer.fit_transform(np.array(subset[feature], dtype=float))\n",
        "        # update subset\n",
        "        subset[feature] = filled\n",
        "    return subset\n",
        "    # scratch\n",
        "        # train_copy =pd.read_csv(csv_train)\n",
        "        # print(\"\\n\\n=======\\n\")\n",
        "        # print(\"\\ntrain_copy before\\n\")\n",
        "        # print(train_copy.isnull().sum())\n",
        "        # fill_nan(train_copy)\n",
        "        # print(\"\\n\\n=======\\n\")\n",
        "        # print(\"\\ntrain_copy after\\n\")\n",
        "        # print(train_copy.isnull().sum())\n",
        "        # print(\"\\n\\n=======\\n\\n\")\n",
        "        # print(\"\\ntrain\\n\")\n",
        "        # print(train.isnull().sum())    "
      ],
      "metadata": {
        "id": "UXJFkxrLwcC2"
      },
      "execution_count": 82,
      "outputs": []
    },
    {
      "cell_type": "markdown",
      "source": [
        "### OHE\n",
        "(Needed for further EDA)"
      ],
      "metadata": {
        "id": "qN-LwNcVlOcj"
      }
    },
    {
      "cell_type": "code",
      "source": [
        "def ohe(subset=None):\n",
        "    # must be run after fillna\n",
        "    obj_list = [] # move?\n",
        "    for i in range(0,len(subset.dtypes)):\n",
        "        if subset.dtypes[i] == 'object':\n",
        "            if subset.columns[i] == 'Segmentation':\n",
        "                print('target')\n",
        "            else:\n",
        "                obj_list.append(subset.columns[i])\n",
        "                # obj_dict[str(subset.columns[i])] = subset[subset.columns[i]]\n",
        "        else:\n",
        "            print(f\"{subset.columns[i]}.  NOT AN OBJECT\")\n",
        "    # print(f\"\\nOHE of Subset:  '{retrieve_name(subset)[0]}'\\n\\nColumns Include:\")\n",
        "    [print(f\"   {x}\") for x in obj_list]\n",
        "    resp = input(\"\\nProceed with OHE?     y/n \\n\\n  -->  \")\n",
        "    if resp == 'n':\n",
        "        print(\"\\nnevermind then...\\n\")\n",
        "    else:\n",
        "        print(\"\\nLet's do it!\\n\")\n",
        "        print(obj_list)\n",
        "        subset = pd.get_dummies(data=subset, columns=obj_list)\n",
        "        print(\"...\")\n",
        "        subset.head()\n",
        "    return subset\n",
        "\n",
        "    # scratch\n",
        "        #     resp = input(\"\\nOne Hot Encoding performed.\\nDrop old columns?     y/n \\n\\n  -->  \")\n",
        "        #     if resp == 'y':\n",
        "        #         for i in range(0,len(obj_list)-1):\n",
        "        #             print(obj_list[i])\n",
        "        #             subset.drop([obj_list[i]],axis=1,inplace=True) \n",
        "        #         print(\"\\nCool, Here's your new dataframe!\\n\")\n",
        "        #         subset.head()           \n",
        "        #     else:\n",
        "        #         print(\"\\nOkay then.\\n\")\n",
        "\n",
        "        # return subset \n",
        "        # #         for col in obj_list:\n",
        "        # #             subset.drop(col,axis=1,inplace=True)\n",
        "        # #         print(\"\\nCool, Here's your new dataframe!\\n\")\n",
        "        # #         subset.head()\n",
        "\n",
        "        # # for feature in obj_list:\n",
        "        # #     pd.get_dummies(data=subset, prefix=feature, columns=obj_list)\n",
        "        # #     subset[name] \n",
        "        # #     print(\n",
        "        # #         subset[feature],\n",
        "        # #         \"ohe'd\" \n",
        "        # #         )\n",
        "\n",
        "    # scratch\n",
        "    # # ohe(comp_df2)\n",
        "    # obj_list = [] # move?\n",
        "    # ghost_train = pd.read_csv(csv_train)\n",
        "    # su = ghost_train\n",
        "    # for i in range(1,len(su.dtypes)-1):\n",
        "    #     if train.dtypes[i] == 'object':\n",
        "    #         obj_list.append(su.columns[i])\n",
        "    #         # obj_dict[str(subset.columns[i])] = subset[subset.columns[i]]\n",
        "    # print(obj_list)\n",
        "    # # pd.get_dummies(comp_df2)"
      ],
      "metadata": {
        "id": "sS7fodk9tnFa"
      },
      "execution_count": 93,
      "outputs": []
    },
    {
      "cell_type": "markdown",
      "source": [
        "### Transformation Script"
      ],
      "metadata": {
        "id": "LNBDLv11M44j"
      }
    },
    {
      "cell_type": "code",
      "source": [
        "def transform_df(subset=None):\n",
        "    # ohe\n",
        "    subset_1 = ohe(subset)\n",
        "    # impute\n",
        "    subset_1 = fill_nan(subset_1)\n",
        "    # set feature cols\n",
        "    feature_cols = subset_1.columns.tolist()\n",
        "    feature_cols.remove('Segmentation')\n",
        "    feature_cols.remove('train_y_n')\n",
        "    # label\n",
        "    label_col = 'Segmentation'\n",
        "    # scale\n",
        "    scaled_array = scaler.fit_transform(subset_1[feature_cols])\n",
        "    # return to df\n",
        "    subset_1 = pd.DataFrame(scaled_array, columns=feature_cols)\n",
        "    # Concat dfs\n",
        "    subset = pd.concat([subset_1, subset[label_col]], axis=1)\n",
        "    # # display df\n",
        "    # print(subset.head)\n",
        "    return subset"
      ],
      "metadata": {
        "id": "-dsI6gHpM_O6"
      },
      "execution_count": 246,
      "outputs": []
    },
    {
      "cell_type": "markdown",
      "source": [
        "### Pipelines"
      ],
      "metadata": {
        "id": "_8EDGjJqGbCz"
      }
    },
    {
      "cell_type": "code",
      "source": [
        "pipes = {}\n",
        "def add_pipe(pipe, name):\n",
        "    if name in pipes.keys():\n",
        "        print(f\"A pipe called '{name}' already exists!\")\n",
        "        new_name = input(\"Enter another name:]\")\n",
        "        pipes[f\"{new_name}\"] = pipe\n",
        "        print(f\"'{new_name}' added to 'pipes'\")\n",
        "    else:\n",
        "        pipes[f'{name}'] = pipe\n",
        "        print(f\"'{name}' added to 'pipes'\")"
      ],
      "metadata": {
        "id": "JxtqKiM4Gm6e"
      },
      "execution_count": 20,
      "outputs": []
    },
    {
      "cell_type": "markdown",
      "metadata": {
        "id": "c935f795"
      },
      "source": [
        "### Learning Curves "
      ]
    },
    {
      "cell_type": "code",
      "execution_count": 21,
      "metadata": {
        "id": "f087fd60"
      },
      "outputs": [],
      "source": [
        "def plot_lc(model):\n",
        "    metrics =  [['MAE', 'neg_mean_absolute_error'],['RMSE','neg_root_mean_squared_error'], ['R2','r2']]\n",
        "    for i in range(len(metrics)):\n",
        "        print(f'Scoring Measure: {metrics[i][0]}')\n",
        "        sklearn.learning_curve(pipes[model], X_train_sel, y_train, cv=cv, n_jobs=-1, scoring=metrics[i][1])\n",
        "        plt.show();\n",
        "       "
      ]
    },
    {
      "cell_type": "markdown",
      "metadata": {
        "id": "34bd0e32"
      },
      "source": [
        "### Add Scores "
      ]
    },
    {
      "cell_type": "code",
      "execution_count": 22,
      "metadata": {
        "id": "ea346e84"
      },
      "outputs": [],
      "source": [
        "scores = {}\n",
        "def add_scores(score, model):\n",
        "    if model in scores.keys():\n",
        "        print(f\"A pipe called '{model}' already exists!\")\n",
        "        new_model = input(\"Enter another model name :] \")\n",
        "        scores[f\"{new_model}\"] = score\n",
        "        print(f\"'{new_model}' added to 'scores'\")\n",
        "    else:\n",
        "        scores[f'{model}'] = scores\n",
        "        print(f\"'{model}' added to 'scores'\")"
      ]
    },
    {
      "cell_type": "markdown",
      "source": [
        "## Initial EDA & Data Visualization"
      ],
      "metadata": {
        "id": "OvFLtIBzSkJ8"
      }
    },
    {
      "cell_type": "code",
      "source": [
        "summarize(train)"
      ],
      "metadata": {
        "colab": {
          "base_uri": "https://localhost:8080/"
        },
        "id": "-HvZMLGIUuck",
        "outputId": "83518d03-6216-4dbb-f614-c7b1255952b1"
      },
      "execution_count": 23,
      "outputs": [
        {
          "output_type": "stream",
          "name": "stdout",
          "text": [
            "\n",
            "Summary of Subset:  'train'\n",
            "\n",
            "\n",
            "--------\n",
            "SHAPE\n",
            "--------\n",
            "\n",
            "(8068, 10)\n",
            "---\n",
            "\n",
            "--------\n",
            "ISNULL\n",
            "--------\n",
            "\n",
            "Gender               0\n",
            "Ever_Married       140\n",
            "Age                  0\n",
            "Graduated           78\n",
            "Profession         124\n",
            "Work_Experience    829\n",
            "Spending_Score       0\n",
            "Family_Size        335\n",
            "Segmentation         0\n",
            "train_y_n            0\n",
            "dtype: int64\n",
            "---\n",
            "\n",
            "--------\n",
            "DTYPES\n",
            "--------\n",
            "\n",
            "Gender              object\n",
            "Ever_Married        object\n",
            "Age                  int64\n",
            "Graduated           object\n",
            "Profession          object\n",
            "Work_Experience    float64\n",
            "Spending_Score      object\n",
            "Family_Size        float64\n",
            "Segmentation        object\n",
            "train_y_n            int64\n",
            "dtype: object\n",
            "---\n",
            "\n",
            "--------\n",
            "INFO\n",
            "--------\n",
            "\n",
            "<bound method DataFrame.info of       Gender Ever_Married  Age Graduated     Profession  Work_Experience  \\\n",
            "0       Male           No   22        No     Healthcare              1.0   \n",
            "1     Female          Yes   38       Yes       Engineer              NaN   \n",
            "2     Female          Yes   67       Yes       Engineer              1.0   \n",
            "3       Male          Yes   67       Yes         Lawyer              0.0   \n",
            "4     Female          Yes   40       Yes  Entertainment              NaN   \n",
            "...      ...          ...  ...       ...            ...              ...   \n",
            "8063    Male           No   22        No            NaN              0.0   \n",
            "8064    Male           No   35        No      Executive              3.0   \n",
            "8065  Female           No   33       Yes     Healthcare              1.0   \n",
            "8066  Female           No   27       Yes     Healthcare              1.0   \n",
            "8067    Male          Yes   37       Yes      Executive              0.0   \n",
            "\n",
            "     Spending_Score  Family_Size Segmentation  train_y_n  \n",
            "0               Low          4.0            D          1  \n",
            "1           Average          3.0            A          1  \n",
            "2               Low          1.0            B          1  \n",
            "3              High          2.0            B          1  \n",
            "4              High          6.0            A          1  \n",
            "...             ...          ...          ...        ...  \n",
            "8063            Low          7.0            D          1  \n",
            "8064            Low          4.0            D          1  \n",
            "8065            Low          1.0            D          1  \n",
            "8066            Low          4.0            B          1  \n",
            "8067        Average          3.0            B          1  \n",
            "\n",
            "[8068 rows x 10 columns]>\n",
            "---\n",
            "\n",
            "--------\n",
            "DESCRIBE\n",
            "--------\n",
            "\n",
            "               Age  Work_Experience  Family_Size  train_y_n\n",
            "count  8068.000000      7239.000000  7733.000000     8068.0\n",
            "mean     43.466906         2.641663     2.850123        1.0\n",
            "std      16.711696         3.406763     1.531413        0.0\n",
            "min      18.000000         0.000000     1.000000        1.0\n",
            "25%      30.000000         0.000000     2.000000        1.0\n",
            "50%      40.000000         1.000000     3.000000        1.0\n",
            "75%      53.000000         4.000000     4.000000        1.0\n",
            "max      89.000000        14.000000     9.000000        1.0\n",
            "---\n",
            "\n",
            "--------\n",
            "CORR\n",
            "--------\n",
            "\n",
            "                      Age  Work_Experience  Family_Size  train_y_n\n",
            "Age              1.000000        -0.190789    -0.280517        NaN\n",
            "Work_Experience -0.190789         1.000000    -0.063234        NaN\n",
            "Family_Size     -0.280517        -0.063234     1.000000        NaN\n",
            "train_y_n             NaN              NaN          NaN        NaN\n",
            "---\n",
            "Yes    4643\n",
            "No     3285\n",
            "Name: Ever_Married, dtype: int64\n",
            "35    250\n",
            "37    234\n",
            "33    232\n",
            "42    232\n",
            "40    229\n",
            "     ... \n",
            "78     29\n",
            "87     28\n",
            "76     27\n",
            "80     24\n",
            "85     22\n",
            "Name: Age, Length: 67, dtype: int64\n",
            "Yes    4968\n",
            "No     3022\n",
            "Name: Graduated, dtype: int64\n",
            "Artist           2516\n",
            "Healthcare       1332\n",
            "Entertainment     949\n",
            "Engineer          699\n",
            "Doctor            688\n",
            "Lawyer            623\n",
            "Executive         599\n",
            "Marketing         292\n",
            "Homemaker         246\n",
            "Name: Profession, dtype: int64\n",
            "1.0     2354\n",
            "0.0     2318\n",
            "9.0      474\n",
            "8.0      463\n",
            "2.0      286\n",
            "3.0      255\n",
            "4.0      253\n",
            "6.0      204\n",
            "7.0      196\n",
            "5.0      194\n",
            "10.0      53\n",
            "11.0      50\n",
            "12.0      48\n",
            "13.0      46\n",
            "14.0      45\n",
            "Name: Work_Experience, dtype: int64\n",
            "Low        4878\n",
            "Average    1974\n",
            "High       1216\n",
            "Name: Spending_Score, dtype: int64\n",
            "2.0    2390\n",
            "3.0    1497\n",
            "1.0    1453\n",
            "4.0    1379\n",
            "5.0     612\n",
            "6.0     212\n",
            "7.0      96\n",
            "8.0      50\n",
            "9.0      44\n",
            "Name: Family_Size, dtype: int64\n",
            "D    2268\n",
            "A    1972\n",
            "C    1970\n",
            "B    1858\n",
            "Name: Segmentation, dtype: int64\n"
          ]
        }
      ]
    },
    {
      "cell_type": "code",
      "source": [
        "plot_all_grep('segmentation')"
      ],
      "metadata": {
        "id": "bwkNWz9yU-B3",
        "colab": {
          "base_uri": "https://localhost:8080/",
          "height": 1000
        },
        "outputId": "0a3fea61-ba98-42af-ed6d-a56eb3ae0d49"
      },
      "execution_count": 24,
      "outputs": [
        {
          "output_type": "display_data",
          "data": {
            "text/plain": [
              "<Figure size 720x432 with 1 Axes>"
            ],
            "image/png": "[encoded data removed]"
          },
          "metadata": {
            "needs_background": "light"
          }
        },
        {
          "output_type": "display_data",
          "data": {
            "text/plain": [
              "<Figure size 1008x576 with 1 Axes>"
            ],
            "image/png": "[encoded data removed]"
          },
          "metadata": {
            "needs_background": "light"
          }
        },
        {
          "output_type": "display_data",
          "data": {
            "text/plain": [
              "<Figure size 720x432 with 1 Axes>"
            ],
            "image/png": "[encoded data removed]"
          },
          "metadata": {
            "needs_background": "light"
          }
        },
        {
          "output_type": "display_data",
          "data": {
            "text/plain": [
              "<Figure size 720x432 with 1 Axes>"
            ],
            "image/png": "[encoded data removed]"
          },
          "metadata": {
            "needs_background": "light"
          }
        },
        {
          "output_type": "display_data",
          "data": {
            "text/plain": [
              "<Figure size 720x432 with 1 Axes>"
            ],
            "image/png": "[encoded data removed]"
          },
          "metadata": {
            "needs_background": "light"
          }
        },
        {
          "output_type": "display_data",
          "data": {
            "text/plain": [
              "<Figure size 720x432 with 1 Axes>"
            ],
            "image/png": "[encoded data removed]"
          },
          "metadata": {
            "needs_background": "light"
          }
        },
        {
          "output_type": "display_data",
          "data": {
            "text/plain": [
              "<Figure size 720x432 with 1 Axes>"
            ],
            "image/png": "[encoded data removed]"
          },
          "metadata": {
            "needs_background": "light"
          }
        },
        {
          "output_type": "display_data",
          "data": {
            "text/plain": [
              "<Figure size 720x432 with 1 Axes>"
            ],
            "image/png": "[encoded data removed]"
          },
          "metadata": {
            "needs_background": "light"
          }
        }
      ]
    },
    {
      "cell_type": "code",
      "source": [
        "plot_grep(feature='gender', label='spending_score')"
      ],
      "metadata": {
        "colab": {
          "base_uri": "https://localhost:8080/",
          "height": 388
        },
        "id": "YY6pknCUWERW",
        "outputId": "6bd6c1f2-5d53-4663-8a87-5ca772079acb"
      },
      "execution_count": 25,
      "outputs": [
        {
          "output_type": "display_data",
          "data": {
            "text/plain": [
              "<Figure size 720x432 with 1 Axes>"
            ],
            "image/png": "[encoded data removed]"
          },
          "metadata": {
            "needs_background": "light"
          }
        }
      ]
    },
    {
      "cell_type": "code",
      "source": [
        "train['Gender'].value_counts()"
      ],
      "metadata": {
        "colab": {
          "base_uri": "https://localhost:8080/"
        },
        "id": "n0Ljh5MJX1gd",
        "outputId": "a4dc8b76-9c27-4d93-e73f-ca966071801d"
      },
      "execution_count": 26,
      "outputs": [
        {
          "output_type": "execute_result",
          "data": {
            "text/plain": [
              "Male      4417\n",
              "Female    3651\n",
              "Name: Gender, dtype: int64"
            ]
          },
          "metadata": {},
          "execution_count": 26
        }
      ]
    },
    {
      "cell_type": "code",
      "source": [
        "plot_grep('gender')"
      ],
      "metadata": {
        "colab": {
          "base_uri": "https://localhost:8080/",
          "height": 388
        },
        "id": "EVDL3C2TW_07",
        "outputId": "d8b9a3d0-033e-425b-9694-0b2873860870"
      },
      "execution_count": 27,
      "outputs": [
        {
          "output_type": "display_data",
          "data": {
            "text/plain": [
              "<Figure size 720x432 with 1 Axes>"
            ],
            "image/png": "[encoded data removed]"
          },
          "metadata": {
            "needs_background": "light"
          }
        }
      ]
    },
    {
      "cell_type": "markdown",
      "source": [
        "## Feature engineering and transformation"
      ],
      "metadata": {
        "id": "k2LeKUflLehC"
      }
    },
    {
      "cell_type": "markdown",
      "source": [
        "### Scratch"
      ],
      "metadata": {
        "id": "Gf0tX5h2WaUu"
      }
    },
    {
      "cell_type": "code",
      "source": [
        "# drop var_1\n",
        "# impute\n",
        "# ohe\n",
        "# scale "
      ],
      "metadata": {
        "id": "9Pu_4Xj7YCm0"
      },
      "execution_count": 28,
      "outputs": []
    },
    {
      "cell_type": "markdown",
      "source": [
        "### Scaler\n"
      ],
      "metadata": {
        "id": "JGq4cFSLWi48"
      }
    },
    {
      "cell_type": "code",
      "source": [
        "scaler = StandardScaler()"
      ],
      "metadata": {
        "id": "2GCHndRLUiIH"
      },
      "execution_count": 29,
      "outputs": []
    },
    {
      "cell_type": "code",
      "source": [
        "type(train)"
      ],
      "metadata": {
        "colab": {
          "base_uri": "https://localhost:8080/"
        },
        "id": "0vN06qz64AHA",
        "outputId": "3cf29e5a-4806-40a0-9ff4-9b61bc90ef14"
      },
      "execution_count": 30,
      "outputs": [
        {
          "output_type": "execute_result",
          "data": {
            "text/plain": [
              "pandas.core.frame.DataFrame"
            ]
          },
          "metadata": {},
          "execution_count": 30
        }
      ]
    },
    {
      "cell_type": "markdown",
      "source": [
        "### Transform : Impute, OHE, Scale"
      ],
      "metadata": {
        "id": "bgAx-fqH8iOh"
      }
    },
    {
      "cell_type": "code",
      "source": [
        "# train = transform_df(train)"
      ],
      "metadata": {
        "id": "z8T0pQkWNrSj"
      },
      "execution_count": 31,
      "outputs": []
    },
    {
      "cell_type": "code",
      "source": [
        "type(train)"
      ],
      "metadata": {
        "colab": {
          "base_uri": "https://localhost:8080/"
        },
        "id": "uCKJ_Pw3OBkh",
        "outputId": "59e56a98-eab8-4010-932c-69a69d91372d"
      },
      "execution_count": 32,
      "outputs": [
        {
          "output_type": "execute_result",
          "data": {
            "text/plain": [
              "pandas.core.frame.DataFrame"
            ]
          },
          "metadata": {},
          "execution_count": 32
        }
      ]
    },
    {
      "cell_type": "markdown",
      "source": [
        "#### Update Column Groups"
      ],
      "metadata": {
        "id": "Qtma3ZXKOiVR"
      }
    },
    {
      "cell_type": "code",
      "source": [
        "# # split into features_cols\n",
        "# feature_cols = train.columns.tolist()\n",
        "# feature_cols.remove('Segmentation')\n",
        "# # label\n",
        "# label_col = 'Segmentation'\n",
        "# print(feature_cols)\n",
        "# print('---')\n",
        "# print(label_col)"
      ],
      "metadata": {
        "id": "8tWoK6apaLYA"
      },
      "execution_count": 33,
      "outputs": []
    },
    {
      "cell_type": "markdown",
      "source": [
        "## Continued EDA & Data Visualization"
      ],
      "metadata": {
        "id": "7UUlEvcpTWr_"
      }
    },
    {
      "cell_type": "code",
      "source": [
        "# # correlation object\n",
        "# corr= train.corr().round(2)\n",
        "# # getting the Upper Triangle of the co-relation matrix\n",
        "# up_tri = np.triu(corr)\n",
        "\n",
        "# # PLOT\n",
        "# f, ax = plt.subplots(figsize=(30,30))\n",
        "# sns.heatmap(corr, vmin=-1, vmax=1,cmap= 'gist_stern',annot=True,linewidth=0.5,square=True, mask=up_tri) #,mask=matrix\n",
        "# plt.show();\n"
      ],
      "metadata": {
        "id": "lIxledso9DHn"
      },
      "execution_count": 34,
      "outputs": []
    },
    {
      "cell_type": "code",
      "source": [
        "# sns.pairplot(train)"
      ],
      "metadata": {
        "id": "vv4VwWpkA5AV"
      },
      "execution_count": 35,
      "outputs": []
    },
    {
      "cell_type": "code",
      "source": [],
      "metadata": {
        "id": "Nr8AsWZaSccV"
      },
      "execution_count": 35,
      "outputs": []
    },
    {
      "cell_type": "markdown",
      "source": [
        "---\n",
        "# 2. Training\n",
        "---\n",
        "* Traditional ML Modeling\n",
        "* Pure Torch Model\n",
        "* High-level Libraries and Tabular Frameworks"
      ],
      "metadata": {
        "id": "w1VzkVQAHh1h"
      }
    },
    {
      "cell_type": "markdown",
      "source": [
        "## Traditional ML modeling"
      ],
      "metadata": {
        "id": "c8XPEDl7ocFX"
      }
    },
    {
      "cell_type": "markdown",
      "metadata": {
        "id": "bb475f20"
      },
      "source": [
        "### Cross Validator ###"
      ]
    },
    {
      "cell_type": "code",
      "execution_count": 36,
      "metadata": {
        "id": "4d082892"
      },
      "outputs": [],
      "source": [
        "cv = KFold(n_splits = 3, shuffle=True)"
      ]
    },
    {
      "cell_type": "markdown",
      "source": [
        "### Random Forest Classifier"
      ],
      "metadata": {
        "id": "FQOl1vVgTqjL"
      }
    },
    {
      "cell_type": "code",
      "source": [
        "model_rfc = RandomForestClassifier(n_estimators=50,max_depth=100, n_jobs=-1)\n",
        "pipe_rfc = Pipeline([('scaler', StandardScaler()), ('rfc', model_rfc)])\n",
        "add_pipe(pipe_rfc, 'rfc')\n",
        "\n",
        "# model_rfc.get_params().keys()"
      ],
      "metadata": {
        "id": "BE3kYpzuqJyf",
        "colab": {
          "base_uri": "https://localhost:8080/"
        },
        "outputId": "1f4f3c82-4ce1-4e65-f6d1-c4597f79a73d"
      },
      "execution_count": 179,
      "outputs": [
        {
          "output_type": "stream",
          "name": "stdout",
          "text": [
            "'rfc' added to 'pipes'\n"
          ]
        }
      ]
    },
    {
      "cell_type": "code",
      "source": [
        "type(train)"
      ],
      "metadata": {
        "colab": {
          "base_uri": "https://localhost:8080/"
        },
        "id": "unmpy0Vi4XoL",
        "outputId": "f381c300-2977-48ce-a64c-3981cf825fb3"
      },
      "execution_count": 38,
      "outputs": [
        {
          "output_type": "execute_result",
          "data": {
            "text/plain": [
              "pandas.core.frame.DataFrame"
            ]
          },
          "metadata": {},
          "execution_count": 38
        }
      ]
    },
    {
      "cell_type": "markdown",
      "metadata": {
        "id": "1004c707"
      },
      "source": [
        "#### Hyper-parameters to Tune ###\n"
      ]
    },
    {
      "cell_type": "code",
      "execution_count": 39,
      "metadata": {
        "id": "fc019fc5"
      },
      "outputs": [],
      "source": [
        "criterion_list = ['gini','entropy']\n",
        "n_estimators_list = [int(x) for x in np.linspace(start = 100, stop = 200, num = 50)]\n",
        "max_features_list = ['sqrt', 'log2']\n",
        "max_depth_list = [int(x) for x in np.linspace(10, 110, num=11)]\n",
        "min_samples_split_list = [2, 5]\n",
        "min_samples_leaf_list = [1, 4]\n",
        "bootstrap_list = [True, False]"
      ]
    },
    {
      "cell_type": "markdown",
      "metadata": {
        "id": "7f375691"
      },
      "source": [
        "##### Dictionary of Parameters ####\n"
      ]
    },
    {
      "cell_type": "code",
      "execution_count": 40,
      "metadata": {
        "id": "fd4c829a"
      },
      "outputs": [],
      "source": [
        "grid_rfc = {\n",
        "            'rfc__n_estimators': n_estimators_list,\n",
        "            'rfc__criterion': criterion_list,\n",
        "            'rfc__max_features': max_features_list,\n",
        "            'rfc__max_depth': max_depth_list,\n",
        "            'rfc__min_samples_split': min_samples_split_list,\n",
        "            'rfc__min_samples_leaf': min_samples_leaf_list,\n",
        "            'rfc__bootstrap': bootstrap_list\n",
        "            }\n",
        "grid_rfc_2 = {\n",
        "            'rfc__criterion': criterion_list,\n",
        "            }"
      ]
    },
    {
      "cell_type": "markdown",
      "metadata": {
        "id": "f086b034"
      },
      "source": [
        "##### Create Random Search #####\n"
      ]
    },
    {
      "cell_type": "code",
      "execution_count": 41,
      "metadata": {
        "id": "e51d8c27"
      },
      "outputs": [],
      "source": [
        "rcv_rfc = RandomizedSearchCV(estimator=pipe_rfc, param_distributions=grid_rfc, \n",
        "                                 n_iter=10, verbose=2, cv=3, random_state=42, \n",
        "                                 n_jobs=-1)\n"
      ]
    },
    {
      "cell_type": "code",
      "execution_count": 42,
      "metadata": {
        "id": "ad78e82a",
        "colab": {
          "base_uri": "https://localhost:8080/"
        },
        "outputId": "11fde2c4-ce1e-4cb1-ce30-7f17e45121ad"
      },
      "outputs": [
        {
          "output_type": "stream",
          "name": "stdout",
          "text": [
            "Fitting 3 folds for each of 10 candidates, totalling 30 fits\n",
            "CPU times: user 1.37 s, sys: 135 ms, total: 1.5 s\n",
            "Wall time: 12.8 s\n"
          ]
        },
        {
          "output_type": "execute_result",
          "data": {
            "text/plain": [
              "RandomizedSearchCV(cv=3,\n",
              "                   estimator=Pipeline(steps=[('scaler', StandardScaler()),\n",
              "                                             ('rfc',\n",
              "                                              RandomForestClassifier(max_depth=100,\n",
              "                                                                     n_estimators=50,\n",
              "                                                                     n_jobs=-1))]),\n",
              "                   n_jobs=-1,\n",
              "                   param_distributions={'rfc__bootstrap': [True, False],\n",
              "                                        'rfc__criterion': ['gini', 'entropy'],\n",
              "                                        'rfc__max_depth': [10, 20, 30, 40, 50,\n",
              "                                                           60, 70, 80, 90, 100,\n",
              "                                                           110],\n",
              "                                        'rfc__max_features': ['sqrt', 'log2'],\n",
              "                                        'rfc__min_samples_leaf': [1, 4],\n",
              "                                        'rfc__min_samples_split': [2, 5],\n",
              "                                        'rfc__n_estimators': [100, 102, 104,\n",
              "                                                              106, 108, 110,\n",
              "                                                              112, 114, 116,\n",
              "                                                              118, 120, 122,\n",
              "                                                              124, 126, 128,\n",
              "                                                              130, 132, 134,\n",
              "                                                              136, 138, 140,\n",
              "                                                              142, 144, 146,\n",
              "                                                              148, 151, 153,\n",
              "                                                              155, 157, 159, ...]},\n",
              "                   random_state=42, verbose=2)"
            ]
          },
          "metadata": {},
          "execution_count": 42
        }
      ],
      "source": [
        "%%time\n",
        "\n",
        "rcv_rfc.fit(train[feature_cols], train[label_col])"
      ]
    },
    {
      "cell_type": "code",
      "source": [
        "type(train)"
      ],
      "metadata": {
        "colab": {
          "base_uri": "https://localhost:8080/"
        },
        "id": "IkM8YzXo4dc8",
        "outputId": "9f86ccac-96f2-401e-9b8a-7a00c0b18264"
      },
      "execution_count": 43,
      "outputs": [
        {
          "output_type": "execute_result",
          "data": {
            "text/plain": [
              "pandas.core.frame.DataFrame"
            ]
          },
          "metadata": {},
          "execution_count": 43
        }
      ]
    },
    {
      "cell_type": "markdown",
      "metadata": {
        "id": "6dd80357"
      },
      "source": [
        "##### Best Estimator\n"
      ]
    },
    {
      "cell_type": "code",
      "execution_count": 44,
      "metadata": {
        "id": "d0fa802b"
      },
      "outputs": [],
      "source": [
        "best_rfc = rcv_rfc.best_estimator_"
      ]
    },
    {
      "cell_type": "markdown",
      "metadata": {
        "id": "ea03c0fb"
      },
      "source": [
        "##### RCV Scores"
      ]
    },
    {
      "cell_type": "code",
      "execution_count": 45,
      "metadata": {
        "id": "57ac7d51"
      },
      "outputs": [],
      "source": [
        "mean_score_rfc = rcv_rfc.cv_results_['mean_test_score']\n",
        "std_score_rfc = rcv_rfc.cv_results_['std_test_score']\n",
        "params_rfc = rcv_rfc.cv_results_['params']"
      ]
    },
    {
      "cell_type": "code",
      "execution_count": 46,
      "metadata": {
        "id": "d55ff89d"
      },
      "outputs": [],
      "source": [
        "cv_score_df = pd.DataFrame(params_rfc)\n",
        "cv_score_df['mean_score_rfc'] = mean_score_rfc\n",
        "cv_score_df['std_score_rfc'] = std_score_rfc"
      ]
    },
    {
      "cell_type": "code",
      "execution_count": 47,
      "metadata": {
        "id": "f2e56c83"
      },
      "outputs": [],
      "source": [
        "breakdown_rfc = {\"Index\": rcv_rfc.best_index_,\n",
        "\"Params\" : rcv_rfc.best_params_,\n",
        "\"Estimator\" : rcv_rfc.best_estimator_,\n",
        "\"Score\" : rcv_rfc.best_score_}"
      ]
    },
    {
      "cell_type": "markdown",
      "metadata": {
        "id": "51d166fd"
      },
      "source": [
        "##### Add Best Estimator to Pipes #####"
      ]
    },
    {
      "cell_type": "code",
      "execution_count": 48,
      "metadata": {
        "id": "ddb6c3aa",
        "colab": {
          "base_uri": "https://localhost:8080/"
        },
        "outputId": "b1d58f12-a7bd-4a00-f703-a7f04a9228f9"
      },
      "outputs": [
        {
          "output_type": "stream",
          "name": "stdout",
          "text": [
            "'best_rfc' added to 'pipes'\n"
          ]
        }
      ],
      "source": [
        "add_pipe(Pipeline(steps=[('scaler', StandardScaler()),\n",
        "                ('rfc',\n",
        "                 best_rfc)]), \"best_rfc\")\n"
      ]
    },
    {
      "cell_type": "code",
      "source": [
        "type(train)"
      ],
      "metadata": {
        "colab": {
          "base_uri": "https://localhost:8080/"
        },
        "id": "_56TR1k3rn7o",
        "outputId": "716cb141-c56d-4595-e966-3fa61f72aaa1"
      },
      "execution_count": 49,
      "outputs": [
        {
          "output_type": "execute_result",
          "data": {
            "text/plain": [
              "pandas.core.frame.DataFrame"
            ]
          },
          "metadata": {},
          "execution_count": 49
        }
      ]
    },
    {
      "cell_type": "code",
      "source": [
        "best_rfc.fit(train[feature_cols],train[label_col])"
      ],
      "metadata": {
        "colab": {
          "base_uri": "https://localhost:8080/"
        },
        "id": "tAwzKa0iWvyQ",
        "outputId": "35946341-f254-4f33-fa9e-6a7f49fd14d7"
      },
      "execution_count": 50,
      "outputs": [
        {
          "output_type": "execute_result",
          "data": {
            "text/plain": [
              "Pipeline(steps=[('scaler', StandardScaler()),\n",
              "                ('rfc',\n",
              "                 RandomForestClassifier(criterion='entropy', max_depth=10,\n",
              "                                        max_features='sqrt', n_estimators=153,\n",
              "                                        n_jobs=-1))])"
            ]
          },
          "metadata": {},
          "execution_count": 50
        }
      ]
    },
    {
      "cell_type": "code",
      "source": [
        "best_rfc.predict(train[feature_cols])"
      ],
      "metadata": {
        "colab": {
          "base_uri": "https://localhost:8080/"
        },
        "id": "EkySYemy4qUM",
        "outputId": "bc3d8863-be0b-40ec-afbf-50fc886ac8d1"
      },
      "execution_count": 51,
      "outputs": [
        {
          "output_type": "execute_result",
          "data": {
            "text/plain": [
              "array(['D', 'B', 'A', ..., 'D', 'D', 'B'], dtype=object)"
            ]
          },
          "metadata": {},
          "execution_count": 51
        }
      ]
    },
    {
      "cell_type": "code",
      "source": [
        "# cross_val_score(pipe_rfc, train[feature_cols], y=train[label_col])\n",
        "cv_score_df"
      ],
      "metadata": {
        "colab": {
          "base_uri": "https://localhost:8080/",
          "height": 427
        },
        "id": "ngOmCZWd5s_v",
        "outputId": "8924a4b1-2c0d-4549-b4bc-f4d990426c3b"
      },
      "execution_count": 52,
      "outputs": [
        {
          "output_type": "execute_result",
          "data": {
            "text/plain": [
              "   rfc__n_estimators  rfc__min_samples_split  rfc__min_samples_leaf  \\\n",
              "0                191                       5                      4   \n",
              "1                120                       5                      1   \n",
              "2                181                       5                      4   \n",
              "3                128                       5                      4   \n",
              "4                169                       5                      1   \n",
              "5                130                       5                      1   \n",
              "6                100                       5                      1   \n",
              "7                153                       2                      1   \n",
              "8                146                       2                      1   \n",
              "9                126                       5                      4   \n",
              "\n",
              "  rfc__max_features  rfc__max_depth rfc__criterion  rfc__bootstrap  \\\n",
              "0              sqrt              70        entropy           False   \n",
              "1              sqrt              30           gini            True   \n",
              "2              sqrt              30        entropy            True   \n",
              "3              log2              80           gini           False   \n",
              "4              sqrt              70           gini           False   \n",
              "5              log2              50        entropy            True   \n",
              "6              sqrt             100        entropy           False   \n",
              "7              sqrt              10        entropy            True   \n",
              "8              sqrt              40        entropy           False   \n",
              "9              sqrt              70           gini           False   \n",
              "\n",
              "   mean_score_rfc  std_score_rfc  \n",
              "0        0.522310       0.010226  \n",
              "1        0.489713       0.009066  \n",
              "2        0.523054       0.008406  \n",
              "3        0.522434       0.008948  \n",
              "4        0.469262       0.003850  \n",
              "5        0.488350       0.007874  \n",
              "6        0.470006       0.006650  \n",
              "7        0.523921       0.009831  \n",
              "8        0.453149       0.002947  \n",
              "9        0.519583       0.009055  "
            ],
            "text/html": [
              "\n",
              "  <div id=\"df-b59fd5e6-38dc-4379-8e4f-520ffd40d9d2\">\n",
              "    <div class=\"colab-df-container\">\n",
              "      <div>\n",
              "<style scoped>\n",
              "    .dataframe tbody tr th:only-of-type {\n",
              "        vertical-align: middle;\n",
              "    }\n",
              "\n",
              "    .dataframe tbody tr th {\n",
              "        vertical-align: top;\n",
              "    }\n",
              "\n",
              "    .dataframe thead th {\n",
              "        text-align: right;\n",
              "    }\n",
              "</style>\n",
              "<table border=\"1\" class=\"dataframe\">\n",
              "  <thead>\n",
              "    <tr style=\"text-align: right;\">\n",
              "      <th></th>\n",
              "      <th>rfc__n_estimators</th>\n",
              "      <th>rfc__min_samples_split</th>\n",
              "      <th>rfc__min_samples_leaf</th>\n",
              "      <th>rfc__max_features</th>\n",
              "      <th>rfc__max_depth</th>\n",
              "      <th>rfc__criterion</th>\n",
              "      <th>rfc__bootstrap</th>\n",
              "      <th>mean_score_rfc</th>\n",
              "      <th>std_score_rfc</th>\n",
              "    </tr>\n",
              "  </thead>\n",
              "  <tbody>\n",
              "    <tr>\n",
              "      <th>0</th>\n",
              "      <td>191</td>\n",
              "      <td>5</td>\n",
              "      <td>4</td>\n",
              "      <td>sqrt</td>\n",
              "      <td>70</td>\n",
              "      <td>entropy</td>\n",
              "      <td>False</td>\n",
              "      <td>0.522310</td>\n",
              "      <td>0.010226</td>\n",
              "    </tr>\n",
              "    <tr>\n",
              "      <th>1</th>\n",
              "      <td>120</td>\n",
              "      <td>5</td>\n",
              "      <td>1</td>\n",
              "      <td>sqrt</td>\n",
              "      <td>30</td>\n",
              "      <td>gini</td>\n",
              "      <td>True</td>\n",
              "      <td>0.489713</td>\n",
              "      <td>0.009066</td>\n",
              "    </tr>\n",
              "    <tr>\n",
              "      <th>2</th>\n",
              "      <td>181</td>\n",
              "      <td>5</td>\n",
              "      <td>4</td>\n",
              "      <td>sqrt</td>\n",
              "      <td>30</td>\n",
              "      <td>entropy</td>\n",
              "      <td>True</td>\n",
              "      <td>0.523054</td>\n",
              "      <td>0.008406</td>\n",
              "    </tr>\n",
              "    <tr>\n",
              "      <th>3</th>\n",
              "      <td>128</td>\n",
              "      <td>5</td>\n",
              "      <td>4</td>\n",
              "      <td>log2</td>\n",
              "      <td>80</td>\n",
              "      <td>gini</td>\n",
              "      <td>False</td>\n",
              "      <td>0.522434</td>\n",
              "      <td>0.008948</td>\n",
              "    </tr>\n",
              "    <tr>\n",
              "      <th>4</th>\n",
              "      <td>169</td>\n",
              "      <td>5</td>\n",
              "      <td>1</td>\n",
              "      <td>sqrt</td>\n",
              "      <td>70</td>\n",
              "      <td>gini</td>\n",
              "      <td>False</td>\n",
              "      <td>0.469262</td>\n",
              "      <td>0.003850</td>\n",
              "    </tr>\n",
              "    <tr>\n",
              "      <th>5</th>\n",
              "      <td>130</td>\n",
              "      <td>5</td>\n",
              "      <td>1</td>\n",
              "      <td>log2</td>\n",
              "      <td>50</td>\n",
              "      <td>entropy</td>\n",
              "      <td>True</td>\n",
              "      <td>0.488350</td>\n",
              "      <td>0.007874</td>\n",
              "    </tr>\n",
              "    <tr>\n",
              "      <th>6</th>\n",
              "      <td>100</td>\n",
              "      <td>5</td>\n",
              "      <td>1</td>\n",
              "      <td>sqrt</td>\n",
              "      <td>100</td>\n",
              "      <td>entropy</td>\n",
              "      <td>False</td>\n",
              "      <td>0.470006</td>\n",
              "      <td>0.006650</td>\n",
              "    </tr>\n",
              "    <tr>\n",
              "      <th>7</th>\n",
              "      <td>153</td>\n",
              "      <td>2</td>\n",
              "      <td>1</td>\n",
              "      <td>sqrt</td>\n",
              "      <td>10</td>\n",
              "      <td>entropy</td>\n",
              "      <td>True</td>\n",
              "      <td>0.523921</td>\n",
              "      <td>0.009831</td>\n",
              "    </tr>\n",
              "    <tr>\n",
              "      <th>8</th>\n",
              "      <td>146</td>\n",
              "      <td>2</td>\n",
              "      <td>1</td>\n",
              "      <td>sqrt</td>\n",
              "      <td>40</td>\n",
              "      <td>entropy</td>\n",
              "      <td>False</td>\n",
              "      <td>0.453149</td>\n",
              "      <td>0.002947</td>\n",
              "    </tr>\n",
              "    <tr>\n",
              "      <th>9</th>\n",
              "      <td>126</td>\n",
              "      <td>5</td>\n",
              "      <td>4</td>\n",
              "      <td>sqrt</td>\n",
              "      <td>70</td>\n",
              "      <td>gini</td>\n",
              "      <td>False</td>\n",
              "      <td>0.519583</td>\n",
              "      <td>0.009055</td>\n",
              "    </tr>\n",
              "  </tbody>\n",
              "</table>\n",
              "</div>\n",
              "      <button class=\"colab-df-convert\" onclick=\"convertToInteractive('df-b59fd5e6-38dc-4379-8e4f-520ffd40d9d2')\"\n",
              "              title=\"Convert this dataframe to an interactive table.\"\n",
              "              style=\"display:none;\">\n",
              "        \n",
              "  <svg xmlns=\"http://www.w3.org/2000/svg\" height=\"24px\"viewBox=\"0 0 24 24\"\n",
              "       width=\"24px\">\n",
              "    <path d=\"M0 0h24v24H0V0z\" fill=\"none\"/>\n",
              "    <path d=\"M18.56 5.44l.94 2.06.94-2.06 2.06-.94-2.06-.94-.94-2.06-.94 2.06-2.06.94zm-11 1L8.5 8.5l.94-2.06 2.06-.94-2.06-.94L8.5 2.5l-.94 2.06-2.06.94zm10 10l.94 2.06.94-2.06 2.06-.94-2.06-.94-.94-2.06-.94 2.06-2.06.94z\"/><path d=\"M17.41 7.96l-1.37-1.37c-.4-.4-.92-.59-1.43-.59-.52 0-1.04.2-1.43.59L10.3 9.45l-7.72 7.72c-.78.78-.78 2.05 0 2.83L4 21.41c.39.39.9.59 1.41.59.51 0 1.02-.2 1.41-.59l7.78-7.78 2.81-2.81c.8-.78.8-2.07 0-2.86zM5.41 20L4 18.59l7.72-7.72 1.47 1.35L5.41 20z\"/>\n",
              "  </svg>\n",
              "      </button>\n",
              "      \n",
              "  <style>\n",
              "    .colab-df-container {\n",
              "      display:flex;\n",
              "      flex-wrap:wrap;\n",
              "      gap: 12px;\n",
              "    }\n",
              "\n",
              "    .colab-df-convert {\n",
              "      background-color: #E8F0FE;\n",
              "      border: none;\n",
              "      border-radius: 50%;\n",
              "      cursor: pointer;\n",
              "      display: none;\n",
              "      fill: #1967D2;\n",
              "      height: 32px;\n",
              "      padding: 0 0 0 0;\n",
              "      width: 32px;\n",
              "    }\n",
              "\n",
              "    .colab-df-convert:hover {\n",
              "      background-color: #E2EBFA;\n",
              "      box-shadow: 0px 1px 2px rgba(60, 64, 67, 0.3), 0px 1px 3px 1px rgba(60, 64, 67, 0.15);\n",
              "      fill: #174EA6;\n",
              "    }\n",
              "\n",
              "    [theme=dark] .colab-df-convert {\n",
              "      background-color: #3B4455;\n",
              "      fill: #D2E3FC;\n",
              "    }\n",
              "\n",
              "    [theme=dark] .colab-df-convert:hover {\n",
              "      background-color: #434B5C;\n",
              "      box-shadow: 0px 1px 3px 1px rgba(0, 0, 0, 0.15);\n",
              "      filter: drop-shadow(0px 1px 2px rgba(0, 0, 0, 0.3));\n",
              "      fill: #FFFFFF;\n",
              "    }\n",
              "  </style>\n",
              "\n",
              "      <script>\n",
              "        const buttonEl =\n",
              "          document.querySelector('#df-b59fd5e6-38dc-4379-8e4f-520ffd40d9d2 button.colab-df-convert');\n",
              "        buttonEl.style.display =\n",
              "          google.colab.kernel.accessAllowed ? 'block' : 'none';\n",
              "\n",
              "        async function convertToInteractive(key) {\n",
              "          const element = document.querySelector('#df-b59fd5e6-38dc-4379-8e4f-520ffd40d9d2');\n",
              "          const dataTable =\n",
              "            await google.colab.kernel.invokeFunction('convertToInteractive',\n",
              "                                                     [key], {});\n",
              "          if (!dataTable) return;\n",
              "\n",
              "          const docLinkHtml = 'Like what you see? Visit the ' +\n",
              "            '<a target=\"_blank\" href=https://colab.research.google.com/notebooks/data_table.ipynb>data table notebook</a>'\n",
              "            + ' to learn more about interactive tables.';\n",
              "          element.innerHTML = '';\n",
              "          dataTable['output_type'] = 'display_data';\n",
              "          await google.colab.output.renderOutput(dataTable, element);\n",
              "          const docLink = document.createElement('div');\n",
              "          docLink.innerHTML = docLinkHtml;\n",
              "          element.appendChild(docLink);\n",
              "        }\n",
              "      </script>\n",
              "    </div>\n",
              "  </div>\n",
              "  "
            ]
          },
          "metadata": {},
          "execution_count": 52
        }
      ]
    },
    {
      "cell_type": "code",
      "source": [
        "train.head()"
      ],
      "metadata": {
        "colab": {
          "base_uri": "https://localhost:8080/",
          "height": 270
        },
        "id": "g3WG8de8-OBC",
        "outputId": "1834b77b-3b8f-4a43-a138-083a1c6564c0"
      },
      "execution_count": 89,
      "outputs": [
        {
          "output_type": "execute_result",
          "data": {
            "text/plain": [
              "       ID  Gender Ever_Married  Age Graduated     Profession  Work_Experience  \\\n",
              "0  462809    Male           No   22        No     Healthcare              1.0   \n",
              "1  462643  Female          Yes   38       Yes       Engineer              NaN   \n",
              "2  466315  Female          Yes   67       Yes       Engineer              1.0   \n",
              "3  461735    Male          Yes   67       Yes         Lawyer              0.0   \n",
              "4  462669  Female          Yes   40       Yes  Entertainment              NaN   \n",
              "\n",
              "  Spending_Score  Family_Size  Var_1 Segmentation  train_y_n  \n",
              "0            Low          4.0  Cat_4            D          1  \n",
              "1        Average          3.0  Cat_4            A          1  \n",
              "2            Low          1.0  Cat_6            B          1  \n",
              "3           High          2.0  Cat_6            B          1  \n",
              "4           High          6.0  Cat_6            A          1  "
            ],
            "text/html": [
              "\n",
              "  <div id=\"df-6c8948f6-72e8-43d4-848e-979f0ecfa159\">\n",
              "    <div class=\"colab-df-container\">\n",
              "      <div>\n",
              "<style scoped>\n",
              "    .dataframe tbody tr th:only-of-type {\n",
              "        vertical-align: middle;\n",
              "    }\n",
              "\n",
              "    .dataframe tbody tr th {\n",
              "        vertical-align: top;\n",
              "    }\n",
              "\n",
              "    .dataframe thead th {\n",
              "        text-align: right;\n",
              "    }\n",
              "</style>\n",
              "<table border=\"1\" class=\"dataframe\">\n",
              "  <thead>\n",
              "    <tr style=\"text-align: right;\">\n",
              "      <th></th>\n",
              "      <th>ID</th>\n",
              "      <th>Gender</th>\n",
              "      <th>Ever_Married</th>\n",
              "      <th>Age</th>\n",
              "      <th>Graduated</th>\n",
              "      <th>Profession</th>\n",
              "      <th>Work_Experience</th>\n",
              "      <th>Spending_Score</th>\n",
              "      <th>Family_Size</th>\n",
              "      <th>Var_1</th>\n",
              "      <th>Segmentation</th>\n",
              "      <th>train_y_n</th>\n",
              "    </tr>\n",
              "  </thead>\n",
              "  <tbody>\n",
              "    <tr>\n",
              "      <th>0</th>\n",
              "      <td>462809</td>\n",
              "      <td>Male</td>\n",
              "      <td>No</td>\n",
              "      <td>22</td>\n",
              "      <td>No</td>\n",
              "      <td>Healthcare</td>\n",
              "      <td>1.0</td>\n",
              "      <td>Low</td>\n",
              "      <td>4.0</td>\n",
              "      <td>Cat_4</td>\n",
              "      <td>D</td>\n",
              "      <td>1</td>\n",
              "    </tr>\n",
              "    <tr>\n",
              "      <th>1</th>\n",
              "      <td>462643</td>\n",
              "      <td>Female</td>\n",
              "      <td>Yes</td>\n",
              "      <td>38</td>\n",
              "      <td>Yes</td>\n",
              "      <td>Engineer</td>\n",
              "      <td>NaN</td>\n",
              "      <td>Average</td>\n",
              "      <td>3.0</td>\n",
              "      <td>Cat_4</td>\n",
              "      <td>A</td>\n",
              "      <td>1</td>\n",
              "    </tr>\n",
              "    <tr>\n",
              "      <th>2</th>\n",
              "      <td>466315</td>\n",
              "      <td>Female</td>\n",
              "      <td>Yes</td>\n",
              "      <td>67</td>\n",
              "      <td>Yes</td>\n",
              "      <td>Engineer</td>\n",
              "      <td>1.0</td>\n",
              "      <td>Low</td>\n",
              "      <td>1.0</td>\n",
              "      <td>Cat_6</td>\n",
              "      <td>B</td>\n",
              "      <td>1</td>\n",
              "    </tr>\n",
              "    <tr>\n",
              "      <th>3</th>\n",
              "      <td>461735</td>\n",
              "      <td>Male</td>\n",
              "      <td>Yes</td>\n",
              "      <td>67</td>\n",
              "      <td>Yes</td>\n",
              "      <td>Lawyer</td>\n",
              "      <td>0.0</td>\n",
              "      <td>High</td>\n",
              "      <td>2.0</td>\n",
              "      <td>Cat_6</td>\n",
              "      <td>B</td>\n",
              "      <td>1</td>\n",
              "    </tr>\n",
              "    <tr>\n",
              "      <th>4</th>\n",
              "      <td>462669</td>\n",
              "      <td>Female</td>\n",
              "      <td>Yes</td>\n",
              "      <td>40</td>\n",
              "      <td>Yes</td>\n",
              "      <td>Entertainment</td>\n",
              "      <td>NaN</td>\n",
              "      <td>High</td>\n",
              "      <td>6.0</td>\n",
              "      <td>Cat_6</td>\n",
              "      <td>A</td>\n",
              "      <td>1</td>\n",
              "    </tr>\n",
              "  </tbody>\n",
              "</table>\n",
              "</div>\n",
              "      <button class=\"colab-df-convert\" onclick=\"convertToInteractive('df-6c8948f6-72e8-43d4-848e-979f0ecfa159')\"\n",
              "              title=\"Convert this dataframe to an interactive table.\"\n",
              "              style=\"display:none;\">\n",
              "        \n",
              "  <svg xmlns=\"http://www.w3.org/2000/svg\" height=\"24px\"viewBox=\"0 0 24 24\"\n",
              "       width=\"24px\">\n",
              "    <path d=\"M0 0h24v24H0V0z\" fill=\"none\"/>\n",
              "    <path d=\"M18.56 5.44l.94 2.06.94-2.06 2.06-.94-2.06-.94-.94-2.06-.94 2.06-2.06.94zm-11 1L8.5 8.5l.94-2.06 2.06-.94-2.06-.94L8.5 2.5l-.94 2.06-2.06.94zm10 10l.94 2.06.94-2.06 2.06-.94-2.06-.94-.94-2.06-.94 2.06-2.06.94z\"/><path d=\"M17.41 7.96l-1.37-1.37c-.4-.4-.92-.59-1.43-.59-.52 0-1.04.2-1.43.59L10.3 9.45l-7.72 7.72c-.78.78-.78 2.05 0 2.83L4 21.41c.39.39.9.59 1.41.59.51 0 1.02-.2 1.41-.59l7.78-7.78 2.81-2.81c.8-.78.8-2.07 0-2.86zM5.41 20L4 18.59l7.72-7.72 1.47 1.35L5.41 20z\"/>\n",
              "  </svg>\n",
              "      </button>\n",
              "      \n",
              "  <style>\n",
              "    .colab-df-container {\n",
              "      display:flex;\n",
              "      flex-wrap:wrap;\n",
              "      gap: 12px;\n",
              "    }\n",
              "\n",
              "    .colab-df-convert {\n",
              "      background-color: #E8F0FE;\n",
              "      border: none;\n",
              "      border-radius: 50%;\n",
              "      cursor: pointer;\n",
              "      display: none;\n",
              "      fill: #1967D2;\n",
              "      height: 32px;\n",
              "      padding: 0 0 0 0;\n",
              "      width: 32px;\n",
              "    }\n",
              "\n",
              "    .colab-df-convert:hover {\n",
              "      background-color: #E2EBFA;\n",
              "      box-shadow: 0px 1px 2px rgba(60, 64, 67, 0.3), 0px 1px 3px 1px rgba(60, 64, 67, 0.15);\n",
              "      fill: #174EA6;\n",
              "    }\n",
              "\n",
              "    [theme=dark] .colab-df-convert {\n",
              "      background-color: #3B4455;\n",
              "      fill: #D2E3FC;\n",
              "    }\n",
              "\n",
              "    [theme=dark] .colab-df-convert:hover {\n",
              "      background-color: #434B5C;\n",
              "      box-shadow: 0px 1px 3px 1px rgba(0, 0, 0, 0.15);\n",
              "      filter: drop-shadow(0px 1px 2px rgba(0, 0, 0, 0.3));\n",
              "      fill: #FFFFFF;\n",
              "    }\n",
              "  </style>\n",
              "\n",
              "      <script>\n",
              "        const buttonEl =\n",
              "          document.querySelector('#df-6c8948f6-72e8-43d4-848e-979f0ecfa159 button.colab-df-convert');\n",
              "        buttonEl.style.display =\n",
              "          google.colab.kernel.accessAllowed ? 'block' : 'none';\n",
              "\n",
              "        async function convertToInteractive(key) {\n",
              "          const element = document.querySelector('#df-6c8948f6-72e8-43d4-848e-979f0ecfa159');\n",
              "          const dataTable =\n",
              "            await google.colab.kernel.invokeFunction('convertToInteractive',\n",
              "                                                     [key], {});\n",
              "          if (!dataTable) return;\n",
              "\n",
              "          const docLinkHtml = 'Like what you see? Visit the ' +\n",
              "            '<a target=\"_blank\" href=https://colab.research.google.com/notebooks/data_table.ipynb>data table notebook</a>'\n",
              "            + ' to learn more about interactive tables.';\n",
              "          element.innerHTML = '';\n",
              "          dataTable['output_type'] = 'display_data';\n",
              "          await google.colab.output.renderOutput(dataTable, element);\n",
              "          const docLink = document.createElement('div');\n",
              "          docLink.innerHTML = docLinkHtml;\n",
              "          element.appendChild(docLink);\n",
              "        }\n",
              "      </script>\n",
              "    </div>\n",
              "  </div>\n",
              "  "
            ]
          },
          "metadata": {},
          "execution_count": 89
        }
      ]
    },
    {
      "cell_type": "code",
      "source": [],
      "metadata": {
        "id": "BpNWk-24BF9Q"
      },
      "execution_count": 53,
      "outputs": []
    },
    {
      "cell_type": "markdown",
      "source": [],
      "metadata": {
        "id": "xvrbA0V0BU78"
      }
    },
    {
      "cell_type": "code",
      "source": [
        "train.head()"
      ],
      "metadata": {
        "colab": {
          "base_uri": "https://localhost:8080/",
          "height": 270
        },
        "id": "mDmjSR6nErdg",
        "outputId": "0d3a506c-aa49-44fc-9294-2cf38a1a0299"
      },
      "execution_count": 73,
      "outputs": [
        {
          "output_type": "execute_result",
          "data": {
            "text/plain": [
              "       ID  Gender Ever_Married  Age Graduated     Profession Work_Experience  \\\n",
              "0  462809    Male           No   22        No     Healthcare             1.0   \n",
              "1  462643  Female          Yes   38       Yes       Engineer             1.0   \n",
              "2  466315  Female          Yes   67       Yes       Engineer             1.0   \n",
              "3  461735    Male          Yes   67       Yes         Lawyer             0.0   \n",
              "4  462669  Female          Yes   40       Yes  Entertainment             1.0   \n",
              "\n",
              "  Spending_Score Family_Size  Var_1 Segmentation  train_y_n  \n",
              "0            Low         4.0  Cat_4            D          1  \n",
              "1        Average         3.0  Cat_4            A          1  \n",
              "2            Low         1.0  Cat_6            B          1  \n",
              "3           High         2.0  Cat_6            B          1  \n",
              "4           High         6.0  Cat_6            A          1  "
            ],
            "text/html": [
              "\n",
              "  <div id=\"df-933b4fe6-ed83-41e7-ac40-927e961844d1\">\n",
              "    <div class=\"colab-df-container\">\n",
              "      <div>\n",
              "<style scoped>\n",
              "    .dataframe tbody tr th:only-of-type {\n",
              "        vertical-align: middle;\n",
              "    }\n",
              "\n",
              "    .dataframe tbody tr th {\n",
              "        vertical-align: top;\n",
              "    }\n",
              "\n",
              "    .dataframe thead th {\n",
              "        text-align: right;\n",
              "    }\n",
              "</style>\n",
              "<table border=\"1\" class=\"dataframe\">\n",
              "  <thead>\n",
              "    <tr style=\"text-align: right;\">\n",
              "      <th></th>\n",
              "      <th>ID</th>\n",
              "      <th>Gender</th>\n",
              "      <th>Ever_Married</th>\n",
              "      <th>Age</th>\n",
              "      <th>Graduated</th>\n",
              "      <th>Profession</th>\n",
              "      <th>Work_Experience</th>\n",
              "      <th>Spending_Score</th>\n",
              "      <th>Family_Size</th>\n",
              "      <th>Var_1</th>\n",
              "      <th>Segmentation</th>\n",
              "      <th>train_y_n</th>\n",
              "    </tr>\n",
              "  </thead>\n",
              "  <tbody>\n",
              "    <tr>\n",
              "      <th>0</th>\n",
              "      <td>462809</td>\n",
              "      <td>Male</td>\n",
              "      <td>No</td>\n",
              "      <td>22</td>\n",
              "      <td>No</td>\n",
              "      <td>Healthcare</td>\n",
              "      <td>1.0</td>\n",
              "      <td>Low</td>\n",
              "      <td>4.0</td>\n",
              "      <td>Cat_4</td>\n",
              "      <td>D</td>\n",
              "      <td>1</td>\n",
              "    </tr>\n",
              "    <tr>\n",
              "      <th>1</th>\n",
              "      <td>462643</td>\n",
              "      <td>Female</td>\n",
              "      <td>Yes</td>\n",
              "      <td>38</td>\n",
              "      <td>Yes</td>\n",
              "      <td>Engineer</td>\n",
              "      <td>1.0</td>\n",
              "      <td>Average</td>\n",
              "      <td>3.0</td>\n",
              "      <td>Cat_4</td>\n",
              "      <td>A</td>\n",
              "      <td>1</td>\n",
              "    </tr>\n",
              "    <tr>\n",
              "      <th>2</th>\n",
              "      <td>466315</td>\n",
              "      <td>Female</td>\n",
              "      <td>Yes</td>\n",
              "      <td>67</td>\n",
              "      <td>Yes</td>\n",
              "      <td>Engineer</td>\n",
              "      <td>1.0</td>\n",
              "      <td>Low</td>\n",
              "      <td>1.0</td>\n",
              "      <td>Cat_6</td>\n",
              "      <td>B</td>\n",
              "      <td>1</td>\n",
              "    </tr>\n",
              "    <tr>\n",
              "      <th>3</th>\n",
              "      <td>461735</td>\n",
              "      <td>Male</td>\n",
              "      <td>Yes</td>\n",
              "      <td>67</td>\n",
              "      <td>Yes</td>\n",
              "      <td>Lawyer</td>\n",
              "      <td>0.0</td>\n",
              "      <td>High</td>\n",
              "      <td>2.0</td>\n",
              "      <td>Cat_6</td>\n",
              "      <td>B</td>\n",
              "      <td>1</td>\n",
              "    </tr>\n",
              "    <tr>\n",
              "      <th>4</th>\n",
              "      <td>462669</td>\n",
              "      <td>Female</td>\n",
              "      <td>Yes</td>\n",
              "      <td>40</td>\n",
              "      <td>Yes</td>\n",
              "      <td>Entertainment</td>\n",
              "      <td>1.0</td>\n",
              "      <td>High</td>\n",
              "      <td>6.0</td>\n",
              "      <td>Cat_6</td>\n",
              "      <td>A</td>\n",
              "      <td>1</td>\n",
              "    </tr>\n",
              "  </tbody>\n",
              "</table>\n",
              "</div>\n",
              "      <button class=\"colab-df-convert\" onclick=\"convertToInteractive('df-933b4fe6-ed83-41e7-ac40-927e961844d1')\"\n",
              "              title=\"Convert this dataframe to an interactive table.\"\n",
              "              style=\"display:none;\">\n",
              "        \n",
              "  <svg xmlns=\"http://www.w3.org/2000/svg\" height=\"24px\"viewBox=\"0 0 24 24\"\n",
              "       width=\"24px\">\n",
              "    <path d=\"M0 0h24v24H0V0z\" fill=\"none\"/>\n",
              "    <path d=\"M18.56 5.44l.94 2.06.94-2.06 2.06-.94-2.06-.94-.94-2.06-.94 2.06-2.06.94zm-11 1L8.5 8.5l.94-2.06 2.06-.94-2.06-.94L8.5 2.5l-.94 2.06-2.06.94zm10 10l.94 2.06.94-2.06 2.06-.94-2.06-.94-.94-2.06-.94 2.06-2.06.94z\"/><path d=\"M17.41 7.96l-1.37-1.37c-.4-.4-.92-.59-1.43-.59-.52 0-1.04.2-1.43.59L10.3 9.45l-7.72 7.72c-.78.78-.78 2.05 0 2.83L4 21.41c.39.39.9.59 1.41.59.51 0 1.02-.2 1.41-.59l7.78-7.78 2.81-2.81c.8-.78.8-2.07 0-2.86zM5.41 20L4 18.59l7.72-7.72 1.47 1.35L5.41 20z\"/>\n",
              "  </svg>\n",
              "      </button>\n",
              "      \n",
              "  <style>\n",
              "    .colab-df-container {\n",
              "      display:flex;\n",
              "      flex-wrap:wrap;\n",
              "      gap: 12px;\n",
              "    }\n",
              "\n",
              "    .colab-df-convert {\n",
              "      background-color: #E8F0FE;\n",
              "      border: none;\n",
              "      border-radius: 50%;\n",
              "      cursor: pointer;\n",
              "      display: none;\n",
              "      fill: #1967D2;\n",
              "      height: 32px;\n",
              "      padding: 0 0 0 0;\n",
              "      width: 32px;\n",
              "    }\n",
              "\n",
              "    .colab-df-convert:hover {\n",
              "      background-color: #E2EBFA;\n",
              "      box-shadow: 0px 1px 2px rgba(60, 64, 67, 0.3), 0px 1px 3px 1px rgba(60, 64, 67, 0.15);\n",
              "      fill: #174EA6;\n",
              "    }\n",
              "\n",
              "    [theme=dark] .colab-df-convert {\n",
              "      background-color: #3B4455;\n",
              "      fill: #D2E3FC;\n",
              "    }\n",
              "\n",
              "    [theme=dark] .colab-df-convert:hover {\n",
              "      background-color: #434B5C;\n",
              "      box-shadow: 0px 1px 3px 1px rgba(0, 0, 0, 0.15);\n",
              "      filter: drop-shadow(0px 1px 2px rgba(0, 0, 0, 0.3));\n",
              "      fill: #FFFFFF;\n",
              "    }\n",
              "  </style>\n",
              "\n",
              "      <script>\n",
              "        const buttonEl =\n",
              "          document.querySelector('#df-933b4fe6-ed83-41e7-ac40-927e961844d1 button.colab-df-convert');\n",
              "        buttonEl.style.display =\n",
              "          google.colab.kernel.accessAllowed ? 'block' : 'none';\n",
              "\n",
              "        async function convertToInteractive(key) {\n",
              "          const element = document.querySelector('#df-933b4fe6-ed83-41e7-ac40-927e961844d1');\n",
              "          const dataTable =\n",
              "            await google.colab.kernel.invokeFunction('convertToInteractive',\n",
              "                                                     [key], {});\n",
              "          if (!dataTable) return;\n",
              "\n",
              "          const docLinkHtml = 'Like what you see? Visit the ' +\n",
              "            '<a target=\"_blank\" href=https://colab.research.google.com/notebooks/data_table.ipynb>data table notebook</a>'\n",
              "            + ' to learn more about interactive tables.';\n",
              "          element.innerHTML = '';\n",
              "          dataTable['output_type'] = 'display_data';\n",
              "          await google.colab.output.renderOutput(dataTable, element);\n",
              "          const docLink = document.createElement('div');\n",
              "          docLink.innerHTML = docLinkHtml;\n",
              "          element.appendChild(docLink);\n",
              "        }\n",
              "      </script>\n",
              "    </div>\n",
              "  </div>\n",
              "  "
            ]
          },
          "metadata": {},
          "execution_count": 73
        }
      ]
    },
    {
      "cell_type": "markdown",
      "source": [
        "### Dummy Classifier"
      ],
      "metadata": {
        "id": "EKa0LJy_XqSE"
      }
    },
    {
      "cell_type": "code",
      "source": [
        "dummy = DummyClassifier(strategy='stratified')"
      ],
      "metadata": {
        "id": "_UNkHGiJXuGK"
      },
      "execution_count": 164,
      "outputs": []
    },
    {
      "cell_type": "code",
      "source": [
        "dummy.fit(train_set[feature_cols], train_set[label_col])"
      ],
      "metadata": {
        "colab": {
          "base_uri": "https://localhost:8080/"
        },
        "id": "nEikeUkkclIo",
        "outputId": "24259847-3e5c-4b52-86be-0d375c2158fb"
      },
      "execution_count": 165,
      "outputs": [
        {
          "output_type": "execute_result",
          "data": {
            "text/plain": [
              "DummyClassifier(strategy='stratified')"
            ]
          },
          "metadata": {},
          "execution_count": 165
        }
      ]
    },
    {
      "cell_type": "code",
      "source": [
        "# dummy.predict(eval_set[feature_cols])"
      ],
      "metadata": {
        "id": "6E6bs6S-czCK"
      },
      "execution_count": 166,
      "outputs": []
    },
    {
      "cell_type": "code",
      "source": [
        "eval_score = accuracy_score(eval_set[label_col], dummy.predict(eval_set[feature_cols]))\n",
        "\n",
        "print('Eval ACC: {}'.format(eval_score))\n",
        "# dummy.score(eval_set[feature_cols], eval_set[label_col] )"
      ],
      "metadata": {
        "colab": {
          "base_uri": "https://localhost:8080/"
        },
        "id": "qG2Jmlr3dGL_",
        "outputId": "655b2c6c-5d22-445d-f689-405cb0a19343"
      },
      "execution_count": 167,
      "outputs": [
        {
          "output_type": "stream",
          "name": "stdout",
          "text": [
            "Eval ACC: 0.2521514629948365\n"
          ]
        }
      ]
    },
    {
      "cell_type": "markdown",
      "source": [
        "### LGBM"
      ],
      "metadata": {
        "id": "L94oWj2BG1PX"
      }
    },
    {
      "cell_type": "code",
      "source": [
        "train = transform_df(train)"
      ],
      "metadata": {
        "colab": {
          "base_uri": "https://localhost:8080/"
        },
        "id": "fsHsXN_rFgho",
        "outputId": "233718e3-6c56-47a9-e3c3-ad94faab50ec"
      },
      "execution_count": 261,
      "outputs": [
        {
          "output_type": "stream",
          "name": "stdout",
          "text": [
            "ID.  NOT AN OBJECT\n",
            "Age.  NOT AN OBJECT\n",
            "Work_Experience.  NOT AN OBJECT\n",
            "Family_Size.  NOT AN OBJECT\n",
            "target\n",
            "train_y_n.  NOT AN OBJECT\n",
            "   Gender\n",
            "   Ever_Married\n",
            "   Graduated\n",
            "   Profession\n",
            "   Spending_Score\n",
            "   Var_1\n",
            "\n",
            "Proceed with OHE?     y/n \n",
            "\n",
            "  -->  y\n",
            "\n",
            "Let's do it!\n",
            "\n",
            "['Gender', 'Ever_Married', 'Graduated', 'Profession', 'Spending_Score', 'Var_1']\n",
            "...\n"
          ]
        },
        {
          "output_type": "execute_result",
          "data": {
            "text/plain": [
              "Index(['ID', 'Age', 'Work_Experience', 'Family_Size', 'Gender_Female',\n",
              "       'Gender_Male', 'Ever_Married_No', 'Ever_Married_Yes', 'Graduated_No',\n",
              "       'Graduated_Yes', 'Profession_Artist', 'Profession_Doctor',\n",
              "       'Profession_Engineer', 'Profession_Entertainment',\n",
              "       'Profession_Executive', 'Profession_Healthcare', 'Profession_Homemaker',\n",
              "       'Profession_Lawyer', 'Profession_Marketing', 'Spending_Score_Average',\n",
              "       'Spending_Score_High', 'Spending_Score_Low', 'Var_1_Cat_1',\n",
              "       'Var_1_Cat_2', 'Var_1_Cat_3', 'Var_1_Cat_4', 'Var_1_Cat_5',\n",
              "       'Var_1_Cat_6', 'Var_1_Cat_7', 'Segmentation'],\n",
              "      dtype='object')"
            ]
          },
          "metadata": {},
          "execution_count": 261
        }
      ]
    },
    {
      "cell_type": "code",
      "source": [
        "# types of cols\n",
        "cat_cols = ['Gender_Female', 'Gender_Male', 'Ever_Married_No',\n",
        "       'Ever_Married_Yes', 'Graduated_No', 'Graduated_Yes',\n",
        "       'Profession_Artist', 'Profession_Doctor', 'Profession_Engineer',\n",
        "       'Profession_Entertainment', 'Profession_Executive',\n",
        "       'Profession_Healthcare', 'Profession_Homemaker', 'Profession_Lawyer',\n",
        "       'Profession_Marketing', 'Spending_Score_Average', 'Spending_Score_High',\n",
        "       'Spending_Score_Low', 'Var_1_Cat_1', 'Var_1_Cat_2', 'Var_1_Cat_3',\n",
        "       'Var_1_Cat_4', 'Var_1_Cat_5', 'Var_1_Cat_6', 'Var_1_Cat_7']\n",
        "cont_cols = ['Age','Work_Experience', 'Family_Size']\n",
        "label_col = ['Segmentation']\n",
        "\n",
        "# split into features_cols\n",
        "feature_cols = train.columns.tolist()\n",
        "# feature_cols.remove('Segmentation').  !!!! WATCH THIS !!!!\n",
        "# label\n",
        "label_col = 'Segmentation'\n",
        "print(feature_cols)\n",
        "print('---')\n",
        "print(label_col)\n",
        "\n"
      ],
      "metadata": {
        "colab": {
          "base_uri": "https://localhost:8080/"
        },
        "id": "6CQ5aaQ18Lrp",
        "outputId": "01355d86-2373-48c6-985d-f1ff07446b44"
      },
      "execution_count": 262,
      "outputs": [
        {
          "output_type": "stream",
          "name": "stdout",
          "text": [
            "['ID', 'Age', 'Work_Experience', 'Family_Size', 'Gender_Female', 'Gender_Male', 'Ever_Married_No', 'Ever_Married_Yes', 'Graduated_No', 'Graduated_Yes', 'Profession_Artist', 'Profession_Doctor', 'Profession_Engineer', 'Profession_Entertainment', 'Profession_Executive', 'Profession_Healthcare', 'Profession_Homemaker', 'Profession_Lawyer', 'Profession_Marketing', 'Spending_Score_Average', 'Spending_Score_High', 'Spending_Score_Low', 'Var_1_Cat_1', 'Var_1_Cat_2', 'Var_1_Cat_3', 'Var_1_Cat_4', 'Var_1_Cat_5', 'Var_1_Cat_6', 'Var_1_Cat_7', 'Segmentation']\n",
            "---\n",
            "Segmentation\n"
          ]
        }
      ]
    },
    {
      "cell_type": "code",
      "source": [
        "le = preprocessing.LabelEncoder()\n",
        "train['Segmentation']=le.fit_transform(train['Segmentation'])\n",
        "eval['Segmentation']=le.fit_transform(eval['Segmentation'])"
      ],
      "metadata": {
        "id": "KzbQ9xZaBTMQ"
      },
      "execution_count": 265,
      "outputs": []
    },
    {
      "cell_type": "code",
      "source": [
        "params = {}\n",
        "params['learning_rate'] = 0.03\n",
        "params['max_depth'] = 25\n",
        "params['n_estimators'] = 3000\n",
        "params['objective'] = 'multiclass'\n",
        "params['boosting_type'] = 'gbdt'\n",
        "params['subsample'] = 0.7\n",
        "params['random_state'] = 42\n",
        "params['colsample_bytree']=.9\n",
        "params['min_data_in_leaf'] = 100\n",
        "params['reg_alpha'] = 1.7\n",
        "params['reg_lambda'] = 1.11\n",
        "#params['class_weight']: {0: 0.44, 1: 0.4, 2: 0.37}"
      ],
      "metadata": {
        "id": "KfsmYL8WCVDY"
      },
      "execution_count": 266,
      "outputs": []
    },
    {
      "cell_type": "code",
      "source": [
        "feature_cols = train.columns.tolist()\n",
        "feature_cols.remove('ID')\n",
        "feature_cols.remove('Segmentation')\n",
        "# feature_cols.remove('train_y_n')\n",
        "label_col = 'Segmentation'\n",
        "print(feature_cols)"
      ],
      "metadata": {
        "colab": {
          "base_uri": "https://localhost:8080/"
        },
        "id": "k5nY_OGSCbmJ",
        "outputId": "62c53e1b-3ef8-4994-b05b-0536a1f6304a"
      },
      "execution_count": 268,
      "outputs": [
        {
          "output_type": "stream",
          "name": "stdout",
          "text": [
            "['Age', 'Work_Experience', 'Family_Size', 'Gender_Female', 'Gender_Male', 'Ever_Married_No', 'Ever_Married_Yes', 'Graduated_No', 'Graduated_Yes', 'Profession_Artist', 'Profession_Doctor', 'Profession_Engineer', 'Profession_Entertainment', 'Profession_Executive', 'Profession_Healthcare', 'Profession_Homemaker', 'Profession_Lawyer', 'Profession_Marketing', 'Spending_Score_Average', 'Spending_Score_High', 'Spending_Score_Low', 'Var_1_Cat_1', 'Var_1_Cat_2', 'Var_1_Cat_3', 'Var_1_Cat_4', 'Var_1_Cat_5', 'Var_1_Cat_6', 'Var_1_Cat_7']\n"
          ]
        }
      ]
    },
    {
      "cell_type": "code",
      "source": [
        "# init model\n",
        "lgbm = lgb.LGBMClassifier(**params)\n",
        "# fit model\n",
        "lgbm.fit(train_set[feature_cols], train_set[label_col], early_stopping_rounds=100, eval_set=[(train_set[feature_cols], train_set[label_col]), (eval_set[feature_cols], eval_set[label_col])], eval_metric='multi_error', verbose=True, categorical_feature=cat_cols)\n",
        "# score\n",
        "eval_score = accuracy_score(eval_set[label_col], lgbm.predict(eval_set[feature_cols]))\n",
        "# display\n",
        "print('Eval ACC: {}'.format(eval_score))"
      ],
      "metadata": {
        "colab": {
          "base_uri": "https://localhost:8080/"
        },
        "id": "J3srzU1Y6isq",
        "outputId": "a6b1e569-1236-4bec-a15b-5e51f4d48035"
      },
      "execution_count": 269,
      "outputs": [
        {
          "output_type": "stream",
          "name": "stdout",
          "text": [
            "[1]\tvalid_0's multi_error: 0.719008\tvalid_0's multi_logloss: 1.37182\tvalid_1's multi_error: 0.718711\tvalid_1's multi_logloss: 1.37231\n",
            "Training until validation scores don't improve for 100 rounds.\n",
            "[2]\tvalid_0's multi_error: 0.719008\tvalid_0's multi_logloss: 1.36105\tvalid_1's multi_error: 0.718711\tvalid_1's multi_logloss: 1.36227\n",
            "[3]\tvalid_0's multi_error: 0.683678\tvalid_0's multi_logloss: 1.34951\tvalid_1's multi_error: 0.682776\tvalid_1's multi_logloss: 1.3513\n",
            "[4]\tvalid_0's multi_error: 0.617355\tvalid_0's multi_logloss: 1.33891\tvalid_1's multi_error: 0.620198\tvalid_1's multi_logloss: 1.34126\n",
            "[5]\tvalid_0's multi_error: 0.585537\tvalid_0's multi_logloss: 1.32879\tvalid_1's multi_error: 0.58767\tvalid_1's multi_logloss: 1.33178\n",
            "[6]\tvalid_0's multi_error: 0.559091\tvalid_0's multi_logloss: 1.31927\tvalid_1's multi_error: 0.560099\tvalid_1's multi_logloss: 1.32294\n",
            "[7]\tvalid_0's multi_error: 0.523347\tvalid_0's multi_logloss: 1.30932\tvalid_1's multi_error: 0.530359\tvalid_1's multi_logloss: 1.31363\n",
            "[8]\tvalid_0's multi_error: 0.497314\tvalid_0's multi_logloss: 1.29991\tvalid_1's multi_error: 0.512701\tvalid_1's multi_logloss: 1.30488\n",
            "[9]\tvalid_0's multi_error: 0.484711\tvalid_0's multi_logloss: 1.29076\tvalid_1's multi_error: 0.503098\tvalid_1's multi_logloss: 1.29642\n",
            "[10]\tvalid_0's multi_error: 0.474587\tvalid_0's multi_logloss: 1.28206\tvalid_1's multi_error: 0.495043\tvalid_1's multi_logloss: 1.28837\n",
            "[11]\tvalid_0's multi_error: 0.469628\tvalid_0's multi_logloss: 1.27375\tvalid_1's multi_error: 0.493494\tvalid_1's multi_logloss: 1.28085\n",
            "[12]\tvalid_0's multi_error: 0.465702\tvalid_0's multi_logloss: 1.26623\tvalid_1's multi_error: 0.492565\tvalid_1's multi_logloss: 1.2738\n",
            "[13]\tvalid_0's multi_error: 0.46405\tvalid_0's multi_logloss: 1.25857\tvalid_1's multi_error: 0.490397\tvalid_1's multi_logloss: 1.26673\n",
            "[14]\tvalid_0's multi_error: 0.462397\tvalid_0's multi_logloss: 1.25107\tvalid_1's multi_error: 0.489467\tvalid_1's multi_logloss: 1.25983\n",
            "[15]\tvalid_0's multi_error: 0.461983\tvalid_0's multi_logloss: 1.24403\tvalid_1's multi_error: 0.487608\tvalid_1's multi_logloss: 1.25335\n",
            "[16]\tvalid_0's multi_error: 0.459711\tvalid_0's multi_logloss: 1.23745\tvalid_1's multi_error: 0.48575\tvalid_1's multi_logloss: 1.24732\n",
            "[17]\tvalid_0's multi_error: 0.460537\tvalid_0's multi_logloss: 1.23123\tvalid_1's multi_error: 0.48482\tvalid_1's multi_logloss: 1.24161\n",
            "[18]\tvalid_0's multi_error: 0.459298\tvalid_0's multi_logloss: 1.22487\tvalid_1's multi_error: 0.48482\tvalid_1's multi_logloss: 1.23575\n",
            "[19]\tvalid_0's multi_error: 0.456198\tvalid_0's multi_logloss: 1.21895\tvalid_1's multi_error: 0.482962\tvalid_1's multi_logloss: 1.23031\n",
            "[20]\tvalid_0's multi_error: 0.456198\tvalid_0's multi_logloss: 1.21301\tvalid_1's multi_error: 0.482652\tvalid_1's multi_logloss: 1.22508\n",
            "[21]\tvalid_0's multi_error: 0.456612\tvalid_0's multi_logloss: 1.2073\tvalid_1's multi_error: 0.481103\tvalid_1's multi_logloss: 1.21984\n",
            "[22]\tvalid_0's multi_error: 0.455992\tvalid_0's multi_logloss: 1.20178\tvalid_1's multi_error: 0.483271\tvalid_1's multi_logloss: 1.21475\n",
            "[23]\tvalid_0's multi_error: 0.454959\tvalid_0's multi_logloss: 1.19634\tvalid_1's multi_error: 0.480793\tvalid_1's multi_logloss: 1.20985\n",
            "[24]\tvalid_0's multi_error: 0.454132\tvalid_0's multi_logloss: 1.19111\tvalid_1's multi_error: 0.479554\tvalid_1's multi_logloss: 1.20516\n",
            "[25]\tvalid_0's multi_error: 0.451653\tvalid_0's multi_logloss: 1.18617\tvalid_1's multi_error: 0.479864\tvalid_1's multi_logloss: 1.20078\n",
            "[26]\tvalid_0's multi_error: 0.45124\tvalid_0's multi_logloss: 1.18131\tvalid_1's multi_error: 0.480483\tvalid_1's multi_logloss: 1.1964\n",
            "[27]\tvalid_0's multi_error: 0.45186\tvalid_0's multi_logloss: 1.17654\tvalid_1's multi_error: 0.479864\tvalid_1's multi_logloss: 1.19224\n",
            "[28]\tvalid_0's multi_error: 0.45186\tvalid_0's multi_logloss: 1.17196\tvalid_1's multi_error: 0.482652\tvalid_1's multi_logloss: 1.18816\n",
            "[29]\tvalid_0's multi_error: 0.45124\tvalid_0's multi_logloss: 1.16735\tvalid_1's multi_error: 0.481103\tvalid_1's multi_logloss: 1.18424\n",
            "[30]\tvalid_0's multi_error: 0.449793\tvalid_0's multi_logloss: 1.16304\tvalid_1's multi_error: 0.480173\tvalid_1's multi_logloss: 1.18059\n",
            "[31]\tvalid_0's multi_error: 0.447107\tvalid_0's multi_logloss: 1.15892\tvalid_1's multi_error: 0.482032\tvalid_1's multi_logloss: 1.17709\n",
            "[32]\tvalid_0's multi_error: 0.448347\tvalid_0's multi_logloss: 1.15472\tvalid_1's multi_error: 0.477695\tvalid_1's multi_logloss: 1.17355\n",
            "[33]\tvalid_0's multi_error: 0.446901\tvalid_0's multi_logloss: 1.15053\tvalid_1's multi_error: 0.477385\tvalid_1's multi_logloss: 1.17002\n",
            "[34]\tvalid_0's multi_error: 0.447314\tvalid_0's multi_logloss: 1.14649\tvalid_1's multi_error: 0.478934\tvalid_1's multi_logloss: 1.16653\n",
            "[35]\tvalid_0's multi_error: 0.446901\tvalid_0's multi_logloss: 1.14271\tvalid_1's multi_error: 0.479554\tvalid_1's multi_logloss: 1.16343\n",
            "[36]\tvalid_0's multi_error: 0.446488\tvalid_0's multi_logloss: 1.13932\tvalid_1's multi_error: 0.478625\tvalid_1's multi_logloss: 1.16056\n",
            "[37]\tvalid_0's multi_error: 0.445868\tvalid_0's multi_logloss: 1.13581\tvalid_1's multi_error: 0.479554\tvalid_1's multi_logloss: 1.15749\n",
            "[38]\tvalid_0's multi_error: 0.444008\tvalid_0's multi_logloss: 1.13228\tvalid_1's multi_error: 0.480793\tvalid_1's multi_logloss: 1.15458\n",
            "[39]\tvalid_0's multi_error: 0.444835\tvalid_0's multi_logloss: 1.12892\tvalid_1's multi_error: 0.480793\tvalid_1's multi_logloss: 1.15179\n",
            "[40]\tvalid_0's multi_error: 0.445661\tvalid_0's multi_logloss: 1.12583\tvalid_1's multi_error: 0.477695\tvalid_1's multi_logloss: 1.1492\n",
            "[41]\tvalid_0's multi_error: 0.443388\tvalid_0's multi_logloss: 1.12268\tvalid_1's multi_error: 0.479244\tvalid_1's multi_logloss: 1.14668\n",
            "[42]\tvalid_0's multi_error: 0.443182\tvalid_0's multi_logloss: 1.11959\tvalid_1's multi_error: 0.479554\tvalid_1's multi_logloss: 1.14411\n",
            "[43]\tvalid_0's multi_error: 0.443388\tvalid_0's multi_logloss: 1.11653\tvalid_1's multi_error: 0.478625\tvalid_1's multi_logloss: 1.14169\n",
            "[44]\tvalid_0's multi_error: 0.442769\tvalid_0's multi_logloss: 1.11367\tvalid_1's multi_error: 0.478934\tvalid_1's multi_logloss: 1.13931\n",
            "[45]\tvalid_0's multi_error: 0.443388\tvalid_0's multi_logloss: 1.11094\tvalid_1's multi_error: 0.477695\tvalid_1's multi_logloss: 1.13706\n",
            "[46]\tvalid_0's multi_error: 0.442975\tvalid_0's multi_logloss: 1.10819\tvalid_1's multi_error: 0.478315\tvalid_1's multi_logloss: 1.13486\n",
            "[47]\tvalid_0's multi_error: 0.443802\tvalid_0's multi_logloss: 1.10565\tvalid_1's multi_error: 0.478315\tvalid_1's multi_logloss: 1.13284\n",
            "[48]\tvalid_0's multi_error: 0.443388\tvalid_0's multi_logloss: 1.10295\tvalid_1's multi_error: 0.478005\tvalid_1's multi_logloss: 1.13061\n",
            "[49]\tvalid_0's multi_error: 0.444215\tvalid_0's multi_logloss: 1.10036\tvalid_1's multi_error: 0.478315\tvalid_1's multi_logloss: 1.12854\n",
            "[50]\tvalid_0's multi_error: 0.444421\tvalid_0's multi_logloss: 1.09792\tvalid_1's multi_error: 0.479244\tvalid_1's multi_logloss: 1.12662\n",
            "[51]\tvalid_0's multi_error: 0.444628\tvalid_0's multi_logloss: 1.09541\tvalid_1's multi_error: 0.479554\tvalid_1's multi_logloss: 1.12468\n",
            "[52]\tvalid_0's multi_error: 0.444628\tvalid_0's multi_logloss: 1.09309\tvalid_1's multi_error: 0.480793\tvalid_1's multi_logloss: 1.12283\n",
            "[53]\tvalid_0's multi_error: 0.445455\tvalid_0's multi_logloss: 1.09075\tvalid_1's multi_error: 0.480793\tvalid_1's multi_logloss: 1.12098\n",
            "[54]\tvalid_0's multi_error: 0.443182\tvalid_0's multi_logloss: 1.08852\tvalid_1's multi_error: 0.480793\tvalid_1's multi_logloss: 1.11918\n",
            "[55]\tvalid_0's multi_error: 0.442769\tvalid_0's multi_logloss: 1.08629\tvalid_1's multi_error: 0.480483\tvalid_1's multi_logloss: 1.11747\n",
            "[56]\tvalid_0's multi_error: 0.442355\tvalid_0's multi_logloss: 1.08419\tvalid_1's multi_error: 0.478005\tvalid_1's multi_logloss: 1.11586\n",
            "[57]\tvalid_0's multi_error: 0.441942\tvalid_0's multi_logloss: 1.08206\tvalid_1's multi_error: 0.477695\tvalid_1's multi_logloss: 1.11433\n",
            "[58]\tvalid_0's multi_error: 0.441529\tvalid_0's multi_logloss: 1.07991\tvalid_1's multi_error: 0.477695\tvalid_1's multi_logloss: 1.11288\n",
            "[59]\tvalid_0's multi_error: 0.440702\tvalid_0's multi_logloss: 1.07797\tvalid_1's multi_error: 0.478005\tvalid_1's multi_logloss: 1.1114\n",
            "[60]\tvalid_0's multi_error: 0.441116\tvalid_0's multi_logloss: 1.07603\tvalid_1's multi_error: 0.478315\tvalid_1's multi_logloss: 1.10996\n",
            "[61]\tvalid_0's multi_error: 0.439876\tvalid_0's multi_logloss: 1.07414\tvalid_1's multi_error: 0.476456\tvalid_1's multi_logloss: 1.10849\n",
            "[62]\tvalid_0's multi_error: 0.439463\tvalid_0's multi_logloss: 1.07225\tvalid_1's multi_error: 0.477076\tvalid_1's multi_logloss: 1.10716\n",
            "[63]\tvalid_0's multi_error: 0.439669\tvalid_0's multi_logloss: 1.07032\tvalid_1's multi_error: 0.477076\tvalid_1's multi_logloss: 1.10577\n",
            "[64]\tvalid_0's multi_error: 0.440083\tvalid_0's multi_logloss: 1.06841\tvalid_1's multi_error: 0.476146\tvalid_1's multi_logloss: 1.10427\n",
            "[65]\tvalid_0's multi_error: 0.440083\tvalid_0's multi_logloss: 1.06672\tvalid_1's multi_error: 0.477076\tvalid_1's multi_logloss: 1.10307\n",
            "[66]\tvalid_0's multi_error: 0.439256\tvalid_0's multi_logloss: 1.06488\tvalid_1's multi_error: 0.477385\tvalid_1's multi_logloss: 1.10167\n",
            "[67]\tvalid_0's multi_error: 0.438017\tvalid_0's multi_logloss: 1.06316\tvalid_1's multi_error: 0.476456\tvalid_1's multi_logloss: 1.10041\n",
            "[68]\tvalid_0's multi_error: 0.43843\tvalid_0's multi_logloss: 1.06152\tvalid_1's multi_error: 0.475217\tvalid_1's multi_logloss: 1.09928\n",
            "[69]\tvalid_0's multi_error: 0.438017\tvalid_0's multi_logloss: 1.05986\tvalid_1's multi_error: 0.476146\tvalid_1's multi_logloss: 1.0981\n",
            "[70]\tvalid_0's multi_error: 0.436983\tvalid_0's multi_logloss: 1.05819\tvalid_1's multi_error: 0.476456\tvalid_1's multi_logloss: 1.09694\n",
            "[71]\tvalid_0's multi_error: 0.436777\tvalid_0's multi_logloss: 1.05653\tvalid_1's multi_error: 0.475836\tvalid_1's multi_logloss: 1.09581\n",
            "[72]\tvalid_0's multi_error: 0.435331\tvalid_0's multi_logloss: 1.05492\tvalid_1's multi_error: 0.475836\tvalid_1's multi_logloss: 1.09463\n",
            "[73]\tvalid_0's multi_error: 0.436157\tvalid_0's multi_logloss: 1.05339\tvalid_1's multi_error: 0.476456\tvalid_1's multi_logloss: 1.09361\n",
            "[74]\tvalid_0's multi_error: 0.434711\tvalid_0's multi_logloss: 1.05192\tvalid_1's multi_error: 0.477385\tvalid_1's multi_logloss: 1.09256\n",
            "[75]\tvalid_0's multi_error: 0.433884\tvalid_0's multi_logloss: 1.05037\tvalid_1's multi_error: 0.475836\tvalid_1's multi_logloss: 1.0914\n",
            "[76]\tvalid_0's multi_error: 0.433264\tvalid_0's multi_logloss: 1.04898\tvalid_1's multi_error: 0.475217\tvalid_1's multi_logloss: 1.09038\n",
            "[77]\tvalid_0's multi_error: 0.433678\tvalid_0's multi_logloss: 1.04751\tvalid_1's multi_error: 0.474287\tvalid_1's multi_logloss: 1.0895\n",
            "[78]\tvalid_0's multi_error: 0.433471\tvalid_0's multi_logloss: 1.04625\tvalid_1's multi_error: 0.473978\tvalid_1's multi_logloss: 1.08869\n",
            "[79]\tvalid_0's multi_error: 0.433058\tvalid_0's multi_logloss: 1.04497\tvalid_1's multi_error: 0.474597\tvalid_1's multi_logloss: 1.08787\n",
            "[80]\tvalid_0's multi_error: 0.432231\tvalid_0's multi_logloss: 1.04361\tvalid_1's multi_error: 0.474287\tvalid_1's multi_logloss: 1.08695\n",
            "[81]\tvalid_0's multi_error: 0.432645\tvalid_0's multi_logloss: 1.0423\tvalid_1's multi_error: 0.472119\tvalid_1's multi_logloss: 1.08613\n",
            "[82]\tvalid_0's multi_error: 0.431818\tvalid_0's multi_logloss: 1.04101\tvalid_1's multi_error: 0.47119\tvalid_1's multi_logloss: 1.08536\n",
            "[83]\tvalid_0's multi_error: 0.431405\tvalid_0's multi_logloss: 1.0398\tvalid_1's multi_error: 0.471809\tvalid_1's multi_logloss: 1.08461\n",
            "[84]\tvalid_0's multi_error: 0.431612\tvalid_0's multi_logloss: 1.03856\tvalid_1's multi_error: 0.472119\tvalid_1's multi_logloss: 1.08392\n",
            "[85]\tvalid_0's multi_error: 0.431405\tvalid_0's multi_logloss: 1.03735\tvalid_1's multi_error: 0.471809\tvalid_1's multi_logloss: 1.08319\n",
            "[86]\tvalid_0's multi_error: 0.430372\tvalid_0's multi_logloss: 1.0361\tvalid_1's multi_error: 0.47088\tvalid_1's multi_logloss: 1.08245\n",
            "[87]\tvalid_0's multi_error: 0.429545\tvalid_0's multi_logloss: 1.03497\tvalid_1's multi_error: 0.47057\tvalid_1's multi_logloss: 1.08187\n",
            "[88]\tvalid_0's multi_error: 0.429752\tvalid_0's multi_logloss: 1.03384\tvalid_1's multi_error: 0.47088\tvalid_1's multi_logloss: 1.08127\n",
            "[89]\tvalid_0's multi_error: 0.429959\tvalid_0's multi_logloss: 1.03261\tvalid_1's multi_error: 0.472119\tvalid_1's multi_logloss: 1.08062\n",
            "[90]\tvalid_0's multi_error: 0.430372\tvalid_0's multi_logloss: 1.03148\tvalid_1's multi_error: 0.47088\tvalid_1's multi_logloss: 1.08006\n",
            "[91]\tvalid_0's multi_error: 0.430785\tvalid_0's multi_logloss: 1.03037\tvalid_1's multi_error: 0.471499\tvalid_1's multi_logloss: 1.07955\n",
            "[92]\tvalid_0's multi_error: 0.430165\tvalid_0's multi_logloss: 1.0293\tvalid_1's multi_error: 0.471499\tvalid_1's multi_logloss: 1.07903\n",
            "[93]\tvalid_0's multi_error: 0.429959\tvalid_0's multi_logloss: 1.02825\tvalid_1's multi_error: 0.47119\tvalid_1's multi_logloss: 1.07849\n",
            "[94]\tvalid_0's multi_error: 0.430372\tvalid_0's multi_logloss: 1.02724\tvalid_1's multi_error: 0.47088\tvalid_1's multi_logloss: 1.07795\n",
            "[95]\tvalid_0's multi_error: 0.430165\tvalid_0's multi_logloss: 1.02629\tvalid_1's multi_error: 0.47057\tvalid_1's multi_logloss: 1.07748\n",
            "[96]\tvalid_0's multi_error: 0.429545\tvalid_0's multi_logloss: 1.02524\tvalid_1's multi_error: 0.47088\tvalid_1's multi_logloss: 1.07694\n",
            "[97]\tvalid_0's multi_error: 0.430579\tvalid_0's multi_logloss: 1.02425\tvalid_1's multi_error: 0.47088\tvalid_1's multi_logloss: 1.07647\n",
            "[98]\tvalid_0's multi_error: 0.429339\tvalid_0's multi_logloss: 1.02326\tvalid_1's multi_error: 0.47057\tvalid_1's multi_logloss: 1.07593\n",
            "[99]\tvalid_0's multi_error: 0.430165\tvalid_0's multi_logloss: 1.02231\tvalid_1's multi_error: 0.47057\tvalid_1's multi_logloss: 1.07552\n",
            "[100]\tvalid_0's multi_error: 0.430165\tvalid_0's multi_logloss: 1.02134\tvalid_1's multi_error: 0.47057\tvalid_1's multi_logloss: 1.07513\n",
            "[101]\tvalid_0's multi_error: 0.430165\tvalid_0's multi_logloss: 1.02032\tvalid_1's multi_error: 0.47088\tvalid_1's multi_logloss: 1.07465\n",
            "[102]\tvalid_0's multi_error: 0.430372\tvalid_0's multi_logloss: 1.01938\tvalid_1's multi_error: 0.47088\tvalid_1's multi_logloss: 1.0743\n",
            "[103]\tvalid_0's multi_error: 0.430372\tvalid_0's multi_logloss: 1.01846\tvalid_1's multi_error: 0.47057\tvalid_1's multi_logloss: 1.07388\n",
            "[104]\tvalid_0's multi_error: 0.429959\tvalid_0's multi_logloss: 1.01752\tvalid_1's multi_error: 0.46995\tvalid_1's multi_logloss: 1.07346\n",
            "[105]\tvalid_0's multi_error: 0.429132\tvalid_0's multi_logloss: 1.01664\tvalid_1's multi_error: 0.46995\tvalid_1's multi_logloss: 1.07314\n",
            "[106]\tvalid_0's multi_error: 0.428512\tvalid_0's multi_logloss: 1.01575\tvalid_1's multi_error: 0.47026\tvalid_1's multi_logloss: 1.07281\n",
            "[107]\tvalid_0's multi_error: 0.429545\tvalid_0's multi_logloss: 1.0149\tvalid_1's multi_error: 0.47026\tvalid_1's multi_logloss: 1.07247\n",
            "[108]\tvalid_0's multi_error: 0.429339\tvalid_0's multi_logloss: 1.01411\tvalid_1's multi_error: 0.469641\tvalid_1's multi_logloss: 1.07214\n",
            "[109]\tvalid_0's multi_error: 0.428512\tvalid_0's multi_logloss: 1.01329\tvalid_1's multi_error: 0.47057\tvalid_1's multi_logloss: 1.07187\n",
            "[110]\tvalid_0's multi_error: 0.429339\tvalid_0's multi_logloss: 1.01236\tvalid_1's multi_error: 0.47088\tvalid_1's multi_logloss: 1.07143\n",
            "[111]\tvalid_0's multi_error: 0.429545\tvalid_0's multi_logloss: 1.01152\tvalid_1's multi_error: 0.47026\tvalid_1's multi_logloss: 1.07115\n",
            "[112]\tvalid_0's multi_error: 0.430165\tvalid_0's multi_logloss: 1.01059\tvalid_1's multi_error: 0.47119\tvalid_1's multi_logloss: 1.07075\n",
            "[113]\tvalid_0's multi_error: 0.429752\tvalid_0's multi_logloss: 1.00963\tvalid_1's multi_error: 0.47026\tvalid_1's multi_logloss: 1.07028\n",
            "[114]\tvalid_0's multi_error: 0.429132\tvalid_0's multi_logloss: 1.00881\tvalid_1's multi_error: 0.47026\tvalid_1's multi_logloss: 1.06999\n",
            "[115]\tvalid_0's multi_error: 0.429339\tvalid_0's multi_logloss: 1.00799\tvalid_1's multi_error: 0.47026\tvalid_1's multi_logloss: 1.06969\n",
            "[116]\tvalid_0's multi_error: 0.428926\tvalid_0's multi_logloss: 1.00718\tvalid_1's multi_error: 0.47057\tvalid_1's multi_logloss: 1.06933\n",
            "[117]\tvalid_0's multi_error: 0.427893\tvalid_0's multi_logloss: 1.00641\tvalid_1's multi_error: 0.46995\tvalid_1's multi_logloss: 1.06899\n",
            "[118]\tvalid_0's multi_error: 0.428099\tvalid_0's multi_logloss: 1.00564\tvalid_1's multi_error: 0.469331\tvalid_1's multi_logloss: 1.06858\n",
            "[119]\tvalid_0's multi_error: 0.428099\tvalid_0's multi_logloss: 1.00481\tvalid_1's multi_error: 0.46995\tvalid_1's multi_logloss: 1.06824\n",
            "[120]\tvalid_0's multi_error: 0.429132\tvalid_0's multi_logloss: 1.0041\tvalid_1's multi_error: 0.47057\tvalid_1's multi_logloss: 1.06791\n",
            "[121]\tvalid_0's multi_error: 0.428926\tvalid_0's multi_logloss: 1.00331\tvalid_1's multi_error: 0.46995\tvalid_1's multi_logloss: 1.06765\n",
            "[122]\tvalid_0's multi_error: 0.428926\tvalid_0's multi_logloss: 1.00257\tvalid_1's multi_error: 0.469641\tvalid_1's multi_logloss: 1.06742\n",
            "[123]\tvalid_0's multi_error: 0.428719\tvalid_0's multi_logloss: 1.00186\tvalid_1's multi_error: 0.469331\tvalid_1's multi_logloss: 1.06716\n",
            "[124]\tvalid_0's multi_error: 0.428926\tvalid_0's multi_logloss: 1.00108\tvalid_1's multi_error: 0.469331\tvalid_1's multi_logloss: 1.0668\n",
            "[125]\tvalid_0's multi_error: 0.428306\tvalid_0's multi_logloss: 1.00034\tvalid_1's multi_error: 0.469331\tvalid_1's multi_logloss: 1.06649\n",
            "[126]\tvalid_0's multi_error: 0.428306\tvalid_0's multi_logloss: 0.999586\tvalid_1's multi_error: 0.468711\tvalid_1's multi_logloss: 1.06618\n",
            "[127]\tvalid_0's multi_error: 0.427066\tvalid_0's multi_logloss: 0.998824\tvalid_1's multi_error: 0.468401\tvalid_1's multi_logloss: 1.06593\n",
            "[128]\tvalid_0's multi_error: 0.42686\tvalid_0's multi_logloss: 0.998009\tvalid_1's multi_error: 0.468401\tvalid_1's multi_logloss: 1.06557\n",
            "[129]\tvalid_0's multi_error: 0.426653\tvalid_0's multi_logloss: 0.997264\tvalid_1's multi_error: 0.468401\tvalid_1's multi_logloss: 1.06523\n",
            "[130]\tvalid_0's multi_error: 0.426033\tvalid_0's multi_logloss: 0.996446\tvalid_1's multi_error: 0.468401\tvalid_1's multi_logloss: 1.06495\n",
            "[131]\tvalid_0's multi_error: 0.425207\tvalid_0's multi_logloss: 0.995663\tvalid_1's multi_error: 0.467782\tvalid_1's multi_logloss: 1.0646\n",
            "[132]\tvalid_0's multi_error: 0.425\tvalid_0's multi_logloss: 0.994999\tvalid_1's multi_error: 0.467162\tvalid_1's multi_logloss: 1.0643\n",
            "[133]\tvalid_0's multi_error: 0.423347\tvalid_0's multi_logloss: 0.99417\tvalid_1's multi_error: 0.468092\tvalid_1's multi_logloss: 1.06402\n",
            "[134]\tvalid_0's multi_error: 0.423347\tvalid_0's multi_logloss: 0.993584\tvalid_1's multi_error: 0.467472\tvalid_1's multi_logloss: 1.06376\n",
            "[135]\tvalid_0's multi_error: 0.422934\tvalid_0's multi_logloss: 0.992865\tvalid_1's multi_error: 0.468401\tvalid_1's multi_logloss: 1.06345\n",
            "[136]\tvalid_0's multi_error: 0.42314\tvalid_0's multi_logloss: 0.992077\tvalid_1's multi_error: 0.468092\tvalid_1's multi_logloss: 1.06309\n",
            "[137]\tvalid_0's multi_error: 0.422521\tvalid_0's multi_logloss: 0.991447\tvalid_1's multi_error: 0.468711\tvalid_1's multi_logloss: 1.06284\n",
            "[138]\tvalid_0's multi_error: 0.422107\tvalid_0's multi_logloss: 0.990882\tvalid_1's multi_error: 0.469021\tvalid_1's multi_logloss: 1.06263\n",
            "[139]\tvalid_0's multi_error: 0.422107\tvalid_0's multi_logloss: 0.990263\tvalid_1's multi_error: 0.469021\tvalid_1's multi_logloss: 1.06248\n",
            "[140]\tvalid_0's multi_error: 0.421694\tvalid_0's multi_logloss: 0.98962\tvalid_1's multi_error: 0.468711\tvalid_1's multi_logloss: 1.06224\n",
            "[141]\tvalid_0's multi_error: 0.420248\tvalid_0's multi_logloss: 0.989006\tvalid_1's multi_error: 0.469331\tvalid_1's multi_logloss: 1.06209\n",
            "[142]\tvalid_0's multi_error: 0.421074\tvalid_0's multi_logloss: 0.988425\tvalid_1's multi_error: 0.46995\tvalid_1's multi_logloss: 1.06191\n",
            "[143]\tvalid_0's multi_error: 0.419835\tvalid_0's multi_logloss: 0.987853\tvalid_1's multi_error: 0.46995\tvalid_1's multi_logloss: 1.06179\n",
            "[144]\tvalid_0's multi_error: 0.419421\tvalid_0's multi_logloss: 0.987163\tvalid_1's multi_error: 0.469641\tvalid_1's multi_logloss: 1.06163\n",
            "[145]\tvalid_0's multi_error: 0.419421\tvalid_0's multi_logloss: 0.986472\tvalid_1's multi_error: 0.469331\tvalid_1's multi_logloss: 1.06149\n",
            "[146]\tvalid_0's multi_error: 0.419215\tvalid_0's multi_logloss: 0.985911\tvalid_1's multi_error: 0.469331\tvalid_1's multi_logloss: 1.0614\n",
            "[147]\tvalid_0's multi_error: 0.418802\tvalid_0's multi_logloss: 0.985186\tvalid_1's multi_error: 0.46995\tvalid_1's multi_logloss: 1.0613\n",
            "[148]\tvalid_0's multi_error: 0.419008\tvalid_0's multi_logloss: 0.984591\tvalid_1's multi_error: 0.47088\tvalid_1's multi_logloss: 1.06108\n",
            "[149]\tvalid_0's multi_error: 0.418595\tvalid_0's multi_logloss: 0.983946\tvalid_1's multi_error: 0.47057\tvalid_1's multi_logloss: 1.06092\n",
            "[150]\tvalid_0's multi_error: 0.418182\tvalid_0's multi_logloss: 0.983342\tvalid_1's multi_error: 0.47026\tvalid_1's multi_logloss: 1.06084\n",
            "[151]\tvalid_0's multi_error: 0.417769\tvalid_0's multi_logloss: 0.982706\tvalid_1's multi_error: 0.46995\tvalid_1's multi_logloss: 1.06067\n",
            "[152]\tvalid_0's multi_error: 0.417562\tvalid_0's multi_logloss: 0.982031\tvalid_1's multi_error: 0.469641\tvalid_1's multi_logloss: 1.06052\n",
            "[153]\tvalid_0's multi_error: 0.417975\tvalid_0's multi_logloss: 0.981309\tvalid_1's multi_error: 0.46995\tvalid_1's multi_logloss: 1.06033\n",
            "[154]\tvalid_0's multi_error: 0.418182\tvalid_0's multi_logloss: 0.980716\tvalid_1's multi_error: 0.46995\tvalid_1's multi_logloss: 1.06012\n",
            "[155]\tvalid_0's multi_error: 0.417975\tvalid_0's multi_logloss: 0.980023\tvalid_1's multi_error: 0.47026\tvalid_1's multi_logloss: 1.05995\n",
            "[156]\tvalid_0's multi_error: 0.418182\tvalid_0's multi_logloss: 0.979551\tvalid_1's multi_error: 0.47057\tvalid_1's multi_logloss: 1.05986\n",
            "[157]\tvalid_0's multi_error: 0.418182\tvalid_0's multi_logloss: 0.978921\tvalid_1's multi_error: 0.46995\tvalid_1's multi_logloss: 1.05975\n",
            "[158]\tvalid_0's multi_error: 0.418595\tvalid_0's multi_logloss: 0.978339\tvalid_1's multi_error: 0.469331\tvalid_1's multi_logloss: 1.05975\n",
            "[159]\tvalid_0's multi_error: 0.417769\tvalid_0's multi_logloss: 0.977718\tvalid_1's multi_error: 0.468711\tvalid_1's multi_logloss: 1.05969\n",
            "[160]\tvalid_0's multi_error: 0.417562\tvalid_0's multi_logloss: 0.977173\tvalid_1's multi_error: 0.468711\tvalid_1's multi_logloss: 1.05963\n",
            "[161]\tvalid_0's multi_error: 0.416942\tvalid_0's multi_logloss: 0.976624\tvalid_1's multi_error: 0.469021\tvalid_1's multi_logloss: 1.05955\n",
            "[162]\tvalid_0's multi_error: 0.417149\tvalid_0's multi_logloss: 0.97613\tvalid_1's multi_error: 0.468711\tvalid_1's multi_logloss: 1.05946\n",
            "[163]\tvalid_0's multi_error: 0.416736\tvalid_0's multi_logloss: 0.975536\tvalid_1's multi_error: 0.46995\tvalid_1's multi_logloss: 1.05936\n",
            "[164]\tvalid_0's multi_error: 0.416736\tvalid_0's multi_logloss: 0.97503\tvalid_1's multi_error: 0.469641\tvalid_1's multi_logloss: 1.05918\n",
            "[165]\tvalid_0's multi_error: 0.416116\tvalid_0's multi_logloss: 0.974496\tvalid_1's multi_error: 0.46995\tvalid_1's multi_logloss: 1.05899\n",
            "[166]\tvalid_0's multi_error: 0.415909\tvalid_0's multi_logloss: 0.973921\tvalid_1's multi_error: 0.469641\tvalid_1's multi_logloss: 1.05897\n",
            "[167]\tvalid_0's multi_error: 0.415702\tvalid_0's multi_logloss: 0.973395\tvalid_1's multi_error: 0.469331\tvalid_1's multi_logloss: 1.05897\n",
            "[168]\tvalid_0's multi_error: 0.416116\tvalid_0's multi_logloss: 0.972935\tvalid_1's multi_error: 0.468711\tvalid_1's multi_logloss: 1.0589\n",
            "[169]\tvalid_0's multi_error: 0.415289\tvalid_0's multi_logloss: 0.97246\tvalid_1's multi_error: 0.468401\tvalid_1's multi_logloss: 1.05893\n",
            "[170]\tvalid_0's multi_error: 0.414876\tvalid_0's multi_logloss: 0.971899\tvalid_1's multi_error: 0.469021\tvalid_1's multi_logloss: 1.05883\n",
            "[171]\tvalid_0's multi_error: 0.415083\tvalid_0's multi_logloss: 0.971372\tvalid_1's multi_error: 0.46995\tvalid_1's multi_logloss: 1.0588\n",
            "[172]\tvalid_0's multi_error: 0.41343\tvalid_0's multi_logloss: 0.970834\tvalid_1's multi_error: 0.47057\tvalid_1's multi_logloss: 1.05884\n",
            "[173]\tvalid_0's multi_error: 0.41343\tvalid_0's multi_logloss: 0.970279\tvalid_1's multi_error: 0.47026\tvalid_1's multi_logloss: 1.05873\n",
            "[174]\tvalid_0's multi_error: 0.413017\tvalid_0's multi_logloss: 0.969784\tvalid_1's multi_error: 0.47088\tvalid_1's multi_logloss: 1.05875\n",
            "[175]\tvalid_0's multi_error: 0.412603\tvalid_0's multi_logloss: 0.969214\tvalid_1's multi_error: 0.46995\tvalid_1's multi_logloss: 1.05863\n",
            "[176]\tvalid_0's multi_error: 0.411777\tvalid_0's multi_logloss: 0.968654\tvalid_1's multi_error: 0.469641\tvalid_1's multi_logloss: 1.05852\n",
            "[177]\tvalid_0's multi_error: 0.41095\tvalid_0's multi_logloss: 0.968123\tvalid_1's multi_error: 0.47057\tvalid_1's multi_logloss: 1.0585\n",
            "[178]\tvalid_0's multi_error: 0.411157\tvalid_0's multi_logloss: 0.967683\tvalid_1's multi_error: 0.47119\tvalid_1's multi_logloss: 1.05846\n",
            "[179]\tvalid_0's multi_error: 0.41157\tvalid_0's multi_logloss: 0.967206\tvalid_1's multi_error: 0.47119\tvalid_1's multi_logloss: 1.05851\n",
            "[180]\tvalid_0's multi_error: 0.409711\tvalid_0's multi_logloss: 0.966728\tvalid_1's multi_error: 0.47088\tvalid_1's multi_logloss: 1.05841\n",
            "[181]\tvalid_0's multi_error: 0.410124\tvalid_0's multi_logloss: 0.966233\tvalid_1's multi_error: 0.471809\tvalid_1's multi_logloss: 1.0584\n",
            "[182]\tvalid_0's multi_error: 0.408471\tvalid_0's multi_logloss: 0.965713\tvalid_1's multi_error: 0.472119\tvalid_1's multi_logloss: 1.05835\n",
            "[183]\tvalid_0's multi_error: 0.408678\tvalid_0's multi_logloss: 0.965243\tvalid_1's multi_error: 0.472429\tvalid_1's multi_logloss: 1.05834\n",
            "[184]\tvalid_0's multi_error: 0.409298\tvalid_0's multi_logloss: 0.964792\tvalid_1's multi_error: 0.471499\tvalid_1's multi_logloss: 1.05827\n",
            "[185]\tvalid_0's multi_error: 0.408884\tvalid_0's multi_logloss: 0.964374\tvalid_1's multi_error: 0.471499\tvalid_1's multi_logloss: 1.05824\n",
            "[186]\tvalid_0's multi_error: 0.408264\tvalid_0's multi_logloss: 0.963918\tvalid_1's multi_error: 0.471499\tvalid_1's multi_logloss: 1.05819\n",
            "[187]\tvalid_0's multi_error: 0.408471\tvalid_0's multi_logloss: 0.963447\tvalid_1's multi_error: 0.47057\tvalid_1's multi_logloss: 1.05816\n",
            "[188]\tvalid_0's multi_error: 0.407851\tvalid_0's multi_logloss: 0.96303\tvalid_1's multi_error: 0.47026\tvalid_1's multi_logloss: 1.05806\n",
            "[189]\tvalid_0's multi_error: 0.406818\tvalid_0's multi_logloss: 0.962595\tvalid_1's multi_error: 0.469641\tvalid_1's multi_logloss: 1.058\n",
            "[190]\tvalid_0's multi_error: 0.407231\tvalid_0's multi_logloss: 0.962189\tvalid_1's multi_error: 0.468401\tvalid_1's multi_logloss: 1.05793\n",
            "[191]\tvalid_0's multi_error: 0.406818\tvalid_0's multi_logloss: 0.961799\tvalid_1's multi_error: 0.468711\tvalid_1's multi_logloss: 1.05794\n",
            "[192]\tvalid_0's multi_error: 0.407231\tvalid_0's multi_logloss: 0.961285\tvalid_1's multi_error: 0.47026\tvalid_1's multi_logloss: 1.05793\n",
            "[193]\tvalid_0's multi_error: 0.407438\tvalid_0's multi_logloss: 0.960753\tvalid_1's multi_error: 0.47026\tvalid_1's multi_logloss: 1.05783\n",
            "[194]\tvalid_0's multi_error: 0.407438\tvalid_0's multi_logloss: 0.960222\tvalid_1's multi_error: 0.46995\tvalid_1's multi_logloss: 1.05783\n",
            "[195]\tvalid_0's multi_error: 0.406612\tvalid_0's multi_logloss: 0.959771\tvalid_1's multi_error: 0.469641\tvalid_1's multi_logloss: 1.05777\n",
            "[196]\tvalid_0's multi_error: 0.406405\tvalid_0's multi_logloss: 0.95938\tvalid_1's multi_error: 0.46995\tvalid_1's multi_logloss: 1.05775\n",
            "[197]\tvalid_0's multi_error: 0.406612\tvalid_0's multi_logloss: 0.958912\tvalid_1's multi_error: 0.469331\tvalid_1's multi_logloss: 1.0576\n",
            "[198]\tvalid_0's multi_error: 0.405992\tvalid_0's multi_logloss: 0.95848\tvalid_1's multi_error: 0.469331\tvalid_1's multi_logloss: 1.05753\n",
            "[199]\tvalid_0's multi_error: 0.405992\tvalid_0's multi_logloss: 0.958005\tvalid_1's multi_error: 0.468401\tvalid_1's multi_logloss: 1.05761\n",
            "[200]\tvalid_0's multi_error: 0.407025\tvalid_0's multi_logloss: 0.957587\tvalid_1's multi_error: 0.468711\tvalid_1's multi_logloss: 1.05763\n",
            "[201]\tvalid_0's multi_error: 0.407025\tvalid_0's multi_logloss: 0.95721\tvalid_1's multi_error: 0.469021\tvalid_1's multi_logloss: 1.05758\n",
            "[202]\tvalid_0's multi_error: 0.406198\tvalid_0's multi_logloss: 0.956729\tvalid_1's multi_error: 0.469021\tvalid_1's multi_logloss: 1.05757\n",
            "[203]\tvalid_0's multi_error: 0.406405\tvalid_0's multi_logloss: 0.95632\tvalid_1's multi_error: 0.469641\tvalid_1's multi_logloss: 1.05754\n",
            "[204]\tvalid_0's multi_error: 0.406198\tvalid_0's multi_logloss: 0.955911\tvalid_1's multi_error: 0.468401\tvalid_1's multi_logloss: 1.05753\n",
            "[205]\tvalid_0's multi_error: 0.405992\tvalid_0's multi_logloss: 0.955401\tvalid_1's multi_error: 0.469021\tvalid_1's multi_logloss: 1.05752\n",
            "[206]\tvalid_0's multi_error: 0.405785\tvalid_0's multi_logloss: 0.954931\tvalid_1's multi_error: 0.468092\tvalid_1's multi_logloss: 1.05759\n",
            "[207]\tvalid_0's multi_error: 0.405579\tvalid_0's multi_logloss: 0.954443\tvalid_1's multi_error: 0.469331\tvalid_1's multi_logloss: 1.05753\n",
            "[208]\tvalid_0's multi_error: 0.405579\tvalid_0's multi_logloss: 0.953978\tvalid_1's multi_error: 0.468401\tvalid_1's multi_logloss: 1.0575\n",
            "[209]\tvalid_0's multi_error: 0.405579\tvalid_0's multi_logloss: 0.953594\tvalid_1's multi_error: 0.468711\tvalid_1's multi_logloss: 1.05754\n",
            "[210]\tvalid_0's multi_error: 0.405579\tvalid_0's multi_logloss: 0.953119\tvalid_1's multi_error: 0.469021\tvalid_1's multi_logloss: 1.05764\n",
            "[211]\tvalid_0's multi_error: 0.405165\tvalid_0's multi_logloss: 0.952687\tvalid_1's multi_error: 0.46995\tvalid_1's multi_logloss: 1.05762\n",
            "[212]\tvalid_0's multi_error: 0.405579\tvalid_0's multi_logloss: 0.952235\tvalid_1's multi_error: 0.468711\tvalid_1's multi_logloss: 1.05769\n",
            "[213]\tvalid_0's multi_error: 0.405372\tvalid_0's multi_logloss: 0.95182\tvalid_1's multi_error: 0.469021\tvalid_1's multi_logloss: 1.05776\n",
            "[214]\tvalid_0's multi_error: 0.406405\tvalid_0's multi_logloss: 0.95139\tvalid_1's multi_error: 0.468401\tvalid_1's multi_logloss: 1.05775\n",
            "[215]\tvalid_0's multi_error: 0.405992\tvalid_0's multi_logloss: 0.95096\tvalid_1's multi_error: 0.469021\tvalid_1's multi_logloss: 1.05779\n",
            "[216]\tvalid_0's multi_error: 0.404959\tvalid_0's multi_logloss: 0.950579\tvalid_1's multi_error: 0.468711\tvalid_1's multi_logloss: 1.05778\n",
            "[217]\tvalid_0's multi_error: 0.404132\tvalid_0's multi_logloss: 0.950153\tvalid_1's multi_error: 0.468711\tvalid_1's multi_logloss: 1.05786\n",
            "[218]\tvalid_0's multi_error: 0.404959\tvalid_0's multi_logloss: 0.949827\tvalid_1's multi_error: 0.469021\tvalid_1's multi_logloss: 1.05789\n",
            "[219]\tvalid_0's multi_error: 0.404959\tvalid_0's multi_logloss: 0.949391\tvalid_1's multi_error: 0.469641\tvalid_1's multi_logloss: 1.05793\n",
            "[220]\tvalid_0's multi_error: 0.404752\tvalid_0's multi_logloss: 0.94895\tvalid_1's multi_error: 0.469331\tvalid_1's multi_logloss: 1.05801\n",
            "[221]\tvalid_0's multi_error: 0.404545\tvalid_0's multi_logloss: 0.948564\tvalid_1's multi_error: 0.469021\tvalid_1's multi_logloss: 1.05798\n",
            "[222]\tvalid_0's multi_error: 0.404132\tvalid_0's multi_logloss: 0.948181\tvalid_1's multi_error: 0.469021\tvalid_1's multi_logloss: 1.058\n",
            "[223]\tvalid_0's multi_error: 0.403512\tvalid_0's multi_logloss: 0.947738\tvalid_1's multi_error: 0.469331\tvalid_1's multi_logloss: 1.058\n",
            "[224]\tvalid_0's multi_error: 0.403719\tvalid_0's multi_logloss: 0.947351\tvalid_1's multi_error: 0.47026\tvalid_1's multi_logloss: 1.05798\n",
            "[225]\tvalid_0's multi_error: 0.403512\tvalid_0's multi_logloss: 0.946948\tvalid_1's multi_error: 0.47088\tvalid_1's multi_logloss: 1.05801\n",
            "[226]\tvalid_0's multi_error: 0.403512\tvalid_0's multi_logloss: 0.946515\tvalid_1's multi_error: 0.47057\tvalid_1's multi_logloss: 1.05799\n",
            "[227]\tvalid_0's multi_error: 0.402479\tvalid_0's multi_logloss: 0.946045\tvalid_1's multi_error: 0.47057\tvalid_1's multi_logloss: 1.058\n",
            "[228]\tvalid_0's multi_error: 0.402893\tvalid_0's multi_logloss: 0.945602\tvalid_1's multi_error: 0.47057\tvalid_1's multi_logloss: 1.05803\n",
            "[229]\tvalid_0's multi_error: 0.403099\tvalid_0's multi_logloss: 0.945165\tvalid_1's multi_error: 0.471499\tvalid_1's multi_logloss: 1.05804\n",
            "[230]\tvalid_0's multi_error: 0.403099\tvalid_0's multi_logloss: 0.944791\tvalid_1's multi_error: 0.471809\tvalid_1's multi_logloss: 1.058\n",
            "[231]\tvalid_0's multi_error: 0.401653\tvalid_0's multi_logloss: 0.944331\tvalid_1's multi_error: 0.47088\tvalid_1's multi_logloss: 1.05809\n",
            "[232]\tvalid_0's multi_error: 0.402479\tvalid_0's multi_logloss: 0.943871\tvalid_1's multi_error: 0.47057\tvalid_1's multi_logloss: 1.0582\n",
            "Early stopping, best iteration is:\n",
            "[132]\tvalid_0's multi_error: 0.425\tvalid_0's multi_logloss: 0.994999\tvalid_1's multi_error: 0.467162\tvalid_1's multi_logloss: 1.0643\n",
            "Eval ACC: 0.5328376703841388\n"
          ]
        }
      ]
    },
    {
      "cell_type": "code",
      "source": [
        "train.head()"
      ],
      "metadata": {
        "colab": {
          "base_uri": "https://localhost:8080/",
          "height": 299
        },
        "id": "iMzOS6aKpEpM",
        "outputId": "40dc3455-c054-4bda-c30e-63598541ef88"
      },
      "execution_count": 270,
      "outputs": [
        {
          "output_type": "execute_result",
          "data": {
            "text/plain": [
              "         ID       Age  Work_Experience  Family_Size  Gender_Female  \\\n",
              "0 -0.258250 -1.284623        -0.451136     0.785536      -0.909164   \n",
              "1 -0.322213 -0.327151        -0.451136     0.122735       1.099912   \n",
              "2  1.092695  1.408268        -0.451136    -1.202868       1.099912   \n",
              "3 -0.672087  1.408268        -0.757410    -0.540066      -0.909164   \n",
              "4 -0.312195 -0.207467        -0.451136     2.111139       1.099912   \n",
              "\n",
              "   Gender_Male  Ever_Married_No  Ever_Married_Yes  Graduated_No  \\\n",
              "0     0.909164         1.206653         -1.164311       1.29219   \n",
              "1    -1.099912        -0.828738          0.858877      -0.77388   \n",
              "2    -1.099912        -0.828738          0.858877      -0.77388   \n",
              "3     0.909164        -0.828738          0.858877      -0.77388   \n",
              "4    -1.099912        -0.828738          0.858877      -0.77388   \n",
              "\n",
              "   Graduated_Yes  ...  Spending_Score_High  Spending_Score_Low  Var_1_Cat_1  \\\n",
              "0      -1.265931  ...            -0.421268            0.808676    -0.129465   \n",
              "1       0.789933  ...            -0.421268           -1.236590    -0.129465   \n",
              "2       0.789933  ...            -0.421268            0.808676    -0.129465   \n",
              "3       0.789933  ...             2.373788           -1.236590    -0.129465   \n",
              "4       0.789933  ...             2.373788           -1.236590    -0.129465   \n",
              "\n",
              "   Var_1_Cat_2  Var_1_Cat_3  Var_1_Cat_4  Var_1_Cat_5  Var_1_Cat_6  \\\n",
              "0     -0.23493    -0.336811     2.531528    -0.103187    -1.360472   \n",
              "1     -0.23493    -0.336811     2.531528    -0.103187    -1.360472   \n",
              "2     -0.23493    -0.336811    -0.395018    -0.103187     0.735039   \n",
              "3     -0.23493    -0.336811    -0.395018    -0.103187     0.735039   \n",
              "4     -0.23493    -0.336811    -0.395018    -0.103187     0.735039   \n",
              "\n",
              "   Var_1_Cat_7  Segmentation  \n",
              "0    -0.160657             3  \n",
              "1    -0.160657             0  \n",
              "2    -0.160657             1  \n",
              "3    -0.160657             1  \n",
              "4    -0.160657             0  \n",
              "\n",
              "[5 rows x 30 columns]"
            ],
            "text/html": [
              "\n",
              "  <div id=\"df-06849456-3191-4350-bebe-0a57234ea2bd\">\n",
              "    <div class=\"colab-df-container\">\n",
              "      <div>\n",
              "<style scoped>\n",
              "    .dataframe tbody tr th:only-of-type {\n",
              "        vertical-align: middle;\n",
              "    }\n",
              "\n",
              "    .dataframe tbody tr th {\n",
              "        vertical-align: top;\n",
              "    }\n",
              "\n",
              "    .dataframe thead th {\n",
              "        text-align: right;\n",
              "    }\n",
              "</style>\n",
              "<table border=\"1\" class=\"dataframe\">\n",
              "  <thead>\n",
              "    <tr style=\"text-align: right;\">\n",
              "      <th></th>\n",
              "      <th>ID</th>\n",
              "      <th>Age</th>\n",
              "      <th>Work_Experience</th>\n",
              "      <th>Family_Size</th>\n",
              "      <th>Gender_Female</th>\n",
              "      <th>Gender_Male</th>\n",
              "      <th>Ever_Married_No</th>\n",
              "      <th>Ever_Married_Yes</th>\n",
              "      <th>Graduated_No</th>\n",
              "      <th>Graduated_Yes</th>\n",
              "      <th>...</th>\n",
              "      <th>Spending_Score_High</th>\n",
              "      <th>Spending_Score_Low</th>\n",
              "      <th>Var_1_Cat_1</th>\n",
              "      <th>Var_1_Cat_2</th>\n",
              "      <th>Var_1_Cat_3</th>\n",
              "      <th>Var_1_Cat_4</th>\n",
              "      <th>Var_1_Cat_5</th>\n",
              "      <th>Var_1_Cat_6</th>\n",
              "      <th>Var_1_Cat_7</th>\n",
              "      <th>Segmentation</th>\n",
              "    </tr>\n",
              "  </thead>\n",
              "  <tbody>\n",
              "    <tr>\n",
              "      <th>0</th>\n",
              "      <td>-0.258250</td>\n",
              "      <td>-1.284623</td>\n",
              "      <td>-0.451136</td>\n",
              "      <td>0.785536</td>\n",
              "      <td>-0.909164</td>\n",
              "      <td>0.909164</td>\n",
              "      <td>1.206653</td>\n",
              "      <td>-1.164311</td>\n",
              "      <td>1.29219</td>\n",
              "      <td>-1.265931</td>\n",
              "      <td>...</td>\n",
              "      <td>-0.421268</td>\n",
              "      <td>0.808676</td>\n",
              "      <td>-0.129465</td>\n",
              "      <td>-0.23493</td>\n",
              "      <td>-0.336811</td>\n",
              "      <td>2.531528</td>\n",
              "      <td>-0.103187</td>\n",
              "      <td>-1.360472</td>\n",
              "      <td>-0.160657</td>\n",
              "      <td>3</td>\n",
              "    </tr>\n",
              "    <tr>\n",
              "      <th>1</th>\n",
              "      <td>-0.322213</td>\n",
              "      <td>-0.327151</td>\n",
              "      <td>-0.451136</td>\n",
              "      <td>0.122735</td>\n",
              "      <td>1.099912</td>\n",
              "      <td>-1.099912</td>\n",
              "      <td>-0.828738</td>\n",
              "      <td>0.858877</td>\n",
              "      <td>-0.77388</td>\n",
              "      <td>0.789933</td>\n",
              "      <td>...</td>\n",
              "      <td>-0.421268</td>\n",
              "      <td>-1.236590</td>\n",
              "      <td>-0.129465</td>\n",
              "      <td>-0.23493</td>\n",
              "      <td>-0.336811</td>\n",
              "      <td>2.531528</td>\n",
              "      <td>-0.103187</td>\n",
              "      <td>-1.360472</td>\n",
              "      <td>-0.160657</td>\n",
              "      <td>0</td>\n",
              "    </tr>\n",
              "    <tr>\n",
              "      <th>2</th>\n",
              "      <td>1.092695</td>\n",
              "      <td>1.408268</td>\n",
              "      <td>-0.451136</td>\n",
              "      <td>-1.202868</td>\n",
              "      <td>1.099912</td>\n",
              "      <td>-1.099912</td>\n",
              "      <td>-0.828738</td>\n",
              "      <td>0.858877</td>\n",
              "      <td>-0.77388</td>\n",
              "      <td>0.789933</td>\n",
              "      <td>...</td>\n",
              "      <td>-0.421268</td>\n",
              "      <td>0.808676</td>\n",
              "      <td>-0.129465</td>\n",
              "      <td>-0.23493</td>\n",
              "      <td>-0.336811</td>\n",
              "      <td>-0.395018</td>\n",
              "      <td>-0.103187</td>\n",
              "      <td>0.735039</td>\n",
              "      <td>-0.160657</td>\n",
              "      <td>1</td>\n",
              "    </tr>\n",
              "    <tr>\n",
              "      <th>3</th>\n",
              "      <td>-0.672087</td>\n",
              "      <td>1.408268</td>\n",
              "      <td>-0.757410</td>\n",
              "      <td>-0.540066</td>\n",
              "      <td>-0.909164</td>\n",
              "      <td>0.909164</td>\n",
              "      <td>-0.828738</td>\n",
              "      <td>0.858877</td>\n",
              "      <td>-0.77388</td>\n",
              "      <td>0.789933</td>\n",
              "      <td>...</td>\n",
              "      <td>2.373788</td>\n",
              "      <td>-1.236590</td>\n",
              "      <td>-0.129465</td>\n",
              "      <td>-0.23493</td>\n",
              "      <td>-0.336811</td>\n",
              "      <td>-0.395018</td>\n",
              "      <td>-0.103187</td>\n",
              "      <td>0.735039</td>\n",
              "      <td>-0.160657</td>\n",
              "      <td>1</td>\n",
              "    </tr>\n",
              "    <tr>\n",
              "      <th>4</th>\n",
              "      <td>-0.312195</td>\n",
              "      <td>-0.207467</td>\n",
              "      <td>-0.451136</td>\n",
              "      <td>2.111139</td>\n",
              "      <td>1.099912</td>\n",
              "      <td>-1.099912</td>\n",
              "      <td>-0.828738</td>\n",
              "      <td>0.858877</td>\n",
              "      <td>-0.77388</td>\n",
              "      <td>0.789933</td>\n",
              "      <td>...</td>\n",
              "      <td>2.373788</td>\n",
              "      <td>-1.236590</td>\n",
              "      <td>-0.129465</td>\n",
              "      <td>-0.23493</td>\n",
              "      <td>-0.336811</td>\n",
              "      <td>-0.395018</td>\n",
              "      <td>-0.103187</td>\n",
              "      <td>0.735039</td>\n",
              "      <td>-0.160657</td>\n",
              "      <td>0</td>\n",
              "    </tr>\n",
              "  </tbody>\n",
              "</table>\n",
              "<p>5 rows × 30 columns</p>\n",
              "</div>\n",
              "      <button class=\"colab-df-convert\" onclick=\"convertToInteractive('df-06849456-3191-4350-bebe-0a57234ea2bd')\"\n",
              "              title=\"Convert this dataframe to an interactive table.\"\n",
              "              style=\"display:none;\">\n",
              "        \n",
              "  <svg xmlns=\"http://www.w3.org/2000/svg\" height=\"24px\"viewBox=\"0 0 24 24\"\n",
              "       width=\"24px\">\n",
              "    <path d=\"M0 0h24v24H0V0z\" fill=\"none\"/>\n",
              "    <path d=\"M18.56 5.44l.94 2.06.94-2.06 2.06-.94-2.06-.94-.94-2.06-.94 2.06-2.06.94zm-11 1L8.5 8.5l.94-2.06 2.06-.94-2.06-.94L8.5 2.5l-.94 2.06-2.06.94zm10 10l.94 2.06.94-2.06 2.06-.94-2.06-.94-.94-2.06-.94 2.06-2.06.94z\"/><path d=\"M17.41 7.96l-1.37-1.37c-.4-.4-.92-.59-1.43-.59-.52 0-1.04.2-1.43.59L10.3 9.45l-7.72 7.72c-.78.78-.78 2.05 0 2.83L4 21.41c.39.39.9.59 1.41.59.51 0 1.02-.2 1.41-.59l7.78-7.78 2.81-2.81c.8-.78.8-2.07 0-2.86zM5.41 20L4 18.59l7.72-7.72 1.47 1.35L5.41 20z\"/>\n",
              "  </svg>\n",
              "      </button>\n",
              "      \n",
              "  <style>\n",
              "    .colab-df-container {\n",
              "      display:flex;\n",
              "      flex-wrap:wrap;\n",
              "      gap: 12px;\n",
              "    }\n",
              "\n",
              "    .colab-df-convert {\n",
              "      background-color: #E8F0FE;\n",
              "      border: none;\n",
              "      border-radius: 50%;\n",
              "      cursor: pointer;\n",
              "      display: none;\n",
              "      fill: #1967D2;\n",
              "      height: 32px;\n",
              "      padding: 0 0 0 0;\n",
              "      width: 32px;\n",
              "    }\n",
              "\n",
              "    .colab-df-convert:hover {\n",
              "      background-color: #E2EBFA;\n",
              "      box-shadow: 0px 1px 2px rgba(60, 64, 67, 0.3), 0px 1px 3px 1px rgba(60, 64, 67, 0.15);\n",
              "      fill: #174EA6;\n",
              "    }\n",
              "\n",
              "    [theme=dark] .colab-df-convert {\n",
              "      background-color: #3B4455;\n",
              "      fill: #D2E3FC;\n",
              "    }\n",
              "\n",
              "    [theme=dark] .colab-df-convert:hover {\n",
              "      background-color: #434B5C;\n",
              "      box-shadow: 0px 1px 3px 1px rgba(0, 0, 0, 0.15);\n",
              "      filter: drop-shadow(0px 1px 2px rgba(0, 0, 0, 0.3));\n",
              "      fill: #FFFFFF;\n",
              "    }\n",
              "  </style>\n",
              "\n",
              "      <script>\n",
              "        const buttonEl =\n",
              "          document.querySelector('#df-06849456-3191-4350-bebe-0a57234ea2bd button.colab-df-convert');\n",
              "        buttonEl.style.display =\n",
              "          google.colab.kernel.accessAllowed ? 'block' : 'none';\n",
              "\n",
              "        async function convertToInteractive(key) {\n",
              "          const element = document.querySelector('#df-06849456-3191-4350-bebe-0a57234ea2bd');\n",
              "          const dataTable =\n",
              "            await google.colab.kernel.invokeFunction('convertToInteractive',\n",
              "                                                     [key], {});\n",
              "          if (!dataTable) return;\n",
              "\n",
              "          const docLinkHtml = 'Like what you see? Visit the ' +\n",
              "            '<a target=\"_blank\" href=https://colab.research.google.com/notebooks/data_table.ipynb>data table notebook</a>'\n",
              "            + ' to learn more about interactive tables.';\n",
              "          element.innerHTML = '';\n",
              "          dataTable['output_type'] = 'display_data';\n",
              "          await google.colab.output.renderOutput(dataTable, element);\n",
              "          const docLink = document.createElement('div');\n",
              "          docLink.innerHTML = docLinkHtml;\n",
              "          element.appendChild(docLink);\n",
              "        }\n",
              "      </script>\n",
              "    </div>\n",
              "  </div>\n",
              "  "
            ]
          },
          "metadata": {},
          "execution_count": 270
        }
      ]
    },
    {
      "cell_type": "markdown",
      "source": [
        "## Pure `torch` model"
      ],
      "metadata": {
        "id": "D-_gt2iopuDn"
      }
    },
    {
      "cell_type": "code",
      "source": [
        "# Your code here"
      ],
      "metadata": {
        "id": "tJt0WDtKqLRc"
      },
      "execution_count": null,
      "outputs": []
    },
    {
      "cell_type": "markdown",
      "source": [
        "## High-level libraries and tabular frameworks"
      ],
      "metadata": {
        "id": "YUK7yRtEp2NA"
      }
    },
    {
      "cell_type": "code",
      "source": [
        "from fastai.tabular.all import *\n"
      ],
      "metadata": {
        "id": "MZZBEen8qMYI"
      },
      "execution_count": 79,
      "outputs": []
    },
    {
      "cell_type": "code",
      "source": [
        "TabularDataLoaders.from_df?"
      ],
      "metadata": {
        "id": "wueJOwxasTv7"
      },
      "execution_count": 80,
      "outputs": []
    },
    {
      "cell_type": "code",
      "source": [],
      "metadata": {
        "id": "bDvx6SFBun4P"
      },
      "execution_count": null,
      "outputs": []
    },
    {
      "cell_type": "code",
      "source": [
        "train_df1 = pd.read_csv(csv_train)\n"
      ],
      "metadata": {
        "id": "QAS9CdzMtGyF"
      },
      "execution_count": 82,
      "outputs": []
    },
    {
      "cell_type": "code",
      "source": [
        "train_df1.info()"
      ],
      "metadata": {
        "colab": {
          "base_uri": "https://localhost:8080/"
        },
        "id": "oo9_0Z9suqOT",
        "outputId": "a76734c8-bf3d-4505-8cec-773d5ffb4669"
      },
      "execution_count": 84,
      "outputs": [
        {
          "output_type": "stream",
          "name": "stdout",
          "text": [
            "<class 'pandas.core.frame.DataFrame'>\n",
            "RangeIndex: 8068 entries, 0 to 8067\n",
            "Data columns (total 11 columns):\n",
            " #   Column           Non-Null Count  Dtype  \n",
            "---  ------           --------------  -----  \n",
            " 0   ID               8068 non-null   int64  \n",
            " 1   Gender           8068 non-null   object \n",
            " 2   Ever_Married     7928 non-null   object \n",
            " 3   Age              8068 non-null   int64  \n",
            " 4   Graduated        7990 non-null   object \n",
            " 5   Profession       7944 non-null   object \n",
            " 6   Work_Experience  7239 non-null   float64\n",
            " 7   Spending_Score   8068 non-null   object \n",
            " 8   Family_Size      7733 non-null   float64\n",
            " 9   Var_1            7992 non-null   object \n",
            " 10  Segmentation     8068 non-null   object \n",
            "dtypes: float64(2), int64(2), object(7)\n",
            "memory usage: 693.5+ KB\n"
          ]
        }
      ]
    },
    {
      "cell_type": "code",
      "source": [
        "cat_cols = ['Gender','Ever_Married','Graduated','Profession','Spending_Score']\n",
        "cont_cols = ['Age','Work_Experience', 'Family_Size']\n",
        "label_col = ['Segmentation']"
      ],
      "metadata": {
        "id": "_KX-oTRVuz4m"
      },
      "execution_count": 85,
      "outputs": []
    },
    {
      "cell_type": "code",
      "source": [
        "dls = TabularDataLoaders.from_df(train_df1, procs = [Categorify, FillMissing, Normalize], cat_names=cat_cols, cont_names=cont_cols, y_names=label_col)"
      ],
      "metadata": {
        "id": "x1bdc-YCukmC"
      },
      "execution_count": 86,
      "outputs": []
    },
    {
      "cell_type": "code",
      "source": [
        "dls.show_batch()"
      ],
      "metadata": {
        "colab": {
          "base_uri": "https://localhost:8080/",
          "height": 383
        },
        "id": "TZeKUMmQvu39",
        "outputId": "6193243f-adb1-4df2-b8b9-d7e89fc1380b"
      },
      "execution_count": 87,
      "outputs": [
        {
          "output_type": "display_data",
          "data": {
            "text/plain": [
              "<IPython.core.display.HTML object>"
            ],
            "text/html": [
              "<table border=\"1\" class=\"dataframe\">\n",
              "  <thead>\n",
              "    <tr style=\"text-align: right;\">\n",
              "      <th></th>\n",
              "      <th>Gender</th>\n",
              "      <th>Ever_Married</th>\n",
              "      <th>Graduated</th>\n",
              "      <th>Profession</th>\n",
              "      <th>Spending_Score</th>\n",
              "      <th>Work_Experience_na</th>\n",
              "      <th>Family_Size_na</th>\n",
              "      <th>Age</th>\n",
              "      <th>Work_Experience</th>\n",
              "      <th>Family_Size</th>\n",
              "      <th>Segmentation</th>\n",
              "    </tr>\n",
              "  </thead>\n",
              "  <tbody>\n",
              "    <tr>\n",
              "      <th>0</th>\n",
              "      <td>Female</td>\n",
              "      <td>Yes</td>\n",
              "      <td>Yes</td>\n",
              "      <td>Artist</td>\n",
              "      <td>Average</td>\n",
              "      <td>False</td>\n",
              "      <td>False</td>\n",
              "      <td>41.000000</td>\n",
              "      <td>1.000000e+00</td>\n",
              "      <td>3.0</td>\n",
              "      <td>B</td>\n",
              "    </tr>\n",
              "    <tr>\n",
              "      <th>1</th>\n",
              "      <td>Female</td>\n",
              "      <td>No</td>\n",
              "      <td>Yes</td>\n",
              "      <td>Artist</td>\n",
              "      <td>Low</td>\n",
              "      <td>False</td>\n",
              "      <td>False</td>\n",
              "      <td>45.000000</td>\n",
              "      <td>4.000000e+00</td>\n",
              "      <td>1.0</td>\n",
              "      <td>A</td>\n",
              "    </tr>\n",
              "    <tr>\n",
              "      <th>2</th>\n",
              "      <td>Female</td>\n",
              "      <td>No</td>\n",
              "      <td>No</td>\n",
              "      <td>Entertainment</td>\n",
              "      <td>Low</td>\n",
              "      <td>False</td>\n",
              "      <td>False</td>\n",
              "      <td>19.000001</td>\n",
              "      <td>1.000000e+00</td>\n",
              "      <td>5.0</td>\n",
              "      <td>D</td>\n",
              "    </tr>\n",
              "    <tr>\n",
              "      <th>3</th>\n",
              "      <td>Male</td>\n",
              "      <td>Yes</td>\n",
              "      <td>Yes</td>\n",
              "      <td>Entertainment</td>\n",
              "      <td>Average</td>\n",
              "      <td>False</td>\n",
              "      <td>False</td>\n",
              "      <td>40.000000</td>\n",
              "      <td>1.000000e+00</td>\n",
              "      <td>2.0</td>\n",
              "      <td>A</td>\n",
              "    </tr>\n",
              "    <tr>\n",
              "      <th>4</th>\n",
              "      <td>Male</td>\n",
              "      <td>Yes</td>\n",
              "      <td>Yes</td>\n",
              "      <td>Entertainment</td>\n",
              "      <td>Low</td>\n",
              "      <td>False</td>\n",
              "      <td>False</td>\n",
              "      <td>48.000000</td>\n",
              "      <td>9.000000e+00</td>\n",
              "      <td>1.0</td>\n",
              "      <td>D</td>\n",
              "    </tr>\n",
              "    <tr>\n",
              "      <th>5</th>\n",
              "      <td>Male</td>\n",
              "      <td>No</td>\n",
              "      <td>Yes</td>\n",
              "      <td>Artist</td>\n",
              "      <td>Low</td>\n",
              "      <td>False</td>\n",
              "      <td>False</td>\n",
              "      <td>37.000000</td>\n",
              "      <td>8.000000e+00</td>\n",
              "      <td>3.0</td>\n",
              "      <td>C</td>\n",
              "    </tr>\n",
              "    <tr>\n",
              "      <th>6</th>\n",
              "      <td>Female</td>\n",
              "      <td>No</td>\n",
              "      <td>Yes</td>\n",
              "      <td>Artist</td>\n",
              "      <td>Low</td>\n",
              "      <td>False</td>\n",
              "      <td>False</td>\n",
              "      <td>43.000000</td>\n",
              "      <td>-8.914188e-08</td>\n",
              "      <td>1.0</td>\n",
              "      <td>A</td>\n",
              "    </tr>\n",
              "    <tr>\n",
              "      <th>7</th>\n",
              "      <td>Female</td>\n",
              "      <td>Yes</td>\n",
              "      <td>Yes</td>\n",
              "      <td>Marketing</td>\n",
              "      <td>Low</td>\n",
              "      <td>False</td>\n",
              "      <td>False</td>\n",
              "      <td>51.000000</td>\n",
              "      <td>9.000000e+00</td>\n",
              "      <td>1.0</td>\n",
              "      <td>A</td>\n",
              "    </tr>\n",
              "    <tr>\n",
              "      <th>8</th>\n",
              "      <td>Female</td>\n",
              "      <td>Yes</td>\n",
              "      <td>Yes</td>\n",
              "      <td>Artist</td>\n",
              "      <td>High</td>\n",
              "      <td>False</td>\n",
              "      <td>False</td>\n",
              "      <td>69.000000</td>\n",
              "      <td>-8.914188e-08</td>\n",
              "      <td>2.0</td>\n",
              "      <td>C</td>\n",
              "    </tr>\n",
              "    <tr>\n",
              "      <th>9</th>\n",
              "      <td>Male</td>\n",
              "      <td>No</td>\n",
              "      <td>Yes</td>\n",
              "      <td>Healthcare</td>\n",
              "      <td>Low</td>\n",
              "      <td>False</td>\n",
              "      <td>False</td>\n",
              "      <td>25.000001</td>\n",
              "      <td>1.000000e+00</td>\n",
              "      <td>3.0</td>\n",
              "      <td>D</td>\n",
              "    </tr>\n",
              "  </tbody>\n",
              "</table>"
            ]
          },
          "metadata": {}
        }
      ]
    },
    {
      "cell_type": "code",
      "source": [
        "dls.one_batch()"
      ],
      "metadata": {
        "id": "oI6EIMBfv3Wd"
      },
      "execution_count": null,
      "outputs": []
    },
    {
      "cell_type": "code",
      "source": [
        "# create learner \n",
        "learn = tabular_learner(dls=dls,metrics=accuracy)"
      ],
      "metadata": {
        "id": "5L8OLgnTwZMe"
      },
      "execution_count": 92,
      "outputs": []
    },
    {
      "cell_type": "code",
      "source": [
        "learn.fit_one_cycle(61, lr_max=1e-3, start_epoch=60)"
      ],
      "metadata": {
        "id": "MI5OT-RPw1e-"
      },
      "execution_count": null,
      "outputs": []
    },
    {
      "cell_type": "code",
      "source": [
        "learn.recorder.plot_loss()"
      ],
      "metadata": {
        "id": "zSriBhOEyB1L"
      },
      "execution_count": null,
      "outputs": []
    },
    {
      "cell_type": "code",
      "source": [
        "learn.model"
      ],
      "metadata": {
        "colab": {
          "base_uri": "https://localhost:8080/"
        },
        "id": "zp0VaYlKzBC_",
        "outputId": "f5b12d4d-8f49-4ae6-84ed-fe050a9466ba"
      },
      "execution_count": 107,
      "outputs": [
        {
          "output_type": "execute_result",
          "data": {
            "text/plain": [
              "TabularModel(\n",
              "  (embeds): ModuleList(\n",
              "    (0): Embedding(3, 3)\n",
              "    (1): Embedding(3, 3)\n",
              "    (2): Embedding(3, 3)\n",
              "    (3): Embedding(10, 6)\n",
              "    (4): Embedding(4, 3)\n",
              "    (5): Embedding(3, 3)\n",
              "    (6): Embedding(3, 3)\n",
              "  )\n",
              "  (emb_drop): Dropout(p=0.0, inplace=False)\n",
              "  (bn_cont): BatchNorm1d(3, eps=1e-05, momentum=0.1, affine=True, track_running_stats=True)\n",
              "  (layers): Sequential(\n",
              "    (0): LinBnDrop(\n",
              "      (0): Linear(in_features=27, out_features=200, bias=False)\n",
              "      (1): ReLU(inplace=True)\n",
              "      (2): BatchNorm1d(200, eps=1e-05, momentum=0.1, affine=True, track_running_stats=True)\n",
              "    )\n",
              "    (1): LinBnDrop(\n",
              "      (0): Linear(in_features=200, out_features=100, bias=False)\n",
              "      (1): ReLU(inplace=True)\n",
              "      (2): BatchNorm1d(100, eps=1e-05, momentum=0.1, affine=True, track_running_stats=True)\n",
              "    )\n",
              "    (2): LinBnDrop(\n",
              "      (0): Linear(in_features=100, out_features=4, bias=True)\n",
              "    )\n",
              "  )\n",
              ")"
            ]
          },
          "metadata": {},
          "execution_count": 107
        }
      ]
    },
    {
      "cell_type": "code",
      "source": [
        "# add model hook right before last lin layer\n",
        "g                                                                                                                                                                                                                                                                                                                                                                                                                                                                                                                                                                                                                                                                                                                                                                                                                                                                                                                                                                                                                                                                                                                                                                                                                                                                                                                                                                                                                                                                                                                                                                                                                                                                                                                                                                                                                                                                                                                                                                                                                                                                                                                                                                                                                                                                                                                                                                                                                                                                                                                                                                                                                                                                                                                                                                                                                                                                                                                                                                                                                                                                                                                                                                                                                                                                                                                                                                                                                                                                                                                                                                                                                                                                                                                                                                                                                                                                                                                                                                                                                                                                                                                                                                                                                                                                                                                                                                                                                                                                                                                                                                                                                                                                                                                                                                                                                                                                                                                                                                                                                                                                                                                                                                                                                                                                                                                                                                                                                                                                                                                                                                                                                                                                                                                                                                                                                                                                                                                                                                                                                                                                                                                                                                                                                                                                                                                                                                                                                                                                                                                                                                                                                                                                                                                                                                                                                                                                                                                                                                                                                                                                                                                                                                                                                                                                                                                                                                                                                                                                                                                                                                                                                                                                                                                                                                                                                                                                                                                                                                                                                                                                                                                                                                                                                                                                                                                                                                                                                                                                                                                                                                                                                                                                                                                                                                                                                                                                                                                                                                                                                                                                                                                                                                                                                                                                                                                                                                                                                                                                                                                                                                                                                                   "
      ],
      "metadata": {
        "id": "nc_G8DAk1Afk"
      },
      "execution_count": null,
      "outputs": []
    },
    {
      "cell_type": "markdown",
      "source": [
        "---\n",
        "# 3. Testing\n",
        "---\n",
        "* Model Selection and Test Set Evaluation\n",
        "* Notes and Findings"
      ],
      "metadata": {
        "id": "PUcW0hXbGRfz"
      }
    },
    {
      "cell_type": "markdown",
      "source": [
        "## Model selection and test set evaluation"
      ],
      "metadata": {
        "id": "Q_arrqLoqADy"
      }
    },
    {
      "cell_type": "code",
      "source": [
        "# Your code here"
      ],
      "metadata": {
        "id": "A2qfdqQsqNfV"
      },
      "execution_count": null,
      "outputs": []
    },
    {
      "cell_type": "markdown",
      "source": [
        "## Notes and findings\n",
        "\n",
        "What did you learn?"
      ],
      "metadata": {
        "id": "PHqN9LsZLpet"
      }
    },
    {
      "cell_type": "code",
      "source": [],
      "metadata": {
        "id": "A7KOEgi0KeBm"
      },
      "execution_count": null,
      "outputs": []
    }
  ]
}