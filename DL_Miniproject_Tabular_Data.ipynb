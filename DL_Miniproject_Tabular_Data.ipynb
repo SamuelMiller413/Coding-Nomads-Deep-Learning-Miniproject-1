{
  "nbformat": 4,
  "nbformat_minor": 0,
  "metadata": {
    "colab": {
      "provenance": [],
      "collapsed_sections": [
        "IgRNvGpUz-pt",
        "oi-C2we-Jm62",
        "hzPonF2gJSGJ",
        "Ub5Kk1R8JUGh",
        "Ie3tiq1olufG",
        "32tesO8_sxxE",
        "4AUNzBi2XTdj",
        "p9qzzxAaZPj6",
        "8vU3HMZDwOKG",
        "JGq4cFSLWi48",
        "bb475f20",
        "OvFLtIBzSkJ8",
        "7UUlEvcpTWr_"
      ],
      "machine_shape": "hm",
      "include_colab_link": true
    },
    "kernelspec": {
      "name": "python3",
      "display_name": "Python 3"
    },
    "language_info": {
      "name": "python"
    },
    "gpuClass": "standard",
    "accelerator": "GPU"
  },
  "cells": [
    {
      "cell_type": "markdown",
      "metadata": {
        "id": "view-in-github",
        "colab_type": "text"
      },
      "source": [
        "<a href=\"https://colab.research.google.com/github/SamuelMiller413/Coding-Nomads-Deep-Learning-Miniproject-1/blob/master/DL_Miniproject_Tabular_Data.ipynb\" target=\"_parent\"><img src=\"https://colab.research.google.com/assets/colab-badge.svg\" alt=\"Open In Colab\"/></a>"
      ]
    },
    {
      "cell_type": "markdown",
      "source": [
        "---\n",
        "# Intrdouction\n",
        "---"
      ],
      "metadata": {
        "id": "s4ExnDwUNcsf"
      }
    },
    {
      "cell_type": "markdown",
      "source": [
        "## Problem Statement:\n",
        "> An automobile company has plans to enter new markets with their existing products (P1, P2, P3, P4 and P5). After intensive market research, they’ve deduced that the behavior of new market is similar to their existing market.\n",
        "\n",
        ">In their existing market, the sales team has classified all customers into 4 segments (A, B, C, D ). Then, they performed segmented outreach and communication for different segment of customers. This strategy has work exceptionally well for them. They plan to use the same strategy on new markets and have identified 2627 new potential customers.\n",
        "\n",
        ">You are required to help the manager to predict the right group of the new customers."
      ],
      "metadata": {
        "id": "D3o_wBWZOeNf"
      }
    },
    {
      "cell_type": "markdown",
      "source": [
        "## Resources\n",
        ">Data    (from Kaggle)\n",
        "* [Customer Segmentation Dataset](https://www.kaggle.com/datasets/abisheksudarshan/customer-segmentation?select=train.csv) \n",
        "\n",
        "> Notebooks of Influence\n",
        "* [Janatahack](https://www.kaggle.com/code/abisheksudarshan/av-janatahack-customer-segmentation/data) \n",
        "* [Seun Ayegboyin](https://www.kaggle.com/code/seunayegboyin/customer-segmentation-with-kmeans-and-pca) (PCA/Clustering)"
      ],
      "metadata": {
        "id": "tm-Dt4BOOkue"
      }
    },
    {
      "cell_type": "markdown",
      "source": [
        "---\n",
        "# Work Flow\n",
        "---\n",
        "\n",
        "### NOTES\n",
        "* Write \n",
        "        def grep()\n",
        "        def greps_all()\n",
        "* OHE all\n",
        "* Impute NaN\n",
        "* Train Models\n",
        "* Train DL Models\n"
      ],
      "metadata": {
        "id": "bphRi4fLDrNB"
      }
    },
    {
      "cell_type": "markdown",
      "source": [
        "### Workflow Outline\n",
        "\n",
        "---\n",
        "#### 1. Pre-Training\n",
        "---\n",
        "* Setup\n",
        "    * Data Loading\n",
        "    * Download the Dataset\n",
        "    * Split Data\n",
        "    * Custom Functions\n",
        "* Initial EDA / Data Visualization\n",
        "* Feature Engineering and Transformation\n",
        "* Continued EDA / Data Visualization\n",
        "* Pipelines\n",
        "<br>\n",
        "---\n",
        "#### 2. Training\n",
        "---\n",
        "* Traditional ML Modeling\n",
        "* Pure Torch Model\n",
        "* High-level Libraries and Tabular Frameworks\n",
        "<br>\n",
        "---\n",
        "#### 3. Testing\n",
        "---\n",
        "* Model Selection and Test Set Evaluation\n",
        "* Notes and Findings\n",
        "\n"
      ],
      "metadata": {
        "id": "3Qg8oAt7FHzL"
      }
    },
    {
      "cell_type": "markdown",
      "source": [
        "---\n",
        "# 1. Pre-Training\n",
        "---\n",
        "* Setup\n",
        "    * Data Loading\n",
        "    * Download the Dataset\n",
        "    * Split Data\n",
        "    * Custom Functions\n",
        "* Initial EDA / Data Visualization\n",
        "* Feature Engineering and Transformation\n",
        "* Continued EDA / Data Visualization\n",
        "* Pipelines"
      ],
      "metadata": {
        "id": "CcXjCgnEHuod"
      }
    },
    {
      "cell_type": "markdown",
      "source": [
        "## Setup"
      ],
      "metadata": {
        "id": "TppBhRBlJDVY"
      }
    },
    {
      "cell_type": "markdown",
      "source": [
        "#### Retrieval and Cloud Connection"
      ],
      "metadata": {
        "id": "IgRNvGpUz-pt"
      }
    },
    {
      "cell_type": "code",
      "source": [
        "# mount drive\n",
        "from google.colab import drive\n",
        "drive.mount('/content/drive')"
      ],
      "metadata": {
        "colab": {
          "base_uri": "https://localhost:8080/"
        },
        "id": "ndEWFz-qZTAk",
        "outputId": "80a228d5-aa6b-4d9b-df73-fe4075765732"
      },
      "execution_count": 1,
      "outputs": [
        {
          "output_type": "stream",
          "name": "stdout",
          "text": [
            "Mounted at /content/drive\n"
          ]
        }
      ]
    },
    {
      "cell_type": "code",
      "source": [
        "# upload 'kaggle.json'\n",
        "from google.colab import files\n",
        "files.upload()"
      ],
      "metadata": {
        "colab": {
          "resources": {
            "http://localhost:8080/nbextensions/google.colab/files.js": {
              "data": "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",
              "ok": true,
              "headers": [
                [
                  "content-type",
                  "application/javascript"
                ]
              ],
              "status": 200,
              "status_text": ""
            }
          },
          "base_uri": "https://localhost:8080/",
          "height": 120
        },
        "id": "P4ZxddsPcaI5",
        "outputId": "15f62076-ef2c-4356-f634-cddc914b352a"
      },
      "execution_count": 2,
      "outputs": [
        {
          "output_type": "display_data",
          "data": {
            "text/plain": [
              "<IPython.core.display.HTML object>"
            ],
            "text/html": [
              "\n",
              "     <input type=\"file\" id=\"files-7ae0e2cc-0f78-4ace-baa3-ba41564aa669\" name=\"files[]\" multiple disabled\n",
              "        style=\"border:none\" />\n",
              "     <output id=\"result-7ae0e2cc-0f78-4ace-baa3-ba41564aa669\">\n",
              "      Upload widget is only available when the cell has been executed in the\n",
              "      current browser session. Please rerun this cell to enable.\n",
              "      </output>\n",
              "      <script src=\"/nbextensions/google.colab/files.js\"></script> "
            ]
          },
          "metadata": {}
        },
        {
          "output_type": "stream",
          "name": "stdout",
          "text": [
            "Saving kaggle.json to kaggle.json\n"
          ]
        },
        {
          "output_type": "execute_result",
          "data": {
            "text/plain": [
              "{'kaggle.json': b'{\"username\":\"samuelmiller413\",\"key\":\"d635e1518efc064bb478bb67bb2c22aa\"}'}"
            ]
          },
          "metadata": {},
          "execution_count": 2
        }
      ]
    },
    {
      "cell_type": "code",
      "source": [
        "# make kaggle directory \n",
        "! mkdir ~/.kaggle\n",
        "# store JSON\n",
        "! cp kaggle.json ~/.kaggle/\n",
        "# change permissions\n",
        "! chmod 600 ~/.kaggle/kaggle.json\n",
        "\n",
        "# download data from kaggle\n",
        "! kaggle datasets download -d 'abisheksudarshan/customer-segmentation'\n",
        "# make directory for data\n",
        "! mkdir customer-segmentation\n",
        "\n",
        "# unzip into directory\n",
        "! cd.. customer-segmentation/\n",
        "! unzip customer-segmentation.zip -d customer-segmentation/\n",
        "# remove .zip\n",
        "! rm -r customer-segmentation.zip"
      ],
      "metadata": {
        "colab": {
          "base_uri": "https://localhost:8080/"
        },
        "id": "MiYUS7XVcrgW",
        "outputId": "398938c3-b8e1-4a00-ea3c-d4554f3a31b0"
      },
      "execution_count": 3,
      "outputs": [
        {
          "output_type": "stream",
          "name": "stdout",
          "text": [
            "Downloading customer-segmentation.zip to /content\n",
            "\r  0% 0.00/98.7k [00:00<?, ?B/s]\n",
            "\r100% 98.7k/98.7k [00:00<00:00, 60.3MB/s]\n",
            "/bin/bash: cd..: command not found\n",
            "Archive:  customer-segmentation.zip\n",
            "  inflating: customer-segmentation/test.csv  \n",
            "  inflating: customer-segmentation/train.csv  \n"
          ]
        }
      ]
    },
    {
      "cell_type": "markdown",
      "source": [
        "#### Imports"
      ],
      "metadata": {
        "id": "oi-C2we-Jm62"
      }
    },
    {
      "cell_type": "code",
      "source": [
        "%%capture\n",
        "# import libraries\n",
        "import numpy as np \n",
        "import pandas as pd\n",
        "import torch \n",
        "import pprint\n",
        "import inspect\n",
        "\n",
        "# PRE-PROCESSING\n",
        "import sklearn.preprocessing as preprocessing                                                                          \n",
        "from sklearn.preprocessing import StandardScaler\n",
        "from sklearn_pandas import CategoricalImputer\n",
        "\n",
        "#  MODELS\n",
        "from sklearn.dummy import DummyClassifier\n",
        "from sklearn.ensemble import RandomForestClassifier\n",
        "from lightgbm import LGBMClassifier as lgbm\n",
        "\n",
        "# FEATURE SELECTION                                                                          \n",
        "from sklearn.feature_selection import SelectFromModel, mutual_info_regression, RFE, RFECV\n",
        "\n",
        "# PIPELINE                                     \n",
        "from sklearn.pipeline import Pipeline\n",
        "                                          \n",
        "# NEURAL NETWORK                                                   \n",
        "from sklearn.neural_network import MLPRegressor\n",
        "from torch import nn\n",
        "import torch.nn.functional as F\n",
        "!pip install torchmetrics attrdict -q\n",
        "import torchmetrics\n",
        "from torch.utils.data import Dataset, DataLoader\n",
        "from attrdict import AttrDict\n",
        "from multiprocessing import cpu_count\n",
        "\n",
        "# CROSS VALIDATION\n",
        "from sklearn.model_selection import train_test_split, cross_val_score, ShuffleSplit, StratifiedKFold\n",
        "from sklearn.model_selection import learning_curve, cross_val_predict\n",
        "from sklearn.model_selection import KFold, RandomizedSearchCV\n",
        "\n",
        "# EVALUATION\n",
        "from sklearn.metrics import mean_squared_log_error, mean_squared_error, roc_auc_score, accuracy_score, log_loss, classification_report\n",
        "from sklearn.metrics import silhouette_score\n",
        "from sklearn.metrics import SCORERS\n",
        "\n",
        "# PLOTTING\n",
        "import random\n",
        "import matplotlib.pyplot as plt\n",
        "import seaborn as sns\n",
        "\n",
        "# FROM example janatahack notebook \n",
        "\n",
        "# IGNORE WARNINGS\n",
        "import warnings\n",
        "warnings.filterwarnings(\"ignore\")\n",
        "from collections import Counter\n"
      ],
      "metadata": {
        "id": "jiMUo9UNJbQ8"
      },
      "execution_count": 4,
      "outputs": []
    },
    {
      "cell_type": "markdown",
      "source": [
        "#### Download Dataset"
      ],
      "metadata": {
        "id": "hzPonF2gJSGJ"
      }
    },
    {
      "cell_type": "code",
      "source": [
        "csv_train = '/content/customer-segmentation/train.csv'\n",
        "csv_test = '/content/customer-segmentation/test.csv'"
      ],
      "metadata": {
        "id": "zU6xhRJeqW6u"
      },
      "execution_count": 5,
      "outputs": []
    },
    {
      "cell_type": "markdown",
      "source": [
        "#### Split Data"
      ],
      "metadata": {
        "id": "Ub5Kk1R8JUGh"
      }
    },
    {
      "cell_type": "code",
      "source": [
        "'''\n",
        "    data is pre-split into train/test csv files: \n",
        "    1. train:   contains all columns\n",
        "    2. test:    contains no label columnn\n",
        "\n",
        "    > Treating 'train' as a full dataset\n",
        "\n",
        "    Instead of an X, y split, \n",
        "        using: \n",
        "            X = feature_cols    \n",
        "            y = label_col   \n",
        "'''\n",
        "# read csv\n",
        "df = pd.read_csv(csv_train)\n",
        "\n",
        "# train_test split 80/20\n",
        "train_df, test_df = train_test_split(\n",
        "    df, test_size=0.20, random_state=42\n",
        "    )\n",
        "\n",
        "# reset indices\n",
        "train_df.reset_index(drop=True, inplace=True)\n",
        "test_df.reset_index(drop=True, inplace=True)\n",
        "\n",
        "# features\n",
        "feature_cols = train_df.columns.tolist()\n",
        "feature_cols.remove('Segmentation')\n",
        "\n",
        "# label\n",
        "label_col = 'Segmentation'"
      ],
      "metadata": {
        "id": "rbk91B4yyCJ6"
      },
      "execution_count": 50,
      "outputs": []
    },
    {
      "cell_type": "code",
      "source": [
        "# train_df[feature_cols].isnull().sum()\n",
        "# train_df[label_col].isnull().sum()\n",
        "len(train_df[label_col])"
      ],
      "metadata": {
        "colab": {
          "base_uri": "https://localhost:8080/"
        },
        "id": "Np_C1N9Y-iCY",
        "outputId": "6a4a1230-e26f-4cd3-c39a-d3723c2a5cd1"
      },
      "execution_count": 51,
      "outputs": [
        {
          "output_type": "execute_result",
          "data": {
            "text/plain": [
              "6454"
            ]
          },
          "metadata": {},
          "execution_count": 51
        }
      ]
    },
    {
      "cell_type": "markdown",
      "source": [
        "## Functions"
      ],
      "metadata": {
        "id": "fkEaX-z0rgAK"
      }
    },
    {
      "cell_type": "markdown",
      "source": [
        "### Retrieve Variable Name"
      ],
      "metadata": {
        "id": "Ie3tiq1olufG"
      }
    },
    {
      "cell_type": "code",
      "source": [
        "def retrieve_name(var):\n",
        "    callers_local_vars = inspect.currentframe().f_back.f_back.f_locals.items()\n",
        "    return [var_name for var_name, var_val in callers_local_vars if var_val is var]\n",
        "    # above code --> https://stackoverflow.com/questions/18425225/getting-the-name-of-a-variable-as-a-string\n",
        "                            # user: scohe001"
      ],
      "metadata": {
        "id": "jHKAVsWXlz9Q"
      },
      "execution_count": 8,
      "outputs": []
    },
    {
      "cell_type": "markdown",
      "source": [
        "### Summarize"
      ],
      "metadata": {
        "id": "32tesO8_sxxE"
      }
    },
    {
      "cell_type": "code",
      "source": [
        "def summarize(subset=None):\n",
        "    '''\n",
        "    Doc:\n",
        "    Summarizes EDA for Pandas dataframe.\n",
        "\n",
        "        Parameters\n",
        "        -------------\n",
        "            subset      : (dataframe)\n",
        "                Specify the dataframe or subset of dataframe to summarize\n",
        "        Returns\n",
        "        -------------\n",
        "            Summary functions from those stored in eda_summary\n",
        "    '''\n",
        "    # initialize summary dict\n",
        "    eda_summary_att = {\n",
        "        'shape':subset.shape, \n",
        "        'isnull':subset.isnull,\n",
        "        'dtypes':subset.dtypes\n",
        "        }\n",
        "    eda_summary_func = { \n",
        "        'info':subset.info,     \n",
        "        'describe':subset.describe(),\n",
        "        'corr':subset.corr(),\n",
        "        'value_counts':subset.value_counts()\n",
        "        }\n",
        "    # display name of subset\n",
        "    print(f\"\\nSummary of Subset:  '{retrieve_name(subset)[0]}'\\n\")\n",
        "    # loop through and call each summary function\n",
        "    for k,v in eda_summary_att.items():\n",
        "        if k == 'isnull':\n",
        "            v = eda_summary_att[k]().sum()\n",
        "            print(f\"\\n--------\\n{k.upper()}\\n--------\\n\\n{v}\\n---\")    \n",
        "        else:\n",
        "            # summary = subset.v()\n",
        "            print(f\"\\n--------\\n{k.upper()}\\n--------\\n\\n{v}\\n---\")\n",
        "    for k,v in eda_summary_func.items():\n",
        "        if k == 'value_counts':\n",
        "            for i in range(1,(len(subset.columns)-1)):\n",
        "                by_feature = subset[subset.columns[i]]\n",
        "                print(by_feature.value_counts())\n",
        "\n",
        "        else:\n",
        "            print(f\"\\n--------\\n{k.upper()}\\n--------\\n\\n{v}\\n---\")"
      ],
      "metadata": {
        "id": "3fsKB3jwG2RG"
      },
      "execution_count": 9,
      "outputs": []
    },
    {
      "cell_type": "markdown",
      "source": [
        "### Data Viz"
      ],
      "metadata": {
        "id": "4AUNzBi2XTdj"
      }
    },
    {
      "cell_type": "code",
      "source": [
        "# initialize plotting dict\n",
        "graph_ = {\n",
        "    'relplot': sns.relplot,\n",
        "    'scatterplot': sns.scatterplot,\n",
        "    'lineplot': sns.lineplot,\n",
        "    'displot': sns.displot,\n",
        "    'histplot': sns.histplot,\n",
        "    'kdeplot': sns.kdeplot,\n",
        "    'ecdfplot': sns.ecdfplot,\n",
        "    'rugplot': sns.rugplot,\n",
        "    'catplot': sns.catplot,\n",
        "    'stripplot': sns.stripplot,\n",
        "    'swarmplot': sns.swarmplot,\n",
        "    'boxplot': sns.boxplot,\n",
        "    'violinplot': sns.violinplot,\n",
        "    'boxenplot': sns.boxenplot,\n",
        "    'pointplot': sns.pointplot,\n",
        "    'barplot': sns.barplot,\n",
        "    'countplot': sns.countplot,\n",
        "    'lmplot':' sns.lmplot',\n",
        "    'regplot': 'sns.regplot',\n",
        "    'residplot': 'sns.residplot',\n",
        "    'heatmap': 'sns.heatmap',\n",
        "    'clustermap': 'sns.clustermap',\n",
        "    'FacetGrid': 'sns.FacetGrid',\n",
        "    'pairplot': 'sns.pairplot',\n",
        "    'PairGrid': 'sns.PairGrid',\n",
        "    'jointplot': 'sns.jointplot',\n",
        "    'JointGrid': sns.JointGrid\n",
        "    }\n",
        "# plot sizes    \n",
        "sizes = {'s':((10,6)),'m':(14,8), 'l':(18,10)}\n",
        "\n",
        "def plot_grep(feature, label=label_col, plot_type='countplot', fig_size='s',subset=train_df): \n",
        "    '''\n",
        "    Doc:\n",
        "    Greps feature with label.\n",
        "    Displays a seaborn plot of grep.\n",
        "\n",
        "        Parameters\n",
        "        -------------\n",
        "            feature   : (str)\n",
        "                Feature to plot 'label' by\n",
        "            label     : (str)    \n",
        "                Label (or additional feature) to plot 'feature' by  \n",
        "                default   = target\n",
        "                    * save a variable 'target' as df.columns['target variable']               \n",
        "            plot_type : (dict)\n",
        "                Specify a seaborn plot function from {graph_}\n",
        "                    default: 'countplot'      \n",
        "            fig_size  : {'s', 'm', 'l'}\n",
        "                Choose a small , medium, or large figure size\n",
        "                default   : {'s'=10x6, 'm'=14x8, 'l'=18x10}\n",
        "            subset    : (dataframe)\n",
        "                Specify which subset of the dataframe to use\n",
        "                default   = 'train_df'\n",
        "                examples  : 'train_df', 'test_df', etc.\n",
        "        \n",
        "        Returns\n",
        "        -------------\n",
        "            Seaborn plot of grep(feature,label)\n",
        "\n",
        "        Plot Options: \n",
        "        -------------\n",
        "        --> from Seaborn API Reference : https://seaborn.pydata.org/api.html\n",
        "        \n",
        "        Relational Plots\n",
        "        ---\n",
        "        'relplot'     - Figure-level interface for drawing relational plots onto a FacetGrid.\n",
        "        'scatterplot' - Draw a scatter plot with possibility of several semantic groupings.\n",
        "        'lineplot'    - Draw a line plot with possibility of several semantic groupings.\n",
        "\n",
        "        Distribution Plots\n",
        "        ---\n",
        "        'displot'     - Figure-level interface for drawing distribution plots onto a FacetGrid.\n",
        "        'histplot'    - Plot univariate or bivariate histograms to show distributions of datasets.\n",
        "        'kdeplot'     - Plot univariate or bivariate distributions using kernel density estimation.\n",
        "\n",
        "        Categorical Plots\n",
        "        ---\n",
        "        'ecdfplot'    - Plot empirical cumulative distribution functions.\n",
        "        'rugplot'     - Plot marginal distributions by drawing ticks along the x and y axes.\n",
        "        'catplot'     - Figure-level interface for drawing categorical plots onto a FacetGrid.\n",
        "        'stripplot'   - Draw a scatterplot where one variable is categorical.\n",
        "        'swarmplot'   - Draw a categorical scatterplot with non-overlapping points.\n",
        "        'boxplot'     - Draw a box plot to show distributions with respect to categories.\n",
        "        'violinplot'  - Draw a combination of boxplot and kernel density estimate.\n",
        "        'boxenplot'   - Draw an enhanced box plot for larger datasets\n",
        "        'pointplot'   - Show point estimates and confidence intervals using scatter plot glyphs.\n",
        "        'barplot'     - Show point estimates and confidence intervals as rectangular bars.\n",
        "        'countplot'   - Show the counts of observations in each categorical bin using bars.\n",
        "\n",
        "        Regression Plots\n",
        "        ---\n",
        "        'lmplot'      - Plot data and regression model fits across a FacetGrid.\n",
        "        'regplot'     - Plot data and a linear regression model fit.\n",
        "        'residplot'   - lot the residuals of a linear regression.\n",
        "\n",
        "        Matrix Plots\n",
        "        ---\n",
        "        'heatmap'     - Plot rectangular data as a color-encoded matrix.\n",
        "        'clustermap'  - Plot a matrix dataset as a hierarchically-clustered heatmap.\n",
        "\n",
        "        MULTI-PLOT GRIDS\n",
        "\n",
        "        FacetGrid\n",
        "        ---\n",
        "        'FacetGrid'   - Multi-plot grid for plotting conditional relationships.\n",
        "\n",
        "        Pair Grids\n",
        "        ---\n",
        "        'pairplot'    - Plot pairwise relationships in a dataset.\n",
        "        'PairGrid'    - Subplot grid for plotting pairwise relationships in a dataset.\n",
        "\n",
        "        Joint 'Grids'\n",
        "        ---\n",
        "        'jointplot'   - Draw a plot of two variables with bivariate and univariate graphs.\n",
        "        'JointGrid'   - Grid for drawing a bivariate plot with marginal univariate plots.\n",
        "    '''\n",
        "    # filter input for matching \n",
        "    feature = feature.title()\n",
        "    label = label.title()\n",
        "    # increase size for age\n",
        "    if (feature == 'Age') & (fig_size == 's'):\n",
        "        aging = True\n",
        "        while aging == True:\n",
        "            resp = input(f'This {feature} feature has quite the range!\\n\\\n",
        "            Would you like to increase the size for better readability?\\n\\n(y) or (n)   --> ')\n",
        "            if resp.lower() == 'n':\n",
        "                print(\"You know best!\")\n",
        "                aging = False\n",
        "            else:\n",
        "                print(\"Great idea!\")\n",
        "                fig_size = 'm'\n",
        "                aging = False   \n",
        "    # plot\n",
        "    fig, ax = plt.subplots(figsize=sizes[fig_size])\n",
        "    graph_[plot_type](subset[feature],hue=subset[label])\n",
        "    plt.show() \n",
        "\n",
        "def plot_all_grep(feature, plot_type='countplot', fig_size='s',subset=train_df): \n",
        "    '''\n",
        "    **WRITE DOC**\n",
        "    '''\n",
        "    # filter input for matching \n",
        "    feature = feature.title()\n",
        "    # label = label.title()target\n",
        "    # increase size for age\n",
        "    for i in range(1,(len(subset.columns)-1)):\n",
        "        by_feature = subset[subset.columns[i]]\n",
        "        if (subset.columns[i] == 'Age') & (fig_size == 's'):\n",
        "            # plot\n",
        "            fig, ax = plt.subplots(figsize=sizes['m'])\n",
        "            graph_[plot_type](by_feature,hue=subset[feature])\n",
        "            plt.show() \n",
        "        else:\n",
        "            # plot\n",
        "            fig, ax = plt.subplots(figsize=sizes[fig_size])\n",
        "            graph_[plot_type](by_feature,hue=subset[feature])\n",
        "            plt.show() "
      ],
      "metadata": {
        "id": "mU4o012PYDXr"
      },
      "execution_count": 10,
      "outputs": []
    },
    {
      "cell_type": "markdown",
      "source": [
        "### OHE"
      ],
      "metadata": {
        "id": "qN-LwNcVlOcj"
      }
    },
    {
      "cell_type": "code",
      "source": [
        "def ohe(subset=None):\n",
        "    # must be run before fill_na\n",
        "    obj_list = []\n",
        "    for i in range(0,len(subset.dtypes)):\n",
        "        if subset.dtypes[i] == 'object':\n",
        "            if subset.columns[i] == 'Segmentation':\n",
        "                pass\n",
        "            else:\n",
        "                obj_list.append(subset.columns[i])\n",
        "        else:\n",
        "            pass\n",
        "    print(f\"\\nOHE of Subset:  '{retrieve_name(subset)[0]}'\\n\\nColumns Include:\")\n",
        "    [print(f\"   {x}\") for x in obj_list]\n",
        "    resp = input(\"\\nProceed with OHE?     y/n \\n\\n  -->  \")\n",
        "    if resp == 'n':\n",
        "        print(\"\\nnevermind then...\\n\")\n",
        "    else:\n",
        "        print(\"\\nLet's do it!\\n\")\n",
        "        print(obj_list)\n",
        "        subset = pd.get_dummies(data=subset, columns=obj_list)\n",
        "        print(\"...\")\n",
        "        subset.head()\n",
        "    return subset"
      ],
      "metadata": {
        "id": "sS7fodk9tnFa"
      },
      "execution_count": 11,
      "outputs": []
    },
    {
      "cell_type": "markdown",
      "source": [
        "### Encode Label"
      ],
      "metadata": {
        "id": "p9qzzxAaZPj6"
      }
    },
    {
      "cell_type": "code",
      "source": [
        "le = preprocessing.LabelEncoder()"
      ],
      "metadata": {
        "id": "qd6mkrmhZUwZ"
      },
      "execution_count": 12,
      "outputs": []
    },
    {
      "cell_type": "markdown",
      "source": [
        "### Impute"
      ],
      "metadata": {
        "id": "8vU3HMZDwOKG"
      }
    },
    {
      "cell_type": "code",
      "source": [
        "def fill_nan(subset=None):\n",
        "    '''\n",
        "    ** Write DOC ***\n",
        "    '''\n",
        "    imputer = CategoricalImputer()\n",
        "    nan_list = []\n",
        "    null_count = subset.isnull().any()\n",
        "    for i in range(0,len(subset.columns)):\n",
        "        if null_count[i] == True:\n",
        "            nan_list.append(subset.columns[i])\n",
        "        else:\n",
        "            pass\n",
        "    for feature in nan_list:\n",
        "        # impute NaN values\n",
        "        filled = imputer.fit_transform(np.array(subset[feature], dtype=float))\n",
        "        # update subset\n",
        "        subset[feature] = filled\n",
        "    return subset"
      ],
      "metadata": {
        "id": "UXJFkxrLwcC2"
      },
      "execution_count": 13,
      "outputs": []
    },
    {
      "cell_type": "markdown",
      "source": [
        "### Scale\n"
      ],
      "metadata": {
        "id": "JGq4cFSLWi48"
      }
    },
    {
      "cell_type": "code",
      "source": [
        "scaler = StandardScaler()"
      ],
      "metadata": {
        "id": "2GCHndRLUiIH"
      },
      "execution_count": 14,
      "outputs": []
    },
    {
      "cell_type": "markdown",
      "source": [
        "### Transformation Script"
      ],
      "metadata": {
        "id": "LNBDLv11M44j"
      }
    },
    {
      "cell_type": "code",
      "source": [
        "def transform_df(subset=None):\n",
        "    # ohe\n",
        "    subset = ohe(subset)\n",
        "\n",
        "    # impute\n",
        "    subset_1 = fill_nan(subset)\n",
        "\n",
        "    # feature cols\n",
        "    feature_cols = subset.columns.tolist()\n",
        "    feature_cols.remove('Segmentation')\n",
        "    # label\n",
        "    label_col = 'Segmentation'\n",
        "\n",
        "    # scale\n",
        "    scaled_array = scaler.fit_transform(subset_1[feature_cols])\n",
        "    # return to df\n",
        "    subset_1 = pd.DataFrame(scaled_array, columns=feature_cols)\n",
        "    # Concat dfs\n",
        "    subset = pd.concat([subset_1, subset[label_col]], axis=1)\n",
        "\n",
        "    # encode label\n",
        "    subset[label_col] =le.fit_transform(subset[label_col])\n",
        "    \n",
        "    return subset.astype(float)"
      ],
      "metadata": {
        "id": "-dsI6gHpM_O6"
      },
      "execution_count": 15,
      "outputs": []
    },
    {
      "cell_type": "markdown",
      "metadata": {
        "id": "bb475f20"
      },
      "source": [
        "### Cross Validate ###"
      ]
    },
    {
      "cell_type": "code",
      "execution_count": 16,
      "metadata": {
        "id": "4d082892"
      },
      "outputs": [],
      "source": [
        "cv = KFold(n_splits = 3, shuffle=True)"
      ]
    },
    {
      "cell_type": "markdown",
      "source": [
        "## Initial EDA & Data Visualization"
      ],
      "metadata": {
        "id": "OvFLtIBzSkJ8"
      }
    },
    {
      "cell_type": "code",
      "source": [
        "summarize(train_df)"
      ],
      "metadata": {
        "id": "-HvZMLGIUuck",
        "colab": {
          "base_uri": "https://localhost:8080/"
        },
        "outputId": "4e46eebb-599d-487b-8d66-6a974368e7cd"
      },
      "execution_count": 17,
      "outputs": [
        {
          "output_type": "stream",
          "name": "stdout",
          "text": [
            "\n",
            "Summary of Subset:  'train_df'\n",
            "\n",
            "\n",
            "--------\n",
            "SHAPE\n",
            "--------\n",
            "\n",
            "(6454, 11)\n",
            "---\n",
            "\n",
            "--------\n",
            "ISNULL\n",
            "--------\n",
            "\n",
            "ID                   0\n",
            "Gender               0\n",
            "Ever_Married       108\n",
            "Age                  0\n",
            "Graduated           58\n",
            "Profession          91\n",
            "Work_Experience    659\n",
            "Spending_Score       0\n",
            "Family_Size        260\n",
            "Var_1               61\n",
            "Segmentation         0\n",
            "dtype: int64\n",
            "---\n",
            "\n",
            "--------\n",
            "DTYPES\n",
            "--------\n",
            "\n",
            "ID                   int64\n",
            "Gender              object\n",
            "Ever_Married        object\n",
            "Age                  int64\n",
            "Graduated           object\n",
            "Profession          object\n",
            "Work_Experience    float64\n",
            "Spending_Score      object\n",
            "Family_Size        float64\n",
            "Var_1               object\n",
            "Segmentation        object\n",
            "dtype: object\n",
            "---\n",
            "\n",
            "--------\n",
            "INFO\n",
            "--------\n",
            "\n",
            "<bound method DataFrame.info of           ID  Gender Ever_Married  Age Graduated  Profession  Work_Experience  \\\n",
            "0     460591  Female          Yes   38       Yes      Doctor              1.0   \n",
            "1     460459  Female           No   33        No    Engineer              0.0   \n",
            "2     459043  Female          Yes   49        No    Engineer              1.0   \n",
            "3     461220  Female           No   26        No   Executive              8.0   \n",
            "4     460403  Female           No   56       Yes      Doctor              3.0   \n",
            "...      ...     ...          ...  ...       ...         ...              ...   \n",
            "6449  460386    Male          Yes   29       Yes  Healthcare              0.0   \n",
            "6450  461514    Male           No   31        No  Healthcare              1.0   \n",
            "6451  467236  Female           No   40       Yes      Lawyer              4.0   \n",
            "6452  460278    Male          Yes   29       Yes      Artist              0.0   \n",
            "6453  460267  Female           No   27       Yes  Healthcare              1.0   \n",
            "\n",
            "     Spending_Score  Family_Size  Var_1 Segmentation  \n",
            "0               Low          4.0  Cat_3            A  \n",
            "1               Low          5.0  Cat_3            D  \n",
            "2               Low          1.0  Cat_7            A  \n",
            "3               Low          3.0  Cat_6            D  \n",
            "4               Low          1.0  Cat_6            A  \n",
            "...             ...          ...    ...          ...  \n",
            "6449            Low          2.0  Cat_6            D  \n",
            "6450            Low          4.0  Cat_6            B  \n",
            "6451            Low          1.0  Cat_6            B  \n",
            "6452            Low          5.0  Cat_4            A  \n",
            "6453            Low          9.0  Cat_6            C  \n",
            "\n",
            "[6454 rows x 11 columns]>\n",
            "---\n",
            "\n",
            "--------\n",
            "DESCRIBE\n",
            "--------\n",
            "\n",
            "                  ID          Age  Work_Experience  Family_Size\n",
            "count    6454.000000  6454.000000      5795.000000  6194.000000\n",
            "mean   463467.652464    43.557174         2.659016     2.857443\n",
            "std      2604.917922    16.742063         3.426838     1.529152\n",
            "min    458982.000000    18.000000         0.000000     1.000000\n",
            "25%    461219.250000    30.000000         0.000000     2.000000\n",
            "50%    463453.500000    41.000000         1.000000     3.000000\n",
            "75%    465751.750000    53.000000         4.000000     4.000000\n",
            "max    467974.000000    89.000000        14.000000     9.000000\n",
            "---\n",
            "\n",
            "--------\n",
            "CORR\n",
            "--------\n",
            "\n",
            "                       ID       Age  Work_Experience  Family_Size\n",
            "ID               1.000000 -0.004430        -0.033883     0.006472\n",
            "Age             -0.004430  1.000000        -0.198083    -0.282764\n",
            "Work_Experience -0.033883 -0.198083         1.000000    -0.063628\n",
            "Family_Size      0.006472 -0.282764        -0.063628     1.000000\n",
            "---\n",
            "Male      3530\n",
            "Female    2924\n",
            "Name: Gender, dtype: int64\n",
            "Yes    3706\n",
            "No     2640\n",
            "Name: Ever_Married, dtype: int64\n",
            "35    205\n",
            "27    189\n",
            "40    185\n",
            "42    182\n",
            "33    182\n",
            "     ... \n",
            "77     21\n",
            "76     21\n",
            "74     20\n",
            "85     18\n",
            "80     17\n",
            "Name: Age, Length: 67, dtype: int64\n",
            "Yes    3984\n",
            "No     2412\n",
            "Name: Graduated, dtype: int64\n",
            "Artist           2030\n",
            "Healthcare       1066\n",
            "Entertainment     753\n",
            "Engineer          567\n",
            "Doctor            543\n",
            "Lawyer            495\n",
            "Executive         480\n",
            "Marketing         236\n",
            "Homemaker         193\n",
            "Name: Profession, dtype: int64\n",
            "1.0     1898\n",
            "0.0     1843\n",
            "8.0      381\n",
            "9.0      381\n",
            "2.0      224\n",
            "4.0      206\n",
            "3.0      198\n",
            "7.0      156\n",
            "6.0      155\n",
            "5.0      155\n",
            "12.0      42\n",
            "10.0      42\n",
            "14.0      41\n",
            "11.0      38\n",
            "13.0      35\n",
            "Name: Work_Experience, dtype: int64\n",
            "Low        3904\n",
            "Average    1563\n",
            "High        987\n",
            "Name: Spending_Score, dtype: int64\n",
            "2.0    1894\n",
            "3.0    1207\n",
            "1.0    1159\n",
            "4.0    1120\n",
            "5.0     491\n",
            "6.0     172\n",
            "7.0      77\n",
            "8.0      41\n",
            "9.0      33\n",
            "Name: Family_Size, dtype: int64\n",
            "Cat_6    4200\n",
            "Cat_4     868\n",
            "Cat_3     653\n",
            "Cat_2     342\n",
            "Cat_7     158\n",
            "Cat_1     105\n",
            "Cat_5      67\n",
            "Name: Var_1, dtype: int64\n"
          ]
        }
      ]
    },
    {
      "cell_type": "code",
      "source": [
        "plot_all_grep('segmentation')"
      ],
      "metadata": {
        "id": "bwkNWz9yU-B3",
        "colab": {
          "base_uri": "https://localhost:8080/",
          "height": 0
        },
        "outputId": "ae0a4f7b-524b-4077-b561-ad3d95cc8464"
      },
      "execution_count": 18,
      "outputs": [
        {
          "output_type": "display_data",
          "data": {
            "text/plain": [
              "<Figure size 720x432 with 1 Axes>"
            ],
            "image/png": "[encoded data removed]"
          },
          "metadata": {
            "needs_background": "light"
          }
        },
        {
          "output_type": "display_data",
          "data": {
            "text/plain": [
              "<Figure size 720x432 with 1 Axes>"
            ],
            "image/png": "[encoded data removed]"
          },
          "metadata": {
            "needs_background": "light"
          }
        },
        {
          "output_type": "display_data",
          "data": {
            "text/plain": [
              "<Figure size 1008x576 with 1 Axes>"
            ],
            "image/png": "[encoded data removed]"
          },
          "metadata": {
            "needs_background": "light"
          }
        },
        {
          "output_type": "display_data",
          "data": {
            "text/plain": [
              "<Figure size 720x432 with 1 Axes>"
            ],
            "image/png": "[encoded data removed]"
          },
          "metadata": {
            "needs_background": "light"
          }
        },
        {
          "output_type": "display_data",
          "data": {
            "text/plain": [
              "<Figure size 720x432 with 1 Axes>"
            ],
            "image/png": "[encoded data removed]"
          },
          "metadata": {
            "needs_background": "light"
          }
        },
        {
          "output_type": "display_data",
          "data": {
            "text/plain": [
              "<Figure size 720x432 with 1 Axes>"
            ],
            "image/png": "[encoded data removed]"
          },
          "metadata": {
            "needs_background": "light"
          }
        },
        {
          "output_type": "display_data",
          "data": {
            "text/plain": [
              "<Figure size 720x432 with 1 Axes>"
            ],
            "image/png": "[encoded data removed]"
          },
          "metadata": {
            "needs_background": "light"
          }
        },
        {
          "output_type": "display_data",
          "data": {
            "text/plain": [
              "<Figure size 720x432 with 1 Axes>"
            ],
            "image/png": "[encoded data removed]"
          },
          "metadata": {
            "needs_background": "light"
          }
        },
        {
          "output_type": "display_data",
          "data": {
            "text/plain": [
              "<Figure size 720x432 with 1 Axes>"
            ],
            "image/png": "[encoded data removed]"
          },
          "metadata": {
            "needs_background": "light"
          }
        }
      ]
    },
    {
      "cell_type": "code",
      "source": [
        "plot_grep(feature='Gender', label='spending_score')"
      ],
      "metadata": {
        "id": "YY6pknCUWERW",
        "colab": {
          "base_uri": "https://localhost:8080/",
          "height": 0
        },
        "outputId": "ec02cd4b-8e22-4949-beff-f8ee41a252dd"
      },
      "execution_count": 19,
      "outputs": [
        {
          "output_type": "display_data",
          "data": {
            "text/plain": [
              "<Figure size 720x432 with 1 Axes>"
            ],
            "image/png": "[encoded data removed]"
          },
          "metadata": {
            "needs_background": "light"
          }
        }
      ]
    },
    {
      "cell_type": "code",
      "source": [
        "train_df['Gender'].value_counts()"
      ],
      "metadata": {
        "id": "n0Ljh5MJX1gd",
        "colab": {
          "base_uri": "https://localhost:8080/"
        },
        "outputId": "5870c189-aad1-4c1f-da3d-0fa805e6d97e"
      },
      "execution_count": 20,
      "outputs": [
        {
          "output_type": "execute_result",
          "data": {
            "text/plain": [
              "Male      3530\n",
              "Female    2924\n",
              "Name: Gender, dtype: int64"
            ]
          },
          "metadata": {},
          "execution_count": 20
        }
      ]
    },
    {
      "cell_type": "code",
      "source": [
        "plot_grep('gender')"
      ],
      "metadata": {
        "id": "EVDL3C2TW_07",
        "colab": {
          "base_uri": "https://localhost:8080/",
          "height": 0
        },
        "outputId": "21dbb402-898e-4609-c7d1-b6ecaa3838d0"
      },
      "execution_count": 21,
      "outputs": [
        {
          "output_type": "display_data",
          "data": {
            "text/plain": [
              "<Figure size 720x432 with 1 Axes>"
            ],
            "image/png": "[encoded data removed]"
          },
          "metadata": {
            "needs_background": "light"
          }
        }
      ]
    },
    {
      "cell_type": "markdown",
      "source": [
        "## Feature engineering and transformation"
      ],
      "metadata": {
        "id": "k2LeKUflLehC"
      }
    },
    {
      "cell_type": "markdown",
      "source": [
        "### Transform : Impute, OHE, Scale"
      ],
      "metadata": {
        "id": "bgAx-fqH8iOh"
      }
    },
    {
      "cell_type": "code",
      "source": [
        "# train_test split 80/20\n",
        "train_df, test_df = train_test_split(\n",
        "    df, test_size=0.20, random_state=42\n",
        "    )\n",
        "train_df.reset_index(drop=True, inplace=True)\n",
        "test_df.reset_index(drop=True, inplace=True)\n",
        "# features\n",
        "feature_cols = train_df.columns.tolist()\n",
        "feature_cols.remove('Segmentation')\n",
        "\n",
        "# label"
      ],
      "metadata": {
        "id": "6DpF2kcI5hXL"
      },
      "execution_count": 22,
      "outputs": []
    },
    {
      "cell_type": "code",
      "source": [
        "# train\n",
        "train_df = transform_df(train_df)\n",
        "# test\n",
        "test_df = transform_df(test_df)"
      ],
      "metadata": {
        "id": "z8T0pQkWNrSj",
        "colab": {
          "base_uri": "https://localhost:8080/"
        },
        "outputId": "a46519e1-e226-451e-ab6e-fad7010d9492"
      },
      "execution_count": 23,
      "outputs": [
        {
          "output_type": "stream",
          "name": "stdout",
          "text": [
            "\n",
            "OHE of Subset:  'subset'\n",
            "\n",
            "Columns Include:\n",
            "   Gender\n",
            "   Ever_Married\n",
            "   Graduated\n",
            "   Profession\n",
            "   Spending_Score\n",
            "   Var_1\n",
            "\n",
            "Proceed with OHE?     y/n \n",
            "\n",
            "  -->  y\n",
            "\n",
            "Let's do it!\n",
            "\n",
            "['Gender', 'Ever_Married', 'Graduated', 'Profession', 'Spending_Score', 'Var_1']\n",
            "...\n",
            "\n",
            "OHE of Subset:  'subset'\n",
            "\n",
            "Columns Include:\n",
            "   Gender\n",
            "   Ever_Married\n",
            "   Graduated\n",
            "   Profession\n",
            "   Spending_Score\n",
            "   Var_1\n",
            "\n",
            "Proceed with OHE?     y/n \n",
            "\n",
            "  -->  y\n",
            "\n",
            "Let's do it!\n",
            "\n",
            "['Gender', 'Ever_Married', 'Graduated', 'Profession', 'Spending_Score', 'Var_1']\n",
            "...\n"
          ]
        }
      ]
    },
    {
      "cell_type": "code",
      "source": [
        "# train_df.info()\n",
        "# summarize(test_df)"
      ],
      "metadata": {
        "id": "qS96urLY9RId"
      },
      "execution_count": 24,
      "outputs": []
    },
    {
      "cell_type": "markdown",
      "source": [
        "#### Update Column Groups"
      ],
      "metadata": {
        "id": "Qtma3ZXKOiVR"
      }
    },
    {
      "cell_type": "code",
      "source": [
        "# categorical\n",
        "cat_cols = ['Gender_Female', 'Gender_Male', 'Ever_Married_No',\n",
        "       'Ever_Married_Yes', 'Graduated_No', 'Graduated_Yes',\n",
        "       'Profession_Artist', 'Profession_Doctor', 'Profession_Engineer',\n",
        "       'Profession_Entertainment', 'Profession_Executive',\n",
        "       'Profession_Healthcare', 'Profession_Homemaker', 'Profession_Lawyer',\n",
        "       'Profession_Marketing', 'Spending_Score_Average', 'Spending_Score_High',\n",
        "       'Spending_Score_Low', 'Var_1_Cat_1', 'Var_1_Cat_2', 'Var_1_Cat_3',\n",
        "       'Var_1_Cat_4', 'Var_1_Cat_5', 'Var_1_Cat_6', 'Var_1_Cat_7']\n",
        "\n",
        "# continuous\n",
        "cont_cols = ['Age','Work_Experience', 'Family_Size']\n",
        "\n",
        "# features\n",
        "feature_cols = train_df.columns.tolist()\n",
        "feature_cols.remove('Segmentation')\n",
        "# label\n",
        "label_col = 'Segmentation'\n",
        "\n",
        "# print(feature_cols)\n",
        "# print('---')\n",
        "# print(label_col)"
      ],
      "metadata": {
        "id": "8tWoK6apaLYA"
      },
      "execution_count": 25,
      "outputs": []
    },
    {
      "cell_type": "markdown",
      "source": [
        "## Continued EDA & Data Visualization"
      ],
      "metadata": {
        "id": "7UUlEvcpTWr_"
      }
    },
    {
      "cell_type": "code",
      "source": [
        "# correlation object\n",
        "corr= train_df.corr().round(2)\n",
        "# getting the Upper Triangle of the co-relation matrix\n",
        "up_tri = np.triu(corr)\n",
        "\n",
        "# PLOT\n",
        "f, ax = plt.subplots(figsize=(30,30))\n",
        "sns.heatmap(corr, vmin=-1, vmax=1,cmap= 'gist_stern',annot=True,linewidth=0.5,square=True, mask=up_tri) #,mask=matrix\n",
        "plt.show();\n"
      ],
      "metadata": {
        "id": "lIxledso9DHn",
        "colab": {
          "base_uri": "https://localhost:8080/",
          "height": 0
        },
        "outputId": "367fd6df-a2de-4651-beb5-fe3f8a289f05"
      },
      "execution_count": 26,
      "outputs": [
        {
          "output_type": "display_data",
          "data": {
            "text/plain": [
              "<Figure size 2160x2160 with 2 Axes>"
            ],
            "image/png": "[encoded data removed]"
          },
          "metadata": {
            "needs_background": "light"
          }
        }
      ]
    },
    {
      "cell_type": "code",
      "source": [
        "# sns.pairplot(train)"
      ],
      "metadata": {
        "id": "vv4VwWpkA5AV"
      },
      "execution_count": 27,
      "outputs": []
    },
    {
      "cell_type": "markdown",
      "source": [
        "---\n",
        "# 2. Training\n",
        "---\n",
        "* Traditional ML Modeling\n",
        "* Pure Torch Model\n",
        "* High-level Libraries and Tabular Frameworks"
      ],
      "metadata": {
        "id": "w1VzkVQAHh1h"
      }
    },
    {
      "cell_type": "markdown",
      "source": [
        "## Traditional ML modeling"
      ],
      "metadata": {
        "id": "c8XPEDl7ocFX"
      }
    },
    {
      "cell_type": "markdown",
      "source": [
        "### Dummy Classifier"
      ],
      "metadata": {
        "id": "EKa0LJy_XqSE"
      }
    },
    {
      "cell_type": "code",
      "source": [
        "train_df.head()"
      ],
      "metadata": {
        "colab": {
          "base_uri": "https://localhost:8080/",
          "height": 0
        },
        "id": "uxFzW-SNflxI",
        "outputId": "9701cf63-2285-4aba-c7c7-d8816e4fd6a6"
      },
      "execution_count": 28,
      "outputs": [
        {
          "output_type": "execute_result",
          "data": {
            "text/plain": [
              "         ID       Age  Work_Experience  Family_Size  Gender_Female  \\\n",
              "0 -1.104402 -0.331955        -0.453388     0.780895       1.098749   \n",
              "1 -1.155079 -0.630627        -0.757754     1.444302       1.098749   \n",
              "2 -1.698708  0.325124        -0.453388    -1.209324       1.098749   \n",
              "3 -0.862916 -1.048768         1.677169     0.117489       1.098749   \n",
              "4 -1.176578  0.743265         0.155342    -1.209324       1.098749   \n",
              "\n",
              "   Gender_Male  Ever_Married_No  Ever_Married_Yes  Graduated_No  \\\n",
              "0    -1.098749        -0.831978          0.861104     -0.772486   \n",
              "1    -1.098749         1.201955         -1.161300      1.294522   \n",
              "2    -1.098749        -0.831978          0.861104      1.294522   \n",
              "3    -1.098749         1.201955         -1.161300      1.294522   \n",
              "4    -1.098749         1.201955         -1.161300     -0.772486   \n",
              "\n",
              "   Graduated_Yes  ...  Spending_Score_High  Spending_Score_Low  Var_1_Cat_1  \\\n",
              "0       0.787388  ...            -0.424897            0.808193      -0.1286   \n",
              "1      -1.270022  ...            -0.424897            0.808193      -0.1286   \n",
              "2      -1.270022  ...            -0.424897            0.808193      -0.1286   \n",
              "3      -1.270022  ...            -0.424897            0.808193      -0.1286   \n",
              "4       0.787388  ...            -0.424897            0.808193      -0.1286   \n",
              "\n",
              "   Var_1_Cat_2  Var_1_Cat_3  Var_1_Cat_4  Var_1_Cat_5  Var_1_Cat_6  \\\n",
              "0    -0.236549     2.980539    -0.394193    -0.102421    -1.365047   \n",
              "1    -0.236549     2.980539    -0.394193    -0.102421    -1.365047   \n",
              "2    -0.236549    -0.335510    -0.394193    -0.102421    -1.365047   \n",
              "3    -0.236549    -0.335510    -0.394193    -0.102421     0.732575   \n",
              "4    -0.236549    -0.335510    -0.394193    -0.102421     0.732575   \n",
              "\n",
              "   Var_1_Cat_7  Segmentation  \n",
              "0    -0.158415           0.0  \n",
              "1    -0.158415           3.0  \n",
              "2     6.312535           0.0  \n",
              "3    -0.158415           3.0  \n",
              "4    -0.158415           0.0  \n",
              "\n",
              "[5 rows x 30 columns]"
            ],
            "text/html": [
              "\n",
              "  <div id=\"df-6f018075-8874-48c0-b759-53938d0d639a\">\n",
              "    <div class=\"colab-df-container\">\n",
              "      <div>\n",
              "<style scoped>\n",
              "    .dataframe tbody tr th:only-of-type {\n",
              "        vertical-align: middle;\n",
              "    }\n",
              "\n",
              "    .dataframe tbody tr th {\n",
              "        vertical-align: top;\n",
              "    }\n",
              "\n",
              "    .dataframe thead th {\n",
              "        text-align: right;\n",
              "    }\n",
              "</style>\n",
              "<table border=\"1\" class=\"dataframe\">\n",
              "  <thead>\n",
              "    <tr style=\"text-align: right;\">\n",
              "      <th></th>\n",
              "      <th>ID</th>\n",
              "      <th>Age</th>\n",
              "      <th>Work_Experience</th>\n",
              "      <th>Family_Size</th>\n",
              "      <th>Gender_Female</th>\n",
              "      <th>Gender_Male</th>\n",
              "      <th>Ever_Married_No</th>\n",
              "      <th>Ever_Married_Yes</th>\n",
              "      <th>Graduated_No</th>\n",
              "      <th>Graduated_Yes</th>\n",
              "      <th>...</th>\n",
              "      <th>Spending_Score_High</th>\n",
              "      <th>Spending_Score_Low</th>\n",
              "      <th>Var_1_Cat_1</th>\n",
              "      <th>Var_1_Cat_2</th>\n",
              "      <th>Var_1_Cat_3</th>\n",
              "      <th>Var_1_Cat_4</th>\n",
              "      <th>Var_1_Cat_5</th>\n",
              "      <th>Var_1_Cat_6</th>\n",
              "      <th>Var_1_Cat_7</th>\n",
              "      <th>Segmentation</th>\n",
              "    </tr>\n",
              "  </thead>\n",
              "  <tbody>\n",
              "    <tr>\n",
              "      <th>0</th>\n",
              "      <td>-1.104402</td>\n",
              "      <td>-0.331955</td>\n",
              "      <td>-0.453388</td>\n",
              "      <td>0.780895</td>\n",
              "      <td>1.098749</td>\n",
              "      <td>-1.098749</td>\n",
              "      <td>-0.831978</td>\n",
              "      <td>0.861104</td>\n",
              "      <td>-0.772486</td>\n",
              "      <td>0.787388</td>\n",
              "      <td>...</td>\n",
              "      <td>-0.424897</td>\n",
              "      <td>0.808193</td>\n",
              "      <td>-0.1286</td>\n",
              "      <td>-0.236549</td>\n",
              "      <td>2.980539</td>\n",
              "      <td>-0.394193</td>\n",
              "      <td>-0.102421</td>\n",
              "      <td>-1.365047</td>\n",
              "      <td>-0.158415</td>\n",
              "      <td>0.0</td>\n",
              "    </tr>\n",
              "    <tr>\n",
              "      <th>1</th>\n",
              "      <td>-1.155079</td>\n",
              "      <td>-0.630627</td>\n",
              "      <td>-0.757754</td>\n",
              "      <td>1.444302</td>\n",
              "      <td>1.098749</td>\n",
              "      <td>-1.098749</td>\n",
              "      <td>1.201955</td>\n",
              "      <td>-1.161300</td>\n",
              "      <td>1.294522</td>\n",
              "      <td>-1.270022</td>\n",
              "      <td>...</td>\n",
              "      <td>-0.424897</td>\n",
              "      <td>0.808193</td>\n",
              "      <td>-0.1286</td>\n",
              "      <td>-0.236549</td>\n",
              "      <td>2.980539</td>\n",
              "      <td>-0.394193</td>\n",
              "      <td>-0.102421</td>\n",
              "      <td>-1.365047</td>\n",
              "      <td>-0.158415</td>\n",
              "      <td>3.0</td>\n",
              "    </tr>\n",
              "    <tr>\n",
              "      <th>2</th>\n",
              "      <td>-1.698708</td>\n",
              "      <td>0.325124</td>\n",
              "      <td>-0.453388</td>\n",
              "      <td>-1.209324</td>\n",
              "      <td>1.098749</td>\n",
              "      <td>-1.098749</td>\n",
              "      <td>-0.831978</td>\n",
              "      <td>0.861104</td>\n",
              "      <td>1.294522</td>\n",
              "      <td>-1.270022</td>\n",
              "      <td>...</td>\n",
              "      <td>-0.424897</td>\n",
              "      <td>0.808193</td>\n",
              "      <td>-0.1286</td>\n",
              "      <td>-0.236549</td>\n",
              "      <td>-0.335510</td>\n",
              "      <td>-0.394193</td>\n",
              "      <td>-0.102421</td>\n",
              "      <td>-1.365047</td>\n",
              "      <td>6.312535</td>\n",
              "      <td>0.0</td>\n",
              "    </tr>\n",
              "    <tr>\n",
              "      <th>3</th>\n",
              "      <td>-0.862916</td>\n",
              "      <td>-1.048768</td>\n",
              "      <td>1.677169</td>\n",
              "      <td>0.117489</td>\n",
              "      <td>1.098749</td>\n",
              "      <td>-1.098749</td>\n",
              "      <td>1.201955</td>\n",
              "      <td>-1.161300</td>\n",
              "      <td>1.294522</td>\n",
              "      <td>-1.270022</td>\n",
              "      <td>...</td>\n",
              "      <td>-0.424897</td>\n",
              "      <td>0.808193</td>\n",
              "      <td>-0.1286</td>\n",
              "      <td>-0.236549</td>\n",
              "      <td>-0.335510</td>\n",
              "      <td>-0.394193</td>\n",
              "      <td>-0.102421</td>\n",
              "      <td>0.732575</td>\n",
              "      <td>-0.158415</td>\n",
              "      <td>3.0</td>\n",
              "    </tr>\n",
              "    <tr>\n",
              "      <th>4</th>\n",
              "      <td>-1.176578</td>\n",
              "      <td>0.743265</td>\n",
              "      <td>0.155342</td>\n",
              "      <td>-1.209324</td>\n",
              "      <td>1.098749</td>\n",
              "      <td>-1.098749</td>\n",
              "      <td>1.201955</td>\n",
              "      <td>-1.161300</td>\n",
              "      <td>-0.772486</td>\n",
              "      <td>0.787388</td>\n",
              "      <td>...</td>\n",
              "      <td>-0.424897</td>\n",
              "      <td>0.808193</td>\n",
              "      <td>-0.1286</td>\n",
              "      <td>-0.236549</td>\n",
              "      <td>-0.335510</td>\n",
              "      <td>-0.394193</td>\n",
              "      <td>-0.102421</td>\n",
              "      <td>0.732575</td>\n",
              "      <td>-0.158415</td>\n",
              "      <td>0.0</td>\n",
              "    </tr>\n",
              "  </tbody>\n",
              "</table>\n",
              "<p>5 rows × 30 columns</p>\n",
              "</div>\n",
              "      <button class=\"colab-df-convert\" onclick=\"convertToInteractive('df-6f018075-8874-48c0-b759-53938d0d639a')\"\n",
              "              title=\"Convert this dataframe to an interactive table.\"\n",
              "              style=\"display:none;\">\n",
              "        \n",
              "  <svg xmlns=\"http://www.w3.org/2000/svg\" height=\"24px\"viewBox=\"0 0 24 24\"\n",
              "       width=\"24px\">\n",
              "    <path d=\"M0 0h24v24H0V0z\" fill=\"none\"/>\n",
              "    <path d=\"M18.56 5.44l.94 2.06.94-2.06 2.06-.94-2.06-.94-.94-2.06-.94 2.06-2.06.94zm-11 1L8.5 8.5l.94-2.06 2.06-.94-2.06-.94L8.5 2.5l-.94 2.06-2.06.94zm10 10l.94 2.06.94-2.06 2.06-.94-2.06-.94-.94-2.06-.94 2.06-2.06.94z\"/><path d=\"M17.41 7.96l-1.37-1.37c-.4-.4-.92-.59-1.43-.59-.52 0-1.04.2-1.43.59L10.3 9.45l-7.72 7.72c-.78.78-.78 2.05 0 2.83L4 21.41c.39.39.9.59 1.41.59.51 0 1.02-.2 1.41-.59l7.78-7.78 2.81-2.81c.8-.78.8-2.07 0-2.86zM5.41 20L4 18.59l7.72-7.72 1.47 1.35L5.41 20z\"/>\n",
              "  </svg>\n",
              "      </button>\n",
              "      \n",
              "  <style>\n",
              "    .colab-df-container {\n",
              "      display:flex;\n",
              "      flex-wrap:wrap;\n",
              "      gap: 12px;\n",
              "    }\n",
              "\n",
              "    .colab-df-convert {\n",
              "      background-color: #E8F0FE;\n",
              "      border: none;\n",
              "      border-radius: 50%;\n",
              "      cursor: pointer;\n",
              "      display: none;\n",
              "      fill: #1967D2;\n",
              "      height: 32px;\n",
              "      padding: 0 0 0 0;\n",
              "      width: 32px;\n",
              "    }\n",
              "\n",
              "    .colab-df-convert:hover {\n",
              "      background-color: #E2EBFA;\n",
              "      box-shadow: 0px 1px 2px rgba(60, 64, 67, 0.3), 0px 1px 3px 1px rgba(60, 64, 67, 0.15);\n",
              "      fill: #174EA6;\n",
              "    }\n",
              "\n",
              "    [theme=dark] .colab-df-convert {\n",
              "      background-color: #3B4455;\n",
              "      fill: #D2E3FC;\n",
              "    }\n",
              "\n",
              "    [theme=dark] .colab-df-convert:hover {\n",
              "      background-color: #434B5C;\n",
              "      box-shadow: 0px 1px 3px 1px rgba(0, 0, 0, 0.15);\n",
              "      filter: drop-shadow(0px 1px 2px rgba(0, 0, 0, 0.3));\n",
              "      fill: #FFFFFF;\n",
              "    }\n",
              "  </style>\n",
              "\n",
              "      <script>\n",
              "        const buttonEl =\n",
              "          document.querySelector('#df-6f018075-8874-48c0-b759-53938d0d639a button.colab-df-convert');\n",
              "        buttonEl.style.display =\n",
              "          google.colab.kernel.accessAllowed ? 'block' : 'none';\n",
              "\n",
              "        async function convertToInteractive(key) {\n",
              "          const element = document.querySelector('#df-6f018075-8874-48c0-b759-53938d0d639a');\n",
              "          const dataTable =\n",
              "            await google.colab.kernel.invokeFunction('convertToInteractive',\n",
              "                                                     [key], {});\n",
              "          if (!dataTable) return;\n",
              "\n",
              "          const docLinkHtml = 'Like what you see? Visit the ' +\n",
              "            '<a target=\"_blank\" href=https://colab.research.google.com/notebooks/data_table.ipynb>data table notebook</a>'\n",
              "            + ' to learn more about interactive tables.';\n",
              "          element.innerHTML = '';\n",
              "          dataTable['output_type'] = 'display_data';\n",
              "          await google.colab.output.renderOutput(dataTable, element);\n",
              "          const docLink = document.createElement('div');\n",
              "          docLink.innerHTML = docLinkHtml;\n",
              "          element.appendChild(docLink);\n",
              "        }\n",
              "      </script>\n",
              "    </div>\n",
              "  </div>\n",
              "  "
            ]
          },
          "metadata": {},
          "execution_count": 28
        }
      ]
    },
    {
      "cell_type": "code",
      "source": [
        "# init model\n",
        "dummy = DummyClassifier(strategy='stratified')\n",
        "# fit model\n",
        "dummy.fit(train_df[feature_cols], train_df[label_col])\n",
        "# score\n",
        "eval_score = accuracy_score(test_df[label_col], dummy.predict(test_df[feature_cols]))\n",
        "# display\n",
        "print('Eval ACC: {}'.format(eval_score))"
      ],
      "metadata": {
        "id": "_UNkHGiJXuGK",
        "colab": {
          "base_uri": "https://localhost:8080/"
        },
        "outputId": "1919a026-9c3b-4651-a559-3b98a52e8d57"
      },
      "execution_count": 29,
      "outputs": [
        {
          "output_type": "stream",
          "name": "stdout",
          "text": [
            "Eval ACC: 0.2732342007434944\n"
          ]
        }
      ]
    },
    {
      "cell_type": "markdown",
      "source": [
        "### Random Forest Classifier"
      ],
      "metadata": {
        "id": "FQOl1vVgTqjL"
      }
    },
    {
      "cell_type": "code",
      "source": [
        "# base model\n",
        "rfc = RandomForestClassifier(n_estimators=50,max_depth=100, n_jobs=-1)"
      ],
      "metadata": {
        "id": "BE3kYpzuqJyf"
      },
      "execution_count": 30,
      "outputs": []
    },
    {
      "cell_type": "markdown",
      "metadata": {
        "id": "7f375691"
      },
      "source": [
        "##### Parameters\n"
      ]
    },
    {
      "cell_type": "code",
      "execution_count": 31,
      "metadata": {
        "id": "fd4c829a"
      },
      "outputs": [],
      "source": [
        "# parameter lists\n",
        "criterion_list = ['gini','entropy']\n",
        "n_estimators_list = [int(x) for x in np.linspace(start = 100, stop = 200, num = 50)]\n",
        "max_features_list = ['sqrt', 'log2']\n",
        "max_depth_list = [int(x) for x in np.linspace(10, 110, num=11)]\n",
        "min_samples_split_list = [2, 5]\n",
        "min_samples_leaf_list = [1, 4]\n",
        "bootstrap_list = [True, False]\n",
        "\n",
        "# grid\n",
        "grid_rfc = {\n",
        "            'n_estimators': n_estimators_list,\n",
        "            'criterion': criterion_list,\n",
        "            'max_features': max_features_list,\n",
        "            'max_depth': max_depth_list,\n",
        "            'min_samples_split': min_samples_split_list,\n",
        "            'min_samples_leaf': min_samples_leaf_list,\n",
        "            'bootstrap': bootstrap_list\n",
        "            }"
      ]
    },
    {
      "cell_type": "markdown",
      "metadata": {
        "id": "f086b034"
      },
      "source": [
        "##### Random Search (RCV)\n"
      ]
    },
    {
      "cell_type": "code",
      "execution_count": 32,
      "metadata": {
        "id": "e51d8c27",
        "colab": {
          "base_uri": "https://localhost:8080/"
        },
        "outputId": "bf9277f9-a33d-4c67-9bc9-da5bb3c2698e"
      },
      "outputs": [
        {
          "output_type": "stream",
          "name": "stdout",
          "text": [
            "Fitting 3 folds for each of 10 candidates, totalling 30 fits\n"
          ]
        }
      ],
      "source": [
        "# searcher\n",
        "rcv_rfc = RandomizedSearchCV(estimator=rfc, param_distributions=grid_rfc, \n",
        "                                 n_iter=10, verbose=2, cv=cv, random_state=42, \n",
        "                                 n_jobs=-1)\n",
        "\n",
        "# fit to model\n",
        "# %%time\n",
        "rcv_rfc.fit(train_df[feature_cols], train_df[label_col])\n",
        "\n",
        "# best-imator\n",
        "best_rfc = rcv_rfc.best_estimator_"
      ]
    },
    {
      "cell_type": "markdown",
      "metadata": {
        "id": "ea03c0fb"
      },
      "source": [
        "##### CV Scores"
      ]
    },
    {
      "cell_type": "code",
      "execution_count": 33,
      "metadata": {
        "id": "d55ff89d"
      },
      "outputs": [],
      "source": [
        "# get scores\n",
        "mean_score_rfc = rcv_rfc.cv_results_['mean_test_score']\n",
        "std_score_rfc = rcv_rfc.cv_results_['std_test_score']\n",
        "params_rfc = rcv_rfc.cv_results_['params']\n",
        "\n",
        "# frame\n",
        "cv_score_df = pd.DataFrame(params_rfc)\n",
        "cv_score_df['mean_score_rfc'] = mean_score_rfc\n",
        "cv_score_df['std_score_rfc'] = std_score_rfc\n",
        "\n",
        "# breakdown\n",
        "breakdown_rfc = {\"Index\": rcv_rfc.best_index_,\n",
        "\"Params\" : rcv_rfc.best_params_,\n",
        "\"Estimator\" : rcv_rfc.best_estimator_,\n",
        "\"Score\" : rcv_rfc.best_score_}"
      ]
    },
    {
      "cell_type": "code",
      "source": [
        "# display scores\n",
        "for k,v in breakdown_rfc.items():\n",
        "    print(f\"\\n{k}:\")\n",
        "    print(f\"\\n{v}\")"
      ],
      "metadata": {
        "id": "nVDZR7r8qSOf",
        "colab": {
          "base_uri": "https://localhost:8080/"
        },
        "outputId": "54dc2189-7a3b-437c-842c-dc20c05b020f"
      },
      "execution_count": 34,
      "outputs": [
        {
          "output_type": "stream",
          "name": "stdout",
          "text": [
            "\n",
            "Index:\n",
            "\n",
            "2\n",
            "\n",
            "Params:\n",
            "\n",
            "{'n_estimators': 181, 'min_samples_split': 5, 'min_samples_leaf': 4, 'max_features': 'sqrt', 'max_depth': 30, 'criterion': 'entropy', 'bootstrap': True}\n",
            "\n",
            "Estimator:\n",
            "\n",
            "RandomForestClassifier(criterion='entropy', max_depth=30, max_features='sqrt',\n",
            "                       min_samples_leaf=4, min_samples_split=5,\n",
            "                       n_estimators=181, n_jobs=-1)\n",
            "\n",
            "Score:\n",
            "\n",
            "0.5350180775259713\n"
          ]
        }
      ]
    },
    {
      "cell_type": "markdown",
      "source": [
        "#### Test"
      ],
      "metadata": {
        "id": "9nKoFzlaVgih"
      }
    },
    {
      "cell_type": "code",
      "source": [
        "rfc.fit(train_df[feature_cols],train_df[label_col])\n",
        "rfc.predict(train_df[feature_cols])\n",
        "# init model\n",
        "rfc = best_rfc\n",
        "# fit model\n",
        "rfc.fit(train_df[feature_cols],train_df[label_col])\n",
        "# score\n",
        "rfc_score = accuracy_score(test_df[label_col], rfc.predict(test_df[feature_cols]))\n",
        "# display\n",
        "print('Eval ACC: {}'.format(rfc_score))"
      ],
      "metadata": {
        "colab": {
          "base_uri": "https://localhost:8080/"
        },
        "id": "tAwzKa0iWvyQ",
        "outputId": "61b6c7a7-64ca-4651-f766-c296f38ca3a7"
      },
      "execution_count": 35,
      "outputs": [
        {
          "output_type": "stream",
          "name": "stdout",
          "text": [
            "Eval ACC: 0.5408921933085502\n"
          ]
        }
      ]
    },
    {
      "cell_type": "markdown",
      "source": [
        "### LGBM"
      ],
      "metadata": {
        "id": "L94oWj2BG1PX"
      }
    },
    {
      "cell_type": "code",
      "source": [
        "# base model\n",
        "lgbm = lgbm(n_estimators=50,max_depth=100, n_jobs=-1)"
      ],
      "metadata": {
        "id": "CB__VQzhKZX8"
      },
      "execution_count": 36,
      "outputs": []
    },
    {
      "cell_type": "markdown",
      "source": [
        "#### Parameters"
      ],
      "metadata": {
        "id": "6v-8IPAHno0M"
      }
    },
    {
      "cell_type": "code",
      "source": [
        "# parameter lists\n",
        "learning_rate_list = [0.02,0.03,0.04]\n",
        "max_depth_list = [int(x) for x in np.linspace(10, 110, num=11)]\n",
        "n_estimators_list = [int(x) for x in np.linspace(start = 100, stop = 200, num = 50)]\n",
        "boosting_type_list = ['gbdt', 'rf', 'dart', 'goss']\n",
        "subsample_list = [0.5,0.6,0.7,0.8]\n",
        "colsample_bytree_list = [0.5,0.6,0.7,0.8,0.9]\n",
        "min_data_in_leaf_list = [50,100,150]\n",
        "reg_alpha_list = [0, 1, 1.5]\n",
        "reg_lambda_list = [0, 1]\n",
        "\n",
        "# grid\n",
        "grid_lgbm = {\n",
        "    'learning_rate': learning_rate_list,\n",
        "    'max_depth': max_depth_list,\n",
        "    'n_estimators': n_estimators_list,\n",
        "    'boosting_type': boosting_type_list,\n",
        "    'subsample_type': subsample_list,\n",
        "    'colsample_bytree': colsample_bytree_list,\n",
        "    'min_data_in_leaf': min_data_in_leaf_list,\n",
        "    'reg_alpha': reg_alpha_list,\n",
        "    'reg_lambda': reg_lambda_list,\n",
        "            }\n",
        "\n",
        "# alt\n",
        "    # params = {}\n",
        "    # params['learning_rate'] = 0.03\n",
        "    # params['max_depth'] = 25\n",
        "    # params['n_estimators'] = 3000\n",
        "    # params['objective'] = 'multiclass'\n",
        "    # params['boosting_type'] = 'gbdt'\n",
        "    # params['subsample'] = 0.7\n",
        "    # params['random_state'] = 42\n",
        "    # params['colsample_bytree']=.9\n",
        "    # params['min_data_in_leaf'] = 100\n",
        "    # params['reg_alpha'] = 1.7\n",
        "    # params['reg_lambda'] = 1.11\n",
        "    # #params['class_weight']: {0: 0.44, 1: 0.4, 2: 0.37}"
      ],
      "metadata": {
        "id": "KzbQ9xZaBTMQ"
      },
      "execution_count": 37,
      "outputs": []
    },
    {
      "cell_type": "markdown",
      "metadata": {
        "id": "n6sfXJZKnyHd"
      },
      "source": [
        "##### Random Search (RCV)\n"
      ]
    },
    {
      "cell_type": "code",
      "execution_count": 38,
      "metadata": {
        "id": "rQQ28ykGnyHd",
        "colab": {
          "base_uri": "https://localhost:8080/"
        },
        "outputId": "e44accd5-e363-4e36-8baa-7ea4a63a8892"
      },
      "outputs": [
        {
          "output_type": "stream",
          "name": "stdout",
          "text": [
            "Fitting 3 folds for each of 10 candidates, totalling 30 fits\n"
          ]
        }
      ],
      "source": [
        "# searcher\n",
        "rcv_lgbm = RandomizedSearchCV(estimator=lgbm, param_distributions=grid_lgbm, \n",
        "                                 n_iter=10, verbose=2, cv=cv, random_state=42, \n",
        "                                 n_jobs=-1)\n",
        "\n",
        "# fit to model\n",
        "# %%time\n",
        "rcv_lgbm.fit(train_df[feature_cols], train_df[label_col])\n",
        "\n",
        "# best-imator\n",
        "best_lgbm = rcv_lgbm.best_estimator_"
      ]
    },
    {
      "cell_type": "markdown",
      "metadata": {
        "id": "RnJD9eNOoOMV"
      },
      "source": [
        "##### CV Scores"
      ]
    },
    {
      "cell_type": "code",
      "execution_count": 39,
      "metadata": {
        "id": "BokdK5Q0oOMW"
      },
      "outputs": [],
      "source": [
        "# get scores\n",
        "mean_score_lgbm = rcv_lgbm.cv_results_['mean_test_score']\n",
        "std_score_lgbm = rcv_lgbm.cv_results_['std_test_score']\n",
        "params_lgbm = rcv_lgbm.cv_results_['params']\n",
        "\n",
        "# frame\n",
        "cv_score_df = pd.DataFrame(params_lgbm)\n",
        "cv_score_df['mean_score_rfc'] = mean_score_lgbm\n",
        "cv_score_df['std_score_rfc'] = std_score_lgbm\n",
        "\n",
        "# breakdown\n",
        "breakdown_lgbm = {\"Index\": rcv_lgbm.best_index_,\n",
        "\"Params\" : rcv_lgbm.best_params_,\n",
        "\"Estimator\" : rcv_lgbm.best_estimator_,\n",
        "\"Score\" : rcv_lgbm.best_score_}"
      ]
    },
    {
      "cell_type": "code",
      "source": [
        "# display scores\n",
        "for k,v in breakdown_lgbm.items():\n",
        "    print(f\"\\n{k}:\")\n",
        "    print(f\"\\n{v}\")"
      ],
      "metadata": {
        "colab": {
          "base_uri": "https://localhost:8080/"
        },
        "outputId": "4616fb61-b36b-4f0f-a457-6f0fcedb293a",
        "id": "8JMKyUHRoOMW"
      },
      "execution_count": 40,
      "outputs": [
        {
          "output_type": "stream",
          "name": "stdout",
          "text": [
            "\n",
            "Index:\n",
            "\n",
            "4\n",
            "\n",
            "Params:\n",
            "\n",
            "{'subsample_type': 0.5, 'reg_lambda': 1, 'reg_alpha': 1, 'n_estimators': 189, 'min_data_in_leaf': 100, 'max_depth': 90, 'learning_rate': 0.04, 'colsample_bytree': 0.5, 'boosting_type': 'gbdt'}\n",
            "\n",
            "Estimator:\n",
            "\n",
            "LGBMClassifier(colsample_bytree=0.5, learning_rate=0.04, max_depth=90,\n",
            "               min_data_in_leaf=100, n_estimators=189, reg_alpha=1,\n",
            "               reg_lambda=1, subsample_type=0.5)\n",
            "\n",
            "Score:\n",
            "\n",
            "0.5371873950446379\n"
          ]
        }
      ]
    },
    {
      "cell_type": "markdown",
      "source": [
        "#### Test"
      ],
      "metadata": {
        "id": "KfsmYL8WCVDY"
      }
    },
    {
      "cell_type": "code",
      "source": [
        "# init model\n",
        "lgbm = best_lgbm\n",
        "# fit model\n",
        "lgbm.fit(train_df[feature_cols], train_df[label_col], early_stopping_rounds=100, eval_set=[(train_df[feature_cols], train_df[label_col]), (test_df[feature_cols], test_df[label_col])], eval_metric='multi_error', verbose=True, categorical_feature=cat_cols)\n",
        "# score\n",
        "lgbm_score = accuracy_score(test_df[label_col], lgbm.predict(test_df[feature_cols]))\n",
        "# display\n",
        "print('Eval ACC: {}'.format(lgbm_score))"
      ],
      "metadata": {
        "colab": {
          "base_uri": "https://localhost:8080/"
        },
        "id": "J3srzU1Y6isq",
        "outputId": "9922bcfa-91fb-45dd-e39f-fcd515129e5e"
      },
      "execution_count": 41,
      "outputs": [
        {
          "output_type": "stream",
          "name": "stdout",
          "text": [
            "[1]\tvalid_0's multi_error: 0.722033\tvalid_0's multi_logloss: 1.37154\tvalid_1's multi_error: 0.70632\tvalid_1's multi_logloss: 1.37063\n",
            "Training until validation scores don't improve for 100 rounds.\n",
            "[2]\tvalid_0's multi_error: 0.664084\tvalid_0's multi_logloss: 1.35596\tvalid_1's multi_error: 0.651177\tvalid_1's multi_logloss: 1.35614\n",
            "[3]\tvalid_0's multi_error: 0.601023\tvalid_0's multi_logloss: 1.34252\tvalid_1's multi_error: 0.596035\tvalid_1's multi_logloss: 1.34319\n",
            "[4]\tvalid_0's multi_error: 0.575612\tvalid_0's multi_logloss: 1.33129\tvalid_1's multi_error: 0.570012\tvalid_1's multi_logloss: 1.33294\n",
            "[5]\tvalid_0's multi_error: 0.542144\tvalid_0's multi_logloss: 1.31895\tvalid_1's multi_error: 0.549566\tvalid_1's multi_logloss: 1.32159\n",
            "[6]\tvalid_0's multi_error: 0.513325\tvalid_0's multi_logloss: 1.30721\tvalid_1's multi_error: 0.527881\tvalid_1's multi_logloss: 1.31084\n",
            "[7]\tvalid_0's multi_error: 0.492098\tvalid_0's multi_logloss: 1.2963\tvalid_1's multi_error: 0.521685\tvalid_1's multi_logloss: 1.30071\n",
            "[8]\tvalid_0's multi_error: 0.474899\tvalid_0's multi_logloss: 1.28593\tvalid_1's multi_error: 0.51487\tvalid_1's multi_logloss: 1.29164\n",
            "[9]\tvalid_0's multi_error: 0.464673\tvalid_0's multi_logloss: 1.27506\tvalid_1's multi_error: 0.506196\tvalid_1's multi_logloss: 1.28173\n",
            "[10]\tvalid_0's multi_error: 0.455067\tvalid_0's multi_logloss: 1.26502\tvalid_1's multi_error: 0.508674\tvalid_1's multi_logloss: 1.27283\n",
            "[11]\tvalid_0's multi_error: 0.452278\tvalid_0's multi_logloss: 1.25546\tvalid_1's multi_error: 0.502478\tvalid_1's multi_logloss: 1.26425\n",
            "[12]\tvalid_0's multi_error: 0.448559\tvalid_0's multi_logloss: 1.24764\tvalid_1's multi_error: 0.49938\tvalid_1's multi_logloss: 1.25764\n",
            "[13]\tvalid_0's multi_error: 0.446235\tvalid_0's multi_logloss: 1.23956\tvalid_1's multi_error: 0.491945\tvalid_1's multi_logloss: 1.25044\n",
            "[14]\tvalid_0's multi_error: 0.443291\tvalid_0's multi_logloss: 1.23134\tvalid_1's multi_error: 0.484511\tvalid_1's multi_logloss: 1.24286\n",
            "[15]\tvalid_0's multi_error: 0.438023\tvalid_0's multi_logloss: 1.22309\tvalid_1's multi_error: 0.480173\tvalid_1's multi_logloss: 1.23543\n",
            "[16]\tvalid_0's multi_error: 0.436009\tvalid_0's multi_logloss: 1.21606\tvalid_1's multi_error: 0.478315\tvalid_1's multi_logloss: 1.22908\n",
            "[17]\tvalid_0's multi_error: 0.435854\tvalid_0's multi_logloss: 1.20896\tvalid_1's multi_error: 0.480173\tvalid_1's multi_logloss: 1.22276\n",
            "[18]\tvalid_0's multi_error: 0.436164\tvalid_0's multi_logloss: 1.20271\tvalid_1's multi_error: 0.482652\tvalid_1's multi_logloss: 1.21716\n",
            "[19]\tvalid_0's multi_error: 0.435699\tvalid_0's multi_logloss: 1.19641\tvalid_1's multi_error: 0.483891\tvalid_1's multi_logloss: 1.21179\n",
            "[20]\tvalid_0's multi_error: 0.432755\tvalid_0's multi_logloss: 1.18949\tvalid_1's multi_error: 0.484511\tvalid_1's multi_logloss: 1.20536\n",
            "[21]\tvalid_0's multi_error: 0.430121\tvalid_0's multi_logloss: 1.1831\tvalid_1's multi_error: 0.483271\tvalid_1's multi_logloss: 1.19962\n",
            "[22]\tvalid_0's multi_error: 0.429966\tvalid_0's multi_logloss: 1.1763\tvalid_1's multi_error: 0.480793\tvalid_1's multi_logloss: 1.19357\n",
            "[23]\tvalid_0's multi_error: 0.429036\tvalid_0's multi_logloss: 1.16993\tvalid_1's multi_error: 0.479554\tvalid_1's multi_logloss: 1.18807\n",
            "[24]\tvalid_0's multi_error: 0.427022\tvalid_0's multi_logloss: 1.16454\tvalid_1's multi_error: 0.482032\tvalid_1's multi_logloss: 1.18366\n",
            "[25]\tvalid_0's multi_error: 0.425628\tvalid_0's multi_logloss: 1.15911\tvalid_1's multi_error: 0.482032\tvalid_1's multi_logloss: 1.17926\n",
            "[26]\tvalid_0's multi_error: 0.425782\tvalid_0's multi_logloss: 1.15348\tvalid_1's multi_error: 0.480793\tvalid_1's multi_logloss: 1.17435\n",
            "[27]\tvalid_0's multi_error: 0.424698\tvalid_0's multi_logloss: 1.14816\tvalid_1's multi_error: 0.477695\tvalid_1's multi_logloss: 1.16965\n",
            "[28]\tvalid_0's multi_error: 0.425008\tvalid_0's multi_logloss: 1.14351\tvalid_1's multi_error: 0.479554\tvalid_1's multi_logloss: 1.16597\n",
            "[29]\tvalid_0's multi_error: 0.422374\tvalid_0's multi_logloss: 1.1389\tvalid_1's multi_error: 0.477076\tvalid_1's multi_logloss: 1.16236\n",
            "[30]\tvalid_0's multi_error: 0.422839\tvalid_0's multi_logloss: 1.13421\tvalid_1's multi_error: 0.477695\tvalid_1's multi_logloss: 1.15841\n",
            "[31]\tvalid_0's multi_error: 0.421754\tvalid_0's multi_logloss: 1.1299\tvalid_1's multi_error: 0.474597\tvalid_1's multi_logloss: 1.15467\n",
            "[32]\tvalid_0's multi_error: 0.420205\tvalid_0's multi_logloss: 1.12618\tvalid_1's multi_error: 0.472119\tvalid_1's multi_logloss: 1.15157\n",
            "[33]\tvalid_0's multi_error: 0.422529\tvalid_0's multi_logloss: 1.12178\tvalid_1's multi_error: 0.47088\tvalid_1's multi_logloss: 1.14823\n",
            "[34]\tvalid_0's multi_error: 0.420359\tvalid_0's multi_logloss: 1.11751\tvalid_1's multi_error: 0.469021\tvalid_1's multi_logloss: 1.14467\n",
            "[35]\tvalid_0's multi_error: 0.420514\tvalid_0's multi_logloss: 1.11399\tvalid_1's multi_error: 0.47088\tvalid_1's multi_logloss: 1.14188\n",
            "[36]\tvalid_0's multi_error: 0.420359\tvalid_0's multi_logloss: 1.10988\tvalid_1's multi_error: 0.471499\tvalid_1's multi_logloss: 1.1384\n",
            "[37]\tvalid_0's multi_error: 0.421754\tvalid_0's multi_logloss: 1.10597\tvalid_1's multi_error: 0.47026\tvalid_1's multi_logloss: 1.13501\n",
            "[38]\tvalid_0's multi_error: 0.421599\tvalid_0's multi_logloss: 1.10193\tvalid_1's multi_error: 0.471499\tvalid_1's multi_logloss: 1.13177\n",
            "[39]\tvalid_0's multi_error: 0.419585\tvalid_0's multi_logloss: 1.09835\tvalid_1's multi_error: 0.472119\tvalid_1's multi_logloss: 1.1289\n",
            "[40]\tvalid_0's multi_error: 0.421289\tvalid_0's multi_logloss: 1.09522\tvalid_1's multi_error: 0.47088\tvalid_1's multi_logloss: 1.12672\n",
            "[41]\tvalid_0's multi_error: 0.420205\tvalid_0's multi_logloss: 1.09171\tvalid_1's multi_error: 0.472739\tvalid_1's multi_logloss: 1.12395\n",
            "[42]\tvalid_0's multi_error: 0.41943\tvalid_0's multi_logloss: 1.0892\tvalid_1's multi_error: 0.469641\tvalid_1's multi_logloss: 1.12204\n",
            "[43]\tvalid_0's multi_error: 0.418965\tvalid_0's multi_logloss: 1.08574\tvalid_1's multi_error: 0.47088\tvalid_1's multi_logloss: 1.11919\n",
            "[44]\tvalid_0's multi_error: 0.417261\tvalid_0's multi_logloss: 1.08251\tvalid_1's multi_error: 0.47088\tvalid_1's multi_logloss: 1.11678\n",
            "[45]\tvalid_0's multi_error: 0.416951\tvalid_0's multi_logloss: 1.08015\tvalid_1's multi_error: 0.468401\tvalid_1's multi_logloss: 1.1152\n",
            "[46]\tvalid_0's multi_error: 0.416176\tvalid_0's multi_logloss: 1.07738\tvalid_1's multi_error: 0.469021\tvalid_1's multi_logloss: 1.11285\n",
            "[47]\tvalid_0's multi_error: 0.415711\tvalid_0's multi_logloss: 1.07429\tvalid_1's multi_error: 0.47088\tvalid_1's multi_logloss: 1.11091\n",
            "[48]\tvalid_0's multi_error: 0.415866\tvalid_0's multi_logloss: 1.07103\tvalid_1's multi_error: 0.469641\tvalid_1's multi_logloss: 1.10858\n",
            "[49]\tvalid_0's multi_error: 0.416021\tvalid_0's multi_logloss: 1.06789\tvalid_1's multi_error: 0.468401\tvalid_1's multi_logloss: 1.10608\n",
            "[50]\tvalid_0's multi_error: 0.414162\tvalid_0's multi_logloss: 1.06505\tvalid_1's multi_error: 0.468401\tvalid_1's multi_logloss: 1.10432\n",
            "[51]\tvalid_0's multi_error: 0.413387\tvalid_0's multi_logloss: 1.0621\tvalid_1's multi_error: 0.469021\tvalid_1's multi_logloss: 1.10211\n",
            "[52]\tvalid_0's multi_error: 0.413542\tvalid_0's multi_logloss: 1.05984\tvalid_1's multi_error: 0.468401\tvalid_1's multi_logloss: 1.10068\n",
            "[53]\tvalid_0's multi_error: 0.412922\tvalid_0's multi_logloss: 1.05737\tvalid_1's multi_error: 0.468401\tvalid_1's multi_logloss: 1.09904\n",
            "[54]\tvalid_0's multi_error: 0.410908\tvalid_0's multi_logloss: 1.05521\tvalid_1's multi_error: 0.47026\tvalid_1's multi_logloss: 1.09763\n",
            "[55]\tvalid_0's multi_error: 0.411528\tvalid_0's multi_logloss: 1.05293\tvalid_1's multi_error: 0.469021\tvalid_1's multi_logloss: 1.09618\n",
            "[56]\tvalid_0's multi_error: 0.411683\tvalid_0's multi_logloss: 1.0507\tvalid_1's multi_error: 0.47088\tvalid_1's multi_logloss: 1.09454\n",
            "[57]\tvalid_0's multi_error: 0.411528\tvalid_0's multi_logloss: 1.04846\tvalid_1's multi_error: 0.467782\tvalid_1's multi_logloss: 1.09291\n",
            "[58]\tvalid_0's multi_error: 0.410598\tvalid_0's multi_logloss: 1.04608\tvalid_1's multi_error: 0.469641\tvalid_1's multi_logloss: 1.09109\n",
            "[59]\tvalid_0's multi_error: 0.410443\tvalid_0's multi_logloss: 1.04435\tvalid_1's multi_error: 0.466543\tvalid_1's multi_logloss: 1.09001\n",
            "[60]\tvalid_0's multi_error: 0.410753\tvalid_0's multi_logloss: 1.04195\tvalid_1's multi_error: 0.467782\tvalid_1's multi_logloss: 1.08844\n",
            "[61]\tvalid_0's multi_error: 0.409823\tvalid_0's multi_logloss: 1.04007\tvalid_1's multi_error: 0.465923\tvalid_1's multi_logloss: 1.08738\n",
            "[62]\tvalid_0's multi_error: 0.409978\tvalid_0's multi_logloss: 1.03777\tvalid_1's multi_error: 0.469021\tvalid_1's multi_logloss: 1.08591\n",
            "[63]\tvalid_0's multi_error: 0.409823\tvalid_0's multi_logloss: 1.03548\tvalid_1's multi_error: 0.469021\tvalid_1's multi_logloss: 1.08437\n",
            "[64]\tvalid_0's multi_error: 0.411063\tvalid_0's multi_logloss: 1.03356\tvalid_1's multi_error: 0.47088\tvalid_1's multi_logloss: 1.08303\n",
            "[65]\tvalid_0's multi_error: 0.411218\tvalid_0's multi_logloss: 1.03167\tvalid_1's multi_error: 0.467782\tvalid_1's multi_logloss: 1.08174\n",
            "[66]\tvalid_0's multi_error: 0.410443\tvalid_0's multi_logloss: 1.02951\tvalid_1's multi_error: 0.469641\tvalid_1's multi_logloss: 1.08035\n",
            "[67]\tvalid_0's multi_error: 0.409668\tvalid_0's multi_logloss: 1.02789\tvalid_1's multi_error: 0.47026\tvalid_1's multi_logloss: 1.07925\n",
            "[68]\tvalid_0's multi_error: 0.409513\tvalid_0's multi_logloss: 1.0259\tvalid_1's multi_error: 0.469641\tvalid_1's multi_logloss: 1.07824\n",
            "[69]\tvalid_0's multi_error: 0.409359\tvalid_0's multi_logloss: 1.0243\tvalid_1's multi_error: 0.47026\tvalid_1's multi_logloss: 1.07713\n",
            "[70]\tvalid_0's multi_error: 0.409823\tvalid_0's multi_logloss: 1.02261\tvalid_1's multi_error: 0.47026\tvalid_1's multi_logloss: 1.07605\n",
            "[71]\tvalid_0's multi_error: 0.409359\tvalid_0's multi_logloss: 1.02072\tvalid_1's multi_error: 0.469641\tvalid_1's multi_logloss: 1.07496\n",
            "[72]\tvalid_0's multi_error: 0.409978\tvalid_0's multi_logloss: 1.01907\tvalid_1's multi_error: 0.469021\tvalid_1's multi_logloss: 1.07423\n",
            "[73]\tvalid_0's multi_error: 0.408584\tvalid_0's multi_logloss: 1.01762\tvalid_1's multi_error: 0.468401\tvalid_1's multi_logloss: 1.07375\n",
            "[74]\tvalid_0's multi_error: 0.409204\tvalid_0's multi_logloss: 1.0157\tvalid_1's multi_error: 0.47026\tvalid_1's multi_logloss: 1.07266\n",
            "[75]\tvalid_0's multi_error: 0.408584\tvalid_0's multi_logloss: 1.01401\tvalid_1's multi_error: 0.469021\tvalid_1's multi_logloss: 1.07167\n",
            "[76]\tvalid_0's multi_error: 0.408119\tvalid_0's multi_logloss: 1.01234\tvalid_1's multi_error: 0.469641\tvalid_1's multi_logloss: 1.07062\n",
            "[77]\tvalid_0's multi_error: 0.408584\tvalid_0's multi_logloss: 1.01078\tvalid_1's multi_error: 0.47088\tvalid_1's multi_logloss: 1.06983\n",
            "[78]\tvalid_0's multi_error: 0.407654\tvalid_0's multi_logloss: 1.00894\tvalid_1's multi_error: 0.472119\tvalid_1's multi_logloss: 1.06868\n",
            "[79]\tvalid_0's multi_error: 0.406879\tvalid_0's multi_logloss: 1.00757\tvalid_1's multi_error: 0.47088\tvalid_1's multi_logloss: 1.06805\n",
            "[80]\tvalid_0's multi_error: 0.407034\tvalid_0's multi_logloss: 1.00599\tvalid_1's multi_error: 0.472119\tvalid_1's multi_logloss: 1.06729\n",
            "[81]\tvalid_0's multi_error: 0.40595\tvalid_0's multi_logloss: 1.00466\tvalid_1's multi_error: 0.475217\tvalid_1's multi_logloss: 1.0668\n",
            "[82]\tvalid_0's multi_error: 0.405175\tvalid_0's multi_logloss: 1.0035\tvalid_1's multi_error: 0.475217\tvalid_1's multi_logloss: 1.06617\n",
            "[83]\tvalid_0's multi_error: 0.40471\tvalid_0's multi_logloss: 1.00171\tvalid_1's multi_error: 0.475217\tvalid_1's multi_logloss: 1.06517\n",
            "[84]\tvalid_0's multi_error: 0.405175\tvalid_0's multi_logloss: 1.00023\tvalid_1's multi_error: 0.473358\tvalid_1's multi_logloss: 1.06465\n",
            "[85]\tvalid_0's multi_error: 0.405485\tvalid_0's multi_logloss: 0.998483\tvalid_1's multi_error: 0.472119\tvalid_1's multi_logloss: 1.06376\n",
            "[86]\tvalid_0's multi_error: 0.40564\tvalid_0's multi_logloss: 0.997485\tvalid_1's multi_error: 0.474597\tvalid_1's multi_logloss: 1.06316\n",
            "[87]\tvalid_0's multi_error: 0.40533\tvalid_0's multi_logloss: 0.996389\tvalid_1's multi_error: 0.474597\tvalid_1's multi_logloss: 1.0627\n",
            "[88]\tvalid_0's multi_error: 0.404555\tvalid_0's multi_logloss: 0.995304\tvalid_1's multi_error: 0.471499\tvalid_1's multi_logloss: 1.06217\n",
            "[89]\tvalid_0's multi_error: 0.403781\tvalid_0's multi_logloss: 0.993913\tvalid_1's multi_error: 0.472119\tvalid_1's multi_logloss: 1.06155\n",
            "[90]\tvalid_0's multi_error: 0.403161\tvalid_0's multi_logloss: 0.992255\tvalid_1's multi_error: 0.474597\tvalid_1's multi_logloss: 1.06104\n",
            "[91]\tvalid_0's multi_error: 0.402076\tvalid_0's multi_logloss: 0.990929\tvalid_1's multi_error: 0.473358\tvalid_1's multi_logloss: 1.0605\n",
            "[92]\tvalid_0's multi_error: 0.401921\tvalid_0's multi_logloss: 0.989733\tvalid_1's multi_error: 0.473978\tvalid_1's multi_logloss: 1.06008\n",
            "[93]\tvalid_0's multi_error: 0.401921\tvalid_0's multi_logloss: 0.9886\tvalid_1's multi_error: 0.471499\tvalid_1's multi_logloss: 1.05956\n",
            "[94]\tvalid_0's multi_error: 0.401766\tvalid_0's multi_logloss: 0.987276\tvalid_1's multi_error: 0.472739\tvalid_1's multi_logloss: 1.05895\n",
            "[95]\tvalid_0's multi_error: 0.401611\tvalid_0's multi_logloss: 0.985916\tvalid_1's multi_error: 0.473358\tvalid_1's multi_logloss: 1.05818\n",
            "[96]\tvalid_0's multi_error: 0.401611\tvalid_0's multi_logloss: 0.984849\tvalid_1's multi_error: 0.472119\tvalid_1's multi_logloss: 1.05759\n",
            "[97]\tvalid_0's multi_error: 0.401147\tvalid_0's multi_logloss: 0.983411\tvalid_1's multi_error: 0.472739\tvalid_1's multi_logloss: 1.05691\n",
            "[98]\tvalid_0's multi_error: 0.399132\tvalid_0's multi_logloss: 0.982277\tvalid_1's multi_error: 0.472739\tvalid_1's multi_logloss: 1.05653\n",
            "[99]\tvalid_0's multi_error: 0.398667\tvalid_0's multi_logloss: 0.980787\tvalid_1's multi_error: 0.471499\tvalid_1's multi_logloss: 1.05592\n",
            "[100]\tvalid_0's multi_error: 0.398822\tvalid_0's multi_logloss: 0.979676\tvalid_1's multi_error: 0.469641\tvalid_1's multi_logloss: 1.05547\n",
            "[101]\tvalid_0's multi_error: 0.397893\tvalid_0's multi_logloss: 0.978515\tvalid_1's multi_error: 0.469641\tvalid_1's multi_logloss: 1.05503\n",
            "[102]\tvalid_0's multi_error: 0.398513\tvalid_0's multi_logloss: 0.977445\tvalid_1's multi_error: 0.47088\tvalid_1's multi_logloss: 1.05477\n",
            "[103]\tvalid_0's multi_error: 0.398822\tvalid_0's multi_logloss: 0.976638\tvalid_1's multi_error: 0.47088\tvalid_1's multi_logloss: 1.05457\n",
            "[104]\tvalid_0's multi_error: 0.397583\tvalid_0's multi_logloss: 0.975229\tvalid_1's multi_error: 0.469641\tvalid_1's multi_logloss: 1.0541\n",
            "[105]\tvalid_0's multi_error: 0.397273\tvalid_0's multi_logloss: 0.974249\tvalid_1's multi_error: 0.466543\tvalid_1's multi_logloss: 1.05378\n",
            "[106]\tvalid_0's multi_error: 0.396653\tvalid_0's multi_logloss: 0.972992\tvalid_1's multi_error: 0.465923\tvalid_1's multi_logloss: 1.05316\n",
            "[107]\tvalid_0's multi_error: 0.396343\tvalid_0's multi_logloss: 0.97177\tvalid_1's multi_error: 0.465304\tvalid_1's multi_logloss: 1.05275\n",
            "[108]\tvalid_0's multi_error: 0.395724\tvalid_0's multi_logloss: 0.97038\tvalid_1's multi_error: 0.463445\tvalid_1's multi_logloss: 1.05237\n",
            "[109]\tvalid_0's multi_error: 0.396808\tvalid_0's multi_logloss: 0.969491\tvalid_1's multi_error: 0.464064\tvalid_1's multi_logloss: 1.05203\n",
            "[110]\tvalid_0's multi_error: 0.396653\tvalid_0's multi_logloss: 0.968787\tvalid_1's multi_error: 0.465923\tvalid_1's multi_logloss: 1.05175\n",
            "[111]\tvalid_0's multi_error: 0.396188\tvalid_0's multi_logloss: 0.968081\tvalid_1's multi_error: 0.466543\tvalid_1's multi_logloss: 1.05155\n",
            "[112]\tvalid_0's multi_error: 0.395259\tvalid_0's multi_logloss: 0.966942\tvalid_1's multi_error: 0.465923\tvalid_1's multi_logloss: 1.05105\n",
            "[113]\tvalid_0's multi_error: 0.395414\tvalid_0's multi_logloss: 0.965763\tvalid_1's multi_error: 0.466543\tvalid_1's multi_logloss: 1.05055\n",
            "[114]\tvalid_0's multi_error: 0.394949\tvalid_0's multi_logloss: 0.964847\tvalid_1's multi_error: 0.465304\tvalid_1's multi_logloss: 1.0503\n",
            "[115]\tvalid_0's multi_error: 0.394794\tvalid_0's multi_logloss: 0.963625\tvalid_1's multi_error: 0.467782\tvalid_1's multi_logloss: 1.0498\n",
            "[116]\tvalid_0's multi_error: 0.394484\tvalid_0's multi_logloss: 0.962876\tvalid_1's multi_error: 0.466543\tvalid_1's multi_logloss: 1.04956\n",
            "[117]\tvalid_0's multi_error: 0.393244\tvalid_0's multi_logloss: 0.961862\tvalid_1's multi_error: 0.465923\tvalid_1's multi_logloss: 1.04928\n",
            "[118]\tvalid_0's multi_error: 0.393244\tvalid_0's multi_logloss: 0.960915\tvalid_1's multi_error: 0.465923\tvalid_1's multi_logloss: 1.04906\n",
            "[119]\tvalid_0's multi_error: 0.391695\tvalid_0's multi_logloss: 0.959992\tvalid_1's multi_error: 0.465304\tvalid_1's multi_logloss: 1.04887\n",
            "[120]\tvalid_0's multi_error: 0.39123\tvalid_0's multi_logloss: 0.958675\tvalid_1's multi_error: 0.464684\tvalid_1's multi_logloss: 1.0484\n",
            "[121]\tvalid_0's multi_error: 0.39123\tvalid_0's multi_logloss: 0.957756\tvalid_1's multi_error: 0.462206\tvalid_1's multi_logloss: 1.04827\n",
            "[122]\tvalid_0's multi_error: 0.390765\tvalid_0's multi_logloss: 0.956955\tvalid_1's multi_error: 0.462825\tvalid_1's multi_logloss: 1.0479\n",
            "[123]\tvalid_0's multi_error: 0.39092\tvalid_0's multi_logloss: 0.955713\tvalid_1's multi_error: 0.462825\tvalid_1's multi_logloss: 1.04746\n",
            "[124]\tvalid_0's multi_error: 0.39061\tvalid_0's multi_logloss: 0.954779\tvalid_1's multi_error: 0.462825\tvalid_1's multi_logloss: 1.04718\n",
            "[125]\tvalid_0's multi_error: 0.389371\tvalid_0's multi_logloss: 0.953757\tvalid_1's multi_error: 0.462825\tvalid_1's multi_logloss: 1.04684\n",
            "[126]\tvalid_0's multi_error: 0.389371\tvalid_0's multi_logloss: 0.952584\tvalid_1's multi_error: 0.462825\tvalid_1's multi_logloss: 1.04637\n",
            "[127]\tvalid_0's multi_error: 0.389216\tvalid_0's multi_logloss: 0.951647\tvalid_1's multi_error: 0.462825\tvalid_1's multi_logloss: 1.04622\n",
            "[128]\tvalid_0's multi_error: 0.388131\tvalid_0's multi_logloss: 0.95072\tvalid_1's multi_error: 0.462825\tvalid_1's multi_logloss: 1.04603\n",
            "[129]\tvalid_0's multi_error: 0.387357\tvalid_0's multi_logloss: 0.949706\tvalid_1's multi_error: 0.465304\tvalid_1's multi_logloss: 1.04584\n",
            "[130]\tvalid_0's multi_error: 0.387822\tvalid_0's multi_logloss: 0.948801\tvalid_1's multi_error: 0.464064\tvalid_1's multi_logloss: 1.04545\n",
            "[131]\tvalid_0's multi_error: 0.387202\tvalid_0's multi_logloss: 0.948118\tvalid_1's multi_error: 0.463445\tvalid_1's multi_logloss: 1.04525\n",
            "[132]\tvalid_0's multi_error: 0.387357\tvalid_0's multi_logloss: 0.947275\tvalid_1's multi_error: 0.464684\tvalid_1's multi_logloss: 1.04492\n",
            "[133]\tvalid_0's multi_error: 0.387512\tvalid_0's multi_logloss: 0.946529\tvalid_1's multi_error: 0.462825\tvalid_1's multi_logloss: 1.04468\n",
            "[134]\tvalid_0's multi_error: 0.387047\tvalid_0's multi_logloss: 0.94552\tvalid_1's multi_error: 0.462825\tvalid_1's multi_logloss: 1.04435\n",
            "[135]\tvalid_0's multi_error: 0.387202\tvalid_0's multi_logloss: 0.944746\tvalid_1's multi_error: 0.461586\tvalid_1's multi_logloss: 1.04411\n",
            "[136]\tvalid_0's multi_error: 0.386737\tvalid_0's multi_logloss: 0.943746\tvalid_1's multi_error: 0.460967\tvalid_1's multi_logloss: 1.04394\n",
            "[137]\tvalid_0's multi_error: 0.386427\tvalid_0's multi_logloss: 0.942644\tvalid_1's multi_error: 0.461586\tvalid_1's multi_logloss: 1.0438\n",
            "[138]\tvalid_0's multi_error: 0.386427\tvalid_0's multi_logloss: 0.941818\tvalid_1's multi_error: 0.462206\tvalid_1's multi_logloss: 1.04366\n",
            "[139]\tvalid_0's multi_error: 0.385652\tvalid_0's multi_logloss: 0.941091\tvalid_1's multi_error: 0.462206\tvalid_1's multi_logloss: 1.04338\n",
            "[140]\tvalid_0's multi_error: 0.385187\tvalid_0's multi_logloss: 0.94006\tvalid_1's multi_error: 0.462206\tvalid_1's multi_logloss: 1.04309\n",
            "[141]\tvalid_0's multi_error: 0.385497\tvalid_0's multi_logloss: 0.939267\tvalid_1's multi_error: 0.461586\tvalid_1's multi_logloss: 1.04296\n",
            "[142]\tvalid_0's multi_error: 0.384723\tvalid_0's multi_logloss: 0.938444\tvalid_1's multi_error: 0.459108\tvalid_1's multi_logloss: 1.04269\n",
            "[143]\tvalid_0's multi_error: 0.385497\tvalid_0's multi_logloss: 0.937486\tvalid_1's multi_error: 0.460347\tvalid_1's multi_logloss: 1.04247\n",
            "[144]\tvalid_0's multi_error: 0.383948\tvalid_0's multi_logloss: 0.936666\tvalid_1's multi_error: 0.459108\tvalid_1's multi_logloss: 1.04229\n",
            "[145]\tvalid_0's multi_error: 0.384103\tvalid_0's multi_logloss: 0.935579\tvalid_1's multi_error: 0.459727\tvalid_1's multi_logloss: 1.0421\n",
            "[146]\tvalid_0's multi_error: 0.383948\tvalid_0's multi_logloss: 0.934677\tvalid_1's multi_error: 0.460967\tvalid_1's multi_logloss: 1.04206\n",
            "[147]\tvalid_0's multi_error: 0.383638\tvalid_0's multi_logloss: 0.933748\tvalid_1's multi_error: 0.460967\tvalid_1's multi_logloss: 1.0421\n",
            "[148]\tvalid_0's multi_error: 0.383328\tvalid_0's multi_logloss: 0.932816\tvalid_1's multi_error: 0.459727\tvalid_1's multi_logloss: 1.0418\n",
            "[149]\tvalid_0's multi_error: 0.382863\tvalid_0's multi_logloss: 0.932261\tvalid_1's multi_error: 0.458488\tvalid_1's multi_logloss: 1.04171\n",
            "[150]\tvalid_0's multi_error: 0.382708\tvalid_0's multi_logloss: 0.931475\tvalid_1's multi_error: 0.459108\tvalid_1's multi_logloss: 1.04153\n",
            "[151]\tvalid_0's multi_error: 0.383018\tvalid_0's multi_logloss: 0.930754\tvalid_1's multi_error: 0.457869\tvalid_1's multi_logloss: 1.04146\n",
            "[152]\tvalid_0's multi_error: 0.383328\tvalid_0's multi_logloss: 0.930191\tvalid_1's multi_error: 0.458488\tvalid_1's multi_logloss: 1.04135\n",
            "[153]\tvalid_0's multi_error: 0.383173\tvalid_0's multi_logloss: 0.929469\tvalid_1's multi_error: 0.459727\tvalid_1's multi_logloss: 1.04127\n",
            "[154]\tvalid_0's multi_error: 0.382399\tvalid_0's multi_logloss: 0.928764\tvalid_1's multi_error: 0.458488\tvalid_1's multi_logloss: 1.04129\n",
            "[155]\tvalid_0's multi_error: 0.381779\tvalid_0's multi_logloss: 0.927862\tvalid_1's multi_error: 0.459108\tvalid_1's multi_logloss: 1.04117\n",
            "[156]\tvalid_0's multi_error: 0.381469\tvalid_0's multi_logloss: 0.926934\tvalid_1's multi_error: 0.457869\tvalid_1's multi_logloss: 1.04103\n",
            "[157]\tvalid_0's multi_error: 0.380849\tvalid_0's multi_logloss: 0.926289\tvalid_1's multi_error: 0.457869\tvalid_1's multi_logloss: 1.04094\n",
            "[158]\tvalid_0's multi_error: 0.380074\tvalid_0's multi_logloss: 0.925677\tvalid_1's multi_error: 0.458488\tvalid_1's multi_logloss: 1.04101\n",
            "[159]\tvalid_0's multi_error: 0.380074\tvalid_0's multi_logloss: 0.924953\tvalid_1's multi_error: 0.458488\tvalid_1's multi_logloss: 1.04078\n",
            "[160]\tvalid_0's multi_error: 0.379764\tvalid_0's multi_logloss: 0.924096\tvalid_1's multi_error: 0.459108\tvalid_1's multi_logloss: 1.04061\n",
            "[161]\tvalid_0's multi_error: 0.378835\tvalid_0's multi_logloss: 0.923077\tvalid_1's multi_error: 0.458488\tvalid_1's multi_logloss: 1.04053\n",
            "[162]\tvalid_0's multi_error: 0.37868\tvalid_0's multi_logloss: 0.922346\tvalid_1's multi_error: 0.459727\tvalid_1's multi_logloss: 1.04039\n",
            "[163]\tvalid_0's multi_error: 0.37775\tvalid_0's multi_logloss: 0.921698\tvalid_1's multi_error: 0.457869\tvalid_1's multi_logloss: 1.0404\n",
            "[164]\tvalid_0's multi_error: 0.377285\tvalid_0's multi_logloss: 0.920918\tvalid_1's multi_error: 0.457249\tvalid_1's multi_logloss: 1.04014\n",
            "[165]\tvalid_0's multi_error: 0.377905\tvalid_0's multi_logloss: 0.920207\tvalid_1's multi_error: 0.456629\tvalid_1's multi_logloss: 1.04016\n",
            "[166]\tvalid_0's multi_error: 0.378215\tvalid_0's multi_logloss: 0.919635\tvalid_1's multi_error: 0.456629\tvalid_1's multi_logloss: 1.04018\n",
            "[167]\tvalid_0's multi_error: 0.37837\tvalid_0's multi_logloss: 0.91903\tvalid_1's multi_error: 0.45601\tvalid_1's multi_logloss: 1.04007\n",
            "[168]\tvalid_0's multi_error: 0.378215\tvalid_0's multi_logloss: 0.918575\tvalid_1's multi_error: 0.457869\tvalid_1's multi_logloss: 1.04008\n",
            "[169]\tvalid_0's multi_error: 0.377905\tvalid_0's multi_logloss: 0.9178\tvalid_1's multi_error: 0.458488\tvalid_1's multi_logloss: 1.04002\n",
            "[170]\tvalid_0's multi_error: 0.37775\tvalid_0's multi_logloss: 0.917079\tvalid_1's multi_error: 0.457249\tvalid_1's multi_logloss: 1.04002\n",
            "[171]\tvalid_0's multi_error: 0.376666\tvalid_0's multi_logloss: 0.916049\tvalid_1's multi_error: 0.457869\tvalid_1's multi_logloss: 1.03967\n",
            "[172]\tvalid_0's multi_error: 0.376046\tvalid_0's multi_logloss: 0.915405\tvalid_1's multi_error: 0.457869\tvalid_1's multi_logloss: 1.03971\n",
            "[173]\tvalid_0's multi_error: 0.376201\tvalid_0's multi_logloss: 0.914834\tvalid_1's multi_error: 0.457869\tvalid_1's multi_logloss: 1.03967\n",
            "[174]\tvalid_0's multi_error: 0.376356\tvalid_0's multi_logloss: 0.914191\tvalid_1's multi_error: 0.457869\tvalid_1's multi_logloss: 1.03969\n",
            "[175]\tvalid_0's multi_error: 0.374651\tvalid_0's multi_logloss: 0.913645\tvalid_1's multi_error: 0.457869\tvalid_1's multi_logloss: 1.03968\n",
            "[176]\tvalid_0's multi_error: 0.374651\tvalid_0's multi_logloss: 0.913092\tvalid_1's multi_error: 0.458488\tvalid_1's multi_logloss: 1.03943\n",
            "[177]\tvalid_0's multi_error: 0.374187\tvalid_0's multi_logloss: 0.91241\tvalid_1's multi_error: 0.457869\tvalid_1's multi_logloss: 1.03953\n",
            "[178]\tvalid_0's multi_error: 0.374032\tvalid_0's multi_logloss: 0.911642\tvalid_1's multi_error: 0.458488\tvalid_1's multi_logloss: 1.03953\n",
            "[179]\tvalid_0's multi_error: 0.372482\tvalid_0's multi_logloss: 0.910899\tvalid_1's multi_error: 0.459727\tvalid_1's multi_logloss: 1.03959\n",
            "[180]\tvalid_0's multi_error: 0.372792\tvalid_0's multi_logloss: 0.910205\tvalid_1's multi_error: 0.457869\tvalid_1's multi_logloss: 1.03939\n",
            "[181]\tvalid_0's multi_error: 0.372482\tvalid_0's multi_logloss: 0.909507\tvalid_1's multi_error: 0.457869\tvalid_1's multi_logloss: 1.0393\n",
            "[182]\tvalid_0's multi_error: 0.372017\tvalid_0's multi_logloss: 0.90878\tvalid_1's multi_error: 0.457869\tvalid_1's multi_logloss: 1.03936\n",
            "[183]\tvalid_0's multi_error: 0.371553\tvalid_0's multi_logloss: 0.908258\tvalid_1's multi_error: 0.45601\tvalid_1's multi_logloss: 1.03935\n",
            "[184]\tvalid_0's multi_error: 0.370778\tvalid_0's multi_logloss: 0.907468\tvalid_1's multi_error: 0.45601\tvalid_1's multi_logloss: 1.03936\n",
            "[185]\tvalid_0's multi_error: 0.371243\tvalid_0's multi_logloss: 0.906852\tvalid_1's multi_error: 0.456629\tvalid_1's multi_logloss: 1.03925\n",
            "[186]\tvalid_0's multi_error: 0.370468\tvalid_0's multi_logloss: 0.906243\tvalid_1's multi_error: 0.456629\tvalid_1's multi_logloss: 1.03916\n",
            "[187]\tvalid_0's multi_error: 0.370468\tvalid_0's multi_logloss: 0.905373\tvalid_1's multi_error: 0.456629\tvalid_1's multi_logloss: 1.03907\n",
            "[188]\tvalid_0's multi_error: 0.368299\tvalid_0's multi_logloss: 0.904766\tvalid_1's multi_error: 0.457249\tvalid_1's multi_logloss: 1.03909\n",
            "[189]\tvalid_0's multi_error: 0.368609\tvalid_0's multi_logloss: 0.904012\tvalid_1's multi_error: 0.458488\tvalid_1's multi_logloss: 1.0392\n",
            "Did not meet early stopping. Best iteration is:\n",
            "[188]\tvalid_0's multi_error: 0.368299\tvalid_0's multi_logloss: 0.904766\tvalid_1's multi_error: 0.457249\tvalid_1's multi_logloss: 1.03909\n",
            "Eval ACC: 0.5427509293680297\n"
          ]
        }
      ]
    },
    {
      "cell_type": "markdown",
      "source": [
        "## Pure `torch` model"
      ],
      "metadata": {
        "id": "D-_gt2iopuDn"
      }
    },
    {
      "cell_type": "code",
      "source": [
        "device = 'cuda' if torch.cuda.is_available() else 'cpu'\n",
        "device"
      ],
      "metadata": {
        "colab": {
          "base_uri": "https://localhost:8080/",
          "height": 42
        },
        "id": "IhPKDWheATmq",
        "outputId": "3905b26d-f785-4eff-fa4a-f95009d919ce"
      },
      "execution_count": 42,
      "outputs": [
        {
          "output_type": "execute_result",
          "data": {
            "text/plain": [
              "'cuda'"
            ],
            "application/vnd.google.colaboratory.intrinsic+json": {
              "type": "string"
            }
          },
          "metadata": {},
          "execution_count": 42
        }
      ]
    },
    {
      "cell_type": "code",
      "source": [
        "df.head()"
      ],
      "metadata": {
        "id": "tJt0WDtKqLRc",
        "colab": {
          "base_uri": "https://localhost:8080/",
          "height": 270
        },
        "outputId": "27099c3a-6c3e-4e5c-8d07-cbd4df111f20"
      },
      "execution_count": 43,
      "outputs": [
        {
          "output_type": "execute_result",
          "data": {
            "text/plain": [
              "       ID  Gender Ever_Married  Age Graduated     Profession  Work_Experience  \\\n",
              "0  462809    Male           No   22        No     Healthcare              1.0   \n",
              "1  462643  Female          Yes   38       Yes       Engineer              NaN   \n",
              "2  466315  Female          Yes   67       Yes       Engineer              1.0   \n",
              "3  461735    Male          Yes   67       Yes         Lawyer              0.0   \n",
              "4  462669  Female          Yes   40       Yes  Entertainment              NaN   \n",
              "\n",
              "  Spending_Score  Family_Size  Var_1 Segmentation  \n",
              "0            Low          4.0  Cat_4            D  \n",
              "1        Average          3.0  Cat_4            A  \n",
              "2            Low          1.0  Cat_6            B  \n",
              "3           High          2.0  Cat_6            B  \n",
              "4           High          6.0  Cat_6            A  "
            ],
            "text/html": [
              "\n",
              "  <div id=\"df-bde78e24-9011-4a01-b371-a5b357a91c3d\">\n",
              "    <div class=\"colab-df-container\">\n",
              "      <div>\n",
              "<style scoped>\n",
              "    .dataframe tbody tr th:only-of-type {\n",
              "        vertical-align: middle;\n",
              "    }\n",
              "\n",
              "    .dataframe tbody tr th {\n",
              "        vertical-align: top;\n",
              "    }\n",
              "\n",
              "    .dataframe thead th {\n",
              "        text-align: right;\n",
              "    }\n",
              "</style>\n",
              "<table border=\"1\" class=\"dataframe\">\n",
              "  <thead>\n",
              "    <tr style=\"text-align: right;\">\n",
              "      <th></th>\n",
              "      <th>ID</th>\n",
              "      <th>Gender</th>\n",
              "      <th>Ever_Married</th>\n",
              "      <th>Age</th>\n",
              "      <th>Graduated</th>\n",
              "      <th>Profession</th>\n",
              "      <th>Work_Experience</th>\n",
              "      <th>Spending_Score</th>\n",
              "      <th>Family_Size</th>\n",
              "      <th>Var_1</th>\n",
              "      <th>Segmentation</th>\n",
              "    </tr>\n",
              "  </thead>\n",
              "  <tbody>\n",
              "    <tr>\n",
              "      <th>0</th>\n",
              "      <td>462809</td>\n",
              "      <td>Male</td>\n",
              "      <td>No</td>\n",
              "      <td>22</td>\n",
              "      <td>No</td>\n",
              "      <td>Healthcare</td>\n",
              "      <td>1.0</td>\n",
              "      <td>Low</td>\n",
              "      <td>4.0</td>\n",
              "      <td>Cat_4</td>\n",
              "      <td>D</td>\n",
              "    </tr>\n",
              "    <tr>\n",
              "      <th>1</th>\n",
              "      <td>462643</td>\n",
              "      <td>Female</td>\n",
              "      <td>Yes</td>\n",
              "      <td>38</td>\n",
              "      <td>Yes</td>\n",
              "      <td>Engineer</td>\n",
              "      <td>NaN</td>\n",
              "      <td>Average</td>\n",
              "      <td>3.0</td>\n",
              "      <td>Cat_4</td>\n",
              "      <td>A</td>\n",
              "    </tr>\n",
              "    <tr>\n",
              "      <th>2</th>\n",
              "      <td>466315</td>\n",
              "      <td>Female</td>\n",
              "      <td>Yes</td>\n",
              "      <td>67</td>\n",
              "      <td>Yes</td>\n",
              "      <td>Engineer</td>\n",
              "      <td>1.0</td>\n",
              "      <td>Low</td>\n",
              "      <td>1.0</td>\n",
              "      <td>Cat_6</td>\n",
              "      <td>B</td>\n",
              "    </tr>\n",
              "    <tr>\n",
              "      <th>3</th>\n",
              "      <td>461735</td>\n",
              "      <td>Male</td>\n",
              "      <td>Yes</td>\n",
              "      <td>67</td>\n",
              "      <td>Yes</td>\n",
              "      <td>Lawyer</td>\n",
              "      <td>0.0</td>\n",
              "      <td>High</td>\n",
              "      <td>2.0</td>\n",
              "      <td>Cat_6</td>\n",
              "      <td>B</td>\n",
              "    </tr>\n",
              "    <tr>\n",
              "      <th>4</th>\n",
              "      <td>462669</td>\n",
              "      <td>Female</td>\n",
              "      <td>Yes</td>\n",
              "      <td>40</td>\n",
              "      <td>Yes</td>\n",
              "      <td>Entertainment</td>\n",
              "      <td>NaN</td>\n",
              "      <td>High</td>\n",
              "      <td>6.0</td>\n",
              "      <td>Cat_6</td>\n",
              "      <td>A</td>\n",
              "    </tr>\n",
              "  </tbody>\n",
              "</table>\n",
              "</div>\n",
              "      <button class=\"colab-df-convert\" onclick=\"convertToInteractive('df-bde78e24-9011-4a01-b371-a5b357a91c3d')\"\n",
              "              title=\"Convert this dataframe to an interactive table.\"\n",
              "              style=\"display:none;\">\n",
              "        \n",
              "  <svg xmlns=\"http://www.w3.org/2000/svg\" height=\"24px\"viewBox=\"0 0 24 24\"\n",
              "       width=\"24px\">\n",
              "    <path d=\"M0 0h24v24H0V0z\" fill=\"none\"/>\n",
              "    <path d=\"M18.56 5.44l.94 2.06.94-2.06 2.06-.94-2.06-.94-.94-2.06-.94 2.06-2.06.94zm-11 1L8.5 8.5l.94-2.06 2.06-.94-2.06-.94L8.5 2.5l-.94 2.06-2.06.94zm10 10l.94 2.06.94-2.06 2.06-.94-2.06-.94-.94-2.06-.94 2.06-2.06.94z\"/><path d=\"M17.41 7.96l-1.37-1.37c-.4-.4-.92-.59-1.43-.59-.52 0-1.04.2-1.43.59L10.3 9.45l-7.72 7.72c-.78.78-.78 2.05 0 2.83L4 21.41c.39.39.9.59 1.41.59.51 0 1.02-.2 1.41-.59l7.78-7.78 2.81-2.81c.8-.78.8-2.07 0-2.86zM5.41 20L4 18.59l7.72-7.72 1.47 1.35L5.41 20z\"/>\n",
              "  </svg>\n",
              "      </button>\n",
              "      \n",
              "  <style>\n",
              "    .colab-df-container {\n",
              "      display:flex;\n",
              "      flex-wrap:wrap;\n",
              "      gap: 12px;\n",
              "    }\n",
              "\n",
              "    .colab-df-convert {\n",
              "      background-color: #E8F0FE;\n",
              "      border: none;\n",
              "      border-radius: 50%;\n",
              "      cursor: pointer;\n",
              "      display: none;\n",
              "      fill: #1967D2;\n",
              "      height: 32px;\n",
              "      padding: 0 0 0 0;\n",
              "      width: 32px;\n",
              "    }\n",
              "\n",
              "    .colab-df-convert:hover {\n",
              "      background-color: #E2EBFA;\n",
              "      box-shadow: 0px 1px 2px rgba(60, 64, 67, 0.3), 0px 1px 3px 1px rgba(60, 64, 67, 0.15);\n",
              "      fill: #174EA6;\n",
              "    }\n",
              "\n",
              "    [theme=dark] .colab-df-convert {\n",
              "      background-color: #3B4455;\n",
              "      fill: #D2E3FC;\n",
              "    }\n",
              "\n",
              "    [theme=dark] .colab-df-convert:hover {\n",
              "      background-color: #434B5C;\n",
              "      box-shadow: 0px 1px 3px 1px rgba(0, 0, 0, 0.15);\n",
              "      filter: drop-shadow(0px 1px 2px rgba(0, 0, 0, 0.3));\n",
              "      fill: #FFFFFF;\n",
              "    }\n",
              "  </style>\n",
              "\n",
              "      <script>\n",
              "        const buttonEl =\n",
              "          document.querySelector('#df-bde78e24-9011-4a01-b371-a5b357a91c3d button.colab-df-convert');\n",
              "        buttonEl.style.display =\n",
              "          google.colab.kernel.accessAllowed ? 'block' : 'none';\n",
              "\n",
              "        async function convertToInteractive(key) {\n",
              "          const element = document.querySelector('#df-bde78e24-9011-4a01-b371-a5b357a91c3d');\n",
              "          const dataTable =\n",
              "            await google.colab.kernel.invokeFunction('convertToInteractive',\n",
              "                                                     [key], {});\n",
              "          if (!dataTable) return;\n",
              "\n",
              "          const docLinkHtml = 'Like what you see? Visit the ' +\n",
              "            '<a target=\"_blank\" href=https://colab.research.google.com/notebooks/data_table.ipynb>data table notebook</a>'\n",
              "            + ' to learn more about interactive tables.';\n",
              "          element.innerHTML = '';\n",
              "          dataTable['output_type'] = 'display_data';\n",
              "          await google.colab.output.renderOutput(dataTable, element);\n",
              "          const docLink = document.createElement('div');\n",
              "          docLink.innerHTML = docLinkHtml;\n",
              "          element.appendChild(docLink);\n",
              "        }\n",
              "      </script>\n",
              "    </div>\n",
              "  </div>\n",
              "  "
            ]
          },
          "metadata": {},
          "execution_count": 43
        }
      ]
    },
    {
      "cell_type": "markdown",
      "source": [
        "### Transform : Impute, OHE, Scale"
      ],
      "metadata": {
        "id": "xaRjWuyWFYvd"
      }
    },
    {
      "cell_type": "code",
      "source": [
        "# train_test split 80/20\n",
        "train_df2, test_df2 = train_test_split(\n",
        "    df, test_size=0.20, random_state=42\n",
        "    )\n",
        "train_df2.reset_index(drop=True, inplace=True)\n",
        "test_df2.reset_index(drop=True, inplace=True)\n",
        "# features\n",
        "feature_cols = train_df2.columns.tolist()\n",
        "feature_cols.remove('Segmentation')\n",
        "\n",
        "# label"
      ],
      "metadata": {
        "id": "B3vIFz1oFYvl"
      },
      "execution_count": 44,
      "outputs": []
    },
    {
      "cell_type": "code",
      "source": [
        "# train\n",
        "train_df2 = transform_df(train_df2)\n",
        "# test\n",
        "test_df2 = transform_df(test_df2)"
      ],
      "metadata": {
        "colab": {
          "base_uri": "https://localhost:8080/"
        },
        "outputId": "3397f5ab-50ca-41d1-9d76-87871dbbf1e3",
        "id": "7zQY9T7pFYvl"
      },
      "execution_count": 45,
      "outputs": [
        {
          "output_type": "stream",
          "name": "stdout",
          "text": [
            "\n",
            "OHE of Subset:  'subset'\n",
            "\n",
            "Columns Include:\n",
            "   Gender\n",
            "   Ever_Married\n",
            "   Graduated\n",
            "   Profession\n",
            "   Spending_Score\n",
            "   Var_1\n",
            "\n",
            "Proceed with OHE?     y/n \n",
            "\n",
            "  -->  y\n",
            "\n",
            "Let's do it!\n",
            "\n",
            "['Gender', 'Ever_Married', 'Graduated', 'Profession', 'Spending_Score', 'Var_1']\n",
            "...\n",
            "\n",
            "OHE of Subset:  'subset'\n",
            "\n",
            "Columns Include:\n",
            "   Gender\n",
            "   Ever_Married\n",
            "   Graduated\n",
            "   Profession\n",
            "   Spending_Score\n",
            "   Var_1\n",
            "\n",
            "Proceed with OHE?     y/n \n",
            "\n",
            "  -->  y\n",
            "\n",
            "Let's do it!\n",
            "\n",
            "['Gender', 'Ever_Married', 'Graduated', 'Profession', 'Spending_Score', 'Var_1']\n",
            "...\n"
          ]
        }
      ]
    },
    {
      "cell_type": "markdown",
      "source": [
        "#### Update Column Groups"
      ],
      "metadata": {
        "id": "zIMYjSuIFYvm"
      }
    },
    {
      "cell_type": "code",
      "source": [
        "# categorical\n",
        "cat_cols = ['Gender_Female', 'Gender_Male', 'Ever_Married_No',\n",
        "       'Ever_Married_Yes', 'Graduated_No', 'Graduated_Yes',\n",
        "       'Profession_Artist', 'Profession_Doctor', 'Profession_Engineer',\n",
        "       'Profession_Entertainment', 'Profession_Executive',\n",
        "       'Profession_Healthcare', 'Profession_Homemaker', 'Profession_Lawyer',\n",
        "       'Profession_Marketing', 'Spending_Score_Average', 'Spending_Score_High',\n",
        "       'Spending_Score_Low', 'Var_1_Cat_1', 'Var_1_Cat_2', 'Var_1_Cat_3',\n",
        "       'Var_1_Cat_4', 'Var_1_Cat_5', 'Var_1_Cat_6', 'Var_1_Cat_7']\n",
        "\n",
        "# continuous\n",
        "cont_cols = ['Age','Work_Experience', 'Family_Size']\n",
        "\n",
        "# features\n",
        "feature_cols = train_df2.columns.tolist()\n",
        "feature_cols.remove('Segmentation')\n",
        "# label\n",
        "label_col = 'Segmentation'\n",
        "\n",
        "# print(feature_cols)\n",
        "# print('---')\n",
        "# print(label_col)"
      ],
      "metadata": {
        "id": "VQPn05VDFYvm"
      },
      "execution_count": 46,
      "outputs": []
    },
    {
      "cell_type": "code",
      "source": [
        "len(train_df.columns)"
      ],
      "metadata": {
        "colab": {
          "base_uri": "https://localhost:8080/"
        },
        "id": "76RtB4ItHyUB",
        "outputId": "b283663f-ef5c-4bc2-c8fe-5039245436ed"
      },
      "execution_count": 47,
      "outputs": [
        {
          "output_type": "execute_result",
          "data": {
            "text/plain": [
              "30"
            ]
          },
          "metadata": {},
          "execution_count": 47
        }
      ]
    },
    {
      "cell_type": "markdown",
      "metadata": {
        "id": "yusLq08Yh_Uw"
      },
      "source": [
        "#### Preparing Pipeline"
      ]
    },
    {
      "cell_type": "markdown",
      "source": [
        "##### Dataset"
      ],
      "metadata": {
        "id": "8s2Tk4K6F3aE"
      }
    },
    {
      "cell_type": "code",
      "source": [
        "class SegDataset(Dataset):\n",
        "    # Code adapted from: https://averdones.github.io/reading-tabular-data-with-pytorch-and-training-a-multilayer-perceptron/\n",
        "    def __getitem__(self, idx):\n",
        "        # Convert idx from tensor to list due to pandas bug (that arises when using pytorch's random_split)\n",
        "        if isinstance(idx, torch.Tensor):\n",
        "            idx = idx.tolist()\n",
        "        return [self.X.iloc[idx].values, self.y[idx]]\n",
        "\n",
        "    def __init__(self, x):\n",
        "        super().__init__()\n",
        "        self.x = x\n",
        "        # Save target and predictors\n",
        "        self.X = self.x[feature_cols]\n",
        "        self.y = self.x[label_col]\n",
        "\n",
        "    def __len__(self):\n",
        "        return len(self.x)\n",
        "\n",
        "    def __getitem__(self, idx):\n",
        "        row = self.x.iloc[idx][1:].to_numpy(dtype=\"float32\")\n",
        "        label = self.x[0][idx]\n",
        "        return torch.tensor(row, dtype=torch.float32), torch.tensor(label, dtype=torch.float32)    "
      ],
      "metadata": {
        "id": "IiaAFYPZGDIU"
      },
      "execution_count": 48,
      "outputs": []
    },
    {
      "cell_type": "code",
      "source": [
        "train_ds = SegDataset(train_df2)\n",
        "valid_ds = SegDataset(test_df2)"
      ],
      "metadata": {
        "id": "YUyU4qnEHCTA"
      },
      "execution_count": 49,
      "outputs": []
    },
    {
      "cell_type": "code",
      "source": [],
      "metadata": {
        "id": "mhcYHujKRlrw"
      },
      "execution_count": 49,
      "outputs": []
    },
    {
      "cell_type": "markdown",
      "source": [
        "#### Pipeline Script"
      ],
      "metadata": {
        "id": "cL_zYXOKNNyu"
      }
    },
    {
      "cell_type": "code",
      "source": [
        "# Workers / Batch / Epochs\n",
        "N_WORKERS = cpu_count() \n",
        "BATCH_SIZE = 64 # Batch_Parameter\n",
        "N_EPOCHS = 12\n",
        "\n",
        "\n",
        "# Data Loaders\n",
        "train_dl = DataLoader(\n",
        "    train_ds, \n",
        "    batch_size=BATCH_SIZE, # Batch_Mark | input_bs | Set by Batch_Parameter\n",
        "    shuffle=True, \n",
        "    num_workers=N_WORKERS\n",
        ")\n",
        "\n",
        "valid_dl = DataLoader(\n",
        "    valid_ds, \n",
        "    batch_size=BATCH_SIZE, # Batch_Mark | input_bs | Set by Batch_Parameter\n",
        "    shuffle=False, \n",
        "    num_workers=N_WORKERS\n",
        ")\n",
        "\n",
        "\n",
        "# custom linear layer\n",
        "def linear(in_features:int, out_features:int, dropout=0.2): \n",
        "    \"\"\"\n",
        "    Returns an nn.Sequential module that we want to repeat a lot.\n",
        "    The module contains a linear layer, ReLU activation, BatchNorm, and dropout.\n",
        "    \"\"\"\n",
        "    seq_mod = nn.Sequential(    \n",
        "            nn.Linear(in_features=in_features, out_features=out_features), # Batch_Mark\n",
        "            nn.BatchNorm1d(out_features),\n",
        "            nn.ReLU(),\n",
        "            nn.Dropout(p=dropout)         \n",
        "            )\n",
        "    return seq_mod\n",
        "    raise NotImplementedError\n",
        "\n",
        "\n",
        "# Config parameters for the model\n",
        "class Config(AttrDict):\n",
        "    def __init__(self, num_input_features=30, n_hidden_layers=2, hidden_dim=256, n_labels=1):\n",
        "        self.num_input_features = num_input_features\n",
        "        self.n_hidden_layers = n_hidden_layers\n",
        "        self.hidden_dim = hidden_dim\n",
        "        self.n_labels = n_labels\n",
        "        CUDA_LAUNCH_BLOCKING=1\n",
        "        self.device = 'cuda' if torch.cuda.is_available() else 'cpu'\n",
        "config = Config()\n",
        "\n",
        "\n",
        "# Model Builder\n",
        "def build_model(config):\n",
        "    hidden_dim = config.hidden_dim\n",
        "    # model\n",
        "    model = nn.Sequential(\n",
        "        # 1st\n",
        "        linear(in_features=config.num_input_features, out_features=hidden_dim),\n",
        "        # hidden\n",
        "        linear(in_features=hidden_dim, out_features=hidden_dim),\n",
        "        linear(in_features=hidden_dim, out_features=hidden_dim),\n",
        "        # final\n",
        "        nn.Linear(in_features=hidden_dim, out_features=config.n_labels) # Batch_Mark\n",
        "    )\n",
        "# to device\n",
        "    print('Model device: ', next(model.parameters()).device)\n",
        "    if not next(model.parameters()).is_cuda & torch.cuda.is_available():\n",
        "        print('Model is on CPU, but GPU is available. Putting model on GPU.')\n",
        "        model = model.to(config.device)\n",
        "    print('Model device: ', next(model.parameters()).device)\n",
        "    return model\n",
        "    raise NotImplementedError()\n",
        "\n",
        "\n",
        "# Instantiate the Model\n",
        "model = build_model(config)\n",
        "\n",
        "# Loss / Opt / Metric\n",
        "loss_func = nn.CrossEntropyLoss()\n",
        "# opt = torch.optim.Adam(model.parameters())\n",
        "opt = torch.optim.Adam(model.parameters(), amsgrad=True)\n",
        "# opt = torch.optim.SGD( model.parameters(), lr=.01)\n",
        "# opt = torch.optim.Adamax(lr=.02, params=model.parameters())\n",
        "metric = torchmetrics.Accuracy()\n",
        "\n",
        "\n",
        "# Steps: Training / Validation\n",
        "def train_step(x_b, y_b):\n",
        "    # Send x_b and y_b to the GPU, if available\n",
        "    x_b = x_b.to(config.device)\n",
        "    y_b = y_b.to(config.device)\n",
        "    # Generate yhat\n",
        "    yhat = model(x_b)\n",
        "    # Calculate the loss\n",
        "    loss = loss_func(yhat, y_b.long()) # Batch_Mark??\n",
        "    # Calculate gradients\n",
        "    loss.backward()\n",
        "    # Perform your update and zero out your gradients\n",
        "    opt.step()\n",
        "    opt.zero_grad()\n",
        "    # Update your accuracy metric\n",
        "    batch_acc = metric(yhat.cpu().softmax(axis=1), y_b.cpu()) # Batch_Mark?? | softmax_mark\n",
        "    # Return the loss\n",
        "    return loss\n",
        "    \n",
        "def validation_step(x_b, y_b):\n",
        "    # Send x_b and y_b to the GPU, if available\n",
        "    x_b = x_b.to(config.device)\n",
        "    y_b = y_b.to(config.device)\n",
        "    # Tell torch not to calculate gradients on the validation batch\n",
        "    with torch.no_grad():\n",
        "        # Generate yhat\n",
        "        yhat = model(x_b)\n",
        "        # Calculate the loss\n",
        "        loss = loss_func(yhat, y_b.long()) # Batch_Mark??\n",
        "    # Update your accuracy metric\n",
        "    batch_acc = metric(yhat.cpu().softmax(axis=1), y_b.cpu()) # Batch_Mark?? | softmax_mark\n",
        "    # Return the loss\n",
        "    return loss\n"
      ],
      "metadata": {
        "colab": {
          "base_uri": "https://localhost:8080/"
        },
        "id": "-M6ks_9DMJJn",
        "outputId": "0d40b851-aa65-40c6-a4b0-9a434e7aeaf1"
      },
      "execution_count": 50,
      "outputs": [
        {
          "output_type": "stream",
          "name": "stdout",
          "text": [
            "Model device:  cpu\n",
            "Model is on CPU, but GPU is available. Putting model on GPU.\n",
            "Model device:  cuda:0\n"
          ]
        }
      ]
    },
    {
      "cell_type": "code",
      "source": [
        "# Another sanity check: our model should be able to operate on a batch of data.\n",
        "for x_b, y_b in train_dl:\n",
        "    break\n",
        "\n",
        "# model(x_b.to(config.device)).shape\n",
        "model(x_b.to(config.device)).shape"
      ],
      "metadata": {
        "colab": {
          "base_uri": "https://localhost:8080/",
          "height": 1000
        },
        "id": "yAPrRP4yNBLz",
        "outputId": "07ce022e-b32a-40d4-f447-7d84d15101b8"
      },
      "execution_count": 51,
      "outputs": [
        {
          "output_type": "error",
          "ename": "KeyError",
          "evalue": "ignored",
          "traceback": [
            "\u001b[0;31m---------------------------------------------------------------------------\u001b[0m",
            "\u001b[0;31mKeyError\u001b[0m                                  Traceback (most recent call last)",
            "\u001b[0;32m<ipython-input-51-7ddec5f5fa3d>\u001b[0m in \u001b[0;36m<module>\u001b[0;34m\u001b[0m\n\u001b[1;32m      1\u001b[0m \u001b[0;31m# Another sanity check: our model should be able to operate on a batch of data.\u001b[0m\u001b[0;34m\u001b[0m\u001b[0;34m\u001b[0m\u001b[0;34m\u001b[0m\u001b[0m\n\u001b[0;32m----> 2\u001b[0;31m \u001b[0;32mfor\u001b[0m \u001b[0mx_b\u001b[0m\u001b[0;34m,\u001b[0m \u001b[0my_b\u001b[0m \u001b[0;32min\u001b[0m \u001b[0mtrain_dl\u001b[0m\u001b[0;34m:\u001b[0m\u001b[0;34m\u001b[0m\u001b[0;34m\u001b[0m\u001b[0m\n\u001b[0m\u001b[1;32m      3\u001b[0m     \u001b[0;32mbreak\u001b[0m\u001b[0;34m\u001b[0m\u001b[0;34m\u001b[0m\u001b[0m\n\u001b[1;32m      4\u001b[0m \u001b[0;34m\u001b[0m\u001b[0m\n\u001b[1;32m      5\u001b[0m \u001b[0;31m# model(x_b.to(config.device)).shape\u001b[0m\u001b[0;34m\u001b[0m\u001b[0;34m\u001b[0m\u001b[0;34m\u001b[0m\u001b[0m\n",
            "\u001b[0;32m/usr/local/lib/python3.7/dist-packages/torch/utils/data/dataloader.py\u001b[0m in \u001b[0;36m__next__\u001b[0;34m(self)\u001b[0m\n\u001b[1;32m    679\u001b[0m                 \u001b[0;31m# TODO(https://github.com/pytorch/pytorch/issues/76750)\u001b[0m\u001b[0;34m\u001b[0m\u001b[0;34m\u001b[0m\u001b[0;34m\u001b[0m\u001b[0m\n\u001b[1;32m    680\u001b[0m                 \u001b[0mself\u001b[0m\u001b[0;34m.\u001b[0m\u001b[0m_reset\u001b[0m\u001b[0;34m(\u001b[0m\u001b[0;34m)\u001b[0m  \u001b[0;31m# type: ignore[call-arg]\u001b[0m\u001b[0;34m\u001b[0m\u001b[0;34m\u001b[0m\u001b[0m\n\u001b[0;32m--> 681\u001b[0;31m             \u001b[0mdata\u001b[0m \u001b[0;34m=\u001b[0m \u001b[0mself\u001b[0m\u001b[0;34m.\u001b[0m\u001b[0m_next_data\u001b[0m\u001b[0;34m(\u001b[0m\u001b[0;34m)\u001b[0m\u001b[0;34m\u001b[0m\u001b[0;34m\u001b[0m\u001b[0m\n\u001b[0m\u001b[1;32m    682\u001b[0m             \u001b[0mself\u001b[0m\u001b[0;34m.\u001b[0m\u001b[0m_num_yielded\u001b[0m \u001b[0;34m+=\u001b[0m \u001b[0;36m1\u001b[0m\u001b[0;34m\u001b[0m\u001b[0;34m\u001b[0m\u001b[0m\n\u001b[1;32m    683\u001b[0m             \u001b[0;32mif\u001b[0m \u001b[0mself\u001b[0m\u001b[0;34m.\u001b[0m\u001b[0m_dataset_kind\u001b[0m \u001b[0;34m==\u001b[0m \u001b[0m_DatasetKind\u001b[0m\u001b[0;34m.\u001b[0m\u001b[0mIterable\u001b[0m \u001b[0;32mand\u001b[0m\u001b[0;31m \u001b[0m\u001b[0;31m\\\u001b[0m\u001b[0;34m\u001b[0m\u001b[0;34m\u001b[0m\u001b[0m\n",
            "\u001b[0;32m/usr/local/lib/python3.7/dist-packages/torch/utils/data/dataloader.py\u001b[0m in \u001b[0;36m_next_data\u001b[0;34m(self)\u001b[0m\n\u001b[1;32m   1374\u001b[0m             \u001b[0;32melse\u001b[0m\u001b[0;34m:\u001b[0m\u001b[0;34m\u001b[0m\u001b[0;34m\u001b[0m\u001b[0m\n\u001b[1;32m   1375\u001b[0m                 \u001b[0;32mdel\u001b[0m \u001b[0mself\u001b[0m\u001b[0;34m.\u001b[0m\u001b[0m_task_info\u001b[0m\u001b[0;34m[\u001b[0m\u001b[0midx\u001b[0m\u001b[0;34m]\u001b[0m\u001b[0;34m\u001b[0m\u001b[0;34m\u001b[0m\u001b[0m\n\u001b[0;32m-> 1376\u001b[0;31m                 \u001b[0;32mreturn\u001b[0m \u001b[0mself\u001b[0m\u001b[0;34m.\u001b[0m\u001b[0m_process_data\u001b[0m\u001b[0;34m(\u001b[0m\u001b[0mdata\u001b[0m\u001b[0;34m)\u001b[0m\u001b[0;34m\u001b[0m\u001b[0;34m\u001b[0m\u001b[0m\n\u001b[0m\u001b[1;32m   1377\u001b[0m \u001b[0;34m\u001b[0m\u001b[0m\n\u001b[1;32m   1378\u001b[0m     \u001b[0;32mdef\u001b[0m \u001b[0m_try_put_index\u001b[0m\u001b[0;34m(\u001b[0m\u001b[0mself\u001b[0m\u001b[0;34m)\u001b[0m\u001b[0;34m:\u001b[0m\u001b[0;34m\u001b[0m\u001b[0;34m\u001b[0m\u001b[0m\n",
            "\u001b[0;32m/usr/local/lib/python3.7/dist-packages/torch/utils/data/dataloader.py\u001b[0m in \u001b[0;36m_process_data\u001b[0;34m(self, data)\u001b[0m\n\u001b[1;32m   1400\u001b[0m         \u001b[0mself\u001b[0m\u001b[0;34m.\u001b[0m\u001b[0m_try_put_index\u001b[0m\u001b[0;34m(\u001b[0m\u001b[0;34m)\u001b[0m\u001b[0;34m\u001b[0m\u001b[0;34m\u001b[0m\u001b[0m\n\u001b[1;32m   1401\u001b[0m         \u001b[0;32mif\u001b[0m \u001b[0misinstance\u001b[0m\u001b[0;34m(\u001b[0m\u001b[0mdata\u001b[0m\u001b[0;34m,\u001b[0m \u001b[0mExceptionWrapper\u001b[0m\u001b[0;34m)\u001b[0m\u001b[0;34m:\u001b[0m\u001b[0;34m\u001b[0m\u001b[0;34m\u001b[0m\u001b[0m\n\u001b[0;32m-> 1402\u001b[0;31m             \u001b[0mdata\u001b[0m\u001b[0;34m.\u001b[0m\u001b[0mreraise\u001b[0m\u001b[0;34m(\u001b[0m\u001b[0;34m)\u001b[0m\u001b[0;34m\u001b[0m\u001b[0;34m\u001b[0m\u001b[0m\n\u001b[0m\u001b[1;32m   1403\u001b[0m         \u001b[0;32mreturn\u001b[0m \u001b[0mdata\u001b[0m\u001b[0;34m\u001b[0m\u001b[0;34m\u001b[0m\u001b[0m\n\u001b[1;32m   1404\u001b[0m \u001b[0;34m\u001b[0m\u001b[0m\n",
            "\u001b[0;32m/usr/local/lib/python3.7/dist-packages/torch/_utils.py\u001b[0m in \u001b[0;36mreraise\u001b[0;34m(self)\u001b[0m\n\u001b[1;32m    459\u001b[0m             \u001b[0;31m# instantiate since we don't know how to\u001b[0m\u001b[0;34m\u001b[0m\u001b[0;34m\u001b[0m\u001b[0;34m\u001b[0m\u001b[0m\n\u001b[1;32m    460\u001b[0m             \u001b[0;32mraise\u001b[0m \u001b[0mRuntimeError\u001b[0m\u001b[0;34m(\u001b[0m\u001b[0mmsg\u001b[0m\u001b[0;34m)\u001b[0m \u001b[0;32mfrom\u001b[0m \u001b[0;32mNone\u001b[0m\u001b[0;34m\u001b[0m\u001b[0;34m\u001b[0m\u001b[0m\n\u001b[0;32m--> 461\u001b[0;31m         \u001b[0;32mraise\u001b[0m \u001b[0mexception\u001b[0m\u001b[0;34m\u001b[0m\u001b[0;34m\u001b[0m\u001b[0m\n\u001b[0m\u001b[1;32m    462\u001b[0m \u001b[0;34m\u001b[0m\u001b[0m\n\u001b[1;32m    463\u001b[0m \u001b[0;34m\u001b[0m\u001b[0m\n",
            "\u001b[0;31mKeyError\u001b[0m: Caught KeyError in DataLoader worker process 0.\nOriginal Traceback (most recent call last):\n  File \"/usr/local/lib/python3.7/dist-packages/pandas/core/indexes/base.py\", line 3361, in get_loc\n    return self._engine.get_loc(casted_key)\n  File \"pandas/_libs/index.pyx\", line 76, in pandas._libs.index.IndexEngine.get_loc\n  File \"pandas/_libs/index.pyx\", line 108, in pandas._libs.index.IndexEngine.get_loc\n  File \"pandas/_libs/hashtable_class_helper.pxi\", line 5198, in pandas._libs.hashtable.PyObjectHashTable.get_item\n  File \"pandas/_libs/hashtable_class_helper.pxi\", line 5206, in pandas._libs.hashtable.PyObjectHashTable.get_item\nKeyError: 0\n\nThe above exception was the direct cause of the following exception:\n\nTraceback (most recent call last):\n  File \"/usr/local/lib/python3.7/dist-packages/torch/utils/data/_utils/worker.py\", line 302, in _worker_loop\n    data = fetcher.fetch(index)\n  File \"/usr/local/lib/python3.7/dist-packages/torch/utils/data/_utils/fetch.py\", line 49, in fetch\n    data = [self.dataset[idx] for idx in possibly_batched_index]\n  File \"/usr/local/lib/python3.7/dist-packages/torch/utils/data/_utils/fetch.py\", line 49, in <listcomp>\n    data = [self.dataset[idx] for idx in possibly_batched_index]\n  File \"<ipython-input-48-ddfff352493f>\", line 21, in __getitem__\n    label = self.x[0][idx]\n  File \"/usr/local/lib/python3.7/dist-packages/pandas/core/frame.py\", line 3458, in __getitem__\n    indexer = self.columns.get_loc(key)\n  File \"/usr/local/lib/python3.7/dist-packages/pandas/core/indexes/base.py\", line 3363, in get_loc\n    raise KeyError(key) from err\nKeyError: 0\n"
          ]
        }
      ]
    },
    {
      "cell_type": "markdown",
      "metadata": {
        "id": "3VaYhptwbRM3"
      },
      "source": [
        "#### Train / Valid Model"
      ]
    },
    {
      "cell_type": "code",
      "execution_count": null,
      "metadata": {
        "id": "KjPF8YoZ5jxr"
      },
      "outputs": [],
      "source": [
        "train_losses_step = []\n",
        "train_losses = []\n",
        "valid_losses = []\n",
        "dbug_counter = 1\n",
        "for epoch in range(N_EPOCHS):\n",
        "    # Training loop\n",
        "    model.train() # Put the model in train mode\n",
        "    train_loss_epoch = 0.\n",
        "    # print(dbug_counter)\n",
        "    for x_b, y_b in train_dl:\n",
        "        dbug_counter += 1\n",
        "        # print(dbug_counter)\n",
        "        loss = train_step(x_b.float(), y_b.float())\n",
        "        train_loss_epoch += loss\n",
        "        train_losses_step.append(loss.item())\n",
        "    \n",
        "    # Compute the train loss and accuracy for the epoch.\n",
        "    # The epoch loss is a little bit off if our final batch\n",
        "    # is a different size - we're going to ignore that for now,\n",
        "    # since higher-level libraries will solve this for us.\n",
        "    train_loss_epoch /= len(train_dl)\n",
        "    train_losses.append(train_loss_epoch.item())\n",
        "    train_acc = metric.compute()\n",
        "    \n",
        "    # Validation loop\n",
        "    model.eval() # Put the model in eval mode (affects dropout and batch norm)\n",
        "    val_loss_epoch = 0.\n",
        "    for x_b, y_b in valid_dl:\n",
        "        loss = validation_step(x_b.float(), y_b.float())\n",
        "        val_loss_epoch += loss\n",
        "    \n",
        "    val_loss_epoch /= len(valid_dl)\n",
        "    valid_acc = metric.compute()\n",
        "    valid_losses.append(val_loss_epoch.item())\n",
        "\n",
        "    print(f\"Epoch: {epoch+1}, Train loss: {train_loss_epoch:.04f} Train acc: {float(train_acc):.04f}, Valid loss: {val_loss_epoch} Valid Acc: {float(valid_acc):.04f}\")"
      ]
    },
    {
      "cell_type": "markdown",
      "source": [
        "## High-level libraries and tabular frameworks"
      ],
      "metadata": {
        "id": "YUK7yRtEp2NA"
      }
    },
    {
      "cell_type": "code",
      "source": [
        "from fastai.tabular.all import *"
      ],
      "metadata": {
        "id": "MZZBEen8qMYI"
      },
      "execution_count": 42,
      "outputs": []
    },
    {
      "cell_type": "code",
      "source": [
        "device = 'cuda' if torch.cuda.is_available() else 'cpu'\n",
        "device"
      ],
      "metadata": {
        "colab": {
          "base_uri": "https://localhost:8080/",
          "height": 42
        },
        "id": "ZR_28sfQYdsy",
        "outputId": "7f78168c-3274-4d7c-cc60-e8f0c0e37178"
      },
      "execution_count": 43,
      "outputs": [
        {
          "output_type": "execute_result",
          "data": {
            "text/plain": [
              "'cuda'"
            ],
            "application/vnd.google.colaboratory.intrinsic+json": {
              "type": "string"
            }
          },
          "metadata": {},
          "execution_count": 43
        }
      ]
    },
    {
      "cell_type": "code",
      "source": [
        "TabularDataLoaders.from_df"
      ],
      "metadata": {
        "id": "wueJOwxasTv7",
        "colab": {
          "base_uri": "https://localhost:8080/"
        },
        "outputId": "624ccb71-0720-41b1-9d47-fb4488da6876"
      },
      "execution_count": 44,
      "outputs": [
        {
          "output_type": "execute_result",
          "data": {
            "text/plain": [
              "<bound method TabularDataLoaders.from_df of <class 'fastai.tabular.data.TabularDataLoaders'>>"
            ]
          },
          "metadata": {},
          "execution_count": 44
        }
      ]
    },
    {
      "cell_type": "code",
      "source": [
        "# read csv\n",
        "df = pd.read_csv(csv_train)"
      ],
      "metadata": {
        "id": "uT3uDL5bZGPv"
      },
      "execution_count": 64,
      "outputs": []
    },
    {
      "cell_type": "code",
      "source": [
        "cat_cols = ['Gender','Ever_Married','Graduated','Profession','Spending_Score']\n",
        "cont_cols = ['Age','Work_Experience', 'Family_Size']\n",
        "label_col = ['Segmentation']"
      ],
      "metadata": {
        "id": "_KX-oTRVuz4m"
      },
      "execution_count": 65,
      "outputs": []
    },
    {
      "cell_type": "code",
      "source": [
        "dls = TabularDataLoaders.from_df(df, procs = [Categorify, FillMissing, Normalize], cat_names=cat_cols, cont_names=cont_cols, y_names=label_col)"
      ],
      "metadata": {
        "id": "x1bdc-YCukmC"
      },
      "execution_count": 66,
      "outputs": []
    },
    {
      "cell_type": "code",
      "source": [
        "splits = RandomSplitter(valid_pct=0.2)(range_of(df))"
      ],
      "metadata": {
        "id": "m1mccJvccHpO"
      },
      "execution_count": 67,
      "outputs": []
    },
    {
      "cell_type": "code",
      "source": [
        "to = TabularPandas(df, procs=[Categorify, FillMissing,Normalize],\n",
        "                   cat_names = cat_cols,\n",
        "                   cont_names = cont_cols,\n",
        "                   y_names=label_col,\n",
        "                   splits=splits)"
      ],
      "metadata": {
        "id": "_0fqG48Zckfo"
      },
      "execution_count": 68,
      "outputs": []
    },
    {
      "cell_type": "code",
      "source": [
        "to.valid"
      ],
      "metadata": {
        "colab": {
          "base_uri": "https://localhost:8080/"
        },
        "id": "i3GCa3OgplTb",
        "outputId": "32b8c0b2-e741-4092-d5fe-359c7f003c0e"
      },
      "execution_count": 86,
      "outputs": [
        {
          "output_type": "execute_result",
          "data": {
            "text/plain": [
              "          ID  Gender  Ever_Married       Age  Graduated  Profession  \\\n",
              "3002  459937       1             1 -0.265467          2           1   \n",
              "1673  461337       2             2  0.392157          2           5   \n",
              "5336  464229       1             1 -1.042657          1           3   \n",
              "5889  462334       2             1  0.212805          2           1   \n",
              "1308  467467       2             1 -1.461145          1           6   \n",
              "...      ...     ...           ...       ...        ...         ...   \n",
              "5759  461549       1             2  1.468267          2           1   \n",
              "4702  467116       2             2  1.767187          2           5   \n",
              "1844  464089       1             2 -0.205683          2           1   \n",
              "4705  460740       2             2 -0.325250          2           1   \n",
              "6298  462448       2             1 -1.461145          1           6   \n",
              "\n",
              "      Work_Experience  Spending_Score  Family_Size  Var_1  Segmentation  \\\n",
              "3002         1.377582               3    -1.242509  Cat_6             0   \n",
              "1673        -0.453678               2     0.090336  Cat_6             2   \n",
              "5336        -0.148468               3     2.756026  Cat_6             3   \n",
              "5889         1.988001               3    -0.576086  Cat_6             1   \n",
              "1308        -0.758887               3     0.756759  Cat_6             3   \n",
              "...               ...             ...          ...    ...           ...   \n",
              "5759        -0.453678               1    -0.576086  Cat_6             1   \n",
              "4702        -0.453678               2    -0.576086  Cat_6             1   \n",
              "1844         0.767162               2     1.423181    NaN             1   \n",
              "4705         0.461952               1     0.090336  Cat_6             1   \n",
              "6298        -0.453678               3     0.090336  Cat_6             3   \n",
              "\n",
              "      Work_Experience_na  Family_Size_na  \n",
              "3002                   1               1  \n",
              "1673                   1               1  \n",
              "5336                   1               1  \n",
              "5889                   1               1  \n",
              "1308                   1               1  \n",
              "...                  ...             ...  \n",
              "5759                   2               1  \n",
              "4702                   1               1  \n",
              "1844                   1               1  \n",
              "4705                   1               1  \n",
              "6298                   2               1  \n",
              "\n",
              "[1613 rows x 13 columns]"
            ]
          },
          "metadata": {},
          "execution_count": 86
        }
      ]
    },
    {
      "cell_type": "code",
      "source": [
        "dls = to.dataloaders(bs=64)"
      ],
      "metadata": {
        "id": "xYV9FDSqc4Ui"
      },
      "execution_count": 76,
      "outputs": []
    },
    {
      "cell_type": "code",
      "source": [
        "dls.show_batch()"
      ],
      "metadata": {
        "id": "TZeKUMmQvu39",
        "colab": {
          "base_uri": "https://localhost:8080/",
          "height": 383
        },
        "outputId": "1f3172aa-e10f-445d-8a59-d4360ce42b5b"
      },
      "execution_count": 77,
      "outputs": [
        {
          "output_type": "display_data",
          "data": {
            "text/plain": [
              "<IPython.core.display.HTML object>"
            ],
            "text/html": [
              "<table border=\"1\" class=\"dataframe\">\n",
              "  <thead>\n",
              "    <tr style=\"text-align: right;\">\n",
              "      <th></th>\n",
              "      <th>Gender</th>\n",
              "      <th>Ever_Married</th>\n",
              "      <th>Graduated</th>\n",
              "      <th>Profession</th>\n",
              "      <th>Spending_Score</th>\n",
              "      <th>Work_Experience_na</th>\n",
              "      <th>Family_Size_na</th>\n",
              "      <th>Age</th>\n",
              "      <th>Work_Experience</th>\n",
              "      <th>Family_Size</th>\n",
              "      <th>Segmentation</th>\n",
              "    </tr>\n",
              "  </thead>\n",
              "  <tbody>\n",
              "    <tr>\n",
              "      <th>0</th>\n",
              "      <td>Female</td>\n",
              "      <td>No</td>\n",
              "      <td>Yes</td>\n",
              "      <td>Healthcare</td>\n",
              "      <td>Low</td>\n",
              "      <td>False</td>\n",
              "      <td>False</td>\n",
              "      <td>26.000000</td>\n",
              "      <td>-1.600446e-08</td>\n",
              "      <td>4.0</td>\n",
              "      <td>A</td>\n",
              "    </tr>\n",
              "    <tr>\n",
              "      <th>1</th>\n",
              "      <td>Female</td>\n",
              "      <td>No</td>\n",
              "      <td>No</td>\n",
              "      <td>Engineer</td>\n",
              "      <td>Low</td>\n",
              "      <td>False</td>\n",
              "      <td>False</td>\n",
              "      <td>38.000000</td>\n",
              "      <td>8.000000e+00</td>\n",
              "      <td>1.0</td>\n",
              "      <td>A</td>\n",
              "    </tr>\n",
              "    <tr>\n",
              "      <th>2</th>\n",
              "      <td>Male</td>\n",
              "      <td>Yes</td>\n",
              "      <td>Yes</td>\n",
              "      <td>Artist</td>\n",
              "      <td>Average</td>\n",
              "      <td>False</td>\n",
              "      <td>False</td>\n",
              "      <td>50.000000</td>\n",
              "      <td>-1.600446e-08</td>\n",
              "      <td>2.0</td>\n",
              "      <td>A</td>\n",
              "    </tr>\n",
              "    <tr>\n",
              "      <th>3</th>\n",
              "      <td>Female</td>\n",
              "      <td>Yes</td>\n",
              "      <td>No</td>\n",
              "      <td>Executive</td>\n",
              "      <td>High</td>\n",
              "      <td>False</td>\n",
              "      <td>False</td>\n",
              "      <td>37.000000</td>\n",
              "      <td>-1.600446e-08</td>\n",
              "      <td>2.0</td>\n",
              "      <td>A</td>\n",
              "    </tr>\n",
              "    <tr>\n",
              "      <th>4</th>\n",
              "      <td>Female</td>\n",
              "      <td>No</td>\n",
              "      <td>No</td>\n",
              "      <td>Healthcare</td>\n",
              "      <td>Low</td>\n",
              "      <td>True</td>\n",
              "      <td>False</td>\n",
              "      <td>18.999999</td>\n",
              "      <td>1.000000e+00</td>\n",
              "      <td>4.0</td>\n",
              "      <td>D</td>\n",
              "    </tr>\n",
              "    <tr>\n",
              "      <th>5</th>\n",
              "      <td>Female</td>\n",
              "      <td>No</td>\n",
              "      <td>Yes</td>\n",
              "      <td>Engineer</td>\n",
              "      <td>Low</td>\n",
              "      <td>False</td>\n",
              "      <td>False</td>\n",
              "      <td>39.000000</td>\n",
              "      <td>1.000000e+00</td>\n",
              "      <td>1.0</td>\n",
              "      <td>A</td>\n",
              "    </tr>\n",
              "    <tr>\n",
              "      <th>6</th>\n",
              "      <td>Female</td>\n",
              "      <td>Yes</td>\n",
              "      <td>Yes</td>\n",
              "      <td>Artist</td>\n",
              "      <td>High</td>\n",
              "      <td>False</td>\n",
              "      <td>False</td>\n",
              "      <td>83.999998</td>\n",
              "      <td>1.000000e+00</td>\n",
              "      <td>2.0</td>\n",
              "      <td>A</td>\n",
              "    </tr>\n",
              "    <tr>\n",
              "      <th>7</th>\n",
              "      <td>Male</td>\n",
              "      <td>Yes</td>\n",
              "      <td>Yes</td>\n",
              "      <td>Doctor</td>\n",
              "      <td>Average</td>\n",
              "      <td>False</td>\n",
              "      <td>False</td>\n",
              "      <td>42.000000</td>\n",
              "      <td>-1.600446e-08</td>\n",
              "      <td>2.0</td>\n",
              "      <td>C</td>\n",
              "    </tr>\n",
              "    <tr>\n",
              "      <th>8</th>\n",
              "      <td>Male</td>\n",
              "      <td>Yes</td>\n",
              "      <td>No</td>\n",
              "      <td>Executive</td>\n",
              "      <td>Average</td>\n",
              "      <td>False</td>\n",
              "      <td>False</td>\n",
              "      <td>52.000000</td>\n",
              "      <td>9.000000e+00</td>\n",
              "      <td>4.0</td>\n",
              "      <td>A</td>\n",
              "    </tr>\n",
              "    <tr>\n",
              "      <th>9</th>\n",
              "      <td>Male</td>\n",
              "      <td>Yes</td>\n",
              "      <td>Yes</td>\n",
              "      <td>Engineer</td>\n",
              "      <td>Average</td>\n",
              "      <td>False</td>\n",
              "      <td>False</td>\n",
              "      <td>45.000000</td>\n",
              "      <td>2.000000e+00</td>\n",
              "      <td>2.0</td>\n",
              "      <td>C</td>\n",
              "    </tr>\n",
              "  </tbody>\n",
              "</table>"
            ]
          },
          "metadata": {}
        }
      ]
    },
    {
      "cell_type": "code",
      "source": [
        "dls.one_batch()"
      ],
      "metadata": {
        "id": "oI6EIMBfv3Wd"
      },
      "execution_count": null,
      "outputs": []
    },
    {
      "cell_type": "code",
      "source": [
        "# create learner \n",
        "learn = tabular_learner(dls=dls,metrics=accuracy)"
      ],
      "metadata": {
        "id": "5L8OLgnTwZMe"
      },
      "execution_count": 78,
      "outputs": []
    },
    {
      "cell_type": "code",
      "source": [
        "learn.fit_one_cycle(20, lr_max=1e-3)"
      ],
      "metadata": {
        "id": "MI5OT-RPw1e-",
        "colab": {
          "base_uri": "https://localhost:8080/",
          "height": 676
        },
        "outputId": "7e1520c6-72da-446f-f2dd-ea8d097e2a55"
      },
      "execution_count": 79,
      "outputs": [
        {
          "output_type": "display_data",
          "data": {
            "text/plain": [
              "<IPython.core.display.HTML object>"
            ],
            "text/html": [
              "\n",
              "<style>\n",
              "    /* Turns off some styling */\n",
              "    progress {\n",
              "        /* gets rid of default border in Firefox and Opera. */\n",
              "        border: none;\n",
              "        /* Needs to be in here for Safari polyfill so background images work as expected. */\n",
              "        background-size: auto;\n",
              "    }\n",
              "    progress:not([value]), progress:not([value])::-webkit-progress-bar {\n",
              "        background: repeating-linear-gradient(45deg, #7e7e7e, #7e7e7e 10px, #5c5c5c 10px, #5c5c5c 20px);\n",
              "    }\n",
              "    .progress-bar-interrupted, .progress-bar-interrupted::-webkit-progress-bar {\n",
              "        background: #F44336;\n",
              "    }\n",
              "</style>\n"
            ]
          },
          "metadata": {}
        },
        {
          "output_type": "display_data",
          "data": {
            "text/plain": [
              "<IPython.core.display.HTML object>"
            ],
            "text/html": [
              "<table border=\"1\" class=\"dataframe\">\n",
              "  <thead>\n",
              "    <tr style=\"text-align: left;\">\n",
              "      <th>epoch</th>\n",
              "      <th>train_loss</th>\n",
              "      <th>valid_loss</th>\n",
              "      <th>accuracy</th>\n",
              "      <th>time</th>\n",
              "    </tr>\n",
              "  </thead>\n",
              "  <tbody>\n",
              "    <tr>\n",
              "      <td>0</td>\n",
              "      <td>1.295647</td>\n",
              "      <td>1.209207</td>\n",
              "      <td>0.456913</td>\n",
              "      <td>00:01</td>\n",
              "    </tr>\n",
              "    <tr>\n",
              "      <td>1</td>\n",
              "      <td>1.216988</td>\n",
              "      <td>1.175777</td>\n",
              "      <td>0.473652</td>\n",
              "      <td>00:01</td>\n",
              "    </tr>\n",
              "    <tr>\n",
              "      <td>2</td>\n",
              "      <td>1.147676</td>\n",
              "      <td>1.104105</td>\n",
              "      <td>0.512089</td>\n",
              "      <td>00:01</td>\n",
              "    </tr>\n",
              "    <tr>\n",
              "      <td>3</td>\n",
              "      <td>1.110644</td>\n",
              "      <td>1.071763</td>\n",
              "      <td>0.524489</td>\n",
              "      <td>00:01</td>\n",
              "    </tr>\n",
              "    <tr>\n",
              "      <td>4</td>\n",
              "      <td>1.098932</td>\n",
              "      <td>1.080301</td>\n",
              "      <td>0.521389</td>\n",
              "      <td>00:01</td>\n",
              "    </tr>\n",
              "    <tr>\n",
              "      <td>5</td>\n",
              "      <td>1.085675</td>\n",
              "      <td>1.077688</td>\n",
              "      <td>0.524489</td>\n",
              "      <td>00:01</td>\n",
              "    </tr>\n",
              "    <tr>\n",
              "      <td>6</td>\n",
              "      <td>1.074346</td>\n",
              "      <td>1.062073</td>\n",
              "      <td>0.531928</td>\n",
              "      <td>00:01</td>\n",
              "    </tr>\n",
              "    <tr>\n",
              "      <td>7</td>\n",
              "      <td>1.074037</td>\n",
              "      <td>1.059149</td>\n",
              "      <td>0.531928</td>\n",
              "      <td>00:01</td>\n",
              "    </tr>\n",
              "    <tr>\n",
              "      <td>8</td>\n",
              "      <td>1.061921</td>\n",
              "      <td>1.063259</td>\n",
              "      <td>0.530688</td>\n",
              "      <td>00:01</td>\n",
              "    </tr>\n",
              "    <tr>\n",
              "      <td>9</td>\n",
              "      <td>1.059223</td>\n",
              "      <td>1.061918</td>\n",
              "      <td>0.541228</td>\n",
              "      <td>00:01</td>\n",
              "    </tr>\n",
              "    <tr>\n",
              "      <td>10</td>\n",
              "      <td>1.059575</td>\n",
              "      <td>1.053560</td>\n",
              "      <td>0.530688</td>\n",
              "      <td>00:01</td>\n",
              "    </tr>\n",
              "    <tr>\n",
              "      <td>11</td>\n",
              "      <td>1.045648</td>\n",
              "      <td>1.056737</td>\n",
              "      <td>0.521389</td>\n",
              "      <td>00:01</td>\n",
              "    </tr>\n",
              "    <tr>\n",
              "      <td>12</td>\n",
              "      <td>1.031135</td>\n",
              "      <td>1.056702</td>\n",
              "      <td>0.515189</td>\n",
              "      <td>00:01</td>\n",
              "    </tr>\n",
              "    <tr>\n",
              "      <td>13</td>\n",
              "      <td>1.039061</td>\n",
              "      <td>1.047741</td>\n",
              "      <td>0.525728</td>\n",
              "      <td>00:01</td>\n",
              "    </tr>\n",
              "    <tr>\n",
              "      <td>14</td>\n",
              "      <td>1.013214</td>\n",
              "      <td>1.048172</td>\n",
              "      <td>0.530068</td>\n",
              "      <td>00:01</td>\n",
              "    </tr>\n",
              "    <tr>\n",
              "      <td>15</td>\n",
              "      <td>1.024443</td>\n",
              "      <td>1.049248</td>\n",
              "      <td>0.518289</td>\n",
              "      <td>00:01</td>\n",
              "    </tr>\n",
              "    <tr>\n",
              "      <td>16</td>\n",
              "      <td>1.013865</td>\n",
              "      <td>1.049684</td>\n",
              "      <td>0.522009</td>\n",
              "      <td>00:01</td>\n",
              "    </tr>\n",
              "    <tr>\n",
              "      <td>17</td>\n",
              "      <td>1.009216</td>\n",
              "      <td>1.050008</td>\n",
              "      <td>0.523869</td>\n",
              "      <td>00:01</td>\n",
              "    </tr>\n",
              "    <tr>\n",
              "      <td>18</td>\n",
              "      <td>1.010437</td>\n",
              "      <td>1.049608</td>\n",
              "      <td>0.515809</td>\n",
              "      <td>00:01</td>\n",
              "    </tr>\n",
              "    <tr>\n",
              "      <td>19</td>\n",
              "      <td>1.002058</td>\n",
              "      <td>1.050824</td>\n",
              "      <td>0.520149</td>\n",
              "      <td>00:01</td>\n",
              "    </tr>\n",
              "  </tbody>\n",
              "</table>"
            ]
          },
          "metadata": {}
        }
      ]
    },
    {
      "cell_type": "code",
      "source": [
        "learn.recorder.plot_loss()"
      ],
      "metadata": {
        "id": "zSriBhOEyB1L",
        "colab": {
          "base_uri": "https://localhost:8080/",
          "height": 265
        },
        "outputId": "a58c2755-56a0-40a4-9cfd-a4c3f1b4864b"
      },
      "execution_count": 80,
      "outputs": [
        {
          "output_type": "display_data",
          "data": {
            "text/plain": [
              "<Figure size 432x288 with 1 Axes>"
            ],
            "image/png": "[encoded data removed]"
          },
          "metadata": {
            "needs_background": "light"
          }
        }
      ]
    },
    {
      "cell_type": "code",
      "source": [
        "learn.model"
      ],
      "metadata": {
        "id": "zp0VaYlKzBC_",
        "colab": {
          "base_uri": "https://localhost:8080/"
        },
        "outputId": "782aa716-e4ef-41a4-bdbc-043bcef2c30c"
      },
      "execution_count": 81,
      "outputs": [
        {
          "output_type": "execute_result",
          "data": {
            "text/plain": [
              "TabularModel(\n",
              "  (embeds): ModuleList(\n",
              "    (0): Embedding(3, 3)\n",
              "    (1): Embedding(3, 3)\n",
              "    (2): Embedding(3, 3)\n",
              "    (3): Embedding(10, 6)\n",
              "    (4): Embedding(4, 3)\n",
              "    (5): Embedding(3, 3)\n",
              "    (6): Embedding(3, 3)\n",
              "  )\n",
              "  (emb_drop): Dropout(p=0.0, inplace=False)\n",
              "  (bn_cont): BatchNorm1d(3, eps=1e-05, momentum=0.1, affine=True, track_running_stats=True)\n",
              "  (layers): Sequential(\n",
              "    (0): LinBnDrop(\n",
              "      (0): Linear(in_features=27, out_features=200, bias=False)\n",
              "      (1): ReLU(inplace=True)\n",
              "      (2): BatchNorm1d(200, eps=1e-05, momentum=0.1, affine=True, track_running_stats=True)\n",
              "    )\n",
              "    (1): LinBnDrop(\n",
              "      (0): Linear(in_features=200, out_features=100, bias=False)\n",
              "      (1): ReLU(inplace=True)\n",
              "      (2): BatchNorm1d(100, eps=1e-05, momentum=0.1, affine=True, track_running_stats=True)\n",
              "    )\n",
              "    (2): LinBnDrop(\n",
              "      (0): Linear(in_features=100, out_features=4, bias=True)\n",
              "    )\n",
              "  )\n",
              ")"
            ]
          },
          "metadata": {},
          "execution_count": 81
        }
      ]
    },
    {
      "cell_type": "code",
      "source": [
        "learn.show_results()"
      ],
      "metadata": {
        "colab": {
          "base_uri": "https://localhost:8080/",
          "height": 351
        },
        "id": "ttaMIiIIeSc2",
        "outputId": "3aa67bc6-8008-4acc-f5b4-1153455ebfbd"
      },
      "execution_count": 83,
      "outputs": [
        {
          "output_type": "display_data",
          "data": {
            "text/plain": [
              "<IPython.core.display.HTML object>"
            ],
            "text/html": [
              "\n",
              "<style>\n",
              "    /* Turns off some styling */\n",
              "    progress {\n",
              "        /* gets rid of default border in Firefox and Opera. */\n",
              "        border: none;\n",
              "        /* Needs to be in here for Safari polyfill so background images work as expected. */\n",
              "        background-size: auto;\n",
              "    }\n",
              "    progress:not([value]), progress:not([value])::-webkit-progress-bar {\n",
              "        background: repeating-linear-gradient(45deg, #7e7e7e, #7e7e7e 10px, #5c5c5c 10px, #5c5c5c 20px);\n",
              "    }\n",
              "    .progress-bar-interrupted, .progress-bar-interrupted::-webkit-progress-bar {\n",
              "        background: #F44336;\n",
              "    }\n",
              "</style>\n"
            ]
          },
          "metadata": {}
        },
        {
          "output_type": "display_data",
          "data": {
            "text/plain": [
              "<IPython.core.display.HTML object>"
            ],
            "text/html": []
          },
          "metadata": {}
        },
        {
          "output_type": "display_data",
          "data": {
            "text/plain": [
              "<IPython.core.display.HTML object>"
            ],
            "text/html": [
              "<table border=\"1\" class=\"dataframe\">\n",
              "  <thead>\n",
              "    <tr style=\"text-align: right;\">\n",
              "      <th></th>\n",
              "      <th>Gender</th>\n",
              "      <th>Ever_Married</th>\n",
              "      <th>Graduated</th>\n",
              "      <th>Profession</th>\n",
              "      <th>Spending_Score</th>\n",
              "      <th>Work_Experience_na</th>\n",
              "      <th>Family_Size_na</th>\n",
              "      <th>Age</th>\n",
              "      <th>Work_Experience</th>\n",
              "      <th>Family_Size</th>\n",
              "      <th>Segmentation</th>\n",
              "      <th>Segmentation_pred</th>\n",
              "    </tr>\n",
              "  </thead>\n",
              "  <tbody>\n",
              "    <tr>\n",
              "      <th>0</th>\n",
              "      <td>2.0</td>\n",
              "      <td>2.0</td>\n",
              "      <td>1.0</td>\n",
              "      <td>8.0</td>\n",
              "      <td>3.0</td>\n",
              "      <td>1.0</td>\n",
              "      <td>1.0</td>\n",
              "      <td>2.424809</td>\n",
              "      <td>-0.453678</td>\n",
              "      <td>-1.242509</td>\n",
              "      <td>0.0</td>\n",
              "      <td>3.0</td>\n",
              "    </tr>\n",
              "    <tr>\n",
              "      <th>1</th>\n",
              "      <td>2.0</td>\n",
              "      <td>1.0</td>\n",
              "      <td>2.0</td>\n",
              "      <td>1.0</td>\n",
              "      <td>3.0</td>\n",
              "      <td>1.0</td>\n",
              "      <td>1.0</td>\n",
              "      <td>-0.504602</td>\n",
              "      <td>-0.758887</td>\n",
              "      <td>-1.242509</td>\n",
              "      <td>1.0</td>\n",
              "      <td>0.0</td>\n",
              "    </tr>\n",
              "    <tr>\n",
              "      <th>2</th>\n",
              "      <td>1.0</td>\n",
              "      <td>2.0</td>\n",
              "      <td>2.0</td>\n",
              "      <td>3.0</td>\n",
              "      <td>3.0</td>\n",
              "      <td>1.0</td>\n",
              "      <td>1.0</td>\n",
              "      <td>1.288915</td>\n",
              "      <td>-0.453678</td>\n",
              "      <td>-1.242509</td>\n",
              "      <td>1.0</td>\n",
              "      <td>1.0</td>\n",
              "    </tr>\n",
              "    <tr>\n",
              "      <th>3</th>\n",
              "      <td>1.0</td>\n",
              "      <td>2.0</td>\n",
              "      <td>2.0</td>\n",
              "      <td>1.0</td>\n",
              "      <td>1.0</td>\n",
              "      <td>1.0</td>\n",
              "      <td>1.0</td>\n",
              "      <td>0.750860</td>\n",
              "      <td>-0.453678</td>\n",
              "      <td>0.756759</td>\n",
              "      <td>2.0</td>\n",
              "      <td>2.0</td>\n",
              "    </tr>\n",
              "    <tr>\n",
              "      <th>4</th>\n",
              "      <td>2.0</td>\n",
              "      <td>2.0</td>\n",
              "      <td>1.0</td>\n",
              "      <td>5.0</td>\n",
              "      <td>1.0</td>\n",
              "      <td>1.0</td>\n",
              "      <td>1.0</td>\n",
              "      <td>1.468267</td>\n",
              "      <td>-0.453678</td>\n",
              "      <td>-0.576086</td>\n",
              "      <td>1.0</td>\n",
              "      <td>2.0</td>\n",
              "    </tr>\n",
              "    <tr>\n",
              "      <th>5</th>\n",
              "      <td>2.0</td>\n",
              "      <td>1.0</td>\n",
              "      <td>1.0</td>\n",
              "      <td>4.0</td>\n",
              "      <td>3.0</td>\n",
              "      <td>1.0</td>\n",
              "      <td>1.0</td>\n",
              "      <td>-0.624170</td>\n",
              "      <td>1.072372</td>\n",
              "      <td>-0.576086</td>\n",
              "      <td>3.0</td>\n",
              "      <td>3.0</td>\n",
              "    </tr>\n",
              "    <tr>\n",
              "      <th>6</th>\n",
              "      <td>2.0</td>\n",
              "      <td>2.0</td>\n",
              "      <td>2.0</td>\n",
              "      <td>1.0</td>\n",
              "      <td>2.0</td>\n",
              "      <td>2.0</td>\n",
              "      <td>1.0</td>\n",
              "      <td>-0.504602</td>\n",
              "      <td>-0.453678</td>\n",
              "      <td>-0.576086</td>\n",
              "      <td>0.0</td>\n",
              "      <td>1.0</td>\n",
              "    </tr>\n",
              "    <tr>\n",
              "      <th>7</th>\n",
              "      <td>2.0</td>\n",
              "      <td>2.0</td>\n",
              "      <td>2.0</td>\n",
              "      <td>5.0</td>\n",
              "      <td>2.0</td>\n",
              "      <td>1.0</td>\n",
              "      <td>1.0</td>\n",
              "      <td>0.272589</td>\n",
              "      <td>-0.758887</td>\n",
              "      <td>0.090336</td>\n",
              "      <td>2.0</td>\n",
              "      <td>2.0</td>\n",
              "    </tr>\n",
              "    <tr>\n",
              "      <th>8</th>\n",
              "      <td>2.0</td>\n",
              "      <td>2.0</td>\n",
              "      <td>2.0</td>\n",
              "      <td>4.0</td>\n",
              "      <td>1.0</td>\n",
              "      <td>1.0</td>\n",
              "      <td>1.0</td>\n",
              "      <td>1.049780</td>\n",
              "      <td>-0.453678</td>\n",
              "      <td>-0.576086</td>\n",
              "      <td>2.0</td>\n",
              "      <td>2.0</td>\n",
              "    </tr>\n",
              "  </tbody>\n",
              "</table>"
            ]
          },
          "metadata": {}
        }
      ]
    },
    {
      "cell_type": "code",
      "source": [
        "Hook(to, hook_func, is_forward=True, detach=True, cpu=False,\n",
        "       gather=False)"
      ],
      "metadata": {
        "colab": {
          "base_uri": "https://localhost:8080/",
          "height": 190
        },
        "id": "IKBD5hlee8VI",
        "outputId": "4a7c5de6-f65b-488b-ffb5-3ac743300c80"
      },
      "execution_count": 88,
      "outputs": [
        {
          "output_type": "error",
          "ename": "NameError",
          "evalue": "ignored",
          "traceback": [
            "\u001b[0;31m---------------------------------------------------------------------------\u001b[0m",
            "\u001b[0;31mNameError\u001b[0m                                 Traceback (most recent call last)",
            "\u001b[0;32m<ipython-input-88-a086e5b50e27>\u001b[0m in \u001b[0;36m<module>\u001b[0;34m\u001b[0m\n\u001b[0;32m----> 1\u001b[0;31m Hook(to, hook_func, is_forward=True, detach=True, cpu=False,\n\u001b[0m\u001b[1;32m      2\u001b[0m        gather=False)\n",
            "\u001b[0;31mNameError\u001b[0m: name 'hook_func' is not defined"
          ]
        }
      ]
    },
    {
      "cell_type": "code",
      "source": [
        "# add model hook right before last lin layer                                                                                                                                                                                                                                                                                                                                                                                                                                                                                                                                                                                                                                                                                                                                                                                                                                                                                                                                                                                                                                                                                                                                                                                                                                                                                                                                                                                                                                                                                                                                                                                                                                                                                                                                                                                                                                                                                                                                                                                                                                                                                                                                                                                                                                                                                                                                                                                                                                                                                                                                                                                                                                                                                                                                                                                                                                                                                                                                                                                                                                                                                                                                                                                                                                                                                                                                                                                                                                                                                                                                                                                                                                                                                                                                                                                                                                                                                                                                                                                                                                                                                                                                                                                                                                                                                                                                                                                                                                                                                                                                                                                                                                                                                                                                                                                                                                                                                                                                                                                                                                                                                                                                                                                                                                                                                                                                                                                                                                                                                                                                                                                                                                                                                                                                                                                                                                                                                                                                                                                                                                                                                                                                                                                                                                                                                                                                                                                                                                                                                                                                                                                                                                                                                                                                                                                                                                                                                                                                                                                                                                                                                                                                                                                                                                                                                                                                                                                                                                                                                                                                                                                                                                                                                                                                                                                                                                                                                                                                                                                                                                                                                                                                                                                                                                                                                                                                                                                                                                                                                                                                                                                                                                                                                                                                                                                                                                                                                                                                                                                                                                                                                                                                                                                                                                                                                                                                                                                                                                                                                                                                                                                                                               "
      ],
      "metadata": {
        "id": "nc_G8DAk1Afk"
      },
      "execution_count": 82,
      "outputs": []
    },
    {
      "cell_type": "markdown",
      "source": [
        "---\n",
        "# 3. Testing\n",
        "---\n",
        "* Model Selection and Test Set Evaluation\n",
        "* Notes and Findings"
      ],
      "metadata": {
        "id": "PUcW0hXbGRfz"
      }
    },
    {
      "cell_type": "markdown",
      "source": [
        "## Model selection and test set evaluation"
      ],
      "metadata": {
        "id": "Q_arrqLoqADy"
      }
    },
    {
      "cell_type": "code",
      "source": [
        "test_df = df.copy()\n",
        "test_df.drop(label_col, axis=1, inplace=True)\n",
        "dl = learn.dls.test_dl(test_df)"
      ],
      "metadata": {
        "id": "A2qfdqQsqNfV"
      },
      "execution_count": 84,
      "outputs": []
    },
    {
      "cell_type": "code",
      "source": [
        "learn.get_preds(dl=dl)"
      ],
      "metadata": {
        "colab": {
          "base_uri": "https://localhost:8080/",
          "height": 145
        },
        "id": "N-dzm7WpfUAC",
        "outputId": "5805ea8f-ecdb-46ae-c3e0-a040a8db7421"
      },
      "execution_count": 85,
      "outputs": [
        {
          "output_type": "display_data",
          "data": {
            "text/plain": [
              "<IPython.core.display.HTML object>"
            ],
            "text/html": [
              "\n",
              "<style>\n",
              "    /* Turns off some styling */\n",
              "    progress {\n",
              "        /* gets rid of default border in Firefox and Opera. */\n",
              "        border: none;\n",
              "        /* Needs to be in here for Safari polyfill so background images work as expected. */\n",
              "        background-size: auto;\n",
              "    }\n",
              "    progress:not([value]), progress:not([value])::-webkit-progress-bar {\n",
              "        background: repeating-linear-gradient(45deg, #7e7e7e, #7e7e7e 10px, #5c5c5c 10px, #5c5c5c 20px);\n",
              "    }\n",
              "    .progress-bar-interrupted, .progress-bar-interrupted::-webkit-progress-bar {\n",
              "        background: #F44336;\n",
              "    }\n",
              "</style>\n"
            ]
          },
          "metadata": {}
        },
        {
          "output_type": "display_data",
          "data": {
            "text/plain": [
              "<IPython.core.display.HTML object>"
            ],
            "text/html": []
          },
          "metadata": {}
        },
        {
          "output_type": "execute_result",
          "data": {
            "text/plain": [
              "(tensor([[0.0094, 0.0213, 0.0335, 0.9358],\n",
              "         [0.3520, 0.3690, 0.1062, 0.1728],\n",
              "         [0.2733, 0.5460, 0.1398, 0.0409],\n",
              "         ...,\n",
              "         [0.1685, 0.0584, 0.0863, 0.6868],\n",
              "         [0.0629, 0.2038, 0.2189, 0.5143],\n",
              "         [0.2607, 0.3502, 0.2972, 0.0919]]), None)"
            ]
          },
          "metadata": {},
          "execution_count": 85
        }
      ]
    },
    {
      "cell_type": "markdown",
      "source": [
        "## Notes and findings\n",
        "\n",
        "What did you learn?"
      ],
      "metadata": {
        "id": "PHqN9LsZLpet"
      }
    },
    {
      "cell_type": "code",
      "source": [],
      "metadata": {
        "id": "A7KOEgi0KeBm"
      },
      "execution_count": null,
      "outputs": []
    }
  ]
}